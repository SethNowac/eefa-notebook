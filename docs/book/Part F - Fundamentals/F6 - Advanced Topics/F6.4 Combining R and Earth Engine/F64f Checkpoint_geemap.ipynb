{
  "cells": [
    {
      "cell_type": "markdown",
      "metadata": {},
      "source": [
        "## Import libraries"
      ]
    },
    {
      "cell_type": "code",
      "metadata": {},
      "source": [
        "import ee\n",
        "import geemap"
      ],
      "outputs": [],
      "execution_count": null
    },
    {
      "cell_type": "markdown",
      "metadata": {},
      "source": [
        "## Create an interactive map"
      ]
    },
    {
      "cell_type": "code",
      "metadata": {},
      "source": [
        "Map = geemap.Map(center=[40, -100], zoom=4)"
      ],
      "outputs": [],
      "execution_count": null
    },
    {
      "cell_type": "markdown",
      "metadata": {},
      "source": [
        "## Add Earth Engine Python script"
      ]
    },
    {
      "cell_type": "code",
      "metadata": {},
      "source": [
        "# Add Earth Engine dataset\n",
        "image = ee.Image(\"USGS/SRTMGL1_003\")\n",
        "\n",
        "#  ~~~~~~~~~~~~~~~~~~~~~~~~~~~~~~~~~~~~~~~~~~~~~~~~~~~~~~~~~~~~~~~~~~~~~~~\n",
        "#  Chapter:      F6.4 Combining R and Earth Engine\n",
        "#  Checkpoint:   F64f\n",
        "#  Authors:      Cesar Aybar, David Montero, Antony Barja, Fernando Herrera, Andrea Gonzales, and Wendy Espinoza\n",
        "#  ~~~~~~~~~~~~~~~~~~~~~~~~~~~~~~~~~~~~~~~~~~~~~~~~~~~~~~~~~~~~~~~~~~~~~~~\n",
        "\n",
        "LandsatLST = require(\n",
        "'users/sofiaermida/landsat_smw_lst:modules/Landsat_LST.js')\n",
        "\n",
        "geometry = ee.Geometry.Rectangle([-8.91, 40.0, -8.3, 40.4])\n",
        "satellite = 'L8'\n",
        "date_start = '2018-05-15'\n",
        "date_end = '2018-05-31'\n",
        "use_ndvi = True\n",
        "\n",
        "LandsatColl = LandsatLST.collection(satellite, date_start,\n",
        "date_end, geometry, use_ndvi)\n",
        "\n",
        "exImage = LandsatColl.first()\n",
        "\n",
        "cmap = ['blue', 'cyan', 'green', 'yellow', 'red']\n",
        "\n",
        "Map.centerObject(geometry)\n",
        "\n",
        "Map.addLayer(exImage.select('LST'), {\n",
        "    'min': 290,\n",
        "    'max': 320,\n",
        "    'palette': cmap\n",
        "}, 'LST')\n",
        "\n",
        "\n",
        "\n",
        "\n",
        "#  -----------------------------------------------------------------------\n",
        "#  CHECKPOINT\n",
        "#  -----------------------------------------------------------------------\n",
        "\n"
      ],
      "outputs": [],
      "execution_count": null
    },
    {
      "cell_type": "markdown",
      "metadata": {},
      "source": [
        "## Display the interactive map"
      ]
    },
    {
      "cell_type": "code",
      "metadata": {},
      "source": [
        "Map"
      ],
      "outputs": [],
      "execution_count": null
    }
  ],
  "metadata": {
    "anaconda-cloud": {},
    "kernelspec": {
      "display_name": "Python 3",
      "language": "python",
      "name": "python3"
    },
    "language_info": {
      "codemirror_mode": {
        "name": "ipython",
        "version": 3
      },
      "file_extension": ".py",
      "mimetype": "text/x-python",
      "name": "python",
      "nbconvert_exporter": "python",
      "pygments_lexer": "ipython3",
      "version": "3.6.1"
    }
  },
  "nbformat": 4,
  "nbformat_minor": 4
}