{
  "cells": [
    {
      "cell_type": "markdown",
      "metadata": {},
      "source": [
        "## Import libraries"
      ]
    },
    {
      "cell_type": "code",
      "execution_count": 1,
      "metadata": {},
      "outputs": [],
      "source": [
        "import ee\n",
        "import geemap"
      ]
    },
    {
      "cell_type": "markdown",
      "metadata": {},
      "source": [
        "## Create an interactive map"
      ]
    },
    {
      "cell_type": "code",
      "execution_count": 2,
      "metadata": {},
      "outputs": [
        {
          "data": {
            "text/html": [
              "\n",
              "            <style>\n",
              "                .geemap-dark {\n",
              "                    --jp-widgets-color: white;\n",
              "                    --jp-widgets-label-color: white;\n",
              "                    --jp-ui-font-color1: white;\n",
              "                    --jp-layout-color2: #454545;\n",
              "                    background-color: #383838;\n",
              "                }\n",
              "\n",
              "                .geemap-dark .jupyter-button {\n",
              "                    --jp-layout-color3: #383838;\n",
              "                }\n",
              "\n",
              "                .geemap-colab {\n",
              "                    background-color: var(--colab-primary-surface-color, white);\n",
              "                }\n",
              "\n",
              "                .geemap-colab .jupyter-button {\n",
              "                    --jp-layout-color3: var(--colab-primary-surface-color, white);\n",
              "                }\n",
              "            </style>\n",
              "            "
            ],
            "text/plain": [
              "<IPython.core.display.HTML object>"
            ]
          },
          "metadata": {},
          "output_type": "display_data"
        }
      ],
      "source": [
        "Map = geemap.Map(center=[40, -100], zoom=4)"
      ]
    },
    {
      "cell_type": "markdown",
      "metadata": {},
      "source": [
        "## Add Earth Engine Python script"
      ]
    },
    {
      "cell_type": "code",
      "execution_count": 3,
      "metadata": {},
      "outputs": [
        {
          "data": {
            "text/html": [
              "\n",
              "            <style>\n",
              "                .geemap-dark {\n",
              "                    --jp-widgets-color: white;\n",
              "                    --jp-widgets-label-color: white;\n",
              "                    --jp-ui-font-color1: white;\n",
              "                    --jp-layout-color2: #454545;\n",
              "                    background-color: #383838;\n",
              "                }\n",
              "\n",
              "                .geemap-dark .jupyter-button {\n",
              "                    --jp-layout-color3: #383838;\n",
              "                }\n",
              "\n",
              "                .geemap-colab {\n",
              "                    background-color: var(--colab-primary-surface-color, white);\n",
              "                }\n",
              "\n",
              "                .geemap-colab .jupyter-button {\n",
              "                    --jp-layout-color3: var(--colab-primary-surface-color, white);\n",
              "                }\n",
              "            </style>\n",
              "            "
            ],
            "text/plain": [
              "<IPython.core.display.HTML object>"
            ]
          },
          "metadata": {},
          "output_type": "display_data"
        }
      ],
      "source": [
        "# Add Earth Engine dataset\n",
        "image = ee.Image(\"USGS/SRTMGL1_003\")\n",
        "\n",
        "#  ~~~~~~~~~~~~~~~~~~~~~~~~~~~~~~~~~~~~~~~~~~~~~~~~~~~~~~~~~~~~~~~~~~~~~~~~~~~~~~~\n",
        "#  Chapter:      F6.2 Scaling Up in Earth Engine\n",
        "#  Checkpoint:   F62d\n",
        "#  Authors:      Jillian M. Deines, Stefania Di Tommaso, Nicholas Clinton, Noel Gorelick\n",
        "#  ~~~~~~~~~~~~~~~~~~~~~~~~~~~~~~~~~~~~~~~~~~~~~~~~~~~~~~~~~~~~~~~~~~~~~~~~~~~~~~~\n",
        "\n",
        "# Specify helper functions.\n",
        "import modules.s2cloudmask_geemap as s2mask_tools\n",
        "\n",
        "# Set the Region of Interest: Washington, USA.\n",
        "roi = ee.FeatureCollection('TIGER/2018/States') \\\n",
        ".filter(ee.Filter.equals('NAME', 'Washington'))\n",
        "\n",
        "# Specify grid size in projection, x and y units (based on projection).\n",
        "projection = 'EPSG:4326'\n",
        "dx = 2.5\n",
        "dy = 1.5\n",
        "\n",
        "# Dates over which to create a median composite.\n",
        "start = ee.Date('2019-03-01')\n",
        "end = ee.Date('2019-09-01')\n",
        "\n",
        "# Make grid and visualize.\n",
        "proj = ee.Projection(projection).scale(dx, dy)\n",
        "grid = roi.geometry().coveringGrid(proj)\n",
        "\n",
        "Map.addLayer(roi, {}, 'roi')\n",
        "Map.addLayer(grid, {}, 'grid')\n",
        "\n",
        "# Export info.\n",
        "assetCollection = 'path/to/your/asset/s2_composite_WA'\n",
        "imageBaseName = 'S2_median_'\n",
        "\n",
        "# Get a list based on grid number.\n",
        "gridSize = grid.size().getInfo()\n",
        "gridList = grid.toList(gridSize)\n",
        "\n",
        "# In each grid cell, export a composite\n",
        "for i in range(0, gridSize, 1):\n",
        "\n",
        "    # Extract grid polygon and filter S2 datasets for this region.\n",
        "    gridCell = ee.Feature(gridList.get(i)).geometry()\n",
        "\n",
        "    s2Sr = ee.ImageCollection('COPERNICUS/S2_SR') \\\n",
        "    .filterDate(start, end) \\\n",
        "    .filterBounds(gridCell) \\\n",
        "    .select(['B2', 'B3', 'B4', 'B5'])\n",
        "\n",
        "    s2 = ee.ImageCollection('COPERNICUS/S2') \\\n",
        "    .filterDate(start, end) \\\n",
        "    .filterBounds(gridCell) \\\n",
        "    .select(['B7', 'B8', 'B8A', 'B10'])\n",
        "\n",
        "    s2c = ee.ImageCollection('COPERNICUS/S2_CLOUD_PROBABILITY') \\\n",
        "    .filterDate(start, end) \\\n",
        "    .filterBounds(gridCell)\n",
        "\n",
        "    # Apply the cloud mask.\n",
        "    withCloudProbability = s2mask_tools.indexJoin(s2Sr, s2c,\n",
        "    'cloud_probability')\n",
        "    withS2L1C = s2mask_tools.indexJoin(withCloudProbability, s2,\n",
        "    'l1c')\n",
        "    masked = ee.ImageCollection(withS2L1C.map(s2mask_tools \\\n",
        "    .maskImage))\n",
        "\n",
        "    # Generate a median composite and export.\n",
        "    median = masked.reduce(ee.Reducer.median(), 8)\n",
        "\n",
        "    # Export.\n",
        "    imagename = imageBaseName + 'tile' + str(i)\n",
        "    geemap.ee_export_image_to_asset(\n",
        "    image = median,\n",
        "    description = imagename,\n",
        "    assetId = assetCollection + '/' + imagename,\n",
        "    scale = 10,\n",
        "    region = gridCell,\n",
        "    maxPixels = 1e13\n",
        "    )\n",
        "\n",
        "\n",
        "#  -----------------------------------------------------------------------\n",
        "#  CHECKPOINT\n",
        "#  -----------------------------------------------------------------------\n",
        "\n",
        "\n"
      ]
    },
    {
      "cell_type": "markdown",
      "metadata": {},
      "source": [
        "## Display the interactive map"
      ]
    },
    {
      "cell_type": "code",
      "execution_count": 4,
      "metadata": {},
      "outputs": [
        {
          "data": {
            "text/html": [
              "\n",
              "            <style>\n",
              "                .geemap-dark {\n",
              "                    --jp-widgets-color: white;\n",
              "                    --jp-widgets-label-color: white;\n",
              "                    --jp-ui-font-color1: white;\n",
              "                    --jp-layout-color2: #454545;\n",
              "                    background-color: #383838;\n",
              "                }\n",
              "\n",
              "                .geemap-dark .jupyter-button {\n",
              "                    --jp-layout-color3: #383838;\n",
              "                }\n",
              "\n",
              "                .geemap-colab {\n",
              "                    background-color: var(--colab-primary-surface-color, white);\n",
              "                }\n",
              "\n",
              "                .geemap-colab .jupyter-button {\n",
              "                    --jp-layout-color3: var(--colab-primary-surface-color, white);\n",
              "                }\n",
              "            </style>\n",
              "            "
            ],
            "text/plain": [
              "<IPython.core.display.HTML object>"
            ]
          },
          "metadata": {},
          "output_type": "display_data"
        },
        {
          "data": {
            "application/vnd.jupyter.widget-view+json": {
              "model_id": "ccd8d494db81457793e956af7d9aad60",
              "version_major": 2,
              "version_minor": 0
            },
            "text/plain": [
              "Map(center=[40, -100], controls=(WidgetControl(options=['position', 'transparent_bg'], widget=SearchDataGUI(ch…"
            ]
          },
          "execution_count": 4,
          "metadata": {},
          "output_type": "execute_result"
        }
      ],
      "source": [
        "Map"
      ]
    }
  ],
  "metadata": {
    "anaconda-cloud": {},
    "kernelspec": {
      "display_name": "Python 3",
      "language": "python",
      "name": "python3"
    },
    "language_info": {
      "codemirror_mode": {
        "name": "ipython",
        "version": 3
      },
      "file_extension": ".py",
      "mimetype": "text/x-python",
      "name": "python",
      "nbconvert_exporter": "python",
      "pygments_lexer": "ipython3",
      "version": "3.11.9"
    }
  },
  "nbformat": 4,
  "nbformat_minor": 4
}
