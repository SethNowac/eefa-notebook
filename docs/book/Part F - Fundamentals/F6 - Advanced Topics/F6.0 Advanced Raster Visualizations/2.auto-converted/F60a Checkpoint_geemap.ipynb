{
  "cells": [
    {
      "cell_type": "markdown",
      "metadata": {},
      "source": [
        "## Import libraries"
      ]
    },
    {
      "cell_type": "code",
      "execution_count": 1,
      "metadata": {},
      "outputs": [],
      "source": [
        "import ee\n",
        "import geemap"
      ]
    },
    {
      "cell_type": "markdown",
      "metadata": {},
      "source": [
        "## Create an interactive map"
      ]
    },
    {
      "cell_type": "code",
      "execution_count": 2,
      "metadata": {},
      "outputs": [
        {
          "data": {
            "text/html": [
              "\n",
              "            <style>\n",
              "                .geemap-dark {\n",
              "                    --jp-widgets-color: white;\n",
              "                    --jp-widgets-label-color: white;\n",
              "                    --jp-ui-font-color1: white;\n",
              "                    --jp-layout-color2: #454545;\n",
              "                    background-color: #383838;\n",
              "                }\n",
              "\n",
              "                .geemap-dark .jupyter-button {\n",
              "                    --jp-layout-color3: #383838;\n",
              "                }\n",
              "\n",
              "                .geemap-colab {\n",
              "                    background-color: var(--colab-primary-surface-color, white);\n",
              "                }\n",
              "\n",
              "                .geemap-colab .jupyter-button {\n",
              "                    --jp-layout-color3: var(--colab-primary-surface-color, white);\n",
              "                }\n",
              "            </style>\n",
              "            "
            ],
            "text/plain": [
              "<IPython.core.display.HTML object>"
            ]
          },
          "metadata": {},
          "output_type": "display_data"
        }
      ],
      "source": [
        "Map = geemap.Map(center=[40, -100], zoom=4)"
      ]
    },
    {
      "cell_type": "markdown",
      "metadata": {},
      "source": [
        "## Add Earth Engine Python script"
      ]
    },
    {
      "cell_type": "code",
      "execution_count": 3,
      "metadata": {},
      "outputs": [
        {
          "data": {
            "text/html": [
              "\n",
              "            <style>\n",
              "                .geemap-dark {\n",
              "                    --jp-widgets-color: white;\n",
              "                    --jp-widgets-label-color: white;\n",
              "                    --jp-ui-font-color1: white;\n",
              "                    --jp-layout-color2: #454545;\n",
              "                    background-color: #383838;\n",
              "                }\n",
              "\n",
              "                .geemap-dark .jupyter-button {\n",
              "                    --jp-layout-color3: #383838;\n",
              "                }\n",
              "\n",
              "                .geemap-colab {\n",
              "                    background-color: var(--colab-primary-surface-color, white);\n",
              "                }\n",
              "\n",
              "                .geemap-colab .jupyter-button {\n",
              "                    --jp-layout-color3: var(--colab-primary-surface-color, white);\n",
              "                }\n",
              "            </style>\n",
              "            "
            ],
            "text/plain": [
              "<IPython.core.display.HTML object>"
            ]
          },
          "metadata": {},
          "output_type": "display_data"
        },
        {
          "ename": "AttributeError",
          "evalue": "module 'modules.palettes_geemap' has no attribute 'cmocean'",
          "output_type": "error",
          "traceback": [
            "\u001b[1;31m---------------------------------------------------------------------------\u001b[0m",
            "\u001b[1;31mAttributeError\u001b[0m                            Traceback (most recent call last)",
            "Cell \u001b[1;32mIn[3], line 20\u001b[0m\n\u001b[0;32m     17\u001b[0m era5 \u001b[38;5;241m=\u001b[39m era5\u001b[38;5;241m.\u001b[39mselect(\u001b[38;5;124m'\u001b[39m\u001b[38;5;124mtemperature_2m\u001b[39m\u001b[38;5;124m'\u001b[39m)\n\u001b[0;32m     19\u001b[0m \u001b[38;5;66;03m# Choose a diverging colormap for anomalies.\u001b[39;00m\n\u001b[1;32m---> 20\u001b[0m balancePalette \u001b[38;5;241m=\u001b[39m \u001b[43mpalettes\u001b[49m\u001b[38;5;241;43m.\u001b[39;49m\u001b[43mcmocean\u001b[49m\u001b[38;5;241m.\u001b[39mBalance[\u001b[38;5;241m7\u001b[39m]\n\u001b[0;32m     21\u001b[0m threeColorPalette \u001b[38;5;241m=\u001b[39m [\u001b[38;5;124m'\u001b[39m\u001b[38;5;124mblue\u001b[39m\u001b[38;5;124m'\u001b[39m, \u001b[38;5;124m'\u001b[39m\u001b[38;5;124mwhite\u001b[39m\u001b[38;5;124m'\u001b[39m, \u001b[38;5;124m'\u001b[39m\u001b[38;5;124mred\u001b[39m\u001b[38;5;124m'\u001b[39m]\n\u001b[0;32m     23\u001b[0m \u001b[38;5;66;03m# Show the palette in the Inspector window.\u001b[39;00m\n",
            "\u001b[1;31mAttributeError\u001b[0m: module 'modules.palettes_geemap' has no attribute 'cmocean'"
          ]
        }
      ],
      "source": [
        "# Add Earth Engine dataset\n",
        "image = ee.Image(\"USGS/SRTMGL1_003\")\n",
        "\n",
        "#  ~~~~~~~~~~~~~~~~~~~~~~~~~~~~~~~~~~~~~~~~~~~~~~~~~~~~~~~~~~~~~~~~~~~~~~~~~~~~~~~\n",
        "#  Chapter:      F6.0 Advanced Raster Visualization\n",
        "#  Checkpoint:   F60a\n",
        "#  Authors:      Gennadii Donchyts, Fedor Baart\n",
        "#  ~~~~~~~~~~~~~~~~~~~~~~~~~~~~~~~~~~~~~~~~~~~~~~~~~~~~~~~~~~~~~~~~~~~~~~~~~~~~~~~\n",
        "\n",
        "# Load the ERA5 reanalysis monthly means.\n",
        "era5 = ee.ImageCollection('ECMWF/ERA5_LAND/MONTHLY')\n",
        "\n",
        "# Load the palettes package.\n",
        "from modules import palettes\n",
        "\n",
        "# Select temperature near ground.\n",
        "era5 = era5.select('temperature_2m')\n",
        "\n",
        "# Choose a diverging colormap for anomalies.\n",
        "balancePalette = palettes.cmocean['Balance'][7]\n",
        "threeColorPalette = ['blue', 'white', 'red']\n",
        "\n",
        "# Show the palette in the Inspector window.\n",
        "palettes.showPalette('temperature anomaly', balancePalette)\n",
        "palettes.showPalette('temperature anomaly', threeColorPalette)\n",
        "\n",
        "# Select 2 time windows of 10 years.\n",
        "era5_1980 = era5.filterDate('1981-01-01', '1991-01-01').mean()\n",
        "era5_2010 = era5.filterDate('2011-01-01', '2020-01-01').mean()\n",
        "\n",
        "# Compute the temperature change.\n",
        "era5_diff = era5_2010.subtract(era5_1980)\n",
        "\n",
        "# Show it on the map.\n",
        "Map.addLayer(era5_diff, {\n",
        "    'palette': threeColorPalette,\n",
        "    'min': -2,\n",
        "    'max': 2\n",
        "}, 'Blue White Red palette')\n",
        "\n",
        "Map.addLayer(era5_diff, {\n",
        "    'palette': balancePalette,\n",
        "    'min': -2,\n",
        "    'max': 2\n",
        "}, 'Balance palette')\n",
        "\n",
        "#  -----------------------------------------------------------------------\n",
        "#  CHECKPOINT\n",
        "#  -----------------------------------------------------------------------"
      ]
    },
    {
      "cell_type": "markdown",
      "metadata": {},
      "source": [
        "## Display the interactive map"
      ]
    },
    {
      "cell_type": "code",
      "execution_count": null,
      "metadata": {},
      "outputs": [],
      "source": [
        "Map"
      ]
    }
  ],
  "metadata": {
    "anaconda-cloud": {},
    "kernelspec": {
      "display_name": "Python 3",
      "language": "python",
      "name": "python3"
    },
    "language_info": {
      "codemirror_mode": {
        "name": "ipython",
        "version": 3
      },
      "file_extension": ".py",
      "mimetype": "text/x-python",
      "name": "python",
      "nbconvert_exporter": "python",
      "pygments_lexer": "ipython3",
      "version": "3.11.9"
    }
  },
  "nbformat": 4,
  "nbformat_minor": 4
}
