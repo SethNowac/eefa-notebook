{
  "cells": [
    {
      "cell_type": "markdown",
      "metadata": {},
      "source": [
        "## Import libraries"
      ]
    },
    {
      "cell_type": "code",
      "execution_count": 1,
      "metadata": {},
      "outputs": [],
      "source": [
        "import ee\n",
        "import geemap"
      ]
    },
    {
      "cell_type": "markdown",
      "metadata": {},
      "source": [
        "## Create an interactive map"
      ]
    },
    {
      "cell_type": "code",
      "execution_count": 2,
      "metadata": {},
      "outputs": [
        {
          "data": {
            "text/html": [
              "\n",
              "            <style>\n",
              "                .geemap-dark {\n",
              "                    --jp-widgets-color: white;\n",
              "                    --jp-widgets-label-color: white;\n",
              "                    --jp-ui-font-color1: white;\n",
              "                    --jp-layout-color2: #454545;\n",
              "                    background-color: #383838;\n",
              "                }\n",
              "\n",
              "                .geemap-dark .jupyter-button {\n",
              "                    --jp-layout-color3: #383838;\n",
              "                }\n",
              "\n",
              "                .geemap-colab {\n",
              "                    background-color: var(--colab-primary-surface-color, white);\n",
              "                }\n",
              "\n",
              "                .geemap-colab .jupyter-button {\n",
              "                    --jp-layout-color3: var(--colab-primary-surface-color, white);\n",
              "                }\n",
              "            </style>\n",
              "            "
            ],
            "text/plain": [
              "<IPython.core.display.HTML object>"
            ]
          },
          "metadata": {},
          "output_type": "display_data"
        }
      ],
      "source": [
        "Map = geemap.Map(center=[40, -100], zoom=4)"
      ]
    },
    {
      "cell_type": "markdown",
      "metadata": {},
      "source": [
        "## Add Earth Engine Python script"
      ]
    },
    {
      "cell_type": "code",
      "execution_count": 3,
      "metadata": {},
      "outputs": [
        {
          "data": {
            "text/html": [
              "\n",
              "            <style>\n",
              "                .geemap-dark {\n",
              "                    --jp-widgets-color: white;\n",
              "                    --jp-widgets-label-color: white;\n",
              "                    --jp-ui-font-color1: white;\n",
              "                    --jp-layout-color2: #454545;\n",
              "                    background-color: #383838;\n",
              "                }\n",
              "\n",
              "                .geemap-dark .jupyter-button {\n",
              "                    --jp-layout-color3: #383838;\n",
              "                }\n",
              "\n",
              "                .geemap-colab {\n",
              "                    background-color: var(--colab-primary-surface-color, white);\n",
              "                }\n",
              "\n",
              "                .geemap-colab .jupyter-button {\n",
              "                    --jp-layout-color3: var(--colab-primary-surface-color, white);\n",
              "                }\n",
              "            </style>\n",
              "            "
            ],
            "text/plain": [
              "<IPython.core.display.HTML object>"
            ]
          },
          "metadata": {},
          "output_type": "display_data"
        },
        {
          "ename": "SyntaxError",
          "evalue": "invalid syntax (1595260258.py, line 12)",
          "output_type": "error",
          "traceback": [
            "\u001b[1;36m  Cell \u001b[1;32mIn[3], line 12\u001b[1;36m\u001b[0m\n\u001b[1;33m    # [\u001b[0m\n\u001b[1;37m    ^\u001b[0m\n\u001b[1;31mSyntaxError\u001b[0m\u001b[1;31m:\u001b[0m invalid syntax\n"
          ]
        }
      ],
      "source": [
        "# Add Earth Engine dataset\n",
        "image = ee.Image(\"USGS/SRTMGL1_003\")\n",
        "\n",
        "#*** Start of imports. If edited, may not auto-convert in the playground. ***#\n",
        "geometryLabel = \\\n",
        "\\\n",
        "\\\n",
        "ee.Geometry.Point([-104.81854696562625, 38.291704822204])\n",
        "geometryGallery = \\\n",
        "\\\n",
        "\\\n",
        "# [\n",
        "# {\n",
        "#     \"type\": \"rectangle\"\n",
        "# }\n",
        "# ] \n",
        "ee.Geometry.Polygon(\n",
        "[[[-104.82125520585478, 38.294351019931455],\n",
        "[-104.82125520585478, 38.23194594511732],\n",
        "[-104.71980333207549, 38.23194594511732],\n",
        "[-104.71980333207549, 38.294351019931455]]], None, False)\n",
        "#**** End of imports. If edited, may not auto-convert in the playground. ****#\n",
        "text = require('users/gena/packages:text')\n",
        "gallery = require('users/gena/packages:gallery')\n",
        "\n",
        "Map.centerObject(geometryGallery, 12)\n",
        "\n",
        "images = ee.ImageCollection('COPERNICUS/S2') \\\n",
        ".filterDate('2020-01-01', '2022-01-01') \\\n",
        ".filterBounds(geometryLabel)\n",
        "\n",
        "\n",
        "def func_msh(month):\n",
        "    month = ee.Number(month)\n",
        "    return images.filter(ee.Filter.calendarRange(month, month.add(1), 'month')) \\\n",
        "    .select(['B12', 'B8', 'B4']) \\\n",
        "    .reduce(ee.Reducer.percentile([15])) \\\n",
        "    .set({\n",
        "        'label': ee.Date.fromYMD(2000, month.add(1), 1).format('MMM')\n",
        "        })\n",
        "\n",
        "imagesMonthly = ee.List.sequence(0, 11).map(func_msh)\n",
        "\n",
        "\n",
        "\n",
        "\n",
        "\n",
        "\n",
        "\n",
        "\n",
        "\n",
        "imagesMonthly = ee.ImageCollection(imagesMonthly)\n",
        "\n",
        "# Render monthly images + label.\n",
        "\n",
        "def func_ocu(i):\n",
        "    label = text.draw(i.get('label'), geometryLabel, Map.getScale(), {\n",
        "            'fontSize': 24,\n",
        "            'textColor': 'ffffff',\n",
        "            'outlineColor': '000000',\n",
        "            'outlineWidth': 3,\n",
        "            'outlineOpacity': 0.6\n",
        "        })\n",
        "    return i.visualize(**{'min': 300, 'max': 3500}).blend(label)\n",
        "\n",
        "imagesRGB = imagesMonthly.map(func_ocu)\n",
        "\n",
        "\n",
        "\n",
        "\n",
        "\n",
        "\n",
        "\n",
        "\n",
        "\n",
        "\n",
        "# Generate a single filmstrip image (rows x columns).\n",
        "rows = 3\n",
        "columns = 4\n",
        "imageFilmstrip = gallery \\\n",
        ".draw(imagesRGB, geometryGallery.bounds(), rows, columns)\n",
        "\n",
        "Map.addLayer(imageFilmstrip)\n",
        "\n",
        "# LGTM (nclinton)"
      ]
    },
    {
      "cell_type": "markdown",
      "metadata": {},
      "source": [
        "## Display the interactive map"
      ]
    },
    {
      "cell_type": "code",
      "execution_count": null,
      "metadata": {},
      "outputs": [],
      "source": [
        "Map"
      ]
    }
  ],
  "metadata": {
    "anaconda-cloud": {},
    "kernelspec": {
      "display_name": "Python 3",
      "language": "python",
      "name": "python3"
    },
    "language_info": {
      "codemirror_mode": {
        "name": "ipython",
        "version": 3
      },
      "file_extension": ".py",
      "mimetype": "text/x-python",
      "name": "python",
      "nbconvert_exporter": "python",
      "pygments_lexer": "ipython3",
      "version": "3.11.9"
    }
  },
  "nbformat": 4,
  "nbformat_minor": 4
}
