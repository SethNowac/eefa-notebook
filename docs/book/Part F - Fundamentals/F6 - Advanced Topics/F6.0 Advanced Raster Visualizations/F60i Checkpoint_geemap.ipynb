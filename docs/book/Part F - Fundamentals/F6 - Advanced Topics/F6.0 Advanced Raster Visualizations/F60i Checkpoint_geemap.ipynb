{
  "cells": [
    {
      "cell_type": "markdown",
      "metadata": {},
      "source": [
        "## Import libraries"
      ]
    },
    {
      "cell_type": "code",
      "execution_count": 1,
      "metadata": {},
      "outputs": [],
      "source": [
        "import ee\n",
        "import geemap"
      ]
    },
    {
      "cell_type": "markdown",
      "metadata": {},
      "source": [
        "## Create an interactive map"
      ]
    },
    {
      "cell_type": "code",
      "execution_count": 2,
      "metadata": {},
      "outputs": [
        {
          "data": {
            "text/html": [
              "\n",
              "            <style>\n",
              "                .geemap-dark {\n",
              "                    --jp-widgets-color: white;\n",
              "                    --jp-widgets-label-color: white;\n",
              "                    --jp-ui-font-color1: white;\n",
              "                    --jp-layout-color2: #454545;\n",
              "                    background-color: #383838;\n",
              "                }\n",
              "                    \n",
              "                .geemap-dark .jupyter-button {\n",
              "                    --jp-layout-color3: #383838;\n",
              "                }\n",
              "                \n",
              "                .geemap-colab {\n",
              "                    background-color: var(--colab-primary-surface-color, white);\n",
              "                }\n",
              "                    \n",
              "                .geemap-colab .jupyter-button {\n",
              "                    --jp-layout-color3: var(--colab-primary-surface-color, white);\n",
              "                }\n",
              "            </style>\n",
              "            "
            ],
            "text/plain": [
              "<IPython.core.display.HTML object>"
            ]
          },
          "metadata": {},
          "output_type": "display_data"
        }
      ],
      "source": [
        "Map = geemap.Map(center=[40, -100], zoom=4)"
      ]
    },
    {
      "cell_type": "markdown",
      "metadata": {},
      "source": [
        "## Add Earth Engine Python script"
      ]
    },
    {
      "cell_type": "code",
      "execution_count": null,
      "metadata": {},
      "outputs": [],
      "source": [
        "# Add Earth Engine dataset\n",
        "image = ee.Image(\"USGS/SRTMGL1_003\")\n",
        "\n",
        "#*** Start of imports. If edited, may not auto-convert in the playground. ***#\n",
        "geometry = ee.Geometry.MultiPoint()\n",
        "#**** End of imports. If edited, may not auto-convert in the playground. ****#\n",
        "#  ~~~~~~~~~~~~~~~~~~~~~~~~~~~~~~~~~~~~~~~~~~~~~~~~~~~~~~~~~~~~~~~~~~~~~~~~~~~~~~~\n",
        "#  Chapter:      F6.0 Advanced Raster Visualization\n",
        "#  Checkpoint:   F60i\n",
        "#  Authors:      Gennadii Donchyts, Fedor Baart\n",
        "#  ~~~~~~~~~~~~~~~~~~~~~~~~~~~~~~~~~~~~~~~~~~~~~~~~~~~~~~~~~~~~~~~~~~~~~~~~~~~~~~~\n",
        "\n",
        "# Include packages.\n",
        "palettes = require('users/gena/packages:palettes')\n",
        "text = require('users/gena/packages:text')\n",
        "\n",
        "point =  ee.Geometry.Point([-\n",
        "106.15944300895228, -74.58262940096245\n",
        "])\n",
        "\n",
        "rect = \\\n",
        "ee.Geometry.Polygon(\n",
        "[\n",
        "[\n",
        "[-106.19789515738981, -74.56509549360152],\n",
        "[-106.19789515738981, -74.78071448733921],\n",
        "[-104.98115931754606, -74.78071448733921],\n",
        "[-104.98115931754606, -74.56509549360152]\n",
        "]\n",
        "], None, False)\n",
        "\n",
        "# Lookup the ice palette.\n",
        "palette = palettes.cmocean.Ice[7]\n",
        "\n",
        "# Show it in the console.\n",
        "palettes.showPalette('Ice', palette)\n",
        "\n",
        "# Center map on geometry.\n",
        "Map.centerObject(point, 9)\n",
        "\n",
        "# Select S1 images for the Thwaites glacier.\n",
        "images = ee.ImageCollection('COPERNICUS/S1_GRD') \\\n",
        ".filterBounds(rect) \\\n",
        ".filterDate('2021-01-01', '2021-03-01') \\\n",
        ".select('HH') \\\n",
        ".filter(ee.Filter.isContained(\n",
        "leftValue = rect,\n",
        "rightField = '.geo'\n",
        ")) \\\n",
        ".sort('system:time_start')\n",
        "\n",
        "# Print number of images.\n",
        "print(images.size().getInfo())\n",
        "\n",
        "#  -----------------------------------------------------------------------\n",
        "#  CHECKPOINT\n",
        "#  -----------------------------------------------------------------------\n",
        "\n",
        "# Render images.\n",
        "vis = {\n",
        "    'palette': palette,\n",
        "    'min': -15,\n",
        "    'max': 1\n",
        "}\n",
        "\n",
        "scale = Map.getScale()\n",
        "textProperties = {\n",
        "    'outlineColor': '000000',\n",
        "    'outlineWidth': 3,\n",
        "    'outlineOpacity': 0.6\n",
        "}\n",
        "\n",
        "\n",
        "def func_ynb(i):\n",
        "    # Use the date as the label.\n",
        "    label = i.date().format('YYYY-MM-dd')\n",
        "    labelImage = text.draw(label, point, scale,\n",
        "    textProperties)\n",
        "\n",
        "    return i.visualize(vis) \\\n",
        "    .blend(labelImage) \\\n",
        "    .set({\n",
        "        'label': label\n",
        "        }); \n",
        "\n",
        "imagesRgb = images.map(func_ynb)\n",
        "\n",
        "\n",
        "\n",
        "\n",
        "\n",
        "\n",
        "\n",
        "\n",
        "\n",
        "\n",
        "\n",
        "Map.addLayer(imagesRgb.first())\n",
        "Map.addLayer(rect, {'color':'blue'}, 'rect', 1, 0.5)\n",
        "\n",
        "#  -----------------------------------------------------------------------\n",
        "#  CHECKPOINT\n",
        "#  -----------------------------------------------------------------------\n",
        "\n",
        "# ======================= \\\n",
        "\\\n",
        "\\\n",
        "\\\n",
        "gifParams = {\n",
        "    'region': rect,\n",
        "    'dimensions': 600,\n",
        "    'crs': 'EPSG:3857',\n",
        "    'framesPerSecond': 10\n",
        "}\n",
        "\n",
        "# Print the GIF URL to the console.\n",
        "print(imagesRgb.getVideoThumbURL(gifParams).getInfo())\n",
        "\n",
        "# Render the GIF animation in the console.\n",
        "print(ui.Thumbnail(imagesRgb, gifParams).getInfo())\n",
        "geemap.thumb\n",
        "# ======================= \\\n",
        "\\\n",
        "\\\n",
        "geemap.ee_export_video_to_drive(\n",
        "collection = imagesRgb,\n",
        "description = 'ice-animation',\n",
        "fileNamePrefix = 'ice-animation',\n",
        "framesPerSecond = 10,\n",
        "dimensions = 600,\n",
        "region = rect,\n",
        "crs = 'EPSG =3857'\n",
        ")\n",
        "\n",
        "# ======================= \\\n",
        "\\\n",
        "\\\n",
        "\\\n",
        "\\\n",
        "animation = require('users/gena/packages:animation')\n",
        "\n",
        "# show animation controls\n",
        "animation.animate(imagesRgb, {\n",
        "    'label': 'label',\n",
        "    'maxFrames': 50\n",
        "})\n",
        "\n",
        "#  -----------------------------------------------------------------------\n",
        "#  CHECKPOINT\n",
        "#  -----------------------------------------------------------------------"
      ]
    },
    {
      "cell_type": "markdown",
      "metadata": {},
      "source": [
        "## Display the interactive map"
      ]
    },
    {
      "cell_type": "code",
      "execution_count": null,
      "metadata": {},
      "outputs": [],
      "source": [
        "Map"
      ]
    }
  ],
  "metadata": {
    "anaconda-cloud": {},
    "kernelspec": {
      "display_name": "Python 3",
      "language": "python",
      "name": "python3"
    },
    "language_info": {
      "codemirror_mode": {
        "name": "ipython",
        "version": 3
      },
      "file_extension": ".py",
      "mimetype": "text/x-python",
      "name": "python",
      "nbconvert_exporter": "python",
      "pygments_lexer": "ipython3",
      "version": "3.11.9"
    }
  },
  "nbformat": 4,
  "nbformat_minor": 4
}
