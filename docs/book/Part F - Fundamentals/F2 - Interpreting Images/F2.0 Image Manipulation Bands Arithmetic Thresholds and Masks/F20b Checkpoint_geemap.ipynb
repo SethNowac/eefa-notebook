{
  "cells": [
    {
      "cell_type": "markdown",
      "metadata": {},
      "source": [
        "## Import libraries"
      ]
    },
    {
      "cell_type": "code",
      "execution_count": 1,
      "metadata": {},
      "outputs": [],
      "source": [
        "import ee\n",
        "import geemap"
      ]
    },
    {
      "cell_type": "markdown",
      "metadata": {},
      "source": [
        "## Create an interactive map"
      ]
    },
    {
      "cell_type": "code",
      "execution_count": 2,
      "metadata": {},
      "outputs": [
        {
          "data": {
            "text/html": [
              "\n",
              "            <style>\n",
              "                .geemap-dark {\n",
              "                    --jp-widgets-color: white;\n",
              "                    --jp-widgets-label-color: white;\n",
              "                    --jp-ui-font-color1: white;\n",
              "                    --jp-layout-color2: #454545;\n",
              "                    background-color: #383838;\n",
              "                }\n",
              "                    \n",
              "                .geemap-dark .jupyter-button {\n",
              "                    --jp-layout-color3: #383838;\n",
              "                }\n",
              "                \n",
              "                .geemap-colab {\n",
              "                    background-color: var(--colab-primary-surface-color, white);\n",
              "                }\n",
              "                    \n",
              "                .geemap-colab .jupyter-button {\n",
              "                    --jp-layout-color3: var(--colab-primary-surface-color, white);\n",
              "                }\n",
              "            </style>\n",
              "            "
            ],
            "text/plain": [
              "<IPython.core.display.HTML object>"
            ]
          },
          "metadata": {},
          "output_type": "display_data"
        }
      ],
      "source": [
        "Map = geemap.Map(center=[40, -100], zoom=4)"
      ]
    },
    {
      "cell_type": "markdown",
      "metadata": {},
      "source": [
        "## Add Earth Engine Python script"
      ]
    },
    {
      "cell_type": "code",
      "execution_count": 3,
      "metadata": {},
      "outputs": [
        {
          "data": {
            "text/html": [
              "\n",
              "            <style>\n",
              "                .geemap-dark {\n",
              "                    --jp-widgets-color: white;\n",
              "                    --jp-widgets-label-color: white;\n",
              "                    --jp-ui-font-color1: white;\n",
              "                    --jp-layout-color2: #454545;\n",
              "                    background-color: #383838;\n",
              "                }\n",
              "                    \n",
              "                .geemap-dark .jupyter-button {\n",
              "                    --jp-layout-color3: #383838;\n",
              "                }\n",
              "                \n",
              "                .geemap-colab {\n",
              "                    background-color: var(--colab-primary-surface-color, white);\n",
              "                }\n",
              "                    \n",
              "                .geemap-colab .jupyter-button {\n",
              "                    --jp-layout-color3: var(--colab-primary-surface-color, white);\n",
              "                }\n",
              "            </style>\n",
              "            "
            ],
            "text/plain": [
              "<IPython.core.display.HTML object>"
            ]
          },
          "metadata": {},
          "output_type": "display_data"
        }
      ],
      "source": [
        "# Add Earth Engine dataset\n",
        "image = ee.Image(\"USGS/SRTMGL1_003\")\n",
        "\n",
        "#  ~~~~~~~~~~~~~~~~~~~~~~~~~~~~~~~~~~~~~~~~~~~~~~~~~~~~~~~~~~~~~~~~~~~~~~~~~~~~~~~~~\n",
        "#  Chapter:      F2.0 Image Manipulation: Bands, Arithmetic, Thresholds, and Masks\n",
        "#  Checkpoint:   F20b\n",
        "#  Authors:      Karen Dyson, Andrea Puzzi Nicolau, David Saah, and Nicholas Clinton\n",
        "#  ~~~~~~~~~~~~~~~~~~~~~~~~~~~~~~~~~~~~~~~~~~~~~~~~~~~~~~~~~~~~~~~~~~~~~~~~~~~~~~~~~\n",
        "\n",
        "# Create an NDVI image using Sentinel 2.\n",
        "seaPoint = ee.Geometry.Point(-122.2040, 47.6221)\n",
        "seaImage = ee.ImageCollection('COPERNICUS/S2') \\\n",
        ".filterBounds(seaPoint) \\\n",
        ".filterDate('2020-08-15', '2020-10-01') \\\n",
        ".first()\n",
        "\n",
        "seaNDVI = seaImage.normalizedDifference(['B8', 'B4'])\n",
        "\n",
        "# And map it.\n",
        "Map.centerObject(seaPoint, 10)\n",
        "vegPalette = ['red', 'white', 'green']\n",
        "Map.addLayer(seaNDVI,\n",
        "{\n",
        "    'min': -1,\n",
        "    'max': 1,\n",
        "    'palette': vegPalette\n",
        "},\n",
        "'NDVI Seattle')\n",
        "\n",
        "# Implement a threshold.\n",
        "seaVeg = seaNDVI.gt(0.5)\n",
        "\n",
        "# Map the threshold.\n",
        "Map.addLayer(seaVeg,\n",
        "{\n",
        "    'min': 0,\n",
        "    'max': 1,\n",
        "    'palette': ['white', 'green']\n",
        "},\n",
        "'Non-forest vs. Forest')\n",
        "\n",
        "# Implement .where.\n",
        "# Create a starting image with all values = 1.\n",
        "seaWhere = ee.Image(1) \\\n",
        ".clip(seaNDVI.geometry())\n",
        "\n",
        "# Make all NDVI values less than -0.1 equal 0.\n",
        "seaWhere = seaWhere.where(seaNDVI.lte(-0.1), 0)\n",
        "\n",
        "# Make all NDVI values greater than 0.5 equal 2.\n",
        "seaWhere = seaWhere.where(seaNDVI.gte(0.5), 2)\n",
        "\n",
        "# Map our layer that has been divided into three classes.\n",
        "Map.addLayer(seaWhere,\n",
        "{\n",
        "    'min': 0,\n",
        "    'max': 2,\n",
        "    'palette': ['blue', 'white', 'green']\n",
        "},\n",
        "'Water, Non-forest, Forest')\n",
        "\n",
        "# Implement masking.\n",
        "# View the seaVeg layer's current mask.\n",
        "Map.centerObject(seaPoint, 9)\n",
        "Map.addLayer(seaVeg.mask(), {}, 'seaVeg Mask')\n",
        "\n",
        "# Create a binary mask of non-forest.\n",
        "vegMask = seaVeg.eq(1)\n",
        "\n",
        "# Update the seaVeg mask with the non-forest mask.\n",
        "maskedVeg = seaVeg.updateMask(vegMask)\n",
        "\n",
        "# Map the updated Veg layer\n",
        "Map.addLayer(maskedVeg,\n",
        "{\n",
        "    'min': 0,\n",
        "    'max': 1,\n",
        "    'palette': ['green']\n",
        "},\n",
        "'Masked Forest Layer')\n",
        "\n",
        "# Map the updated mask\n",
        "Map.addLayer(maskedVeg.mask(), {}, 'maskedVeg Mask')\n",
        "\n",
        "# Implement remapping.\n",
        "# Remap the values from the seaWhere layer.\n",
        "seaRemap = seaWhere.remap([0, 1, 2], \n",
        "[9, 11, 10]); \n",
        "\n",
        "Map.addLayer(seaRemap,\n",
        "{\n",
        "    'min': 9,\n",
        "    'max': 11,\n",
        "    'palette': ['blue', 'green', 'white']\n",
        "},\n",
        "'Remapped Values')\n",
        "\n",
        "#  -----------------------------------------------------------------------\n",
        "#  CHECKPOINT\n",
        "#  -----------------------------------------------------------------------\n",
        "\n",
        "\n",
        "\n",
        "\n",
        "\n",
        "\n"
      ]
    },
    {
      "cell_type": "markdown",
      "metadata": {},
      "source": [
        "## Display the interactive map"
      ]
    },
    {
      "cell_type": "code",
      "execution_count": 4,
      "metadata": {},
      "outputs": [
        {
          "data": {
            "text/html": [
              "\n",
              "            <style>\n",
              "                .geemap-dark {\n",
              "                    --jp-widgets-color: white;\n",
              "                    --jp-widgets-label-color: white;\n",
              "                    --jp-ui-font-color1: white;\n",
              "                    --jp-layout-color2: #454545;\n",
              "                    background-color: #383838;\n",
              "                }\n",
              "                    \n",
              "                .geemap-dark .jupyter-button {\n",
              "                    --jp-layout-color3: #383838;\n",
              "                }\n",
              "                \n",
              "                .geemap-colab {\n",
              "                    background-color: var(--colab-primary-surface-color, white);\n",
              "                }\n",
              "                    \n",
              "                .geemap-colab .jupyter-button {\n",
              "                    --jp-layout-color3: var(--colab-primary-surface-color, white);\n",
              "                }\n",
              "            </style>\n",
              "            "
            ],
            "text/plain": [
              "<IPython.core.display.HTML object>"
            ]
          },
          "metadata": {},
          "output_type": "display_data"
        },
        {
          "data": {
            "application/vnd.jupyter.widget-view+json": {
              "model_id": "5bb70de21cc94478a2047acb35e4d562",
              "version_major": 2,
              "version_minor": 0
            },
            "text/plain": [
              "Map(center=[47.6221, -122.204], controls=(WidgetControl(options=['position', 'transparent_bg'], widget=SearchD…"
            ]
          },
          "execution_count": 4,
          "metadata": {},
          "output_type": "execute_result"
        }
      ],
      "source": [
        "Map"
      ]
    }
  ],
  "metadata": {
    "anaconda-cloud": {},
    "kernelspec": {
      "display_name": "Python 3",
      "language": "python",
      "name": "python3"
    },
    "language_info": {
      "codemirror_mode": {
        "name": "ipython",
        "version": 3
      },
      "file_extension": ".py",
      "mimetype": "text/x-python",
      "name": "python",
      "nbconvert_exporter": "python",
      "pygments_lexer": "ipython3",
      "version": "3.11.9"
    }
  },
  "nbformat": 4,
  "nbformat_minor": 4
}
