{
  "cells": [
    {
      "cell_type": "markdown",
      "metadata": {},
      "source": [
        "## Import libraries"
      ]
    },
    {
      "cell_type": "code",
      "metadata": {},
      "source": [
        "import ee\n",
        "import geemap"
      ],
      "outputs": [],
      "execution_count": null
    },
    {
      "cell_type": "markdown",
      "metadata": {},
      "source": [
        "## Create an interactive map"
      ]
    },
    {
      "cell_type": "code",
      "metadata": {},
      "source": [
        "Map = geemap.Map(center=[40, -100], zoom=4)"
      ],
      "outputs": [],
      "execution_count": null
    },
    {
      "cell_type": "markdown",
      "metadata": {},
      "source": [
        "## Add Earth Engine Python script"
      ]
    },
    {
      "cell_type": "code",
      "metadata": {},
      "source": [
        "# Add Earth Engine dataset\n",
        "image = ee.Image(\"USGS/SRTMGL1_003\")\n",
        "\n",
        "#  ~~~~~~~~~~~~~~~~~~~~~~~~~~~~~~~~~~~~~~~~~~~~~~~~~~~~~~~~~~~~~~~~~~~~~~~~~~~~~~~~~~\n",
        "#  Chapter:      F2.0 Image Manipulation: Bands, Arithmetic, Thresholds, and Masks\n",
        "#  Checkpoint:   F20a\n",
        "#  Authors:      Karen Dyson, Andrea Puzzi Nicolau, David Saah, and Nicholas Clinton\n",
        "#  ~~~~~~~~~~~~~~~~~~~~~~~~~~~~~~~~~~~~~~~~~~~~~~~~~~~~~~~~~~~~~~~~~~~~~~~~~~~~~~~~~~\n",
        "\n",
        "##/\n",
        "# Band Arithmetic\n",
        "##/\n",
        "\n",
        "# Calculate NDVI using Sentinel 2\n",
        "\n",
        "# Import and filter imagery by location and date.\n",
        "sfoPoint = ee.Geometry.Point(-122.3774, 37.6194)\n",
        "sfoImage = ee.ImageCollection('COPERNICUS/S2') \\\n",
        "    .filterBounds(sfoPoint) \\\n",
        "    .filterDate('2020-02-01', '2020-04-01') \\\n",
        "    .first()\n",
        "\n",
        "# Display the image as a False color composite.\n",
        "Map.centerObject(sfoImage, 11)\n",
        "Map.addLayer(sfoImage, {\n",
        "    'bands': ['B8', 'B4', 'B3'],\n",
        "    'min': 0,\n",
        "    'max': 2000\n",
        "}, 'False color')\n",
        "\n",
        "# Extract the near infrared and red bands.\n",
        "nir = sfoImage.select('B8')\n",
        "red = sfoImage.select('B4')\n",
        "\n",
        "# Calculate the numerator and the denominator using subtraction and addition respectively.\n",
        "numerator = nir.subtract(red)\n",
        "denominator = nir.add(red)\n",
        "\n",
        "# Now calculate NDVI.\n",
        "ndvi = numerator.divide(denominator)\n",
        "\n",
        "# Add the layer to our map with a palette.\n",
        "vegPalette = ['red', 'white', 'green']\n",
        "Map.addLayer(ndvi, {\n",
        "    'min': -1,\n",
        "    'max': 1,\n",
        "    'palette': vegPalette\n",
        "}, 'NDVI Manual')\n",
        "\n",
        "# Now use the built-in normalizedDifference function to achieve the same outcome.\n",
        "ndviND = sfoImage.normalizedDifference(['B8', 'B4'])\n",
        "Map.addLayer(ndviND, {\n",
        "    'min': -1,\n",
        "    'max': 1,\n",
        "    'palette': vegPalette\n",
        "}, 'NDVI normalizedDiff')\n",
        "\n",
        "# Use normalizedDifference to calculate NDWI\n",
        "ndwi = sfoImage.normalizedDifference(['B8', 'B11'])\n",
        "waterPalette = ['white', 'blue']\n",
        "Map.addLayer(ndwi, {\n",
        "    'min': -0.5,\n",
        "    'max': 1,\n",
        "    'palette': waterPalette\n",
        "}, 'NDWI')\n",
        "\n",
        "#  -----------------------------------------------------------------------\n",
        "#  CHECKPOINT\n",
        "#  -----------------------------------------------------------------------\n"
      ],
      "outputs": [],
      "execution_count": null
    },
    {
      "cell_type": "markdown",
      "metadata": {},
      "source": [
        "## Display the interactive map"
      ]
    },
    {
      "cell_type": "code",
      "metadata": {},
      "source": [
        "Map"
      ],
      "outputs": [],
      "execution_count": null
    }
  ],
  "metadata": {
    "anaconda-cloud": {},
    "kernelspec": {
      "display_name": "Python 3",
      "language": "python",
      "name": "python3"
    },
    "language_info": {
      "codemirror_mode": {
        "name": "ipython",
        "version": 3
      },
      "file_extension": ".py",
      "mimetype": "text/x-python",
      "name": "python",
      "nbconvert_exporter": "python",
      "pygments_lexer": "ipython3",
      "version": "3.6.1"
    }
  },
  "nbformat": 4,
  "nbformat_minor": 4
}