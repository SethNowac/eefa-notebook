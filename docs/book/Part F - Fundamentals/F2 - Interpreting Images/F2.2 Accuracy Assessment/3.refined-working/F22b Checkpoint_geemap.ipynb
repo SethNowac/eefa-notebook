{
  "cells": [
    {
      "cell_type": "markdown",
      "metadata": {},
      "source": [
        "## Import libraries"
      ]
    },
    {
      "cell_type": "code",
      "execution_count": 11,
      "metadata": {},
      "outputs": [
        {
          "data": {
            "text/html": [
              "\n",
              "            <style>\n",
              "                .geemap-dark {\n",
              "                    --jp-widgets-color: white;\n",
              "                    --jp-widgets-label-color: white;\n",
              "                    --jp-ui-font-color1: white;\n",
              "                    --jp-layout-color2: #454545;\n",
              "                    background-color: #383838;\n",
              "                }\n",
              "\n",
              "                .geemap-dark .jupyter-button {\n",
              "                    --jp-layout-color3: #383838;\n",
              "                }\n",
              "\n",
              "                .geemap-colab {\n",
              "                    background-color: var(--colab-primary-surface-color, white);\n",
              "                }\n",
              "\n",
              "                .geemap-colab .jupyter-button {\n",
              "                    --jp-layout-color3: var(--colab-primary-surface-color, white);\n",
              "                }\n",
              "            </style>\n",
              "            "
            ],
            "text/plain": [
              "<IPython.core.display.HTML object>"
            ]
          },
          "metadata": {},
          "output_type": "display_data"
        }
      ],
      "source": [
        "import ee\n",
        "import geemap\n",
        "import geemap.chart as chart"
      ]
    },
    {
      "cell_type": "markdown",
      "metadata": {},
      "source": [
        "## Create an interactive map"
      ]
    },
    {
      "cell_type": "code",
      "execution_count": 12,
      "metadata": {},
      "outputs": [
        {
          "data": {
            "text/html": [
              "\n",
              "            <style>\n",
              "                .geemap-dark {\n",
              "                    --jp-widgets-color: white;\n",
              "                    --jp-widgets-label-color: white;\n",
              "                    --jp-ui-font-color1: white;\n",
              "                    --jp-layout-color2: #454545;\n",
              "                    background-color: #383838;\n",
              "                }\n",
              "\n",
              "                .geemap-dark .jupyter-button {\n",
              "                    --jp-layout-color3: #383838;\n",
              "                }\n",
              "\n",
              "                .geemap-colab {\n",
              "                    background-color: var(--colab-primary-surface-color, white);\n",
              "                }\n",
              "\n",
              "                .geemap-colab .jupyter-button {\n",
              "                    --jp-layout-color3: var(--colab-primary-surface-color, white);\n",
              "                }\n",
              "            </style>\n",
              "            "
            ],
            "text/plain": [
              "<IPython.core.display.HTML object>"
            ]
          },
          "metadata": {},
          "output_type": "display_data"
        }
      ],
      "source": [
        "Map = geemap.Map(center=[40, -100], zoom=4)"
      ]
    },
    {
      "cell_type": "markdown",
      "metadata": {},
      "source": [
        "## Add Earth Engine Python script"
      ]
    },
    {
      "cell_type": "code",
      "execution_count": 13,
      "metadata": {},
      "outputs": [
        {
          "data": {
            "text/html": [
              "\n",
              "            <style>\n",
              "                .geemap-dark {\n",
              "                    --jp-widgets-color: white;\n",
              "                    --jp-widgets-label-color: white;\n",
              "                    --jp-ui-font-color1: white;\n",
              "                    --jp-layout-color2: #454545;\n",
              "                    background-color: #383838;\n",
              "                }\n",
              "\n",
              "                .geemap-dark .jupyter-button {\n",
              "                    --jp-layout-color3: #383838;\n",
              "                }\n",
              "\n",
              "                .geemap-colab {\n",
              "                    background-color: var(--colab-primary-surface-color, white);\n",
              "                }\n",
              "\n",
              "                .geemap-colab .jupyter-button {\n",
              "                    --jp-layout-color3: var(--colab-primary-surface-color, white);\n",
              "                }\n",
              "            </style>\n",
              "            "
            ],
            "text/plain": [
              "<IPython.core.display.HTML object>"
            ]
          },
          "metadata": {},
          "output_type": "display_data"
        },
        {
          "name": "stdout",
          "output_type": "stream",
          "text": [
            "Confusion matrix: [[23, 0, 1, 0], [0, 21, 0, 4], [0, 1, 9, 1], [0, 6, 0, 12]]\n",
            "Overall Accuracy: 0.8333333333333334\n",
            "Producers Accuracy: [[0.9583333333333334], [0.84], [0.8181818181818182], [0.6666666666666666]]\n",
            "Consumers Accuracy: [[1, 0.75, 0.9, 0.7058823529411765]]\n",
            "Kappa: 0.7703804347826089\n"
          ]
        },
        {
          "data": {
            "application/vnd.jupyter.widget-view+json": {
              "model_id": "c24c55080bbf4dd5b1138c5e00312676",
              "version_major": 2,
              "version_minor": 0
            },
            "text/plain": [
              "Figure(axes=[Axis(label_offset='30px', scale=LinearScale()), Axis(label_offset='40px', orientation='vertical',…"
            ]
          },
          "metadata": {},
          "output_type": "display_data"
        }
      ],
      "source": [
        "# Add Earth Engine dataset\n",
        "image = ee.Image(\"USGS/SRTMGL1_003\")\n",
        "\n",
        "#  ~~~~~~~~~~~~~~~~~~~~~~~~~~~~~~~~~~~~~~~~~~~~~~~~~~~~~~~~~~~~~~~~~~~~~~~\n",
        "#  Chapter:      F2.2 Accuracy Assessment: Quantifying Classification Quality\n",
        "#  Checkpoint:   F22b\n",
        "#  Authors:      Andréa Puzzi Nicolau, Karen Dyson, David Saah, Nicholas Clinton\n",
        "#  ~~~~~~~~~~~~~~~~~~~~~~~~~~~~~~~~~~~~~~~~~~~~~~~~~~~~~~~~~~~~~~~~~~~~~~~\n",
        "\n",
        "# Import the reference dataset.\n",
        "data = ee.FeatureCollection(\n",
        "'projects/gee-book/assets/F2-2/milan_data')\n",
        "\n",
        "# Define the prediction bands.\n",
        "predictionBands = [\n",
        "'SR_B1', 'SR_B2', 'SR_B3', 'SR_B4', 'SR_B5', 'SR_B6', 'SR_B7',\n",
        "'ST_B10',\n",
        "'ndvi', 'ndwi'\n",
        "]\n",
        "\n",
        "# Split the dataset into training and testing sets.\n",
        "trainingTesting = data.randomColumn()\n",
        "trainingSet = trainingTesting \\\n",
        ".filter(ee.Filter.lessThan('random', 0.8))\n",
        "testingSet = trainingTesting \\\n",
        ".filter(ee.Filter.greaterThanOrEquals('random', 0.8))\n",
        "\n",
        "# Train the Random Forest Classifier with the trainingSet.\n",
        "RFclassifier = ee.Classifier.smileRandomForest(50).train(\n",
        "features = trainingSet,\n",
        "classProperty = 'class',\n",
        "inputProperties = predictionBands\n",
        ")\n",
        "\n",
        "# Now, to test the classification (verify model's accuracy),\n",
        "# we classify the testingSet and get a confusion matrix.\n",
        "confusionMatrix = testingSet.classify(RFclassifier) \\\n",
        ".errorMatrix(\n",
        "actual = 'class',\n",
        "predicted = 'classification'\n",
        ")\n",
        "\n",
        "# Print the results.\n",
        "print('Confusion matrix:', confusionMatrix.getInfo())\n",
        "print('Overall Accuracy:', confusionMatrix.accuracy().getInfo())\n",
        "print('Producers Accuracy:', confusionMatrix.producersAccuracy().getInfo())\n",
        "print('Consumers Accuracy:', confusionMatrix.consumersAccuracy().getInfo())\n",
        "print('Kappa:', confusionMatrix.kappa().getInfo())\n",
        "\n",
        "#  -----------------------------------------------------------------------\n",
        "#  CHECKPOINT\n",
        "#  -----------------------------------------------------------------------\n",
        "\n",
        "# Hyperparameter tuning.\n",
        "numTrees = ee.List.sequence(5, 100, 5)\n",
        "\n",
        "\n",
        "def func_tjn(t):\n",
        "    classifier = ee.Classifier.smileRandomForest(t) \\\n",
        "    .train(\n",
        "        features = trainingSet,\n",
        "        classProperty = 'class',\n",
        "        inputProperties = predictionBands\n",
        "        )\n",
        "    return testingSet \\\n",
        "    .classify(classifier) \\\n",
        "    .errorMatrix('class', 'classification') \\\n",
        "    .accuracy()\n",
        "\n",
        "accuracies = numTrees.map(func_tjn)\n",
        "\n",
        "\n",
        "chart = chart.array_values(\n",
        "array = ee.Array(accuracies),\n",
        "axis = 0,\n",
        "x_labels = numTrees,\n",
        "chart_type = \"ScatterChart\"\n",
        ")\n",
        "\n",
        "chart.set_options(options={\n",
        "'hAxis': {\n",
        "    'title': 'Number of trees'\n",
        "},\n",
        "'vAxis': {\n",
        "    'title': 'Accuracy'\n",
        "},\n",
        "'title': 'Accuracy per number of trees'\n",
        "})\n",
        "\n",
        "chart.display()\n",
        "\n",
        "#  -----------------------------------------------------------------------\n",
        "#  CHECKPOINT\n",
        "#  -----------------------------------------------------------------------"
      ]
    },
    {
      "cell_type": "markdown",
      "metadata": {},
      "source": [
        "## Display the interactive map"
      ]
    },
    {
      "cell_type": "code",
      "execution_count": null,
      "metadata": {},
      "outputs": [],
      "source": [
        "Map"
      ]
    }
  ],
  "metadata": {
    "anaconda-cloud": {},
    "kernelspec": {
      "display_name": "Python 3",
      "language": "python",
      "name": "python3"
    },
    "language_info": {
      "codemirror_mode": {
        "name": "ipython",
        "version": 3
      },
      "file_extension": ".py",
      "mimetype": "text/x-python",
      "name": "python",
      "nbconvert_exporter": "python",
      "pygments_lexer": "ipython3",
      "version": "3.11.9"
    }
  },
  "nbformat": 4,
  "nbformat_minor": 4
}
