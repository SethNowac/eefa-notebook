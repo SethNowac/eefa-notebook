{
  "cells": [
    {
      "cell_type": "markdown",
      "metadata": {},
      "source": [
        "## Import libraries"
      ]
    },
    {
      "cell_type": "code",
      "execution_count": 1,
      "metadata": {},
      "outputs": [],
      "source": [
        "import ee\n",
        "import geemap"
      ]
    },
    {
      "cell_type": "markdown",
      "metadata": {},
      "source": [
        "## Create an interactive map"
      ]
    },
    {
      "cell_type": "code",
      "execution_count": 2,
      "metadata": {},
      "outputs": [
        {
          "data": {
            "text/html": [
              "\n",
              "            <style>\n",
              "                .geemap-dark {\n",
              "                    --jp-widgets-color: white;\n",
              "                    --jp-widgets-label-color: white;\n",
              "                    --jp-ui-font-color1: white;\n",
              "                    --jp-layout-color2: #454545;\n",
              "                    background-color: #383838;\n",
              "                }\n",
              "                    \n",
              "                .geemap-dark .jupyter-button {\n",
              "                    --jp-layout-color3: #383838;\n",
              "                }\n",
              "                \n",
              "                .geemap-colab {\n",
              "                    background-color: var(--colab-primary-surface-color, white);\n",
              "                }\n",
              "                    \n",
              "                .geemap-colab .jupyter-button {\n",
              "                    --jp-layout-color3: var(--colab-primary-surface-color, white);\n",
              "                }\n",
              "            </style>\n",
              "            "
            ],
            "text/plain": [
              "<IPython.core.display.HTML object>"
            ]
          },
          "metadata": {},
          "output_type": "display_data"
        }
      ],
      "source": [
        "Map = geemap.Map(center=[40, -100], zoom=4)"
      ]
    },
    {
      "cell_type": "markdown",
      "metadata": {},
      "source": [
        "## Add Earth Engine Python script"
      ]
    },
    {
      "cell_type": "code",
      "execution_count": 3,
      "metadata": {},
      "outputs": [
        {
          "data": {
            "text/html": [
              "\n",
              "            <style>\n",
              "                .geemap-dark {\n",
              "                    --jp-widgets-color: white;\n",
              "                    --jp-widgets-label-color: white;\n",
              "                    --jp-ui-font-color1: white;\n",
              "                    --jp-layout-color2: #454545;\n",
              "                    background-color: #383838;\n",
              "                }\n",
              "                    \n",
              "                .geemap-dark .jupyter-button {\n",
              "                    --jp-layout-color3: #383838;\n",
              "                }\n",
              "                \n",
              "                .geemap-colab {\n",
              "                    background-color: var(--colab-primary-surface-color, white);\n",
              "                }\n",
              "                    \n",
              "                .geemap-colab .jupyter-button {\n",
              "                    --jp-layout-color3: var(--colab-primary-surface-color, white);\n",
              "                }\n",
              "            </style>\n",
              "            "
            ],
            "text/plain": [
              "<IPython.core.display.HTML object>"
            ]
          },
          "metadata": {},
          "output_type": "display_data"
        },
        {
          "name": "stdout",
          "output_type": "stream",
          "text": [
            "The size of the Landsat 8 image collection is: 1852647\n",
            "The size of the Winter Landsat 8 image collection is: 33082\n",
            "The size of the Minneapolis Winter Landsat 8 image collection is:  7\n"
          ]
        }
      ],
      "source": [
        "# Add Earth Engine dataset\n",
        "image = ee.Image(\"USGS/SRTMGL1_003\")\n",
        "\n",
        "#  ~~~~~~~~~~~~~~~~~~~~~~~~~~~~~~~~~~~~~~~~~~~~~~~~~~~~~~~~~~~~~~~~~~~~~~~\n",
        "#  Chapter:      F1.2 Survey of Raster Datasets\n",
        "#  Checkpoint:   F12b\n",
        "#  Authors:      Andréa, Karen, Nick Clinton, David Saah\n",
        "#  ~~~~~~~~~~~~~~~~~~~~~~~~~~~~~~~~~~~~~~~~~~~~~~~~~~~~~~~~~~~~~~~~~~~~~~~\n",
        "\n",
        "\n",
        "##/\n",
        "# View an Image Collection\n",
        "##/\n",
        "\n",
        "# Import the Landsat 8 Raw Collection.\n",
        "landsat8 = ee.ImageCollection('LANDSAT/LC08/C02/T1')\n",
        "\n",
        "# Print the size of the Landsat 8 dataset.\n",
        "print('The size of the Landsat 8 image collection is:', landsat8 \\\n",
        ".size().getInfo())\n",
        "\n",
        "# Try to print the image collection.\n",
        "# WARNINGnot  Running the print code immediately below produces an error because\n",
        "# the Console can not print more than 5000 elements.\n",
        "# print(landsat8.getInfo())\n",
        "\n",
        "# Add the Landsat 8 dataset to the map as a mosaic. The collection is\n",
        "# already chronologically sorted, so the most recent pixel is displayed.\n",
        "# Map.addLayer(landsat8,\n",
        "#     {\n",
        "    #         bands: ['B4', 'B3', 'B2'],\n",
        "    #         min: 5000,\n",
        "    #         max: 15000\n",
        "#     },\n",
        "#     'Landsat 8 Image Collection')\n",
        "\n",
        "#  -----------------------------------------------------------------------\n",
        "#  CHECKPOINT\n",
        "#  -----------------------------------------------------------------------\n",
        "\n",
        "##/\n",
        "# Filter an Image Collection\n",
        "##/\n",
        "\n",
        "# Filter the collection by date.\n",
        "landsatWinter = landsat8.filterDate('2020-12-01', '2021-03-01')\n",
        "\n",
        "Map.addLayer(landsatWinter,\n",
        "{\n",
        "    'bands': ['B4', 'B3', 'B2'],\n",
        "    'min': 5000,\n",
        "    'max': 15000\n",
        "},\n",
        "'Winter Landsat 8')\n",
        "\n",
        "print('The size of the Winter Landsat 8 image collection is:',\n",
        "landsatWinter.size().getInfo())\n",
        "\n",
        "# Create an Earth Engine Point object.\n",
        "pointMN = ee.Geometry.Point([-93.79, 45.05])\n",
        "\n",
        "# Filter the collection by location using the point.\n",
        "landsatMN = landsatWinter.filterBounds(pointMN)\n",
        "Map.addLayer(landsatMN,\n",
        "{\n",
        "    'bands': ['B4', 'B3', 'B2'],\n",
        "    'min': 5000,\n",
        "    'max': 15000\n",
        "},\n",
        "'MN Landsat 8')\n",
        "\n",
        "# Add the point to the map to see where it is.\n",
        "Map.addLayer(pointMN, {}, 'Point MN')\n",
        "\n",
        "print('The size of the Minneapolis Winter Landsat 8 image collection is: ',\n",
        "landsatMN.size().getInfo())\n",
        "\n",
        "# Select the first image in the filtered collection.\n",
        "landsatFirst = landsatMN.first()\n",
        "\n",
        "# Display the first image in the filtered collection.\n",
        "Map.centerObject(landsatFirst, 7)\n",
        "Map.addLayer(landsatFirst,\n",
        "{\n",
        "    'bands': ['B4', 'B3', 'B2'],\n",
        "    'min': 5000,\n",
        "    'max': 15000\n",
        "},\n",
        "'First Landsat 8')\n",
        "\n",
        "#  -----------------------------------------------------------------------\n",
        "#  CHECKPOINT\n",
        "#  -----------------------------------------------------------------------"
      ]
    },
    {
      "cell_type": "markdown",
      "metadata": {},
      "source": [
        "## Display the interactive map"
      ]
    },
    {
      "cell_type": "code",
      "execution_count": 4,
      "metadata": {},
      "outputs": [
        {
          "data": {
            "text/html": [
              "\n",
              "            <style>\n",
              "                .geemap-dark {\n",
              "                    --jp-widgets-color: white;\n",
              "                    --jp-widgets-label-color: white;\n",
              "                    --jp-ui-font-color1: white;\n",
              "                    --jp-layout-color2: #454545;\n",
              "                    background-color: #383838;\n",
              "                }\n",
              "                    \n",
              "                .geemap-dark .jupyter-button {\n",
              "                    --jp-layout-color3: #383838;\n",
              "                }\n",
              "                \n",
              "                .geemap-colab {\n",
              "                    background-color: var(--colab-primary-surface-color, white);\n",
              "                }\n",
              "                    \n",
              "                .geemap-colab .jupyter-button {\n",
              "                    --jp-layout-color3: var(--colab-primary-surface-color, white);\n",
              "                }\n",
              "            </style>\n",
              "            "
            ],
            "text/plain": [
              "<IPython.core.display.HTML object>"
            ]
          },
          "metadata": {},
          "output_type": "display_data"
        },
        {
          "data": {
            "application/vnd.jupyter.widget-view+json": {
              "model_id": "e391fb69c04341ffb0cfb3e44faa975e",
              "version_major": 2,
              "version_minor": 0
            },
            "text/plain": [
              "Map(center=[44.60554780363552, -93.53315836561087], controls=(WidgetControl(options=['position', 'transparent_…"
            ]
          },
          "execution_count": 4,
          "metadata": {},
          "output_type": "execute_result"
        }
      ],
      "source": [
        "Map"
      ]
    }
  ],
  "metadata": {
    "anaconda-cloud": {},
    "kernelspec": {
      "display_name": "Python 3",
      "language": "python",
      "name": "python3"
    },
    "language_info": {
      "codemirror_mode": {
        "name": "ipython",
        "version": 3
      },
      "file_extension": ".py",
      "mimetype": "text/x-python",
      "name": "python",
      "nbconvert_exporter": "python",
      "pygments_lexer": "ipython3",
      "version": "3.11.9"
    }
  },
  "nbformat": 4,
  "nbformat_minor": 4
}
