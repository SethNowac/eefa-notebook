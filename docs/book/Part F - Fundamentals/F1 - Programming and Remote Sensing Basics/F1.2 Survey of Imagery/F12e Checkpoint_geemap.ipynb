{
  "cells": [
    {
      "cell_type": "markdown",
      "metadata": {},
      "source": [
        "## Import libraries"
      ]
    },
    {
      "cell_type": "code",
      "execution_count": 2,
      "metadata": {},
      "outputs": [],
      "source": [
        "import ee\n",
        "import geemap"
      ]
    },
    {
      "cell_type": "markdown",
      "metadata": {},
      "source": [
        "## Create an interactive map"
      ]
    },
    {
      "cell_type": "code",
      "execution_count": 3,
      "metadata": {},
      "outputs": [
        {
          "data": {
            "text/html": [
              "\n",
              "            <style>\n",
              "                .geemap-dark {\n",
              "                    --jp-widgets-color: white;\n",
              "                    --jp-widgets-label-color: white;\n",
              "                    --jp-ui-font-color1: white;\n",
              "                    --jp-layout-color2: #454545;\n",
              "                    background-color: #383838;\n",
              "                }\n",
              "                    \n",
              "                .geemap-dark .jupyter-button {\n",
              "                    --jp-layout-color3: #383838;\n",
              "                }\n",
              "                \n",
              "                .geemap-colab {\n",
              "                    background-color: var(--colab-primary-surface-color, white);\n",
              "                }\n",
              "                    \n",
              "                .geemap-colab .jupyter-button {\n",
              "                    --jp-layout-color3: var(--colab-primary-surface-color, white);\n",
              "                }\n",
              "            </style>\n",
              "            "
            ],
            "text/plain": [
              "<IPython.core.display.HTML object>"
            ]
          },
          "metadata": {},
          "output_type": "display_data"
        }
      ],
      "source": [
        "Map = geemap.Map(center=[40, -100], zoom=4)"
      ]
    },
    {
      "cell_type": "markdown",
      "metadata": {},
      "source": [
        "## Add Earth Engine Python script"
      ]
    },
    {
      "cell_type": "code",
      "execution_count": 15,
      "metadata": {},
      "outputs": [
        {
          "data": {
            "text/html": [
              "\n",
              "            <style>\n",
              "                .geemap-dark {\n",
              "                    --jp-widgets-color: white;\n",
              "                    --jp-widgets-label-color: white;\n",
              "                    --jp-ui-font-color1: white;\n",
              "                    --jp-layout-color2: #454545;\n",
              "                    background-color: #383838;\n",
              "                }\n",
              "                    \n",
              "                .geemap-dark .jupyter-button {\n",
              "                    --jp-layout-color3: #383838;\n",
              "                }\n",
              "                \n",
              "                .geemap-colab {\n",
              "                    background-color: var(--colab-primary-surface-color, white);\n",
              "                }\n",
              "                    \n",
              "                .geemap-colab .jupyter-button {\n",
              "                    --jp-layout-color3: var(--colab-primary-surface-color, white);\n",
              "                }\n",
              "            </style>\n",
              "            "
            ],
            "text/plain": [
              "<IPython.core.display.HTML object>"
            ]
          },
          "metadata": {},
          "output_type": "display_data"
        },
        {
          "ename": "TypeError",
          "evalue": "'NoneType' object is not subscriptable",
          "output_type": "error",
          "traceback": [
            "\u001b[1;31m---------------------------------------------------------------------------\u001b[0m",
            "\u001b[1;31mTypeError\u001b[0m                                 Traceback (most recent call last)",
            "Cell \u001b[1;32mIn[15], line 33\u001b[0m\n\u001b[0;32m     24\u001b[0m methaneVis \u001b[38;5;241m=\u001b[39m {\n\u001b[0;32m     25\u001b[0m     \u001b[38;5;124m'\u001b[39m\u001b[38;5;124mpalette\u001b[39m\u001b[38;5;124m'\u001b[39m: [\u001b[38;5;124m'\u001b[39m\u001b[38;5;124mblack\u001b[39m\u001b[38;5;124m'\u001b[39m, \u001b[38;5;124m'\u001b[39m\u001b[38;5;124mblue\u001b[39m\u001b[38;5;124m'\u001b[39m, \u001b[38;5;124m'\u001b[39m\u001b[38;5;124mpurple\u001b[39m\u001b[38;5;124m'\u001b[39m, \u001b[38;5;124m'\u001b[39m\u001b[38;5;124mcyan\u001b[39m\u001b[38;5;124m'\u001b[39m, \u001b[38;5;124m'\u001b[39m\u001b[38;5;124mgreen\u001b[39m\u001b[38;5;124m'\u001b[39m,\n\u001b[0;32m     26\u001b[0m     \u001b[38;5;124m'\u001b[39m\u001b[38;5;124myellow\u001b[39m\u001b[38;5;124m'\u001b[39m, \u001b[38;5;124m'\u001b[39m\u001b[38;5;124mred\u001b[39m\u001b[38;5;124m'\u001b[39m\n\u001b[1;32m   (...)\u001b[0m\n\u001b[0;32m     29\u001b[0m     \u001b[38;5;124m'\u001b[39m\u001b[38;5;124mmax\u001b[39m\u001b[38;5;124m'\u001b[39m: \u001b[38;5;241m1920\u001b[39m\n\u001b[0;32m     30\u001b[0m }\n\u001b[0;32m     32\u001b[0m \u001b[38;5;66;03m# Center the Map.\u001b[39;00m\n\u001b[1;32m---> 33\u001b[0m \u001b[43mMap\u001b[49m\u001b[38;5;241;43m.\u001b[39;49m\u001b[43mcenterObject\u001b[49m\u001b[43m(\u001b[49m\u001b[43mmethane2018\u001b[49m\u001b[38;5;241;43m.\u001b[39;49m\u001b[43mgeometry\u001b[49m\u001b[43m(\u001b[49m\u001b[43mmaxError\u001b[49m\u001b[38;5;241;43m=\u001b[39;49m\u001b[38;5;241;43m0.01\u001b[39;49m\u001b[43m)\u001b[49m\u001b[43m,\u001b[49m\u001b[43m \u001b[49m\u001b[38;5;241;43m3\u001b[39;49m\u001b[43m)\u001b[49m\n\u001b[0;32m     35\u001b[0m \u001b[38;5;66;03m# Add the methane dataset to the map.\u001b[39;00m\n\u001b[0;32m     36\u001b[0m Map\u001b[38;5;241m.\u001b[39maddLayer(methane2018, methaneVis, \u001b[38;5;124m'\u001b[39m\u001b[38;5;124mMethane\u001b[39m\u001b[38;5;124m'\u001b[39m)\n",
            "File \u001b[1;32m~\\AppData\\Local\\Packages\\PythonSoftwareFoundation.Python.3.11_qbz5n2kfra8p0\\LocalCache\\local-packages\\Python311\\site-packages\\geemap\\geemap.py:387\u001b[0m, in \u001b[0;36mMap.center_object\u001b[1;34m(self, ee_object, zoom)\u001b[0m\n\u001b[0;32m    380\u001b[0m \u001b[38;5;28;01mdef\u001b[39;00m \u001b[38;5;21mcenter_object\u001b[39m(\u001b[38;5;28mself\u001b[39m, ee_object, zoom\u001b[38;5;241m=\u001b[39m\u001b[38;5;28;01mNone\u001b[39;00m):\n\u001b[0;32m    381\u001b[0m \u001b[38;5;250m    \u001b[39m\u001b[38;5;124;03m\"\"\"Centers the map view on a given object.\u001b[39;00m\n\u001b[0;32m    382\u001b[0m \n\u001b[0;32m    383\u001b[0m \u001b[38;5;124;03m    Args:\u001b[39;00m\n\u001b[0;32m    384\u001b[0m \u001b[38;5;124;03m        ee_object (Element|Geometry): An Earth Engine object to center on a geometry, image or feature.\u001b[39;00m\n\u001b[0;32m    385\u001b[0m \u001b[38;5;124;03m        zoom (int, optional): The zoom level, from 1 to 24. Defaults to None.\u001b[39;00m\n\u001b[0;32m    386\u001b[0m \u001b[38;5;124;03m    \"\"\"\u001b[39;00m\n\u001b[1;32m--> 387\u001b[0m     \u001b[38;5;28;43msuper\u001b[39;49m\u001b[43m(\u001b[49m\u001b[43m)\u001b[49m\u001b[38;5;241;43m.\u001b[39;49m\u001b[43mcenter_object\u001b[49m\u001b[43m(\u001b[49m\u001b[43mee_object\u001b[49m\u001b[43m,\u001b[49m\u001b[43m \u001b[49m\u001b[43mzoom\u001b[49m\u001b[43m)\u001b[49m\n\u001b[0;32m    388\u001b[0m     \u001b[38;5;28;01mif\u001b[39;00m is_arcpy():\n\u001b[0;32m    389\u001b[0m         bds \u001b[38;5;241m=\u001b[39m \u001b[38;5;28mself\u001b[39m\u001b[38;5;241m.\u001b[39mbounds\n",
            "File \u001b[1;32m~\\AppData\\Local\\Packages\\PythonSoftwareFoundation.Python.3.11_qbz5n2kfra8p0\\LocalCache\\local-packages\\Python311\\site-packages\\geemap\\core.py:536\u001b[0m, in \u001b[0;36mMap.center_object\u001b[1;34m(self, ee_object, zoom)\u001b[0m\n\u001b[0;32m    534\u001b[0m \u001b[38;5;28;01mif\u001b[39;00m \u001b[38;5;129;01mnot\u001b[39;00m \u001b[38;5;28misinstance\u001b[39m(zoom, \u001b[38;5;28mint\u001b[39m):\n\u001b[0;32m    535\u001b[0m     \u001b[38;5;28;01mraise\u001b[39;00m \u001b[38;5;167;01mValueError\u001b[39;00m(\u001b[38;5;124m\"\u001b[39m\u001b[38;5;124mZoom must be an integer.\u001b[39m\u001b[38;5;124m\"\u001b[39m)\n\u001b[1;32m--> 536\u001b[0m centroid \u001b[38;5;241m=\u001b[39m \u001b[43mgeometry\u001b[49m\u001b[38;5;241;43m.\u001b[39;49m\u001b[43mcentroid\u001b[49m\u001b[43m(\u001b[49m\u001b[43mmaxError\u001b[49m\u001b[38;5;241;43m=\u001b[39;49m\u001b[43mmax_error\u001b[49m\u001b[43m)\u001b[49m\u001b[38;5;241;43m.\u001b[39;49m\u001b[43mgetInfo\u001b[49m\u001b[43m(\u001b[49m\u001b[43m)\u001b[49m\u001b[43m[\u001b[49m\u001b[38;5;124;43m\"\u001b[39;49m\u001b[38;5;124;43mcoordinates\u001b[39;49m\u001b[38;5;124;43m\"\u001b[39;49m\u001b[43m]\u001b[49m\n\u001b[0;32m    537\u001b[0m \u001b[38;5;28mself\u001b[39m\u001b[38;5;241m.\u001b[39mset_center(centroid[\u001b[38;5;241m0\u001b[39m], centroid[\u001b[38;5;241m1\u001b[39m], zoom)\n",
            "\u001b[1;31mTypeError\u001b[0m: 'NoneType' object is not subscriptable"
          ]
        }
      ],
      "source": [
        "# Add Earth Engine dataset\n",
        "image = ee.Image(\"USGS/SRTMGL1_003\")\n",
        "\n",
        "#  ~~~~~~~~~~~~~~~~~~~~~~~~~~~~~~~~~~~~~~~~~~~~~~~~~~~~~~~~~~~~~~~~~~~~~~~\n",
        "#  Chapter:      F1.2 Survey of Raster Datasets\n",
        "#  Checkpoint:   F12e\n",
        "#  Authors:      Andréa, Karen, Nick Clinton, David Saah\n",
        "#  ~~~~~~~~~~~~~~~~~~~~~~~~~~~~~~~~~~~~~~~~~~~~~~~~~~~~~~~~~~~~~~~~~~~~~~~\n",
        "\n",
        "##/\n",
        "# Other satellite products\n",
        "##/\n",
        "\n",
        "# Import a Sentinel-5 methane dataset.\n",
        "methane = ee.ImageCollection('COPERNICUS/S5P/OFFL/L3_CH4')\n",
        "\n",
        "# Filter the methane dataset.\n",
        "methane2018 = methane.select(\n",
        "'CH4_column_volume_mixing_ratio_dry_air') \\\n",
        ".filterDate('2018-11-28', '2018-11-29') \\\n",
        ".first()\n",
        "\n",
        "# Make a visualization for the methane data.\n",
        "methaneVis = {\n",
        "    'palette': ['black', 'blue', 'purple', 'cyan', 'green',\n",
        "    'yellow', 'red'\n",
        "    ],\n",
        "    'min': 1770,\n",
        "    'max': 1920\n",
        "}\n",
        "\n",
        "# Center the Map.\n",
        "Map.set_center(0, 0, 3)\n",
        "\n",
        "# Add the methane dataset to the map.\n",
        "Map.addLayer(methane2018, methaneVis, 'Methane')\n",
        "\n",
        "# Import the ERA5 Monthly dataset\n",
        "era5Monthly = ee.ImageCollection('ECMWF/ERA5/MONTHLY')\n",
        "\n",
        "# Filter the dataset\n",
        "era5MonthlyTemp = era5Monthly.select('mean_2m_air_temperature') \\\n",
        ".filterDate('2018-01-01', '2018-01-31') \\\n",
        ".first()\n",
        "\n",
        "# Add the ERA dataset to the map.\n",
        "Map.addLayer(era5MonthlyTemp,\n",
        "{\n",
        "    'palette': ['yellow', 'red'],\n",
        "    'min': 260,\n",
        "    'max': 320\n",
        "},\n",
        "'ERA5 Max Monthly Temp')\n",
        "\n",
        "#  -----------------------------------------------------------------------\n",
        "#  CHECKPOINT\n",
        "#  -----------------------------------------------------------------------"
      ]
    },
    {
      "cell_type": "markdown",
      "metadata": {},
      "source": [
        "## Display the interactive map"
      ]
    },
    {
      "cell_type": "code",
      "execution_count": 7,
      "metadata": {},
      "outputs": [
        {
          "data": {
            "text/html": [
              "\n",
              "            <style>\n",
              "                .geemap-dark {\n",
              "                    --jp-widgets-color: white;\n",
              "                    --jp-widgets-label-color: white;\n",
              "                    --jp-ui-font-color1: white;\n",
              "                    --jp-layout-color2: #454545;\n",
              "                    background-color: #383838;\n",
              "                }\n",
              "                    \n",
              "                .geemap-dark .jupyter-button {\n",
              "                    --jp-layout-color3: #383838;\n",
              "                }\n",
              "                \n",
              "                .geemap-colab {\n",
              "                    background-color: var(--colab-primary-surface-color, white);\n",
              "                }\n",
              "                    \n",
              "                .geemap-colab .jupyter-button {\n",
              "                    --jp-layout-color3: var(--colab-primary-surface-color, white);\n",
              "                }\n",
              "            </style>\n",
              "            "
            ],
            "text/plain": [
              "<IPython.core.display.HTML object>"
            ]
          },
          "metadata": {},
          "output_type": "display_data"
        },
        {
          "data": {
            "application/vnd.jupyter.widget-view+json": {
              "model_id": "41f96de77982486c949b99fe77175dc3",
              "version_major": 2,
              "version_minor": 0
            },
            "text/plain": [
              "Map(bottom=1324.0, center=[0, 0], controls=(WidgetControl(options=['position', 'transparent_bg'], widget=Searc…"
            ]
          },
          "execution_count": 7,
          "metadata": {},
          "output_type": "execute_result"
        }
      ],
      "source": [
        "Map"
      ]
    }
  ],
  "metadata": {
    "anaconda-cloud": {},
    "kernelspec": {
      "display_name": "Python 3",
      "language": "python",
      "name": "python3"
    },
    "language_info": {
      "codemirror_mode": {
        "name": "ipython",
        "version": 3
      },
      "file_extension": ".py",
      "mimetype": "text/x-python",
      "name": "python",
      "nbconvert_exporter": "python",
      "pygments_lexer": "ipython3",
      "version": "3.11.9"
    }
  },
  "nbformat": 4,
  "nbformat_minor": 4
}
