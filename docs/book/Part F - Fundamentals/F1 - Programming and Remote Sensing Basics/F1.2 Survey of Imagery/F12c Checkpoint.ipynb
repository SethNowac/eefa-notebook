{
  "cells": [
    {
      "cell_type": "markdown",
      "metadata": {},
      "source": [
        "## Import libraries"
      ]
    },
    {
      "cell_type": "code",
      "metadata": {},
      "source": [
        "import ee\n",
        "import geemap"
      ],
      "outputs": [],
      "execution_count": null
    },
    {
      "cell_type": "markdown",
      "metadata": {},
      "source": [
        "## Create an interactive map"
      ]
    },
    {
      "cell_type": "code",
      "metadata": {},
      "source": [
        "Map = geemap.Map(center=[40, -100], zoom=4)"
      ],
      "outputs": [],
      "execution_count": null
    },
    {
      "cell_type": "markdown",
      "metadata": {},
      "source": [
        "## Add Earth Engine Python script"
      ]
    },
    {
      "cell_type": "code",
      "metadata": {},
      "source": [
        "# Add Earth Engine dataset\n",
        "image = ee.Image(\"USGS/SRTMGL1_003\")\n",
        "\n",
        "#  ~~~~~~~~~~~~~~~~~~~~~~~~~~~~~~~~~~~~~~~~~~~~~~~~~~~~~~~~~~~~~~~~~~~~~~~\n",
        "#  Chapter:      F1.2 Survey of Raster Datasets\n",
        "#  Checkpoint:   F12c\n",
        "#  Authors:      Andr\u00e9a, Karen, Nick Clinton, David Saah\n",
        "#  ~~~~~~~~~~~~~~~~~~~~~~~~~~~~~~~~~~~~~~~~~~~~~~~~~~~~~~~~~~~~~~~~~~~~~~~\n",
        "\n",
        "##/\n",
        "# Collections of single images - Landsat 8 Surface Reflectance\n",
        "##/\n",
        "\n",
        "# Create and Earth Engine Point object over San Francisco.\n",
        "pointSF = ee.Geometry.Point([-122.44, 37.76])\n",
        "\n",
        "# Import the Landsat 8 Surface Reflectance collection.\n",
        "landsat8SR = ee.ImageCollection('LANDSAT/LC08/C02/T1_L2')\n",
        "\n",
        "# Filter the collection and select the first image.\n",
        "landsat8SRimage = landsat8SR.filterDate('2014-03-18',\n",
        "        '2014-03-19') \\\n",
        "    .filterBounds(pointSF) \\\n",
        "    .first()\n",
        "\n",
        "print('Landsat 8 Surface Reflectance image', landsat8SRimage)\n",
        "\n",
        "# Center map to the first image.\n",
        "Map.centerObject(landsat8SRimage, 8)\n",
        "\n",
        "# Add first image to the map.\n",
        "Map.addLayer(landsat8SRimage,\n",
        "    {\n",
        "        'bands': ['SR_B4', 'SR_B3', 'SR_B2'],\n",
        "        'min': 7000,\n",
        "        'max': 13000\n",
        "    },\n",
        "    'Landsat 8 SR')\n",
        "\n",
        "#  -----------------------------------------------------------------------\n",
        "#  CHECKPOINT\n",
        "#  -----------------------------------------------------------------------"
      ],
      "outputs": [],
      "execution_count": null
    },
    {
      "cell_type": "markdown",
      "metadata": {},
      "source": [
        "## Display the interactive map"
      ]
    },
    {
      "cell_type": "code",
      "metadata": {},
      "source": [
        "Map"
      ],
      "outputs": [],
      "execution_count": null
    }
  ],
  "metadata": {
    "anaconda-cloud": {},
    "kernelspec": {
      "display_name": "Python 3",
      "language": "python",
      "name": "python3"
    },
    "language_info": {
      "codemirror_mode": {
        "name": "ipython",
        "version": 3
      },
      "file_extension": ".py",
      "mimetype": "text/x-python",
      "name": "python",
      "nbconvert_exporter": "python",
      "pygments_lexer": "ipython3",
      "version": "3.6.1"
    }
  },
  "nbformat": 4,
  "nbformat_minor": 4
}