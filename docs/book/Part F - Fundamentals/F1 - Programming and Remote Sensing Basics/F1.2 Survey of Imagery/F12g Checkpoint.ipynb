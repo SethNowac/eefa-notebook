{
  "cells": [
    {
      "cell_type": "markdown",
      "metadata": {},
      "source": [
        "## Import libraries"
      ]
    },
    {
      "cell_type": "code",
      "metadata": {},
      "source": [
        "import ee\n",
        "import geemap"
      ],
      "outputs": [],
      "execution_count": null
    },
    {
      "cell_type": "markdown",
      "metadata": {},
      "source": [
        "## Create an interactive map"
      ]
    },
    {
      "cell_type": "code",
      "metadata": {},
      "source": [
        "Map = geemap.Map(center=[40, -100], zoom=4)"
      ],
      "outputs": [],
      "execution_count": null
    },
    {
      "cell_type": "markdown",
      "metadata": {},
      "source": [
        "## Add Earth Engine Python script"
      ]
    },
    {
      "cell_type": "code",
      "metadata": {},
      "source": [
        "# Add Earth Engine dataset\n",
        "image = ee.Image(\"USGS/SRTMGL1_003\")\n",
        "\n",
        "#  ~~~~~~~~~~~~~~~~~~~~~~~~~~~~~~~~~~~~~~~~~~~~~~~~~~~~~~~~~~~~~~~~~~~~~~~\n",
        "#  Chapter:      F1.2 Survey of Raster Datasets\n",
        "#  Checkpoint:   F12g\n",
        "#  Authors:      Andr\u00e9a, Karen, Nick Clinton, David Saah\n",
        "#  ~~~~~~~~~~~~~~~~~~~~~~~~~~~~~~~~~~~~~~~~~~~~~~~~~~~~~~~~~~~~~~~~~~~~~~~\n",
        "\n",
        "##/\n",
        "# Other datasets\n",
        "##/\n",
        "\n",
        "# Import and filter a gridded population dataset.\n",
        "griddedPopulation = ee.ImageCollection(\n",
        "        'CIESIN/GPWv411/GPW_Population_Count') \\\n",
        "    .first()\n",
        "\n",
        "# Predefined palette.\n",
        "populationPalette = [\n",
        "   'ffffe7',\n",
        "   '86a192',\n",
        "   '509791',\n",
        "   '307296',\n",
        "   '2c4484',\n",
        "   '000066'\n",
        "]\n",
        "\n",
        "# Center the Map.\n",
        "Map.centerObject(griddedPopulation, 3)\n",
        "\n",
        "# Add the population data to the map.\n",
        "Map.addLayer(griddedPopulation,\n",
        "    {\n",
        "        'min': 0,\n",
        "        'max': 1200,\n",
        "        'palette': populationPalette\n",
        "    },\n",
        "    'Gridded Population')\n",
        "\n",
        "# Import the NASA DEM Dataset.\n",
        "nasaDEM = ee.Image('NASA/NASADEM_HGT/001')\n",
        "\n",
        "# Add the elevation layer to the map.\n",
        "Map.addLayer(nasaDEM, {\n",
        "    'bands': ['elevation'],\n",
        "    'min': 0,\n",
        "    'max': 3000\n",
        "}, 'NASA DEM')\n",
        "\n",
        "#  -----------------------------------------------------------------------\n",
        "#  CHECKPOINT\n",
        "#  -----------------------------------------------------------------------"
      ],
      "outputs": [],
      "execution_count": null
    },
    {
      "cell_type": "markdown",
      "metadata": {},
      "source": [
        "## Display the interactive map"
      ]
    },
    {
      "cell_type": "code",
      "metadata": {},
      "source": [
        "Map"
      ],
      "outputs": [],
      "execution_count": null
    }
  ],
  "metadata": {
    "anaconda-cloud": {},
    "kernelspec": {
      "display_name": "Python 3",
      "language": "python",
      "name": "python3"
    },
    "language_info": {
      "codemirror_mode": {
        "name": "ipython",
        "version": 3
      },
      "file_extension": ".py",
      "mimetype": "text/x-python",
      "name": "python",
      "nbconvert_exporter": "python",
      "pygments_lexer": "ipython3",
      "version": "3.6.1"
    }
  },
  "nbformat": 4,
  "nbformat_minor": 4
}