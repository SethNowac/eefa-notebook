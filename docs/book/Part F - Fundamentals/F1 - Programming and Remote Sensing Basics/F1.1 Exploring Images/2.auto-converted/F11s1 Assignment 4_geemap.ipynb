{
  "cells": [
    {
      "cell_type": "markdown",
      "metadata": {},
      "source": [
        "## Import libraries"
      ]
    },
    {
      "cell_type": "code",
      "execution_count": 1,
      "metadata": {},
      "outputs": [],
      "source": [
        "import ee\n",
        "import geemap"
      ]
    },
    {
      "cell_type": "markdown",
      "metadata": {},
      "source": [
        "## Create an interactive map"
      ]
    },
    {
      "cell_type": "code",
      "execution_count": 2,
      "metadata": {},
      "outputs": [
        {
          "data": {
            "text/html": [
              "\n",
              "            <style>\n",
              "                .geemap-dark {\n",
              "                    --jp-widgets-color: white;\n",
              "                    --jp-widgets-label-color: white;\n",
              "                    --jp-ui-font-color1: white;\n",
              "                    --jp-layout-color2: #454545;\n",
              "                    background-color: #383838;\n",
              "                }\n",
              "\n",
              "                .geemap-dark .jupyter-button {\n",
              "                    --jp-layout-color3: #383838;\n",
              "                }\n",
              "\n",
              "                .geemap-colab {\n",
              "                    background-color: var(--colab-primary-surface-color, white);\n",
              "                }\n",
              "\n",
              "                .geemap-colab .jupyter-button {\n",
              "                    --jp-layout-color3: var(--colab-primary-surface-color, white);\n",
              "                }\n",
              "            </style>\n",
              "            "
            ],
            "text/plain": [
              "<IPython.core.display.HTML object>"
            ]
          },
          "metadata": {},
          "output_type": "display_data"
        }
      ],
      "source": [
        "Map = geemap.Map(center=[40, -100], zoom=4)"
      ]
    },
    {
      "cell_type": "markdown",
      "metadata": {},
      "source": [
        "## Add Earth Engine Python script"
      ]
    },
    {
      "cell_type": "code",
      "execution_count": 3,
      "metadata": {},
      "outputs": [
        {
          "data": {
            "text/html": [
              "\n",
              "            <style>\n",
              "                .geemap-dark {\n",
              "                    --jp-widgets-color: white;\n",
              "                    --jp-widgets-label-color: white;\n",
              "                    --jp-ui-font-color1: white;\n",
              "                    --jp-layout-color2: #454545;\n",
              "                    background-color: #383838;\n",
              "                }\n",
              "\n",
              "                .geemap-dark .jupyter-button {\n",
              "                    --jp-layout-color3: #383838;\n",
              "                }\n",
              "\n",
              "                .geemap-colab {\n",
              "                    background-color: var(--colab-primary-surface-color, white);\n",
              "                }\n",
              "\n",
              "                .geemap-colab .jupyter-button {\n",
              "                    --jp-layout-color3: var(--colab-primary-surface-color, white);\n",
              "                }\n",
              "            </style>\n",
              "            "
            ],
            "text/plain": [
              "<IPython.core.display.HTML object>"
            ]
          },
          "metadata": {},
          "output_type": "display_data"
        },
        {
          "name": "stdout",
          "output_type": "stream",
          "text": [
            "{'type': 'Image', 'bands': [{'id': 'SR_B1', 'data_type': {'type': 'PixelType', 'precision': 'int', 'min': 0, 'max': 65535}, 'dimensions': [7791, 6941], 'crs': 'EPSG:32615', 'crs_transform': [30, 0, 653685, 0, -30, 3460215]}, {'id': 'SR_B2', 'data_type': {'type': 'PixelType', 'precision': 'int', 'min': 0, 'max': 65535}, 'dimensions': [7791, 6941], 'crs': 'EPSG:32615', 'crs_transform': [30, 0, 653685, 0, -30, 3460215]}, {'id': 'SR_B3', 'data_type': {'type': 'PixelType', 'precision': 'int', 'min': 0, 'max': 65535}, 'dimensions': [7791, 6941], 'crs': 'EPSG:32615', 'crs_transform': [30, 0, 653685, 0, -30, 3460215]}, {'id': 'SR_B4', 'data_type': {'type': 'PixelType', 'precision': 'int', 'min': 0, 'max': 65535}, 'dimensions': [7791, 6941], 'crs': 'EPSG:32615', 'crs_transform': [30, 0, 653685, 0, -30, 3460215]}, {'id': 'SR_B5', 'data_type': {'type': 'PixelType', 'precision': 'int', 'min': 0, 'max': 65535}, 'dimensions': [7791, 6941], 'crs': 'EPSG:32615', 'crs_transform': [30, 0, 653685, 0, -30, 3460215]}, {'id': 'SR_B7', 'data_type': {'type': 'PixelType', 'precision': 'int', 'min': 0, 'max': 65535}, 'dimensions': [7791, 6941], 'crs': 'EPSG:32615', 'crs_transform': [30, 0, 653685, 0, -30, 3460215]}, {'id': 'SR_ATMOS_OPACITY', 'data_type': {'type': 'PixelType', 'precision': 'int', 'min': -32768, 'max': 32767}, 'dimensions': [7791, 6941], 'crs': 'EPSG:32615', 'crs_transform': [30, 0, 653685, 0, -30, 3460215]}, {'id': 'SR_CLOUD_QA', 'data_type': {'type': 'PixelType', 'precision': 'int', 'min': 0, 'max': 255}, 'dimensions': [7791, 6941], 'crs': 'EPSG:32615', 'crs_transform': [30, 0, 653685, 0, -30, 3460215]}, {'id': 'ST_B6', 'data_type': {'type': 'PixelType', 'precision': 'int', 'min': 0, 'max': 65535}, 'dimensions': [7791, 6941], 'crs': 'EPSG:32615', 'crs_transform': [30, 0, 653685, 0, -30, 3460215]}, {'id': 'ST_ATRAN', 'data_type': {'type': 'PixelType', 'precision': 'int', 'min': -32768, 'max': 32767}, 'dimensions': [7791, 6941], 'crs': 'EPSG:32615', 'crs_transform': [30, 0, 653685, 0, -30, 3460215]}, {'id': 'ST_CDIST', 'data_type': {'type': 'PixelType', 'precision': 'int', 'min': -32768, 'max': 32767}, 'dimensions': [7791, 6941], 'crs': 'EPSG:32615', 'crs_transform': [30, 0, 653685, 0, -30, 3460215]}, {'id': 'ST_DRAD', 'data_type': {'type': 'PixelType', 'precision': 'int', 'min': -32768, 'max': 32767}, 'dimensions': [7791, 6941], 'crs': 'EPSG:32615', 'crs_transform': [30, 0, 653685, 0, -30, 3460215]}, {'id': 'ST_EMIS', 'data_type': {'type': 'PixelType', 'precision': 'int', 'min': -32768, 'max': 32767}, 'dimensions': [7791, 6941], 'crs': 'EPSG:32615', 'crs_transform': [30, 0, 653685, 0, -30, 3460215]}, {'id': 'ST_EMSD', 'data_type': {'type': 'PixelType', 'precision': 'int', 'min': -32768, 'max': 32767}, 'dimensions': [7791, 6941], 'crs': 'EPSG:32615', 'crs_transform': [30, 0, 653685, 0, -30, 3460215]}, {'id': 'ST_QA', 'data_type': {'type': 'PixelType', 'precision': 'int', 'min': -32768, 'max': 32767}, 'dimensions': [7791, 6941], 'crs': 'EPSG:32615', 'crs_transform': [30, 0, 653685, 0, -30, 3460215]}, {'id': 'ST_TRAD', 'data_type': {'type': 'PixelType', 'precision': 'int', 'min': -32768, 'max': 32767}, 'dimensions': [7791, 6941], 'crs': 'EPSG:32615', 'crs_transform': [30, 0, 653685, 0, -30, 3460215]}, {'id': 'ST_URAD', 'data_type': {'type': 'PixelType', 'precision': 'int', 'min': -32768, 'max': 32767}, 'dimensions': [7791, 6941], 'crs': 'EPSG:32615', 'crs_transform': [30, 0, 653685, 0, -30, 3460215]}, {'id': 'QA_PIXEL', 'data_type': {'type': 'PixelType', 'precision': 'int', 'min': 0, 'max': 65535}, 'dimensions': [7791, 6941], 'crs': 'EPSG:32615', 'crs_transform': [30, 0, 653685, 0, -30, 3460215]}, {'id': 'QA_RADSAT', 'data_type': {'type': 'PixelType', 'precision': 'int', 'min': 0, 'max': 65535}, 'dimensions': [7791, 6941], 'crs': 'EPSG:32615', 'crs_transform': [30, 0, 653685, 0, -30, 3460215]}], 'version': 1626871082987927, 'id': 'LANDSAT/LT05/C02/T1_L2/LT05_022039_20050907', 'properties': {'IMAGE_QUALITY': 9, 'WRS_TYPE': 2, 'CORRECTION_GAIN_BAND_2': 'CPF', 'CORRECTION_GAIN_BAND_1': 'CPF', 'TEMPERATURE_ADD_BAND_ST_B6': 149, 'system:footprint': {'type': 'LinearRing', 'coordinates': [[-89.19279774817744, 30.199184154524687], [-89.13171500818993, 30.422654596410396], [-89.10220585056894, 30.530404400579116], [-88.98554545470544, 30.954423920523908], [-88.98545531167044, 30.956576067849035], [-89.01305935154718, 30.962890171049217], [-89.04986279540302, 30.968581852890654], [-89.22610170819082, 30.995529719164423], [-89.75295405998952, 31.074567152364484], [-90.38687639828278, 31.16659623673585], [-90.97239219446601, 31.24867688675915], [-91.17349958403354, 30.458689942523005], [-91.37098227099828, 29.66848111082531], [-91.37370951894005, 29.657039292215664], [-91.35553061831223, 29.65042620082947], [-89.4534571187885, 29.372932234830735], [-89.41811577943069, 29.367540608832282], [-89.40638009346331, 29.410833841215627], [-89.3414974765641, 29.65140922764596], [-89.27443194622766, 29.898899410527758], [-89.24416832967127, 30.01027557719211], [-89.19279774817744, 30.199184154524687]]}, 'REFLECTIVE_SAMPLES': 7791, 'TEMPERATURE_MINIMUM_BAND_ST_B6': 149.003418, 'CORRECTION_GAIN_BAND_7': 'CPF', 'CORRECTION_GAIN_BAND_6': 'INTERNAL_CALIBRATION', 'CORRECTION_GAIN_BAND_5': 'CPF', 'SUN_AZIMUTH': 131.62691129, 'CORRECTION_GAIN_BAND_4': 'CPF', 'CORRECTION_GAIN_BAND_3': 'CPF', 'DATE_ACQUIRED': '2005-09-07', 'ELLIPSOID': 'WGS84', 'SENSOR_MODE': 'BUMPER', 'STATION_ID': 'GNC', 'DATA_SOURCE_REANALYSIS': 'GEOS-5 FP-IT', 'ORIENTATION': 'NORTH_UP', 'WRS_ROW': 39, 'CLOUD_COVER': 3, 'GEOMETRIC_RMSE_VERIFY': 0.165, 'COLLECTION_CATEGORY': 'T1', 'GRID_CELL_SIZE_REFLECTIVE': 30, 'ALGORITHM_SOURCE_SURFACE_TEMPERATURE': 'st_1.3.0', 'CLOUD_COVER_LAND': 4, 'GEOMETRIC_RMSE_MODEL': 4.573, 'COLLECTION_NUMBER': 2, 'DATA_SOURCE_WATER_VAPOR': 'NCEP', 'LANDSAT_SCENE_ID': 'LT50220392005250GNC01', 'WRS_PATH': 22, 'L1_PROCESSING_SOFTWARE_VERSION': 'LPGS_15.3.1c', 'GEOMETRIC_RMSE_MODEL_Y': 3.206, 'REFLECTIVE_LINES': 6941, 'GEOMETRIC_RMSE_MODEL_X': 3.261, 'system:asset_size': 567215779, 'DATA_SOURCE_AIR_TEMPERATURE': 'NCEP', 'system:index': 'LT05_022039_20050907', 'GEOMETRIC_RMSE_VERIFY_QUAD_LL': 0.161, 'DATA_SOURCE_ELEVATION': 'GLS2000', 'SENSOR_ANOMALIES': 'NONE', 'GEOMETRIC_RMSE_VERIFY_QUAD_LR': 0.175, 'REFLECTANCE_ADD_BAND_1': -0.2, 'REFLECTANCE_ADD_BAND_2': -0.2, 'DATUM': 'WGS84', 'REFLECTANCE_ADD_BAND_3': -0.2, 'REFLECTANCE_ADD_BAND_4': -0.2, 'REFLECTANCE_ADD_BAND_5': -0.2, 'REFLECTANCE_ADD_BAND_7': -0.2, 'GROUND_CONTROL_POINTS_VERSION': 5, 'GEOMETRIC_RMSE_VERIFY_QUAD_UL': 0.155, 'CORRECTION_BIAS_BAND_2': 'CPF', 'CORRECTION_BIAS_BAND_1': 'CPF', 'GEOMETRIC_RMSE_VERIFY_QUAD_UR': 0.172, 'CORRECTION_BIAS_BAND_4': 'CPF', 'CORRECTION_BIAS_BAND_3': 'CPF', 'DATA_TYPE_L0RP': 'TMR_L0RP', 'UTM_ZONE': 15, 'system:time_end': 1126110013486, 'DATA_SOURCE_PRESSURE': 'NCEP', 'LANDSAT_PRODUCT_ID': 'LT05_L2SP_022039_20050907_20200901_02_T1', 'REFLECTANCE_MULT_BAND_7': 2.75e-05, 'system:time_start': 1126110013486, 'L1_PROCESSING_LEVEL': 'L1TP', 'PROCESSING_SOFTWARE_VERSION': 'LPGS_15.3.1c', 'L1_DATE_PRODUCT_GENERATED': '2020-09-01T22:25:25Z', 'EPHEMERIS_TYPE': 'DEFINITIVE', 'REFLECTANCE_MULT_BAND_1': 2.75e-05, 'CORRECTION_BIAS_BAND_6': 'CPF', 'REFLECTANCE_MULT_BAND_3': 2.75e-05, 'CORRECTION_BIAS_BAND_5': 'CPF', 'REFLECTANCE_MULT_BAND_2': 2.75e-05, 'REFLECTANCE_MULT_BAND_5': 2.75e-05, 'CORRECTION_BIAS_BAND_7': 'CPF', 'REFLECTANCE_MULT_BAND_4': 2.75e-05, 'THERMAL_LINES': 6941, 'GRID_CELL_SIZE_THERMAL': 30, 'REQUEST_ID': 'L2', 'EARTH_SUN_DISTANCE': 1.0075994, 'TEMPERATURE_MAXIMUM_BAND_ST_B6': 372.999941, 'SCENE_CENTER_TIME': '16:20:13.4860560Z', 'SUN_ELEVATION': 56.32159292, 'DATE_PRODUCT_GENERATED': 1598999965000, 'L1_REQUEST_ID': 'L2', 'DATA_SOURCE_OZONE': 'TOMS', 'SATURATION_BAND_1': 'Y', 'SENSOR_MODE_SLC': 'ON', 'SATURATION_BAND_2': 'Y', 'SATURATION_BAND_3': 'Y', 'SATURATION_BAND_4': 'Y', 'SATURATION_BAND_5': 'Y', 'MAP_PROJECTION': 'UTM', 'SATURATION_BAND_6': 'N', 'SENSOR_ID': 'TM', 'SATURATION_BAND_7': 'Y', 'TEMPERATURE_MULT_BAND_ST_B6': 0.00341802, 'L1_LANDSAT_PRODUCT_ID': 'LT05_L1TP_022039_20050907_20200901_02_T1', 'PROCESSING_LEVEL': 'L2SP', 'ALGORITHM_SOURCE_SURFACE_REFLECTANCE': 'LEDAPS_3.4.0', 'GROUND_CONTROL_POINTS_MODEL': 677, 'SPACECRAFT_ID': 'LANDSAT_5', 'THERMAL_SAMPLES': 7791, 'GROUND_CONTROL_POINTS_VERIFY': 1861}}\n"
          ]
        }
      ],
      "source": [
        "# Add Earth Engine dataset\n",
        "image = ee.Image(\"USGS/SRTMGL1_003\")\n",
        "\n",
        "#  ~~~~~~~~~~~~~~~~~~~~~~~~~~~~~~~~~~~~~~~~~~~~~~~~~~~~~~~~~~~~~~~~~~~~~~~\n",
        "#  Chapter:      F1.1 Exploring images\n",
        "#  Section:      Practice problem (Assignment 4)\n",
        "#  Author:       Jeff Howarth\n",
        "#  ~~~~~~~~~~~~~~~~~~~~~~~~~~~~~~~~~~~~~~~~~~~~~~~~~~~~~~~~~~~~~~~~~~~~~~~\n",
        "\n",
        "# Load the practice image from the Earth Engine ID.\n",
        "practice_image = ee.Image(\n",
        "'LANDSAT/LT05/C02/T1_L2/LT05_022039_20050907')\n",
        "\n",
        "# Print image metadata to the Console.\n",
        "print(practice_image.getInfo())\n",
        "\n",
        "# Center the Map on the image.\n",
        "Map.centerObject(practice_image, 9)\n",
        "\n",
        "# Add a natural color composite to the Map.\n",
        "Map.addLayer(\n",
        "practice_image,\n",
        "{\n",
        "    'bands': ['SR_B3', 'SR_B2', 'SR_B1'],\n",
        "    'min': 8000,\n",
        "    'max': 17000\n",
        "},\n",
        "'Natural color'\n",
        ")\n",
        "\n",
        "# Add an NIR False color composite to the Map.\n",
        "Map.addLayer(\n",
        "practice_image,\n",
        "{\n",
        "    'bands': ['SR_B4', 'SR_B3', 'SR_B2'],\n",
        "    'min': 8000,\n",
        "    'max': 17000\n",
        "},\n",
        "'NIR False color'\n",
        ")\n",
        "\n",
        "# Add a SWIR False color composite to the Map.\n",
        "Map.addLayer(\n",
        "practice_image,\n",
        "{\n",
        "    'bands': ['SR_B5', 'SR_B4', 'SR_B2'],\n",
        "    'min': 8000,\n",
        "    'max': 17000\n",
        "},\n",
        "'SWIR False color'\n",
        ")"
      ]
    },
    {
      "cell_type": "markdown",
      "metadata": {},
      "source": [
        "## Display the interactive map"
      ]
    },
    {
      "cell_type": "code",
      "execution_count": 4,
      "metadata": {},
      "outputs": [
        {
          "data": {
            "text/html": [
              "\n",
              "            <style>\n",
              "                .geemap-dark {\n",
              "                    --jp-widgets-color: white;\n",
              "                    --jp-widgets-label-color: white;\n",
              "                    --jp-ui-font-color1: white;\n",
              "                    --jp-layout-color2: #454545;\n",
              "                    background-color: #383838;\n",
              "                }\n",
              "\n",
              "                .geemap-dark .jupyter-button {\n",
              "                    --jp-layout-color3: #383838;\n",
              "                }\n",
              "\n",
              "                .geemap-colab {\n",
              "                    background-color: var(--colab-primary-surface-color, white);\n",
              "                }\n",
              "\n",
              "                .geemap-colab .jupyter-button {\n",
              "                    --jp-layout-color3: var(--colab-primary-surface-color, white);\n",
              "                }\n",
              "            </style>\n",
              "            "
            ],
            "text/plain": [
              "<IPython.core.display.HTML object>"
            ]
          },
          "metadata": {},
          "output_type": "display_data"
        },
        {
          "data": {
            "application/vnd.jupyter.widget-view+json": {
              "model_id": "a028270d17ac4aa5b881e6f6dc3204f4",
              "version_major": 2,
              "version_minor": 0
            },
            "text/plain": [
              "Map(center=[30.310781190645113, -90.18740473258798], controls=(WidgetControl(options=['position', 'transparent…"
            ]
          },
          "execution_count": 4,
          "metadata": {},
          "output_type": "execute_result"
        }
      ],
      "source": [
        "Map"
      ]
    }
  ],
  "metadata": {
    "anaconda-cloud": {},
    "kernelspec": {
      "display_name": "Python 3",
      "language": "python",
      "name": "python3"
    },
    "language_info": {
      "codemirror_mode": {
        "name": "ipython",
        "version": 3
      },
      "file_extension": ".py",
      "mimetype": "text/x-python",
      "name": "python",
      "nbconvert_exporter": "python",
      "pygments_lexer": "ipython3",
      "version": "3.11.9"
    }
  },
  "nbformat": 4,
  "nbformat_minor": 4
}
