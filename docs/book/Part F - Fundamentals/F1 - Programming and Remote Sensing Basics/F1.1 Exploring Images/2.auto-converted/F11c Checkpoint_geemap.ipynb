{
  "cells": [
    {
      "cell_type": "markdown",
      "metadata": {},
      "source": [
        "## Import libraries"
      ]
    },
    {
      "cell_type": "code",
      "execution_count": 1,
      "metadata": {},
      "outputs": [],
      "source": [
        "import ee\n",
        "import geemap"
      ]
    },
    {
      "cell_type": "markdown",
      "metadata": {},
      "source": [
        "## Create an interactive map"
      ]
    },
    {
      "cell_type": "code",
      "execution_count": 2,
      "metadata": {},
      "outputs": [
        {
          "data": {
            "text/html": [
              "\n",
              "            <style>\n",
              "                .geemap-dark {\n",
              "                    --jp-widgets-color: white;\n",
              "                    --jp-widgets-label-color: white;\n",
              "                    --jp-ui-font-color1: white;\n",
              "                    --jp-layout-color2: #454545;\n",
              "                    background-color: #383838;\n",
              "                }\n",
              "                    \n",
              "                .geemap-dark .jupyter-button {\n",
              "                    --jp-layout-color3: #383838;\n",
              "                }\n",
              "                \n",
              "                .geemap-colab {\n",
              "                    background-color: var(--colab-primary-surface-color, white);\n",
              "                }\n",
              "                    \n",
              "                .geemap-colab .jupyter-button {\n",
              "                    --jp-layout-color3: var(--colab-primary-surface-color, white);\n",
              "                }\n",
              "            </style>\n",
              "            "
            ],
            "text/plain": [
              "<IPython.core.display.HTML object>"
            ]
          },
          "metadata": {},
          "output_type": "display_data"
        }
      ],
      "source": [
        "Map = geemap.Map(center=[40, -100], zoom=4)"
      ]
    },
    {
      "cell_type": "markdown",
      "metadata": {},
      "source": [
        "## Add Earth Engine Python script"
      ]
    },
    {
      "cell_type": "code",
      "execution_count": 3,
      "metadata": {},
      "outputs": [
        {
          "data": {
            "text/html": [
              "\n",
              "            <style>\n",
              "                .geemap-dark {\n",
              "                    --jp-widgets-color: white;\n",
              "                    --jp-widgets-label-color: white;\n",
              "                    --jp-ui-font-color1: white;\n",
              "                    --jp-layout-color2: #454545;\n",
              "                    background-color: #383838;\n",
              "                }\n",
              "                    \n",
              "                .geemap-dark .jupyter-button {\n",
              "                    --jp-layout-color3: #383838;\n",
              "                }\n",
              "                \n",
              "                .geemap-colab {\n",
              "                    background-color: var(--colab-primary-surface-color, white);\n",
              "                }\n",
              "                    \n",
              "                .geemap-colab .jupyter-button {\n",
              "                    --jp-layout-color3: var(--colab-primary-surface-color, white);\n",
              "                }\n",
              "            </style>\n",
              "            "
            ],
            "text/plain": [
              "<IPython.core.display.HTML object>"
            ]
          },
          "metadata": {},
          "output_type": "display_data"
        },
        {
          "name": "stdout",
          "output_type": "stream",
          "text": [
            "{'type': 'Image', 'bands': [{'id': 'SR_B1', 'data_type': {'type': 'PixelType', 'precision': 'int', 'min': 0, 'max': 65535}, 'dimensions': [7891, 7201], 'crs': 'EPSG:32651', 'crs_transform': [30, 0, 277185, 0, -30, 3621315]}, {'id': 'SR_B2', 'data_type': {'type': 'PixelType', 'precision': 'int', 'min': 0, 'max': 65535}, 'dimensions': [7891, 7201], 'crs': 'EPSG:32651', 'crs_transform': [30, 0, 277185, 0, -30, 3621315]}, {'id': 'SR_B3', 'data_type': {'type': 'PixelType', 'precision': 'int', 'min': 0, 'max': 65535}, 'dimensions': [7891, 7201], 'crs': 'EPSG:32651', 'crs_transform': [30, 0, 277185, 0, -30, 3621315]}, {'id': 'SR_B4', 'data_type': {'type': 'PixelType', 'precision': 'int', 'min': 0, 'max': 65535}, 'dimensions': [7891, 7201], 'crs': 'EPSG:32651', 'crs_transform': [30, 0, 277185, 0, -30, 3621315]}, {'id': 'SR_B5', 'data_type': {'type': 'PixelType', 'precision': 'int', 'min': 0, 'max': 65535}, 'dimensions': [7891, 7201], 'crs': 'EPSG:32651', 'crs_transform': [30, 0, 277185, 0, -30, 3621315]}, {'id': 'SR_B7', 'data_type': {'type': 'PixelType', 'precision': 'int', 'min': 0, 'max': 65535}, 'dimensions': [7891, 7201], 'crs': 'EPSG:32651', 'crs_transform': [30, 0, 277185, 0, -30, 3621315]}, {'id': 'SR_ATMOS_OPACITY', 'data_type': {'type': 'PixelType', 'precision': 'int', 'min': -32768, 'max': 32767}, 'dimensions': [7891, 7201], 'crs': 'EPSG:32651', 'crs_transform': [30, 0, 277185, 0, -30, 3621315]}, {'id': 'SR_CLOUD_QA', 'data_type': {'type': 'PixelType', 'precision': 'int', 'min': 0, 'max': 255}, 'dimensions': [7891, 7201], 'crs': 'EPSG:32651', 'crs_transform': [30, 0, 277185, 0, -30, 3621315]}, {'id': 'ST_B6', 'data_type': {'type': 'PixelType', 'precision': 'int', 'min': 0, 'max': 65535}, 'dimensions': [7891, 7201], 'crs': 'EPSG:32651', 'crs_transform': [30, 0, 277185, 0, -30, 3621315]}, {'id': 'ST_ATRAN', 'data_type': {'type': 'PixelType', 'precision': 'int', 'min': -32768, 'max': 32767}, 'dimensions': [7891, 7201], 'crs': 'EPSG:32651', 'crs_transform': [30, 0, 277185, 0, -30, 3621315]}, {'id': 'ST_CDIST', 'data_type': {'type': 'PixelType', 'precision': 'int', 'min': -32768, 'max': 32767}, 'dimensions': [7891, 7201], 'crs': 'EPSG:32651', 'crs_transform': [30, 0, 277185, 0, -30, 3621315]}, {'id': 'ST_DRAD', 'data_type': {'type': 'PixelType', 'precision': 'int', 'min': -32768, 'max': 32767}, 'dimensions': [7891, 7201], 'crs': 'EPSG:32651', 'crs_transform': [30, 0, 277185, 0, -30, 3621315]}, {'id': 'ST_EMIS', 'data_type': {'type': 'PixelType', 'precision': 'int', 'min': -32768, 'max': 32767}, 'dimensions': [7891, 7201], 'crs': 'EPSG:32651', 'crs_transform': [30, 0, 277185, 0, -30, 3621315]}, {'id': 'ST_EMSD', 'data_type': {'type': 'PixelType', 'precision': 'int', 'min': -32768, 'max': 32767}, 'dimensions': [7891, 7201], 'crs': 'EPSG:32651', 'crs_transform': [30, 0, 277185, 0, -30, 3621315]}, {'id': 'ST_QA', 'data_type': {'type': 'PixelType', 'precision': 'int', 'min': -32768, 'max': 32767}, 'dimensions': [7891, 7201], 'crs': 'EPSG:32651', 'crs_transform': [30, 0, 277185, 0, -30, 3621315]}, {'id': 'ST_TRAD', 'data_type': {'type': 'PixelType', 'precision': 'int', 'min': -32768, 'max': 32767}, 'dimensions': [7891, 7201], 'crs': 'EPSG:32651', 'crs_transform': [30, 0, 277185, 0, -30, 3621315]}, {'id': 'ST_URAD', 'data_type': {'type': 'PixelType', 'precision': 'int', 'min': -32768, 'max': 32767}, 'dimensions': [7891, 7201], 'crs': 'EPSG:32651', 'crs_transform': [30, 0, 277185, 0, -30, 3621315]}, {'id': 'QA_PIXEL', 'data_type': {'type': 'PixelType', 'precision': 'int', 'min': 0, 'max': 65535}, 'dimensions': [7891, 7201], 'crs': 'EPSG:32651', 'crs_transform': [30, 0, 277185, 0, -30, 3621315]}, {'id': 'QA_RADSAT', 'data_type': {'type': 'PixelType', 'precision': 'int', 'min': 0, 'max': 65535}, 'dimensions': [7891, 7201], 'crs': 'EPSG:32651', 'crs_transform': [30, 0, 277185, 0, -30, 3621315]}], 'version': 1627477178987932, 'id': 'LANDSAT/LT05/C02/T1_L2/LT05_118038_20000606', 'properties': {'IMAGE_QUALITY': 7, 'WRS_TYPE': 2, 'CORRECTION_GAIN_BAND_2': 'CPF', 'CORRECTION_GAIN_BAND_1': 'CPF', 'TEMPERATURE_ADD_BAND_ST_B6': 149, 'system:footprint': {'type': 'LinearRing', 'coordinates': [[122.10102349580347, 30.880329480753456], [122.62920018480902, 30.80003792274349], [122.64753370094657, 30.865578159892067], [122.65837853461849, 30.90458830449739], [122.77699096414922, 31.331726780787406], [122.94820109287777, 31.941999897030602], [123.06913927954267, 32.36907499288081], [123.08194590033794, 32.4161038806571], [123.08194864769858, 32.41918471046267], [122.23539737005012, 32.547068447194015], [121.14268341862775, 32.7031727526808], [121.13667844501872, 32.701665984617364], [121.108772307918, 32.59638552771262], [120.91838147233626, 31.866225146382586], [120.73065433263415, 31.135829918378956], [120.72665799239648, 31.118709099830248], [120.71858817855653, 31.08321539531196], [120.71951451672717, 31.079615423640295], [121.20766884372175, 31.01095927617699], [122.10102349580347, 30.880329480753456]]}, 'REFLECTIVE_SAMPLES': 7891, 'TEMPERATURE_MINIMUM_BAND_ST_B6': 149.003418, 'CORRECTION_GAIN_BAND_7': 'CPF', 'CORRECTION_GAIN_BAND_6': 'INTERNAL_CALIBRATION', 'CORRECTION_GAIN_BAND_5': 'CPF', 'SUN_AZIMUTH': 103.60658315, 'CORRECTION_GAIN_BAND_4': 'CPF', 'CORRECTION_GAIN_BAND_3': 'CPF', 'DATE_ACQUIRED': '2000-06-06', 'ELLIPSOID': 'WGS84', 'SENSOR_MODE': 'SAM', 'STATION_ID': 'BJC', 'DATA_SOURCE_REANALYSIS': 'GEOS-5 FP-IT', 'ORIENTATION': 'NORTH_UP', 'WRS_ROW': 38, 'CLOUD_COVER': 3, 'GEOMETRIC_RMSE_VERIFY': 0.127, 'COLLECTION_CATEGORY': 'T1', 'GRID_CELL_SIZE_REFLECTIVE': 30, 'ALGORITHM_SOURCE_SURFACE_TEMPERATURE': 'st_1.3.0', 'CLOUD_COVER_LAND': 0, 'GEOMETRIC_RMSE_MODEL': 4.6, 'COLLECTION_NUMBER': 2, 'DATA_SOURCE_WATER_VAPOR': 'NCEP', 'LANDSAT_SCENE_ID': 'LT51180382000158BJC02', 'WRS_PATH': 118, 'L1_PROCESSING_SOFTWARE_VERSION': 'LPGS_15.3.1c', 'GEOMETRIC_RMSE_MODEL_Y': 3.25, 'REFLECTIVE_LINES': 7201, 'GEOMETRIC_RMSE_MODEL_X': 3.256, 'system:asset_size': 399498836, 'DATA_SOURCE_AIR_TEMPERATURE': 'NCEP', 'system:index': 'LT05_118038_20000606', 'GEOMETRIC_RMSE_VERIFY_QUAD_LL': 0.129, 'DATA_SOURCE_ELEVATION': 'GLS2000', 'SENSOR_ANOMALIES': 'NONE', 'GEOMETRIC_RMSE_VERIFY_QUAD_LR': 0.144, 'REFLECTANCE_ADD_BAND_1': -0.2, 'REFLECTANCE_ADD_BAND_2': -0.2, 'DATUM': 'WGS84', 'REFLECTANCE_ADD_BAND_3': -0.2, 'REFLECTANCE_ADD_BAND_4': -0.2, 'REFLECTANCE_ADD_BAND_5': -0.2, 'REFLECTANCE_ADD_BAND_7': -0.2, 'GROUND_CONTROL_POINTS_VERSION': 5, 'GEOMETRIC_RMSE_VERIFY_QUAD_UL': 0.121, 'CORRECTION_BIAS_BAND_2': 'CPF', 'CORRECTION_BIAS_BAND_1': 'CPF', 'GEOMETRIC_RMSE_VERIFY_QUAD_UR': 0.122, 'CORRECTION_BIAS_BAND_4': 'CPF', 'CORRECTION_BIAS_BAND_3': 'CPF', 'DATA_TYPE_L0RP': 'TMR_L0RP', 'UTM_ZONE': 51, 'system:time_end': 960256870020, 'DATA_SOURCE_PRESSURE': 'NCEP', 'LANDSAT_PRODUCT_ID': 'LT05_L2SP_118038_20000606_20200907_02_T1', 'REFLECTANCE_MULT_BAND_7': 2.75e-05, 'system:time_start': 960256870020, 'L1_PROCESSING_LEVEL': 'L1TP', 'PROCESSING_SOFTWARE_VERSION': 'LPGS_15.3.1c', 'L1_DATE_PRODUCT_GENERATED': '2020-09-07T06:12:14Z', 'EPHEMERIS_TYPE': 'DEFINITIVE', 'REFLECTANCE_MULT_BAND_1': 2.75e-05, 'CORRECTION_BIAS_BAND_6': 'CPF', 'REFLECTANCE_MULT_BAND_3': 2.75e-05, 'CORRECTION_BIAS_BAND_5': 'CPF', 'REFLECTANCE_MULT_BAND_2': 2.75e-05, 'REFLECTANCE_MULT_BAND_5': 2.75e-05, 'CORRECTION_BIAS_BAND_7': 'CPF', 'REFLECTANCE_MULT_BAND_4': 2.75e-05, 'THERMAL_LINES': 7201, 'GRID_CELL_SIZE_THERMAL': 30, 'REQUEST_ID': 'L2', 'EARTH_SUN_DISTANCE': 1.0147937, 'TEMPERATURE_MAXIMUM_BAND_ST_B6': 372.999941, 'SCENE_CENTER_TIME': '02:01:10.0200880Z', 'SUN_ELEVATION': 64.01610646, 'DATE_PRODUCT_GENERATED': 1599460877000, 'L1_REQUEST_ID': 'L2', 'DATA_SOURCE_OZONE': 'TOMS', 'SATURATION_BAND_1': 'Y', 'SENSOR_MODE_SLC': 'ON', 'SATURATION_BAND_2': 'Y', 'SATURATION_BAND_3': 'Y', 'SATURATION_BAND_4': 'Y', 'SATURATION_BAND_5': 'Y', 'MAP_PROJECTION': 'UTM', 'SATURATION_BAND_6': 'N', 'SENSOR_ID': 'TM', 'SATURATION_BAND_7': 'Y', 'TEMPERATURE_MULT_BAND_ST_B6': 0.00341802, 'L1_LANDSAT_PRODUCT_ID': 'LT05_L1TP_118038_20000606_20200907_02_T1', 'PROCESSING_LEVEL': 'L2SP', 'ALGORITHM_SOURCE_SURFACE_REFLECTANCE': 'LEDAPS_3.4.0', 'GROUND_CONTROL_POINTS_MODEL': 317, 'SPACECRAFT_ID': 'LANDSAT_5', 'THERMAL_SAMPLES': 7891, 'GROUND_CONTROL_POINTS_VERIFY': 687}}\n",
            "Nighttime lights {'type': 'Image', 'bands': [{'id': 'avg_vis', 'data_type': {'type': 'PixelType', 'precision': 'int', 'min': 0, 'max': 255}, 'dimensions': [43201, 16801], 'crs': 'EPSG:4326', 'crs_transform': [0.0083333333, 0, -180.00416666665, 0, -0.0083333333, 75.00416666665]}, {'id': 'stable_lights', 'data_type': {'type': 'PixelType', 'precision': 'int', 'min': 0, 'max': 255}, 'dimensions': [43201, 16801], 'crs': 'EPSG:4326', 'crs_transform': [0.0083333333, 0, -180.00416666665, 0, -0.0083333333, 75.00416666665]}, {'id': 'cf_cvg', 'data_type': {'type': 'PixelType', 'precision': 'int', 'min': 0, 'max': 255}, 'dimensions': [43201, 16801], 'crs': 'EPSG:4326', 'crs_transform': [0.0083333333, 0, -180.00416666665, 0, -0.0083333333, 75.00416666665]}, {'id': 'avg_lights_x_pct', 'data_type': {'type': 'PixelType', 'precision': 'float'}, 'dimensions': [43201, 16801], 'crs': 'EPSG:4326', 'crs_transform': [0.0083333333, 0, -180.00416666665, 0, -0.0083333333, 75.00416666665]}], 'version': 1504844053024755, 'id': 'NOAA/DMSP-OLS/NIGHTTIME_LIGHTS/F101993', 'properties': {'system:time_start': 725846400000, 'system:time_end': 757382400000, 'system:asset_size': 1319322367, 'system:index': 'F101993'}}\n",
            "change image {'type': 'Image', 'bands': [{'id': '2013', 'data_type': {'type': 'PixelType', 'precision': 'int', 'min': 0, 'max': 255}, 'dimensions': [43201, 16801], 'crs': 'EPSG:4326', 'crs_transform': [0.0083333333, 0, -180.00416666665, 0, -0.0083333333, 75.00416666665]}, {'id': '2003', 'data_type': {'type': 'PixelType', 'precision': 'int', 'min': 0, 'max': 255}, 'dimensions': [43201, 16801], 'crs': 'EPSG:4326', 'crs_transform': [0.0083333333, 0, -180.00416666665, 0, -0.0083333333, 75.00416666665]}, {'id': '1993', 'data_type': {'type': 'PixelType', 'precision': 'int', 'min': 0, 'max': 255}, 'dimensions': [43201, 16801], 'crs': 'EPSG:4326', 'crs_transform': [0.0083333333, 0, -180.00416666665, 0, -0.0083333333, 75.00416666665]}], 'version': 1504844073441627, 'id': 'NOAA/DMSP-OLS/NIGHTTIME_LIGHTS/F182013', 'properties': {'system:time_start': 1356998400000, 'system:time_end': 1388534400000, 'system:asset_size': 653327723, 'system:index': 'F182013'}}\n"
          ]
        }
      ],
      "source": [
        "# Add Earth Engine dataset\n",
        "image = ee.Image(\"USGS/SRTMGL1_003\")\n",
        "\n",
        "#  ~~~~~~~~~~~~~~~~~~~~~~~~~~~~~~~~~~~~~~~~~~~~~~~~~~~~~~~~~~~~~~~~~~~~~~~\n",
        "#  Chapter:      F1.1 Exploring images\n",
        "#  Checkpoint:   F11c\n",
        "#  Author:       Jeff Howarth\n",
        "#  ~~~~~~~~~~~~~~~~~~~~~~~~~~~~~~~~~~~~~~~~~~~~~~~~~~~~~~~~~~~~~~~~~~~~~~~\n",
        "\n",
        "# Load an image from its Earth Engine ID.\n",
        "first_image = ee.Image(\n",
        "'LANDSAT/LT05/C02/T1_L2/LT05_118038_20000606')\n",
        "\n",
        "# Inspect the image object in the Console.\n",
        "print(first_image.getInfo())\n",
        "\n",
        "# Display band 1 of the image as the first map layer.\n",
        "Map.addLayer(\n",
        "first_image, \n",
        "{\n",
        "    'bands': ['SR_B1'], \n",
        "    'min': 8000, \n",
        "    'max': 17000\n",
        "},\n",
        "'Layer 1' \n",
        ")\n",
        "\n",
        "# Display band 2 as the second map layer.\n",
        "Map.addLayer(\n",
        "first_image,\n",
        "{\n",
        "    'bands': ['SR_B2'],\n",
        "    'min': 8000,\n",
        "    'max': 17000\n",
        "},\n",
        "'Layer 2',\n",
        "0, \n",
        "1 \n",
        ")\n",
        "\n",
        "# Display band 3 as the third map layer.\n",
        "Map.addLayer(\n",
        "first_image,\n",
        "{\n",
        "    'bands': ['SR_B3'],\n",
        "    'min': 8000,\n",
        "    'max': 17000\n",
        "},\n",
        "'Layer 3',\n",
        "1, \n",
        "0 \n",
        ")\n",
        "\n",
        "#  -----------------------------------------------------------------------\n",
        "#  CHECKPOINT\n",
        "#  -----------------------------------------------------------------------\n",
        "\n",
        "# Add a natural color layer by using the first three sensor bands for RGB.\n",
        "Map.addLayer(\n",
        "first_image,\n",
        "{\n",
        "    'bands': ['SR_B3', 'SR_B2', 'SR_B1'],\n",
        "    'min': 8000,\n",
        "    'max': 17000\n",
        "},\n",
        "'Natural Color')\n",
        "\n",
        "# Add a NIR False-color layer using NIR, red, green sensor bands for RGB.\n",
        "Map.addLayer(\n",
        "first_image,\n",
        "{\n",
        "    'bands': ['SR_B4', 'SR_B3', 'SR_B2'],\n",
        "    'min': 8000,\n",
        "    'max': 17000\n",
        "},\n",
        "'False Color')\n",
        "\n",
        "# Add a SWIR False-color layer using SWIR, NIR, green sensor bands for RGB.\n",
        "Map.addLayer(\n",
        "first_image,\n",
        "{\n",
        "    'bands': ['SR_B5', 'SR_B4', 'SR_B2'],\n",
        "    'min': 8000,\n",
        "    'max': 17000\n",
        "},\n",
        "'Short wave False color')\n",
        "\n",
        "#  -----------------------------------------------------------------------\n",
        "#  CHECKPOINT\n",
        "#  -----------------------------------------------------------------------\n",
        "\n",
        "# Load a 1993 nighttime lights dataset from its Earth Engine ID.\n",
        "lights93 = ee.Image('NOAA/DMSP-OLS/NIGHTTIME_LIGHTS/F101993')\n",
        "\n",
        "# Print image metadata to the Console.\n",
        "print('Nighttime lights', lights93.getInfo())\n",
        "\n",
        "# Display the 'stable_lights' band as a map layer.\n",
        "Map.addLayer(\n",
        "lights93,\n",
        "{\n",
        "    'bands': ['stable_lights'],\n",
        "    'min': 0,\n",
        "    'max': 63\n",
        "},\n",
        "'Lights')\n",
        "\n",
        "# Construct an image of stable lights for 2003.\n",
        "lights03 = ee.Image('NOAA/DMSP-OLS/NIGHTTIME_LIGHTS/F152003') \\\n",
        ".select('stable_lights').rename('2003')\n",
        "\n",
        "# Construct an image of stable lights for 2013.\n",
        "lights13 = ee.Image('NOAA/DMSP-OLS/NIGHTTIME_LIGHTS/F182013') \\\n",
        ".select('stable_lights').rename('2013')\n",
        "\n",
        "# Construct an image with three bands,\n",
        "# where each band represents stable lights for one year.\n",
        "\n",
        "changeImage = lights13.addBands(lights03) \\\n",
        ".addBands(lights93.select('stable_lights').rename('1993'))\n",
        "\n",
        "# Print image metadata to the Console.\n",
        "print('change image', changeImage.getInfo())\n",
        "\n",
        "# Add an RGB composite layer to the Map.\n",
        "Map.addLayer(\n",
        "changeImage,\n",
        "{\n",
        "    'min': 0,\n",
        "    'max': 63\n",
        "},\n",
        "'Change composite')\n",
        "\n",
        "#  -----------------------------------------------------------------------\n",
        "#  CHECKPOINT\n",
        "#  -----------------------------------------------------------------------"
      ]
    },
    {
      "cell_type": "markdown",
      "metadata": {},
      "source": [
        "## Display the interactive map"
      ]
    },
    {
      "cell_type": "code",
      "execution_count": 7,
      "metadata": {},
      "outputs": [
        {
          "data": {
            "text/html": [
              "\n",
              "            <style>\n",
              "                .geemap-dark {\n",
              "                    --jp-widgets-color: white;\n",
              "                    --jp-widgets-label-color: white;\n",
              "                    --jp-ui-font-color1: white;\n",
              "                    --jp-layout-color2: #454545;\n",
              "                    background-color: #383838;\n",
              "                }\n",
              "                    \n",
              "                .geemap-dark .jupyter-button {\n",
              "                    --jp-layout-color3: #383838;\n",
              "                }\n",
              "                \n",
              "                .geemap-colab {\n",
              "                    background-color: var(--colab-primary-surface-color, white);\n",
              "                }\n",
              "                    \n",
              "                .geemap-colab .jupyter-button {\n",
              "                    --jp-layout-color3: var(--colab-primary-surface-color, white);\n",
              "                }\n",
              "            </style>\n",
              "            "
            ],
            "text/plain": [
              "<IPython.core.display.HTML object>"
            ]
          },
          "metadata": {},
          "output_type": "display_data"
        },
        {
          "data": {
            "application/vnd.jupyter.widget-view+json": {
              "model_id": "db7bcd644add415b90e75bf640fab6e2",
              "version_major": 2,
              "version_minor": 0
            },
            "text/plain": [
              "Map(bottom=3422.0, center=[39.30029918615029, -102.10693359375001], controls=(WidgetControl(options=['position…"
            ]
          },
          "execution_count": 7,
          "metadata": {},
          "output_type": "execute_result"
        }
      ],
      "source": [
        "Map"
      ]
    }
  ],
  "metadata": {
    "anaconda-cloud": {},
    "kernelspec": {
      "display_name": "Python 3",
      "language": "python",
      "name": "python3"
    },
    "language_info": {
      "codemirror_mode": {
        "name": "ipython",
        "version": 3
      },
      "file_extension": ".py",
      "mimetype": "text/x-python",
      "name": "python",
      "nbconvert_exporter": "python",
      "pygments_lexer": "ipython3",
      "version": "3.11.9"
    }
  },
  "nbformat": 4,
  "nbformat_minor": 4
}
