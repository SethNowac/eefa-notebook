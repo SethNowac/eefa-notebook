{
  "cells": [
    {
      "cell_type": "markdown",
      "metadata": {},
      "source": [
        "## Import libraries"
      ]
    },
    {
      "cell_type": "code",
      "metadata": {},
      "source": [
        "import ee\n",
        "import geemap"
      ],
      "outputs": [],
      "execution_count": null
    },
    {
      "cell_type": "markdown",
      "metadata": {},
      "source": [
        "## Create an interactive map"
      ]
    },
    {
      "cell_type": "code",
      "metadata": {},
      "source": [
        "Map = geemap.Map(center=[40, -100], zoom=4)"
      ],
      "outputs": [],
      "execution_count": null
    },
    {
      "cell_type": "markdown",
      "metadata": {},
      "source": [
        "## Add Earth Engine Python script"
      ]
    },
    {
      "cell_type": "code",
      "metadata": {},
      "source": [
        "# Add Earth Engine dataset\n",
        "image = ee.Image(\"USGS/SRTMGL1_003\")\n",
        "\n",
        "#  ~~~~~~~~~~~~~~~~~~~~~~~~~~~~~~~~~~~~~~~~~~~~~~~~~~~~~~~~~~~~~~~~~~~~~~~\n",
        "#  Chapter:      F1.1 Exploring images\n",
        "#  Section:      Practice problem (Assignment 4)\n",
        "#  Author:       Jeff Howarth\n",
        "#  ~~~~~~~~~~~~~~~~~~~~~~~~~~~~~~~~~~~~~~~~~~~~~~~~~~~~~~~~~~~~~~~~~~~~~~~\n",
        "\n",
        "# Load the practice image from the Earth Engine ID.\n",
        "practice_image = ee.Image(\n",
        "    'LANDSAT/LT05/C02/T1_L2/LT05_022039_20050907')\n",
        "\n",
        "# Print image metadata to the Console.\n",
        "print(practice_image)\n",
        "\n",
        "# Center the Map on the image.\n",
        "Map.centerObject(practice_image, 9)\n",
        "\n",
        "# Add a natural color composite to the Map.\n",
        "Map.addLayer(\n",
        "    practice_image,\n",
        "    {\n",
        "        'bands': ['SR_B3', 'SR_B2', 'SR_B1'],\n",
        "        'min': 8000,\n",
        "        'max': 17000\n",
        "    },\n",
        "    'Natural color'\n",
        ")\n",
        "\n",
        "# Add an NIR False color composite to the Map.\n",
        "Map.addLayer(\n",
        "    practice_image,\n",
        "    {\n",
        "        'bands': ['SR_B4', 'SR_B3', 'SR_B2'],\n",
        "        'min': 8000,\n",
        "        'max': 17000\n",
        "    },\n",
        "    'NIR False color'\n",
        ")\n",
        "\n",
        "# Add a SWIR False color composite to the Map.\n",
        "Map.addLayer(\n",
        "    practice_image,\n",
        "    {\n",
        "        'bands': ['SR_B5', 'SR_B4', 'SR_B2'],\n",
        "        'min': 8000,\n",
        "        'max': 17000\n",
        "    },\n",
        "    'SWIR False color'\n",
        ")"
      ],
      "outputs": [],
      "execution_count": null
    },
    {
      "cell_type": "markdown",
      "metadata": {},
      "source": [
        "## Display the interactive map"
      ]
    },
    {
      "cell_type": "code",
      "metadata": {},
      "source": [
        "Map"
      ],
      "outputs": [],
      "execution_count": null
    }
  ],
  "metadata": {
    "anaconda-cloud": {},
    "kernelspec": {
      "display_name": "Python 3",
      "language": "python",
      "name": "python3"
    },
    "language_info": {
      "codemirror_mode": {
        "name": "ipython",
        "version": 3
      },
      "file_extension": ".py",
      "mimetype": "text/x-python",
      "name": "python",
      "nbconvert_exporter": "python",
      "pygments_lexer": "ipython3",
      "version": "3.6.1"
    }
  },
  "nbformat": 4,
  "nbformat_minor": 4
}