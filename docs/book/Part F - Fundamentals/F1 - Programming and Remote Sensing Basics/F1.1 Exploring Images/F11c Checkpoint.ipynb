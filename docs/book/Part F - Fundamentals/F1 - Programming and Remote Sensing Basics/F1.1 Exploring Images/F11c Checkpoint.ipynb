{
  "cells": [
    {
      "cell_type": "markdown",
      "metadata": {},
      "source": [
        "## Import libraries"
      ]
    },
    {
      "cell_type": "code",
      "metadata": {},
      "source": [
        "import ee\n",
        "import geemap"
      ],
      "outputs": [],
      "execution_count": null
    },
    {
      "cell_type": "markdown",
      "metadata": {},
      "source": [
        "## Create an interactive map"
      ]
    },
    {
      "cell_type": "code",
      "metadata": {},
      "source": [
        "Map = geemap.Map(center=[40, -100], zoom=4)"
      ],
      "outputs": [],
      "execution_count": null
    },
    {
      "cell_type": "markdown",
      "metadata": {},
      "source": [
        "## Add Earth Engine Python script"
      ]
    },
    {
      "cell_type": "code",
      "metadata": {},
      "source": [
        "# Add Earth Engine dataset\n",
        "image = ee.Image(\"USGS/SRTMGL1_003\")\n",
        "\n",
        "#  ~~~~~~~~~~~~~~~~~~~~~~~~~~~~~~~~~~~~~~~~~~~~~~~~~~~~~~~~~~~~~~~~~~~~~~~\n",
        "#  Chapter:      F1.1 Exploring images\n",
        "#  Checkpoint:   F11c\n",
        "#  Author:       Jeff Howarth\n",
        "#  ~~~~~~~~~~~~~~~~~~~~~~~~~~~~~~~~~~~~~~~~~~~~~~~~~~~~~~~~~~~~~~~~~~~~~~~\n",
        "\n",
        "# Load an image from its Earth Engine ID.\n",
        "first_image = ee.Image(\n",
        "    'LANDSAT/LT05/C02/T1_L2/LT05_118038_20000606')\n",
        "\n",
        "# Inspect the image object in the Console.\n",
        "print(first_image)\n",
        "\n",
        "# Display band 1 of the image as the first map layer.\n",
        "Map.addLayer(\n",
        "    first_image, #  dataset to display\n",
        "    {\n",
        "        'bands': ['SR_B1'], #  band to display\n",
        "        'min': 8000, #  display range\n",
        "        'max': 17000\n",
        "    },\n",
        "    'Layer 1' #  name to show in Layer Manager\n",
        ")\n",
        "\n",
        "# Display band 2 as the second map layer.\n",
        "Map.addLayer(\n",
        "    first_image,\n",
        "    {\n",
        "        'bands': ['SR_B2'],\n",
        "        'min': 8000,\n",
        "        'max': 17000\n",
        "    },\n",
        "    'Layer 2',\n",
        "    0, #  shown\n",
        "    1 #  opacity\n",
        ")\n",
        "\n",
        "# Display band 3 as the third map layer.\n",
        "Map.addLayer(\n",
        "    first_image,\n",
        "    {\n",
        "        'bands': ['SR_B3'],\n",
        "        'min': 8000,\n",
        "        'max': 17000\n",
        "    },\n",
        "    'Layer 3',\n",
        "    1, #  shown\n",
        "    0 #  opacity\n",
        ")\n",
        "\n",
        "#  -----------------------------------------------------------------------\n",
        "#  CHECKPOINT\n",
        "#  -----------------------------------------------------------------------\n",
        "\n",
        "# Add a natural color layer by using the first three sensor bands for RGB.\n",
        "Map.addLayer(\n",
        "    first_image,\n",
        "    {\n",
        "        'bands': ['SR_B3', 'SR_B2', 'SR_B1'],\n",
        "        'min': 8000,\n",
        "        'max': 17000\n",
        "    },\n",
        "    'Natural Color')\n",
        "\n",
        "# Add a NIR False-color layer using NIR, red, green sensor bands for RGB.\n",
        "Map.addLayer(\n",
        "    first_image,\n",
        "    {\n",
        "        'bands': ['SR_B4', 'SR_B3', 'SR_B2'],\n",
        "        'min': 8000,\n",
        "        'max': 17000\n",
        "    },\n",
        "    'False Color')\n",
        "\n",
        "# Add a SWIR False-color layer using SWIR, NIR, green sensor bands for RGB.\n",
        "Map.addLayer(\n",
        "    first_image,\n",
        "    {\n",
        "        'bands': ['SR_B5', 'SR_B4', 'SR_B2'],\n",
        "        'min': 8000,\n",
        "        'max': 17000\n",
        "    },\n",
        "    'Short wave False color')\n",
        "\n",
        "#  -----------------------------------------------------------------------\n",
        "#  CHECKPOINT\n",
        "#  -----------------------------------------------------------------------\n",
        "\n",
        "# Load a 1993 nighttime lights dataset from its Earth Engine ID.\n",
        "lights93 = ee.Image('NOAA/DMSP-OLS/NIGHTTIME_LIGHTS/F101993')\n",
        "\n",
        "# Print image metadata to the Console.\n",
        "print('Nighttime lights', lights93)\n",
        "\n",
        "# Display the 'stable_lights' band as a map layer.\n",
        "Map.addLayer(\n",
        "    lights93,\n",
        "    {\n",
        "        'bands': ['stable_lights'],\n",
        "        'min': 0,\n",
        "        'max': 63\n",
        "    },\n",
        "    'Lights')\n",
        "\n",
        "# Construct an image of stable lights for 2003.\n",
        "lights03 = ee.Image('NOAA/DMSP-OLS/NIGHTTIME_LIGHTS/F152003') \\\n",
        "    .select('stable_lights').rename('2003')\n",
        "\n",
        "# Construct an image of stable lights for 2013.\n",
        "lights13 = ee.Image('NOAA/DMSP-OLS/NIGHTTIME_LIGHTS/F182013') \\\n",
        "    .select('stable_lights').rename('2013')\n",
        "\n",
        "# Construct an image with three bands,\n",
        "# where each band represents stable lights for one year.\n",
        "\n",
        "changeImage = lights13.addBands(lights03) \\\n",
        "    .addBands(lights93.select('stable_lights').rename('1993'))\n",
        "\n",
        "# Print image metadata to the Console.\n",
        "print('change image', changeImage)\n",
        "\n",
        "# Add an RGB composite layer to the Map.\n",
        "Map.addLayer(\n",
        "    changeImage,\n",
        "    {\n",
        "        'min': 0,\n",
        "        'max': 63\n",
        "    },\n",
        "    'Change composite')\n",
        "\n",
        "#  -----------------------------------------------------------------------\n",
        "#  CHECKPOINT\n",
        "#  -----------------------------------------------------------------------"
      ],
      "outputs": [],
      "execution_count": null
    },
    {
      "cell_type": "markdown",
      "metadata": {},
      "source": [
        "## Display the interactive map"
      ]
    },
    {
      "cell_type": "code",
      "metadata": {},
      "source": [
        "Map"
      ],
      "outputs": [],
      "execution_count": null
    }
  ],
  "metadata": {
    "anaconda-cloud": {},
    "kernelspec": {
      "display_name": "Python 3",
      "language": "python",
      "name": "python3"
    },
    "language_info": {
      "codemirror_mode": {
        "name": "ipython",
        "version": 3
      },
      "file_extension": ".py",
      "mimetype": "text/x-python",
      "name": "python",
      "nbconvert_exporter": "python",
      "pygments_lexer": "ipython3",
      "version": "3.6.1"
    }
  },
  "nbformat": 4,
  "nbformat_minor": 4
}