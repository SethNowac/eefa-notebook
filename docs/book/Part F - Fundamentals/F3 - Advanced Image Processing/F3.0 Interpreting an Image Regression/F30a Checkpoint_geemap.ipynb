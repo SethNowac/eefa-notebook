{
  "cells": [
    {
      "cell_type": "markdown",
      "metadata": {},
      "source": [
        "## Import libraries"
      ]
    },
    {
      "cell_type": "code",
      "execution_count": 1,
      "metadata": {},
      "outputs": [],
      "source": [
        "import ee\n",
        "import geemap"
      ]
    },
    {
      "cell_type": "markdown",
      "metadata": {},
      "source": [
        "## Create an interactive map"
      ]
    },
    {
      "cell_type": "code",
      "execution_count": 2,
      "metadata": {},
      "outputs": [
        {
          "data": {
            "text/html": [
              "\n",
              "            <style>\n",
              "                .geemap-dark {\n",
              "                    --jp-widgets-color: white;\n",
              "                    --jp-widgets-label-color: white;\n",
              "                    --jp-ui-font-color1: white;\n",
              "                    --jp-layout-color2: #454545;\n",
              "                    background-color: #383838;\n",
              "                }\n",
              "                    \n",
              "                .geemap-dark .jupyter-button {\n",
              "                    --jp-layout-color3: #383838;\n",
              "                }\n",
              "                \n",
              "                .geemap-colab {\n",
              "                    background-color: var(--colab-primary-surface-color, white);\n",
              "                }\n",
              "                    \n",
              "                .geemap-colab .jupyter-button {\n",
              "                    --jp-layout-color3: var(--colab-primary-surface-color, white);\n",
              "                }\n",
              "            </style>\n",
              "            "
            ],
            "text/plain": [
              "<IPython.core.display.HTML object>"
            ]
          },
          "metadata": {},
          "output_type": "display_data"
        }
      ],
      "source": [
        "Map = geemap.Map(center=[40, -100], zoom=4)"
      ]
    },
    {
      "cell_type": "markdown",
      "metadata": {},
      "source": [
        "## Add Earth Engine Python script"
      ]
    },
    {
      "cell_type": "code",
      "execution_count": 3,
      "metadata": {},
      "outputs": [
        {
          "data": {
            "text/html": [
              "\n",
              "            <style>\n",
              "                .geemap-dark {\n",
              "                    --jp-widgets-color: white;\n",
              "                    --jp-widgets-label-color: white;\n",
              "                    --jp-ui-font-color1: white;\n",
              "                    --jp-layout-color2: #454545;\n",
              "                    background-color: #383838;\n",
              "                }\n",
              "                    \n",
              "                .geemap-dark .jupyter-button {\n",
              "                    --jp-layout-color3: #383838;\n",
              "                }\n",
              "                \n",
              "                .geemap-colab {\n",
              "                    background-color: var(--colab-primary-surface-color, white);\n",
              "                }\n",
              "                    \n",
              "                .geemap-colab .jupyter-button {\n",
              "                    --jp-layout-color3: var(--colab-primary-surface-color, white);\n",
              "                }\n",
              "            </style>\n",
              "            "
            ],
            "text/plain": [
              "<IPython.core.display.HTML object>"
            ]
          },
          "metadata": {},
          "output_type": "display_data"
        },
        {
          "ename": "SyntaxError",
          "evalue": "expression cannot contain assignment, perhaps you meant \"==\"? (2316654462.py, line 51)",
          "output_type": "error",
          "traceback": [
            "\u001b[1;36m  Cell \u001b[1;32mIn[3], line 51\u001b[1;36m\u001b[0m\n\u001b[1;33m    'maxError' = 1\u001b[0m\n\u001b[1;37m    ^\u001b[0m\n\u001b[1;31mSyntaxError\u001b[0m\u001b[1;31m:\u001b[0m expression cannot contain assignment, perhaps you meant \"==\"?\n"
          ]
        }
      ],
      "source": [
        "# Add Earth Engine dataset\n",
        "image = ee.Image(\"USGS/SRTMGL1_003\")\n",
        "\n",
        "#  ~~~~~~~~~~~~~~~~~~~~~~~~~~~~~~~~~~~~~~~~~~~~~~~~~~~~~~~~~~~~~~~~~~~~~~~\n",
        "#  Chapter:      F3.0 Interpreting an Image: Regression\n",
        "#  Checkpoint:   F30a\n",
        "#  Authors:      K. Dyson, A. Nicolau, D. Saah, N. Clinton\n",
        "#  ~~~~~~~~~~~~~~~~~~~~~~~~~~~~~~~~~~~~~~~~~~~~~~~~~~~~~~~~~~~~~~~~~~~~~~~\n",
        "\n",
        "# Define a Turin polygon.\n",
        "Turin = ee.Geometry.Polygon(\n",
        "[\n",
        "[\n",
        "[7.455553918110218, 45.258245019259036],\n",
        "[7.455553918110218, 44.71237367431335],\n",
        "[8.573412804828967, 44.71237367431335],\n",
        "[8.573412804828967, 45.258245019259036]\n",
        "]\n",
        "], None, False)\n",
        "\n",
        "# Center on Turin\n",
        "Map.centerObject(Turin, 9)\n",
        "\n",
        "mod44b = ee.ImageCollection('MODIS/006/MOD44B')\n",
        "\n",
        "##/\n",
        "# Start Linear Fit\n",
        "##/\n",
        "\n",
        "# Put together the dependent variable by filtering the\n",
        "# ImageCollection to just the 2020 image near Turin and\n",
        "# selecting the percent tree cover band.\n",
        "percentTree2020 = mod44b \\\n",
        ".filterDate('2020-01-01', '2021-01-01') \\\n",
        ".first() \\\n",
        ".clip(Turin) \\\n",
        ".select('Percent_Tree_Cover')\n",
        "\n",
        "# You can print information to the console for inspection.\n",
        "print('2020 Image', percentTree2020.getInfo())\n",
        "\n",
        "Map.addLayer(percentTree2020, {\n",
        "    'max': 100\n",
        "}, 'Percent Tree Cover')\n",
        "\n",
        "landsat8_raw = ee.ImageCollection('LANDSAT/LC08/C02/T1_RT')\n",
        "\n",
        "# Put together the independent variable.\n",
        "landsat8filtered = landsat8_raw \\\n",
        ".filterBounds(Turin.centroid(\n",
        "'maxError' = 1\n",
        ")) \\\n",
        ".filterDate('2020-04-01', '2020-4-30') \\\n",
        ".first()\n",
        "\n",
        "print('Landsat8 filtered', landsat8filtered.getInfo())\n",
        "\n",
        "# Display the L8 image.\n",
        "visParams = {\n",
        "    'bands': ['B4', 'B3', 'B2'],\n",
        "    'max': 16000\n",
        "}\n",
        "Map.addLayer(landsat8filtered, visParams, 'Landsat 8 Image')\n",
        "\n",
        "# Calculate NDVI which will be the independent variable.\n",
        "ndvi = landsat8filtered.normalizedDifference(['B5', 'B4'])\n",
        "\n",
        "# Create the training image.\n",
        "trainingImage = ndvi.addBands(percentTree2020)\n",
        "print('training image for linear fit', trainingImage.getInfo())\n",
        "\n",
        "\n",
        "# Independent variable first, dependent variable second.\n",
        "# You need to include the scale variable.\n",
        "linearFit = trainingImage.reduceRegion(\n",
        "reducer = ee.Reducer.linearFit(),\n",
        "geometry = Turin,\n",
        "scale = 30,\n",
        "bestEffort = True\n",
        ")\n",
        "\n",
        "# Inspect the results.\n",
        "print('OLS estimates:', linearFit.getInfo())\n",
        "print('y-intercept:', linearFit.get('offset').getInfo())\n",
        "print('Slope:', linearFit.get('scale').getInfo())\n",
        "\n",
        "# Create a prediction based on the linearFit model.\n",
        "predictedTree = ndvi.expression(\n",
        "'intercept + slope * ndvi', {\n",
        "    'ndvi': ndvi.select('nd'),\n",
        "    'intercept': ee.Number(linearFit.get('offset')),\n",
        "    'slope': ee.Number(linearFit.get('scale'))\n",
        "})\n",
        "\n",
        "print('predictedTree', predictedTree.getInfo())\n",
        "\n",
        "# Display the results.\n",
        "Map.addLayer(predictedTree, {\n",
        "    'max': 100\n",
        "}, 'Predicted Percent Tree Cover')\n",
        "\n",
        "#  -----------------------------------------------------------------------\n",
        "#  CHECKPOINT\n",
        "#  -----------------------------------------------------------------------\n",
        "\n"
      ]
    },
    {
      "cell_type": "markdown",
      "metadata": {},
      "source": [
        "## Display the interactive map"
      ]
    },
    {
      "cell_type": "code",
      "execution_count": null,
      "metadata": {},
      "outputs": [],
      "source": [
        "Map"
      ]
    }
  ],
  "metadata": {
    "anaconda-cloud": {},
    "kernelspec": {
      "display_name": "Python 3",
      "language": "python",
      "name": "python3"
    },
    "language_info": {
      "codemirror_mode": {
        "name": "ipython",
        "version": 3
      },
      "file_extension": ".py",
      "mimetype": "text/x-python",
      "name": "python",
      "nbconvert_exporter": "python",
      "pygments_lexer": "ipython3",
      "version": "3.11.9"
    }
  },
  "nbformat": 4,
  "nbformat_minor": 4
}
