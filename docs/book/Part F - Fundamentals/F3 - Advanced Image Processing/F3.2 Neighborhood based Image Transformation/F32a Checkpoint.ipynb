{
  "cells": [
    {
      "cell_type": "markdown",
      "metadata": {},
      "source": [
        "## Import libraries"
      ]
    },
    {
      "cell_type": "code",
      "metadata": {},
      "source": [
        "import ee\n",
        "import geemap"
      ],
      "outputs": [],
      "execution_count": null
    },
    {
      "cell_type": "markdown",
      "metadata": {},
      "source": [
        "## Create an interactive map"
      ]
    },
    {
      "cell_type": "code",
      "metadata": {},
      "source": [
        "Map = geemap.Map(center=[40, -100], zoom=4)"
      ],
      "outputs": [],
      "execution_count": null
    },
    {
      "cell_type": "markdown",
      "metadata": {},
      "source": [
        "## Add Earth Engine Python script"
      ]
    },
    {
      "cell_type": "code",
      "metadata": {},
      "source": [
        "# Add Earth Engine dataset\n",
        "image = ee.Image(\"USGS/SRTMGL1_003\")\n",
        "\n",
        "#  ~~~~~~~~~~~~~~~~~~~~~~~~~~~~~~~~~~~~~~~~~~~~~~~~~~~~~~~~~~~~~~~~~~~~~~~\n",
        "#  Chapter:      F3.2 Neighborhood-Based Image Transformation\n",
        "#  Checkpoint:   F32a\n",
        "#  Authors:      Karen, Andrea, David, Nick\n",
        "#  ~~~~~~~~~~~~~~~~~~~~~~~~~~~~~~~~~~~~~~~~~~~~~~~~~~~~~~~~~~~~~~~~~~~~~~~\n",
        "\n",
        "# Create and print a uniform kernel to see its weights.\n",
        "print('A uniform kernel:', ee.Kernel.square(2))\n",
        "\n",
        "# Define a point of interest in Odessa, Washington, USA.\n",
        "point = ee.Geometry.Point([-118.71845096212049,\n",
        "    47.15743083101999])\n",
        "Map.centerObject(point)\n",
        "\n",
        "# Load NAIP data.\n",
        "imageNAIP = ee.ImageCollection('USDA/NAIP/DOQQ') \\\n",
        "    .filterBounds(point) \\\n",
        "    .filter(ee.Filter.date('2017-01-01', '2018-12-31')) \\\n",
        "    .first()\n",
        "\n",
        "Map.centerObject(point, 17)\n",
        "\n",
        "TrueColor = {\n",
        "    'bands': ['R', 'G', 'B'],\n",
        "    'min': 0,\n",
        "    'max': 255\n",
        "}\n",
        "Map.addLayer(imageNAIP, TrueColor, 'True color')\n",
        "\n",
        "# Begin smoothing example.\n",
        "# Define a square, uniform kernel.\n",
        "uniformKernel = ee.Kernel.square({\n",
        "    'radius': 2,\n",
        "    'units': 'meters',\n",
        "})\n",
        "\n",
        "# Convolve the image by convolving with the smoothing kernel.\n",
        "smoothed = imageNAIP.convolve(uniformKernel)\n",
        "Map.addLayer(smoothed, {\n",
        "    'min': 0,\n",
        "    'max': 255\n",
        "}, 'smoothed image')\n",
        "\n",
        "# Begin Gaussian smoothing example.\n",
        "# Print a Gaussian kernel to see its weights.\n",
        "print('A Gaussian kernel:', ee.Kernel.gaussian(2))\n",
        "\n",
        "# Define a square Gaussian kernel:\n",
        "gaussianKernel = ee.Kernel.gaussian({\n",
        "    'radius': 2,\n",
        "    'units': 'meters',\n",
        "})\n",
        "\n",
        "# Convolve the image with the Gaussian kernel.\n",
        "gaussian = imageNAIP.convolve(gaussianKernel)\n",
        "Map.addLayer(gaussian, {\n",
        "    'min': 0,\n",
        "    'max': 255\n",
        "}, 'Gaussian smoothed image')\n",
        "\n",
        "# Begin edge detection example.\n",
        "# For edge detection, define a Laplacian kernel.\n",
        "laplacianKernel = ee.Kernel.laplacian8()\n",
        "\n",
        "# Print the kernel to see its weights.\n",
        "print('Edge detection Laplacian kernel:', laplacianKernel)\n",
        "\n",
        "# Convolve the image with the Laplacian kernel.\n",
        "edges = imageNAIP.convolve(laplacianKernel)\n",
        "Map.addLayer(edges, {\n",
        "    'min': 0,\n",
        "    'max': 255\n",
        "}, 'Laplacian convolution image')\n",
        "\n",
        "# Begin image sharpening example.\n",
        "# Define a \"fat\" Gaussian kernel.\n",
        "fat = ee.Kernel.gaussian({\n",
        "    'radius': 3,\n",
        "    'sigma': 3,\n",
        "    'magnitude': -1,\n",
        "    'units': 'meters'\n",
        "})\n",
        "\n",
        "# Define a \"skinny\" Gaussian kernel.\n",
        "skinny = ee.Kernel.gaussian({\n",
        "    'radius': 3,\n",
        "    'sigma': 0.5,\n",
        "    'units': 'meters'\n",
        "})\n",
        "\n",
        "# Compute a difference-of-Gaussians (DOG) kernel.\n",
        "dog = fat.add(skinny)\n",
        "\n",
        "# Print the kernel to see its weights.\n",
        "print('DoG kernel for image sharpening', dog)\n",
        "\n",
        "# Add the DoG convolved image to the original image.\n",
        "sharpened = imageNAIP.add(imageNAIP.convolve(dog))\n",
        "Map.addLayer(sharpened, {\n",
        "    'min': 0,\n",
        "    'max': 255\n",
        "}, 'DoG edge enhancement')\n",
        "\n",
        "#  -----------------------------------------------------------------------\n",
        "#  CHECKPOINT\n",
        "#  -----------------------------------------------------------------------"
      ],
      "outputs": [],
      "execution_count": null
    },
    {
      "cell_type": "markdown",
      "metadata": {},
      "source": [
        "## Display the interactive map"
      ]
    },
    {
      "cell_type": "code",
      "metadata": {},
      "source": [
        "Map"
      ],
      "outputs": [],
      "execution_count": null
    }
  ],
  "metadata": {
    "anaconda-cloud": {},
    "kernelspec": {
      "display_name": "Python 3",
      "language": "python",
      "name": "python3"
    },
    "language_info": {
      "codemirror_mode": {
        "name": "ipython",
        "version": 3
      },
      "file_extension": ".py",
      "mimetype": "text/x-python",
      "name": "python",
      "nbconvert_exporter": "python",
      "pygments_lexer": "ipython3",
      "version": "3.6.1"
    }
  },
  "nbformat": 4,
  "nbformat_minor": 4
}