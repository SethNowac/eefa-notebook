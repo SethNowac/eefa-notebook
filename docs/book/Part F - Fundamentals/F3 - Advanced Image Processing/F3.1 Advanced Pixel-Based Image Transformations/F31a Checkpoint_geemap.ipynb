{
  "cells": [
    {
      "cell_type": "markdown",
      "metadata": {},
      "source": [
        "## Import libraries"
      ]
    },
    {
      "cell_type": "code",
      "execution_count": 1,
      "metadata": {},
      "outputs": [],
      "source": [
        "import ee\n",
        "import geemap"
      ]
    },
    {
      "cell_type": "markdown",
      "metadata": {},
      "source": [
        "## Create an interactive map"
      ]
    },
    {
      "cell_type": "code",
      "execution_count": 2,
      "metadata": {},
      "outputs": [
        {
          "data": {
            "text/html": [
              "\n",
              "            <style>\n",
              "                .geemap-dark {\n",
              "                    --jp-widgets-color: white;\n",
              "                    --jp-widgets-label-color: white;\n",
              "                    --jp-ui-font-color1: white;\n",
              "                    --jp-layout-color2: #454545;\n",
              "                    background-color: #383838;\n",
              "                }\n",
              "                    \n",
              "                .geemap-dark .jupyter-button {\n",
              "                    --jp-layout-color3: #383838;\n",
              "                }\n",
              "                \n",
              "                .geemap-colab {\n",
              "                    background-color: var(--colab-primary-surface-color, white);\n",
              "                }\n",
              "                    \n",
              "                .geemap-colab .jupyter-button {\n",
              "                    --jp-layout-color3: var(--colab-primary-surface-color, white);\n",
              "                }\n",
              "            </style>\n",
              "            "
            ],
            "text/plain": [
              "<IPython.core.display.HTML object>"
            ]
          },
          "metadata": {},
          "output_type": "display_data"
        }
      ],
      "source": [
        "Map = geemap.Map(center=[40, -100], zoom=4)"
      ]
    },
    {
      "cell_type": "markdown",
      "metadata": {},
      "source": [
        "## Add Earth Engine Python script"
      ]
    },
    {
      "cell_type": "code",
      "execution_count": 4,
      "metadata": {},
      "outputs": [
        {
          "data": {
            "text/html": [
              "\n",
              "            <style>\n",
              "                .geemap-dark {\n",
              "                    --jp-widgets-color: white;\n",
              "                    --jp-widgets-label-color: white;\n",
              "                    --jp-ui-font-color1: white;\n",
              "                    --jp-layout-color2: #454545;\n",
              "                    background-color: #383838;\n",
              "                }\n",
              "                    \n",
              "                .geemap-dark .jupyter-button {\n",
              "                    --jp-layout-color3: #383838;\n",
              "                }\n",
              "                \n",
              "                .geemap-colab {\n",
              "                    background-color: var(--colab-primary-surface-color, white);\n",
              "                }\n",
              "                    \n",
              "                .geemap-colab .jupyter-button {\n",
              "                    --jp-layout-color3: var(--colab-primary-surface-color, white);\n",
              "                }\n",
              "            </style>\n",
              "            "
            ],
            "text/plain": [
              "<IPython.core.display.HTML object>"
            ]
          },
          "metadata": {},
          "output_type": "display_data"
        }
      ],
      "source": [
        "# Add Earth Engine dataset\n",
        "image = ee.Image(\"USGS/SRTMGL1_003\")\n",
        "\n",
        "#  ~~~~~~~~~~~~~~~~~~~~~~~~~~~~~~~~~~~~~~~~~~~~~~~~~~~~~~~~~~~~~~~~~~~~~~~\n",
        "#  Chapter:      F3.1 Advanced Pixel-Based Image Transformations\n",
        "#  Checkpoint:   F31a\n",
        "#  Authors:      Karen, Andrea, Nick, and David\n",
        "#  ~~~~~~~~~~~~~~~~~~~~~~~~~~~~~~~~~~~~~~~~~~~~~~~~~~~~~~~~~~~~~~~~~~~~~~~\n",
        "\n",
        "# Import and filter imagery by location and date.\n",
        "sfoPoint = ee.Geometry.Point(-122.3774, 37.6194)\n",
        "\n",
        "sfoImage = ee.ImageCollection('COPERNICUS/S2') \\\n",
        ".filterBounds(sfoPoint) \\\n",
        ".filterDate('2020-02-01', '2020-04-01') \\\n",
        ".first()\n",
        "Map.centerObject(sfoImage, 11)\n",
        "\n",
        "# Calculate EVI using Sentinel 2\n",
        "\n",
        "# Extract the bands and divide by 10,000 to account for scaling done.\n",
        "nirScaled = sfoImage.select('B8').divide(10000)\n",
        "redScaled = sfoImage.select('B4').divide(10000)\n",
        "blueScaled = sfoImage.select('B2').divide(10000)\n",
        "\n",
        "# Calculate the numerator, note that order goes from left to right.\n",
        "numeratorEVI = (nirScaled.subtract(redScaled)).multiply(2.5)\n",
        "\n",
        "# Calculate the denominator.\n",
        "denomClause1 = redScaled.multiply(6)\n",
        "denomClause2 = blueScaled.multiply(7.5)\n",
        "denominatorEVI = nirScaled.add(denomClause1) \\\n",
        ".subtract(denomClause2).add(1)\n",
        "\n",
        "# Calculate EVI and name it.\n",
        "EVI = numeratorEVI.divide(denominatorEVI).rename('EVI')\n",
        "\n",
        "# And now map EVI using our vegetation palette.\n",
        "vegPalette = ['red', 'white', 'green']\n",
        "visParams = {'min': -1, 'max': 1, 'palette': vegPalette}\n",
        "Map.addLayer(EVI, visParams, 'EVI')\n",
        "\n",
        "# Calculate EVI.\n",
        "eviExpression = sfoImage.expression(\n",
        "expression = '2.5 * ((NIR - RED) / (NIR + 6 * RED - 7.5 * BLUE + 1))',\n",
        "opt_map = { \n",
        "    'NIR': sfoImage.select('B8').divide(10000),\n",
        "    'RED': sfoImage.select('B4').divide(10000),\n",
        "    'BLUE': sfoImage.select('B2').divide(10000)\n",
        "}\n",
        ")\n",
        "\n",
        "# And now map EVI using our vegetation palette.\n",
        "Map.addLayer(eviExpression, visParams, 'EVI Expression')\n",
        "\n",
        "#  -----------------------------------------------------------------------\n",
        "#  CHECKPOINT\n",
        "#  -----------------------------------------------------------------------"
      ]
    },
    {
      "cell_type": "markdown",
      "metadata": {},
      "source": [
        "## Display the interactive map"
      ]
    },
    {
      "cell_type": "code",
      "execution_count": 5,
      "metadata": {},
      "outputs": [
        {
          "data": {
            "text/html": [
              "\n",
              "            <style>\n",
              "                .geemap-dark {\n",
              "                    --jp-widgets-color: white;\n",
              "                    --jp-widgets-label-color: white;\n",
              "                    --jp-ui-font-color1: white;\n",
              "                    --jp-layout-color2: #454545;\n",
              "                    background-color: #383838;\n",
              "                }\n",
              "                    \n",
              "                .geemap-dark .jupyter-button {\n",
              "                    --jp-layout-color3: #383838;\n",
              "                }\n",
              "                \n",
              "                .geemap-colab {\n",
              "                    background-color: var(--colab-primary-surface-color, white);\n",
              "                }\n",
              "                    \n",
              "                .geemap-colab .jupyter-button {\n",
              "                    --jp-layout-color3: var(--colab-primary-surface-color, white);\n",
              "                }\n",
              "            </style>\n",
              "            "
            ],
            "text/plain": [
              "<IPython.core.display.HTML object>"
            ]
          },
          "metadata": {},
          "output_type": "display_data"
        },
        {
          "data": {
            "application/vnd.jupyter.widget-view+json": {
              "model_id": "61f14aaf56614d7d923a0c2e510d9f89",
              "version_major": 2,
              "version_minor": 0
            },
            "text/plain": [
              "Map(center=[37.45118591731683, -122.37966239140695], controls=(WidgetControl(options=['position', 'transparent…"
            ]
          },
          "execution_count": 5,
          "metadata": {},
          "output_type": "execute_result"
        }
      ],
      "source": [
        "Map"
      ]
    }
  ],
  "metadata": {
    "anaconda-cloud": {},
    "kernelspec": {
      "display_name": "Python 3",
      "language": "python",
      "name": "python3"
    },
    "language_info": {
      "codemirror_mode": {
        "name": "ipython",
        "version": 3
      },
      "file_extension": ".py",
      "mimetype": "text/x-python",
      "name": "python",
      "nbconvert_exporter": "python",
      "pygments_lexer": "ipython3",
      "version": "3.11.9"
    }
  },
  "nbformat": 4,
  "nbformat_minor": 4
}
