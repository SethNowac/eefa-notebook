{
  "cells": [
    {
      "cell_type": "markdown",
      "metadata": {},
      "source": [
        "## Import libraries"
      ]
    },
    {
      "cell_type": "code",
      "execution_count": 1,
      "metadata": {},
      "outputs": [],
      "source": [
        "import ee\n",
        "import geemap"
      ]
    },
    {
      "cell_type": "markdown",
      "metadata": {},
      "source": [
        "## Create an interactive map"
      ]
    },
    {
      "cell_type": "code",
      "execution_count": 2,
      "metadata": {},
      "outputs": [
        {
          "data": {
            "text/html": [
              "\n",
              "            <style>\n",
              "                .geemap-dark {\n",
              "                    --jp-widgets-color: white;\n",
              "                    --jp-widgets-label-color: white;\n",
              "                    --jp-ui-font-color1: white;\n",
              "                    --jp-layout-color2: #454545;\n",
              "                    background-color: #383838;\n",
              "                }\n",
              "                    \n",
              "                .geemap-dark .jupyter-button {\n",
              "                    --jp-layout-color3: #383838;\n",
              "                }\n",
              "                \n",
              "                .geemap-colab {\n",
              "                    background-color: var(--colab-primary-surface-color, white);\n",
              "                }\n",
              "                    \n",
              "                .geemap-colab .jupyter-button {\n",
              "                    --jp-layout-color3: var(--colab-primary-surface-color, white);\n",
              "                }\n",
              "            </style>\n",
              "            "
            ],
            "text/plain": [
              "<IPython.core.display.HTML object>"
            ]
          },
          "metadata": {},
          "output_type": "display_data"
        }
      ],
      "source": [
        "Map = geemap.Map(center=[40, -100], zoom=4)"
      ]
    },
    {
      "cell_type": "markdown",
      "metadata": {},
      "source": [
        "## Add Earth Engine Python script"
      ]
    },
    {
      "cell_type": "code",
      "execution_count": 3,
      "metadata": {},
      "outputs": [
        {
          "data": {
            "text/html": [
              "\n",
              "            <style>\n",
              "                .geemap-dark {\n",
              "                    --jp-widgets-color: white;\n",
              "                    --jp-widgets-label-color: white;\n",
              "                    --jp-ui-font-color1: white;\n",
              "                    --jp-layout-color2: #454545;\n",
              "                    background-color: #383838;\n",
              "                }\n",
              "                    \n",
              "                .geemap-dark .jupyter-button {\n",
              "                    --jp-layout-color3: #383838;\n",
              "                }\n",
              "                \n",
              "                .geemap-colab {\n",
              "                    background-color: var(--colab-primary-surface-color, white);\n",
              "                }\n",
              "                    \n",
              "                .geemap-colab .jupyter-button {\n",
              "                    --jp-layout-color3: var(--colab-primary-surface-color, white);\n",
              "                }\n",
              "            </style>\n",
              "            "
            ],
            "text/plain": [
              "<IPython.core.display.HTML object>"
            ]
          },
          "metadata": {},
          "output_type": "display_data"
        },
        {
          "name": "stdout",
          "output_type": "stream",
          "text": [
            "20160421T191704_20160421T212107_T10TDT {'type': 'Image', 'bands': [{'id': 'B1', 'data_type': {'type': 'PixelType', 'precision': 'int', 'min': 0, 'max': 65535}, 'dimensions': [1830, 1830], 'crs': 'EPSG:32610', 'crs_transform': [60, 0, 399960, 0, -60, 5300040]}, {'id': 'B2', 'data_type': {'type': 'PixelType', 'precision': 'int', 'min': 0, 'max': 65535}, 'dimensions': [10980, 10980], 'crs': 'EPSG:32610', 'crs_transform': [10, 0, 399960, 0, -10, 5300040]}, {'id': 'B3', 'data_type': {'type': 'PixelType', 'precision': 'int', 'min': 0, 'max': 65535}, 'dimensions': [10980, 10980], 'crs': 'EPSG:32610', 'crs_transform': [10, 0, 399960, 0, -10, 5300040]}, {'id': 'B4', 'data_type': {'type': 'PixelType', 'precision': 'int', 'min': 0, 'max': 65535}, 'dimensions': [10980, 10980], 'crs': 'EPSG:32610', 'crs_transform': [10, 0, 399960, 0, -10, 5300040]}, {'id': 'B5', 'data_type': {'type': 'PixelType', 'precision': 'int', 'min': 0, 'max': 65535}, 'dimensions': [5490, 5490], 'crs': 'EPSG:32610', 'crs_transform': [20, 0, 399960, 0, -20, 5300040]}, {'id': 'B6', 'data_type': {'type': 'PixelType', 'precision': 'int', 'min': 0, 'max': 65535}, 'dimensions': [5490, 5490], 'crs': 'EPSG:32610', 'crs_transform': [20, 0, 399960, 0, -20, 5300040]}, {'id': 'B7', 'data_type': {'type': 'PixelType', 'precision': 'int', 'min': 0, 'max': 65535}, 'dimensions': [5490, 5490], 'crs': 'EPSG:32610', 'crs_transform': [20, 0, 399960, 0, -20, 5300040]}, {'id': 'B8', 'data_type': {'type': 'PixelType', 'precision': 'int', 'min': 0, 'max': 65535}, 'dimensions': [10980, 10980], 'crs': 'EPSG:32610', 'crs_transform': [10, 0, 399960, 0, -10, 5300040]}, {'id': 'B8A', 'data_type': {'type': 'PixelType', 'precision': 'int', 'min': 0, 'max': 65535}, 'dimensions': [5490, 5490], 'crs': 'EPSG:32610', 'crs_transform': [20, 0, 399960, 0, -20, 5300040]}, {'id': 'B9', 'data_type': {'type': 'PixelType', 'precision': 'int', 'min': 0, 'max': 65535}, 'dimensions': [1830, 1830], 'crs': 'EPSG:32610', 'crs_transform': [60, 0, 399960, 0, -60, 5300040]}, {'id': 'B10', 'data_type': {'type': 'PixelType', 'precision': 'int', 'min': 0, 'max': 65535}, 'dimensions': [1830, 1830], 'crs': 'EPSG:32610', 'crs_transform': [60, 0, 399960, 0, -60, 5300040]}, {'id': 'B11', 'data_type': {'type': 'PixelType', 'precision': 'int', 'min': 0, 'max': 65535}, 'dimensions': [5490, 5490], 'crs': 'EPSG:32610', 'crs_transform': [20, 0, 399960, 0, -20, 5300040]}, {'id': 'B12', 'data_type': {'type': 'PixelType', 'precision': 'int', 'min': 0, 'max': 65535}, 'dimensions': [5490, 5490], 'crs': 'EPSG:32610', 'crs_transform': [20, 0, 399960, 0, -20, 5300040]}, {'id': 'QA10', 'data_type': {'type': 'PixelType', 'precision': 'int', 'min': 0, 'max': 65535}, 'dimensions': [10980, 10980], 'crs': 'EPSG:32610', 'crs_transform': [10, 0, 399960, 0, -10, 5300040]}, {'id': 'QA20', 'data_type': {'type': 'PixelType', 'precision': 'int', 'min': 0, 'max': 4294967295}, 'dimensions': [5490, 5490], 'crs': 'EPSG:32610', 'crs_transform': [20, 0, 399960, 0, -20, 5300040]}, {'id': 'QA60', 'data_type': {'type': 'PixelType', 'precision': 'int', 'min': 0, 'max': 65535}, 'dimensions': [1830, 1830], 'crs': 'EPSG:32610', 'crs_transform': [60, 0, 399960, 0, -60, 5300040]}], 'version': 1618001951557201, 'id': 'COPERNICUS/S2/20160421T191704_20160421T212107_T10TDT', 'properties': {'DATATAKE_IDENTIFIER': 'GS2A_20160421T191022_004343_N02.01', 'SPACECRAFT_NAME': 'Sentinel-2A', 'FORMAT_CORRECTNESS_FLAG': 'PASSED', 'IERS_BULLETIN_FILENAME': 'S2__OPER_AUX_UT1UTC_PDMC_20160414T000000_V20160415T000000_20170414T000000', 'MEAN_INCIDENCE_AZIMUTH_ANGLE_B8A': 164.035787507259, 'MEAN_SOLAR_AZIMUTH_ANGLE': 158.690469258765, 'system:footprint': {'type': 'LinearRing', 'coordinates': [[-124.31243009553997, 46.85826641000697], [-124.31241371460723, 46.85826588596419], [-122.87220508898503, 46.86571855191393], [-122.87214428099509, 46.865755029449176], [-122.87207738203638, 46.86578602782989], [-122.87207327806291, 46.865800831276786], [-122.8696628646844, 47.85362790246294], [-122.86971729595791, 47.85366935812729], [-122.86976351138269, 47.85371514196314], [-122.86978550684027, 47.8537180229773], [-124.33713706265881, 47.846004807040075], [-124.33719780703754, 47.84596753394918], [-124.33726513959243, 47.84593561087967], [-124.33726894558572, 47.84592084439884], [-124.32474373279311, 47.35215640357984], [-124.31254750349183, 46.85835440636741], [-124.31249294985608, 46.85831355053985], [-124.31244639109794, 46.85826838414382], [-124.31243009553997, 46.85826641000697]]}, 'SOLAR_IRRADIANCE_B12': 85.25, 'SOLAR_IRRADIANCE_B10': 367.15, 'SENSOR_QUALITY': 'PASSED', 'SOLAR_IRRADIANCE_B11': 245.59, 'GENERATION_TIME': 1461283277000, 'SOLAR_IRRADIANCE_B8A': 955.19, 'FORMAT_CORRECTNESS': 'PASSED', 'PRODUCT_URI': '357_2016-04-21T23_52', 'SENSOR_QUALITY_FLAG': 'PASSED', 'CLOUD_COVERAGE_ASSESSMENT': 56.69429333333334, 'system:time_end': 1461266224532, 'system:time_start': 1461266224532, 'DATASTRIP_ID': 'S2A_OPER_MSI_L1C_DS_SGS__20160421T212107_S20160421T191704_N02.01', 'PROCESSING_BASELINE': '02.01', 'SENSING_ORBIT_NUMBER': 56, 'GEOMETRIC_QUALITY_FLAG': 'PASSED', 'SENSING_ORBIT_DIRECTION': 'DESCENDING', 'GENERAL_QUALITY': 'PASSED', 'GRANULE_ID': 'S2A_OPER_MSI_L1C_TL_SGS__20160421T212107_A004343_T10TDT_N02.01', 'REFLECTANCE_CONVERSION_CORRECTION': 0.992025794379875, 'MEAN_INCIDENCE_AZIMUTH_ANGLE_B8': 167.741890221581, 'DATATAKE_TYPE': 'INS-NOBS', 'MEAN_INCIDENCE_AZIMUTH_ANGLE_B9': 163.758683915972, 'MEAN_INCIDENCE_AZIMUTH_ANGLE_B6': 164.82662784535, 'MEAN_INCIDENCE_AZIMUTH_ANGLE_B7': 164.258670449862, 'RADIOMETRIC_QUALITY_FLAG': 'PASSED', 'MEAN_INCIDENCE_AZIMUTH_ANGLE_B4': 165.674217429774, 'MEAN_INCIDENCE_ZENITH_ANGLE_B1': 3.11925471544111, 'MEAN_INCIDENCE_AZIMUTH_ANGLE_B5': 165.19723861347, 'RADIOMETRIC_QUALITY': 'PASSED', 'MEAN_INCIDENCE_AZIMUTH_ANGLE_B2': 169.015131665999, 'MEAN_INCIDENCE_AZIMUTH_ANGLE_B3': 166.946780569365, 'MEAN_INCIDENCE_ZENITH_ANGLE_B5': 2.78045076345307, 'MEAN_INCIDENCE_AZIMUTH_ANGLE_B1': 163.885751211219, 'MEAN_INCIDENCE_ZENITH_ANGLE_B4': 2.70640878629079, 'MEAN_INCIDENCE_ZENITH_ANGLE_B3': 2.58412379691082, 'MEAN_INCIDENCE_ZENITH_ANGLE_B2': 2.47299487265053, 'MEAN_INCIDENCE_ZENITH_ANGLE_B9': 3.21481522179122, 'MEAN_INCIDENCE_ZENITH_ANGLE_B8': 2.52388674758564, 'MEAN_INCIDENCE_ZENITH_ANGLE_B7': 2.94299687814295, 'MEAN_INCIDENCE_ZENITH_ANGLE_B6': 2.85891261981736, 'MEAN_SOLAR_ZENITH_ANGLE': 36.7746362729933, 'MEAN_INCIDENCE_ZENITH_ANGLE_B8A': 3.02943757887758, 'GRI_FILENAME': 'S2A_OPER_AUX_GRI065_PDMC_20130621T120000_S20130101T000000', 'MGRS_TILE': '10TDT', 'PRODUCTION_DEM_TYPE': 'S2__OPER_DEM_GLOBEF_PDMC_19800101T000000_S19800101T000000', 'CLOUDY_PIXEL_PERCENTAGE': 19.5608, 'GENERAL_QUALITY_FLAG': 'PASSED', 'PRODUCT_ID': 'S2A_OPER_PRD_MSIL1C_PDMC_20160422T000117_R056_V20160421T191704_20160421T191704', 'ECMWF_DATA_REF': 'S2__OPER_AUX_ECMWFD_PDMC_20160421T000000_V20160421T090000_20160421T210000', 'MEAN_INCIDENCE_ZENITH_ANGLE_B10': 2.66565711269174, 'SOLAR_IRRADIANCE_B9': 813.04, 'DEGRADED_MSI_DATA_PERCENTAGE': 0, 'MEAN_INCIDENCE_ZENITH_ANGLE_B11': 2.84262917366476, 'MEAN_INCIDENCE_ZENITH_ANGLE_B12': 3.04279696710803, 'SOLAR_IRRADIANCE_B6': 1288.32, 'MEAN_INCIDENCE_AZIMUTH_ANGLE_B10': 164.965398258698, 'SOLAR_IRRADIANCE_B5': 1425.56, 'MEAN_INCIDENCE_AZIMUTH_ANGLE_B11': 163.710280630909, 'SOLAR_IRRADIANCE_B8': 1036.39, 'MEAN_INCIDENCE_AZIMUTH_ANGLE_B12': 163.230675567272, 'SOLAR_IRRADIANCE_B7': 1163.19, 'SOLAR_IRRADIANCE_B2': 1941.63, 'SOLAR_IRRADIANCE_B1': 1913.57, 'SOLAR_IRRADIANCE_B4': 1512.79, 'GEOMETRIC_QUALITY': 'PASSED', 'SOLAR_IRRADIANCE_B3': 1822.61, 'system:asset_size': 1411300697, 'system:index': '20160421T191704_20160421T212107_T10TDT'}}\n",
            "6.1b Per-Pixel Unsupervised Results: {'type': 'Image', 'bands': [{'id': 'unsupervisedClass', 'data_type': {'type': 'PixelType', 'precision': 'int', 'min': -2147483648, 'max': 2147483647}, 'dimensions': [973, 567], 'origin': [9018, 2674], 'crs': 'EPSG:32610', 'crs_transform': [10, 0, 399960, 0, -10, 5300040]}], 'properties': {'system:footprint': {'type': 'Polygon', 'coordinates': [[[-123.13105468749991, 47.56214700543595], [-123.00179367065422, 47.56214700543595], [-123.00179367065422, 47.612974066532004], [-123.13105468749991, 47.612974066532004], [-123.13105468749991, 47.56214700543595]]]}}}\n"
          ]
        }
      ],
      "source": [
        "# Add Earth Engine dataset\n",
        "image = ee.Image(\"USGS/SRTMGL1_003\")\n",
        "\n",
        "#  ~~~~~~~~~~~~~~~~~~~~~~~~~~~~~~~~~~~~~~~~~~~~~~~~~~~~~~~~~~~~~~~~~~~~~~~\n",
        "#  Chapter:      F3.3 Object-Based Image Analysis\n",
        "#  Checkpoint:   F33a\n",
        "#  Authors:      Morgan A. Crowley, Jeffrey Cardille, Noel Gorelick\n",
        "#  ~~~~~~~~~~~~~~~~~~~~~~~~~~~~~~~~~~~~~~~~~~~~~~~~~~~~~~~~~~~~~~~~~~~~~~~\n",
        "\n",
        "# 1.1 Unsupervised k-Means classification\n",
        "\n",
        "# This function does unsupervised clustering classification\n",
        "# input = any image. All bands will be used for clustering.\n",
        "# numberOfUnsupervisedClusters = tunable parameter for how\n",
        "#        many clusters to create.\n",
        "def func_kjy(input, numberOfUnsupervisedClusters,\n",
        "    defaultStudyArea, nativeScaleOfImage):\n",
        "\n",
        "    # Make a new sample set on the input. Here the sample set is\n",
        "    # randomly selected spatially.\n",
        "    training = input.sample(\n",
        "        region = defaultStudyArea,\n",
        "        scale = nativeScaleOfImage,\n",
        "        numPixels = 1000\n",
        "        )\n",
        "\n",
        "    cluster = ee.Clusterer.wekaKMeans(\n",
        "    numberOfUnsupervisedClusters) \\\n",
        "    .train(training)\n",
        "\n",
        "    # Now apply that clusterer to the raw image that was also passed in.\n",
        "    toexport = input.cluster(cluster)\n",
        "\n",
        "    # The first item is the unsupervised classification. Name the band.\n",
        "    clusterUnsup = toexport.select(0).rename(\n",
        "    'unsupervisedClass')\n",
        "    return (clusterUnsup)\n",
        "\n",
        "afn_Kmeans = func_kjy\n",
        "\n",
        "# 1.2 Simple normalization by maxes function.\n",
        "\n",
        "def func_coy(img, bandMaxes):\n",
        "    return img.divide(bandMaxes)\n",
        "\n",
        "afn_normalize_by_maxes = func_coy\n",
        "\n",
        "\n",
        "\n",
        "# 1.4 Simple add mean to Band Name function\n",
        "\n",
        "def func_jua(i):\n",
        "    return i + '_mean'\n",
        "\n",
        "afn_addMeanToBandName = (func_jua)\n",
        "\n",
        "\n",
        "\n",
        "##############################\n",
        "# 2. Parameters to function calls\n",
        "##############################\n",
        "\n",
        "# 2.1. Unsupervised KMeans Classification Parameters\n",
        "numberOfUnsupervisedClusters = 4\n",
        "\n",
        "##############################\n",
        "# 2.2. Visualization and Saving parameters\n",
        "# For different images, you might want to change the min and max\n",
        "# values to stretch. Useful for images 2 and 3, the normalized images.\n",
        "centerObjectYN = True\n",
        "\n",
        "#############################\n",
        "# 3. Statements\n",
        "#############################\n",
        "\n",
        "# 3.1  Selecting Image to Classify\n",
        "whichImage = 1; \n",
        "if (whichImage == 1):\n",
        "    # Image 1.\n",
        "    # Puget Sound, WA: Forest Harvest\n",
        "    # (April 21, 2016)\n",
        "    # Harvested Parcels\n",
        "    # Clear Parcel Boundaries\n",
        "    # Sentinel 2, 10m\n",
        "    whichCollection = 'COPERNICUS/S2'\n",
        "    ImageToUseID = '20160421T191704_20160421T212107_T10TDT'\n",
        "    originalImage = ee.Image(whichCollection + '/' + \\\n",
        "    ImageToUseID)\n",
        "    print(ImageToUseID, originalImage.getInfo())\n",
        "    nativeScaleOfImage = 10\n",
        "    threeBandsToDraw = ['B4', 'B3', 'B2']\n",
        "    bandsToUse = ['B4', 'B3', 'B2']\n",
        "    bandMaxes = [1e4, 1e4, 1e4]\n",
        "    drawMin = 0\n",
        "    drawMax = 0.3\n",
        "    defaultStudyArea = ee.Geometry.Polygon(\n",
        "    [\n",
        "    [\n",
        "    [-123.13105468749993, 47.612974066532004],\n",
        "    [-123.13105468749993, 47.56214700543596],\n",
        "    [-123.00179367065422, 47.56214700543596],\n",
        "    [-123.00179367065422, 47.612974066532004]\n",
        "    ]\n",
        "    ])\n",
        "    zoomArea = ee.Geometry.Polygon(\n",
        "    [\n",
        "    [\n",
        "    [-123.13105468749993, 47.612974066532004],\n",
        "    [-123.13105468749993, 47.56214700543596],\n",
        "    [-123.00179367065422, 47.56214700543596],\n",
        "    [-123.00179367065422, 47.612974066532004]\n",
        "    ]\n",
        "    ], None, False)\n",
        "\n",
        "Map.addLayer(originalImage.select(threeBandsToDraw), {\n",
        "    'min': 0,\n",
        "    'max': 2000\n",
        "}, '3.1 ' + ImageToUseID, True, 1)\n",
        "\n",
        "\n",
        "##############################\n",
        "# 4. Image Preprocessing\n",
        "##############################\n",
        "clippedImageSelectedBands = originalImage.clip(defaultStudyArea) \\\n",
        ".select(bandsToUse)\n",
        "ImageToUse = afn_normalize_by_maxes(clippedImageSelectedBands,\n",
        "bandMaxes)\n",
        "\n",
        "Map.addLayer(ImageToUse.select(threeBandsToDraw), {\n",
        "    'min': 0.028,\n",
        "    'max': 0.12\n",
        "},\n",
        "'4.3 Post-normalization image', True, 0)\n",
        "\n",
        "##############################\n",
        "# 6. Execute Classifications\n",
        "##############################\n",
        "\n",
        "# 6.1 Per Pixel Unsupervised Classification for Comparison\n",
        "PerPixelUnsupervised = afn_Kmeans(ImageToUse,\n",
        "numberOfUnsupervisedClusters, defaultStudyArea,\n",
        "nativeScaleOfImage)\n",
        "Map.addLayer(PerPixelUnsupervised.select('unsupervisedClass') \\\n",
        ".randomVisualizer(), {}, '6.1 Per-Pixel Unsupervised', True, 0\n",
        ")\n",
        "print('6.1b Per-Pixel Unsupervised Results:', PerPixelUnsupervised.getInfo())\n",
        "\n",
        "##############################\n",
        "# 7. Zoom if requested\n",
        "##############################\n",
        "if (centerObjectYN == True):\n",
        "    Map.centerObject(zoomArea, 14)\n",
        "\n",
        "\n",
        "#  -----------------------------------------------------------------------\n",
        "#  CHECKPOINT\n",
        "#  -----------------------------------------------------------------------"
      ]
    },
    {
      "cell_type": "markdown",
      "metadata": {},
      "source": [
        "## Display the interactive map"
      ]
    },
    {
      "cell_type": "code",
      "execution_count": 4,
      "metadata": {},
      "outputs": [
        {
          "data": {
            "text/html": [
              "\n",
              "            <style>\n",
              "                .geemap-dark {\n",
              "                    --jp-widgets-color: white;\n",
              "                    --jp-widgets-label-color: white;\n",
              "                    --jp-ui-font-color1: white;\n",
              "                    --jp-layout-color2: #454545;\n",
              "                    background-color: #383838;\n",
              "                }\n",
              "                    \n",
              "                .geemap-dark .jupyter-button {\n",
              "                    --jp-layout-color3: #383838;\n",
              "                }\n",
              "                \n",
              "                .geemap-colab {\n",
              "                    background-color: var(--colab-primary-surface-color, white);\n",
              "                }\n",
              "                    \n",
              "                .geemap-colab .jupyter-button {\n",
              "                    --jp-layout-color3: var(--colab-primary-surface-color, white);\n",
              "                }\n",
              "            </style>\n",
              "            "
            ],
            "text/plain": [
              "<IPython.core.display.HTML object>"
            ]
          },
          "metadata": {},
          "output_type": "display_data"
        },
        {
          "data": {
            "application/vnd.jupyter.widget-view+json": {
              "model_id": "40ef020b1bde4d7f8c4dafd38f02cf9c",
              "version_major": 2,
              "version_minor": 0
            },
            "text/plain": [
              "Map(center=[47.58756247645285, -123.06642417907692], controls=(WidgetControl(options=['position', 'transparent…"
            ]
          },
          "execution_count": 4,
          "metadata": {},
          "output_type": "execute_result"
        }
      ],
      "source": [
        "Map"
      ]
    }
  ],
  "metadata": {
    "anaconda-cloud": {},
    "kernelspec": {
      "display_name": "Python 3",
      "language": "python",
      "name": "python3"
    },
    "language_info": {
      "codemirror_mode": {
        "name": "ipython",
        "version": 3
      },
      "file_extension": ".py",
      "mimetype": "text/x-python",
      "name": "python",
      "nbconvert_exporter": "python",
      "pygments_lexer": "ipython3",
      "version": "3.11.9"
    }
  },
  "nbformat": 4,
  "nbformat_minor": 4
}
