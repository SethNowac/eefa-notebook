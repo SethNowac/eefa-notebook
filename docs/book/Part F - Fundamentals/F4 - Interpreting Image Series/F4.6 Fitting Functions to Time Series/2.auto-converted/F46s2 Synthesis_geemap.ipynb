{
  "cells": [
    {
      "cell_type": "markdown",
      "metadata": {},
      "source": [
        "## Import libraries"
      ]
    },
    {
      "cell_type": "code",
      "execution_count": 1,
      "metadata": {},
      "outputs": [],
      "source": [
        "import ee\n",
        "import geemap\n",
        "import geemap.chart as chart\n",
        "import math"
      ]
    },
    {
      "cell_type": "markdown",
      "metadata": {},
      "source": [
        "## Create an interactive map"
      ]
    },
    {
      "cell_type": "code",
      "execution_count": 2,
      "metadata": {},
      "outputs": [
        {
          "data": {
            "text/html": [
              "\n",
              "            <style>\n",
              "                .geemap-dark {\n",
              "                    --jp-widgets-color: white;\n",
              "                    --jp-widgets-label-color: white;\n",
              "                    --jp-ui-font-color1: white;\n",
              "                    --jp-layout-color2: #454545;\n",
              "                    background-color: #383838;\n",
              "                }\n",
              "\n",
              "                .geemap-dark .jupyter-button {\n",
              "                    --jp-layout-color3: #383838;\n",
              "                }\n",
              "\n",
              "                .geemap-colab {\n",
              "                    background-color: var(--colab-primary-surface-color, white);\n",
              "                }\n",
              "\n",
              "                .geemap-colab .jupyter-button {\n",
              "                    --jp-layout-color3: var(--colab-primary-surface-color, white);\n",
              "                }\n",
              "            </style>\n",
              "            "
            ],
            "text/plain": [
              "<IPython.core.display.HTML object>"
            ]
          },
          "metadata": {},
          "output_type": "display_data"
        }
      ],
      "source": [
        "Map = geemap.Map(center=[40, -100], zoom=4)"
      ]
    },
    {
      "cell_type": "markdown",
      "metadata": {},
      "source": [
        "## Add Earth Engine Python script"
      ]
    },
    {
      "cell_type": "code",
      "execution_count": 3,
      "metadata": {},
      "outputs": [
        {
          "data": {
            "text/html": [
              "\n",
              "            <style>\n",
              "                .geemap-dark {\n",
              "                    --jp-widgets-color: white;\n",
              "                    --jp-widgets-label-color: white;\n",
              "                    --jp-ui-font-color1: white;\n",
              "                    --jp-layout-color2: #454545;\n",
              "                    background-color: #383838;\n",
              "                }\n",
              "\n",
              "                .geemap-dark .jupyter-button {\n",
              "                    --jp-layout-color3: #383838;\n",
              "                }\n",
              "\n",
              "                .geemap-colab {\n",
              "                    background-color: var(--colab-primary-surface-color, white);\n",
              "                }\n",
              "\n",
              "                .geemap-colab .jupyter-button {\n",
              "                    --jp-layout-color3: var(--colab-primary-surface-color, white);\n",
              "                }\n",
              "            </style>\n",
              "            "
            ],
            "text/plain": [
              "<IPython.core.display.HTML object>"
            ]
          },
          "metadata": {},
          "output_type": "display_data"
        },
        {
          "data": {
            "application/vnd.jupyter.widget-view+json": {
              "model_id": "efbea3645f17423594c6db3b4eeff950",
              "version_major": 2,
              "version_minor": 0
            },
            "text/plain": [
              "Figure(axes=[Axis(label_offset='30px', scale=LinearScale()), Axis(label_offset='40px', orientation='vertical',…"
            ]
          },
          "metadata": {},
          "output_type": "display_data"
        }
      ],
      "source": [
        "# Add Earth Engine dataset\n",
        "image = ee.Image(\"USGS/SRTMGL1_003\")\n",
        "\n",
        "#  ~~~~~~~~~~~~~~~~~~~~~~~~~~~~~~~~~~~~~~~~~~~~~~~~~~~~~~~~~~~~~~~~~~~~~~~~~~~~~~~\n",
        "#  Chapter:      F4.6 Fitting Functions to Time Series\n",
        "#  Checkpoint:   F46s2\n",
        "#  Authors:      Andréa Puzzi Nicolau, Karen Dyson, Biplov Bhandari, David Saah,\n",
        "#                Nicholas Clinton\n",
        "#  ~~~~~~~~~~~~~~~~~~~~~~~~~~~~~~~~~~~~~~~~~~~~~~~~~~~~~~~~~~~~~~~~~~~~~~~~~~~~~~~\n",
        "\n",
        "# Satellite basemap.\n",
        "Map.setOptions('SATELLITE')\n",
        "\n",
        "# Define roi, a point over the Brazilian Amazon.\n",
        "roi = ee.Geometry.Point([-59.985146, -2.871413])\n",
        "\n",
        "# Add the point to the map.\n",
        "Map.addLayer(roi, {\n",
        "    'color': 'red'\n",
        "}, 'roi')\n",
        "Map.centerObject(roi, 16)\n",
        "\n",
        "# The dependent variable we are modeling.\n",
        "dependent = 'NDVI'\n",
        "\n",
        "# The number of cycles per year to model.\n",
        "harmonics = 1\n",
        "\n",
        "# Make a list of harmonic frequencies to model.\n",
        "# These also serve as band name suffixes.\n",
        "harmonicFrequencies = ee.List.sequence(1, harmonics)\n",
        "\n",
        "# Function to get a sequence of band names for harmonic terms.\n",
        "\n",
        "def func_leh(base, list):\n",
        "\n",
        "    def func_dof(i):\n",
        "            return ee.String(base).cat(ee.Number(i).int().format())\n",
        "\n",
        "    return ee.List(list).map(func_dof)\n",
        "\n",
        "\n",
        "\n",
        "getNames = func_leh\n",
        "\n",
        "cosNames = getNames('cos_', harmonicFrequencies)\n",
        "sinNames = getNames('sin_', harmonicFrequencies)\n",
        "\n",
        "# Independent variables.\n",
        "independents = ee.List(['constant', 't']) \\\n",
        ".cat(cosNames).cat(sinNames)\n",
        "\n",
        "# Define function to mask clouds, scale, and add variables\n",
        "# (NDVI, time and a constant) to Landsat 8 imagery.\n",
        "def maskScaleAndAddVariable(image):\n",
        "    # Bit 0 - Fill\n",
        "    # Bit 1 - Dilated Cloud\n",
        "    # Bit 2 - Cirrus\n",
        "    # Bit 3 - Cloud\n",
        "    # Bit 4 - Cloud Shadow\n",
        "    qaMask = image.select('QA_PIXEL').bitwiseAnd(int('11111',\n",
        "    2)).eq(0)\n",
        "    saturationMask = image.select('QA_RADSAT').eq(0)\n",
        "\n",
        "    # Apply the scaling factors to the appropriate bands.\n",
        "    opticalBands = image.select('SR_B.').multiply(0.0000275).add(-\n",
        "    0.2)\n",
        "    thermalBands = image.select('ST_B.*').multiply(0.00341802) \\\n",
        "    .add(149.0)\n",
        "\n",
        "    # Replace the original bands with the scaled ones and apply the masks.\n",
        "    img = image.addBands(opticalBands, None, True) \\\n",
        "    .addBands(thermalBands, None, True) \\\n",
        "    .updateMask(qaMask) \\\n",
        "    .updateMask(saturationMask)\n",
        "    imgScaled = image.addBands(img, None, True)\n",
        "\n",
        "    # Now we start to add variables of interest.\n",
        "    # Compute time in fractional years since the epoch.\n",
        "    date = ee.Date(image.get('system:time_start'))\n",
        "    years = date.difference(ee.Date('1970-01-01'), 'year')\n",
        "    timeRadians = ee.Image(years.multiply(2 * math.pi))\n",
        "    # Return the image with the added bands.\n",
        "    return imgScaled \\\n",
        "    .addBands(imgScaled.normalizedDifference(['SR_B5', 'SR_B4']) \\\n",
        "    .rename('NDVI')) \\\n",
        "    .addBands(timeRadians.rename('t')) \\\n",
        "    .float() \\\n",
        "    .addBands(ee.Image.constant(1))\n",
        "\n",
        "\n",
        "# Function to compute the specified number of harmonics\n",
        "# and add them as bands.  Assumes the time band is present.\n",
        "\n",
        "def func_fky(freqs):\n",
        "\n",
        "    def func_vpk(image):\n",
        "            # Make an image of frequencies.\n",
        "            frequencies = ee.Image.constant(freqs)\n",
        "            # This band should represent time in radians.\n",
        "            time = ee.Image(image).select('t')\n",
        "            # Get the cosine terms.\n",
        "            cosines = time.multiply(frequencies).cos() \\\n",
        "            .rename(cosNames)\n",
        "            # Get the sin terms.\n",
        "            sines = time.multiply(frequencies).sin() \\\n",
        "            .rename(sinNames)\n",
        "            return image.addBands(cosines).addBands(sines)\n",
        "\n",
        "    return func_vpk\n",
        "\n",
        "\n",
        "\n",
        "\n",
        "\n",
        "\n",
        "\n",
        "\n",
        "\n",
        "\n",
        "\n",
        "    \n",
        "\n",
        "addHarmonics = func_fky\n",
        "\n",
        "# Import the USGS Landsat 8 Level 2, Collection 2, Tier 1 image collection),\n",
        "# and map functions.\n",
        "harmonicLandsat = ee.ImageCollection('LANDSAT/LC08/C02/T1_L2') \\\n",
        "    .filterBounds(roi) \\\n",
        "    .map(maskScaleAndAddVariable) \\\n",
        "    .map(addHarmonics(harmonicFrequencies))\n",
        "\n",
        "# Filter for the pre-disturbance period.\n",
        "harmonicLandsatPre = harmonicLandsat.filterDate('2013-01-01',\n",
        "    '2014-12-12')\n",
        "\n",
        "# The output of the regression reduction is a 4x1 array image.\n",
        "harmonicTrendPre = harmonicLandsatPre \\\n",
        "    .select(independents.add(dependent)) \\\n",
        "    .reduce(ee.Reducer.linearRegression(independents.length(), 1))\n",
        "\n",
        "# Turn the array image into a multi-band image of coefficients.\n",
        "harmonicTrendCoefficientsPre = harmonicTrendPre.select(\n",
        "        'coefficients') \\\n",
        "    .arrayProject([0]) \\\n",
        "    .arrayFlatten([independents])\n",
        "\n",
        "harmonicTrendPre = harmonicLandsatPre \\\n",
        ".select(independents.add(dependent)) \\\n",
        ".reduce(ee.Reducer.linearRegression(independents.length(), 1))\n",
        "\n",
        "# Turn the array image into a multi-band image of coefficients.\n",
        "harmonicTrendCoefficientsPre = harmonicTrendPre.select(\n",
        "'coefficients') \\\n",
        ".arrayProject([0]) \\\n",
        ".arrayFlatten([independents])\n",
        "\n",
        "# Compute fitted values.\n",
        "\n",
        "def func_tbx(image):\n",
        "    return image.addBands(\n",
        "    image.select(independents) \\\n",
        "    .multiply(harmonicTrendCoefficientsPre) \\\n",
        "    .reduce('sum') \\\n",
        "    .rename('fitted'))\n",
        "\n",
        "fittedHarmonicPre = harmonicLandsatPre.map(func_tbx)\n",
        "\n",
        "\n",
        "\n",
        "\n",
        "\n",
        "\n",
        "\n",
        "# Filter for the disturbance period.\n",
        "harmonicLandsatDist = harmonicLandsat.filterDate('2014-12-13',\n",
        "'2019-01-01')\n",
        "\n",
        "# The output of the regression reduction is a 4x1 array image.\n",
        "harmonicTrendDist = harmonicLandsatDist \\\n",
        ".select(independents.add(dependent)) \\\n",
        ".reduce(ee.Reducer.linearRegression(independents.length(), 1))\n",
        "\n",
        "# Turn the array image into a multi-band image of coefficients.\n",
        "harmonicTrendCoefficientsDist = harmonicTrendDist.select(\n",
        "'coefficients') \\\n",
        ".arrayProject([0]) \\\n",
        ".arrayFlatten([independents])\n",
        "\n",
        "# Compute fitted values.\n",
        "\n",
        "def func_gvy(image):\n",
        "    return image.addBands(\n",
        "    image.select(independents) \\\n",
        "    .multiply(harmonicTrendCoefficientsDist) \\\n",
        "    .reduce('sum') \\\n",
        "    .rename('fitted'))\n",
        "\n",
        "fittedHarmonicDist = harmonicLandsatDist.map(func_gvy)\n",
        "\n",
        "\n",
        "\n",
        "\n",
        "\n",
        "\n",
        "\n",
        "# Merge fitted models.\n",
        "mergedFitted = fittedHarmonicPre.merge(fittedHarmonicDist)\n",
        "\n",
        "# Plot the fitted models and the original data at the ROI.\n",
        "chart = chart.image_series(\n",
        "mergedFitted.select(['fitted', 'NDVI']), roi, ee.Reducer \\\n",
        ".mean(), 30)\n",
        "chart.set_options(options={\n",
        "    'title': 'Harmonic model = original and fitted values Merged models',\n",
        "    'lineWidth': 1,\n",
        "    'pointSize': 3,\n",
        "})\n",
        "chart.display()\n",
        "\n",
        "#  -----------------------------------------------------------------------\n",
        "#  CHECKPOINT\n",
        "#  -----------------------------------------------------------------------#  -----------------------------------------------------------------------#  -----------------------------------------------------------------------#  -----------------------------------------------------------------------"
      ]
    },
    {
      "cell_type": "markdown",
      "metadata": {},
      "source": [
        "## Display the interactive map"
      ]
    },
    {
      "cell_type": "code",
      "execution_count": 4,
      "metadata": {},
      "outputs": [
        {
          "data": {
            "text/html": [
              "\n",
              "            <style>\n",
              "                .geemap-dark {\n",
              "                    --jp-widgets-color: white;\n",
              "                    --jp-widgets-label-color: white;\n",
              "                    --jp-ui-font-color1: white;\n",
              "                    --jp-layout-color2: #454545;\n",
              "                    background-color: #383838;\n",
              "                }\n",
              "\n",
              "                .geemap-dark .jupyter-button {\n",
              "                    --jp-layout-color3: #383838;\n",
              "                }\n",
              "\n",
              "                .geemap-colab {\n",
              "                    background-color: var(--colab-primary-surface-color, white);\n",
              "                }\n",
              "\n",
              "                .geemap-colab .jupyter-button {\n",
              "                    --jp-layout-color3: var(--colab-primary-surface-color, white);\n",
              "                }\n",
              "            </style>\n",
              "            "
            ],
            "text/plain": [
              "<IPython.core.display.HTML object>"
            ]
          },
          "metadata": {},
          "output_type": "display_data"
        },
        {
          "data": {
            "application/vnd.jupyter.widget-view+json": {
              "model_id": "48a42c9db18345cdb0ef2e0f62ee6521",
              "version_major": 2,
              "version_minor": 0
            },
            "text/plain": [
              "Map(center=[-2.871413, -59.985146], controls=(WidgetControl(options=['position', 'transparent_bg'], widget=Sea…"
            ]
          },
          "execution_count": 4,
          "metadata": {},
          "output_type": "execute_result"
        }
      ],
      "source": [
        "Map"
      ]
    }
  ],
  "metadata": {
    "anaconda-cloud": {},
    "kernelspec": {
      "display_name": "Python 3",
      "language": "python",
      "name": "python3"
    },
    "language_info": {
      "codemirror_mode": {
        "name": "ipython",
        "version": 3
      },
      "file_extension": ".py",
      "mimetype": "text/x-python",
      "name": "python",
      "nbconvert_exporter": "python",
      "pygments_lexer": "ipython3",
      "version": "3.11.9"
    }
  },
  "nbformat": 4,
  "nbformat_minor": 4
}
