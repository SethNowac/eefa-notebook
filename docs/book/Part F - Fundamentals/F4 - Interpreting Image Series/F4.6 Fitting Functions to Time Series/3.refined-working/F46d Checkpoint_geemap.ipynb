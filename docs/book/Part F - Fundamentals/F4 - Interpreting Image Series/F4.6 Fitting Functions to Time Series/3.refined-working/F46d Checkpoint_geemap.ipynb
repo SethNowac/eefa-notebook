{
  "cells": [
    {
      "cell_type": "markdown",
      "metadata": {},
      "source": [
        "## Import libraries"
      ]
    },
    {
      "cell_type": "code",
      "execution_count": 9,
      "metadata": {},
      "outputs": [
        {
          "data": {
            "text/html": [
              "\n",
              "            <style>\n",
              "                .geemap-dark {\n",
              "                    --jp-widgets-color: white;\n",
              "                    --jp-widgets-label-color: white;\n",
              "                    --jp-ui-font-color1: white;\n",
              "                    --jp-layout-color2: #454545;\n",
              "                    background-color: #383838;\n",
              "                }\n",
              "\n",
              "                .geemap-dark .jupyter-button {\n",
              "                    --jp-layout-color3: #383838;\n",
              "                }\n",
              "\n",
              "                .geemap-colab {\n",
              "                    background-color: var(--colab-primary-surface-color, white);\n",
              "                }\n",
              "\n",
              "                .geemap-colab .jupyter-button {\n",
              "                    --jp-layout-color3: var(--colab-primary-surface-color, white);\n",
              "                }\n",
              "            </style>\n",
              "            "
            ],
            "text/plain": [
              "<IPython.core.display.HTML object>"
            ]
          },
          "metadata": {},
          "output_type": "display_data"
        }
      ],
      "source": [
        "import ee\n",
        "import geemap\n",
        "import geemap.chart as ui_chart\n",
        "import math"
      ]
    },
    {
      "cell_type": "markdown",
      "metadata": {},
      "source": [
        "## Create an interactive map"
      ]
    },
    {
      "cell_type": "code",
      "execution_count": 10,
      "metadata": {},
      "outputs": [
        {
          "data": {
            "text/html": [
              "\n",
              "            <style>\n",
              "                .geemap-dark {\n",
              "                    --jp-widgets-color: white;\n",
              "                    --jp-widgets-label-color: white;\n",
              "                    --jp-ui-font-color1: white;\n",
              "                    --jp-layout-color2: #454545;\n",
              "                    background-color: #383838;\n",
              "                }\n",
              "\n",
              "                .geemap-dark .jupyter-button {\n",
              "                    --jp-layout-color3: #383838;\n",
              "                }\n",
              "\n",
              "                .geemap-colab {\n",
              "                    background-color: var(--colab-primary-surface-color, white);\n",
              "                }\n",
              "\n",
              "                .geemap-colab .jupyter-button {\n",
              "                    --jp-layout-color3: var(--colab-primary-surface-color, white);\n",
              "                }\n",
              "            </style>\n",
              "            "
            ],
            "text/plain": [
              "<IPython.core.display.HTML object>"
            ]
          },
          "metadata": {},
          "output_type": "display_data"
        }
      ],
      "source": [
        "Map = geemap.Map(center=[40, -100], zoom=4)"
      ]
    },
    {
      "cell_type": "markdown",
      "metadata": {},
      "source": [
        "## Add Earth Engine Python script"
      ]
    },
    {
      "cell_type": "code",
      "execution_count": 12,
      "metadata": {},
      "outputs": [
        {
          "data": {
            "text/html": [
              "\n",
              "            <style>\n",
              "                .geemap-dark {\n",
              "                    --jp-widgets-color: white;\n",
              "                    --jp-widgets-label-color: white;\n",
              "                    --jp-ui-font-color1: white;\n",
              "                    --jp-layout-color2: #454545;\n",
              "                    background-color: #383838;\n",
              "                }\n",
              "\n",
              "                .geemap-dark .jupyter-button {\n",
              "                    --jp-layout-color3: #383838;\n",
              "                }\n",
              "\n",
              "                .geemap-colab {\n",
              "                    background-color: var(--colab-primary-surface-color, white);\n",
              "                }\n",
              "\n",
              "                .geemap-colab .jupyter-button {\n",
              "                    --jp-layout-color3: var(--colab-primary-surface-color, white);\n",
              "                }\n",
              "            </style>\n",
              "            "
            ],
            "text/plain": [
              "<IPython.core.display.HTML object>"
            ]
          },
          "metadata": {},
          "output_type": "display_data"
        },
        {
          "data": {
            "application/vnd.jupyter.widget-view+json": {
              "model_id": "09dbbe7da5d54865b8fb91241e99bfa2",
              "version_major": 2,
              "version_minor": 0
            },
            "text/plain": [
              "Figure(axes=[Axis(label_offset='30px', scale=LinearScale()), Axis(label_offset='40px', orientation='vertical',…"
            ]
          },
          "metadata": {},
          "output_type": "display_data"
        },
        {
          "data": {
            "application/vnd.jupyter.widget-view+json": {
              "model_id": "a7301c243ce74727bd93396913556e27",
              "version_major": 2,
              "version_minor": 0
            },
            "text/plain": [
              "Figure(axes=[Axis(label_offset='30px', scale=LinearScale()), Axis(label_offset='40px', orientation='vertical',…"
            ]
          },
          "metadata": {},
          "output_type": "display_data"
        },
        {
          "data": {
            "application/vnd.jupyter.widget-view+json": {
              "model_id": "d6a904f0a9d846579d3289dccaf0ad68",
              "version_major": 2,
              "version_minor": 0
            },
            "text/plain": [
              "Figure(axes=[Axis(label_offset='30px', scale=LinearScale()), Axis(label_offset='40px', orientation='vertical',…"
            ]
          },
          "metadata": {},
          "output_type": "display_data"
        },
        {
          "data": {
            "application/vnd.jupyter.widget-view+json": {
              "model_id": "1576aa0e3454422d99769dd4cb9802a4",
              "version_major": 2,
              "version_minor": 0
            },
            "text/plain": [
              "Figure(axes=[Axis(label_offset='30px', scale=LinearScale()), Axis(label_offset='40px', orientation='vertical',…"
            ]
          },
          "metadata": {},
          "output_type": "display_data"
        }
      ],
      "source": [
        "# Add Earth Engine dataset\n",
        "image = ee.Image(\"USGS/SRTMGL1_003\")\n",
        "\n",
        "#  ~~~~~~~~~~~~~~~~~~~~~~~~~~~~~~~~~~~~~~~~~~~~~~~~~~~~~~~~~~~~~~~~~~~~~~~~~~~~~~~\n",
        "#  Chapter:      F4.6 Fitting Functions to Time Series\n",
        "#  Checkpoint:   F46d\n",
        "#  Authors:      Andréa Puzzi Nicolau, Karen Dyson, Biplov Bhandari, David Saah,\n",
        "#                Nicholas Clinton\n",
        "#  ~~~~~~~~~~~~~~~~~~~~~~~~~~~~~~~~~~~~~~~~~~~~~~~~~~~~~~~~~~~~~~~~~~~~~~~~~~~~~~~\n",
        "\n",
        "##########/ Sections 1 & 2 ##############/\n",
        "\n",
        "# Define function to mask clouds, scale, and add variables\n",
        "# (NDVI, time and a constant) to Landsat 8 imagery.\n",
        "def maskScaleAndAddVariable(image):\n",
        "    # Bit 0 - Fill\n",
        "    # Bit 1 - Dilated Cloud\n",
        "    # Bit 2 - Cirrus\n",
        "    # Bit 3 - Cloud\n",
        "    # Bit 4 - Cloud Shadow\n",
        "    qaMask = image.select('QA_PIXEL').bitwiseAnd(int('11111',\n",
        "    2)).eq(0)\n",
        "    saturationMask = image.select('QA_RADSAT').eq(0)\n",
        "\n",
        "    # Apply the scaling factors to the appropriate bands.\n",
        "    opticalBands = image.select('SR_B.').multiply(0.0000275).add(-\n",
        "    0.2)\n",
        "    thermalBands = image.select('ST_B.*').multiply(0.00341802) \\\n",
        "    .add(149.0)\n",
        "\n",
        "    # Replace the original bands with the scaled ones and apply the masks.\n",
        "    img = image.addBands(opticalBands, None, True) \\\n",
        "    .addBands(thermalBands, None, True) \\\n",
        "    .updateMask(qaMask) \\\n",
        "    .updateMask(saturationMask)\n",
        "    imgScaled = image.addBands(img, None, True)\n",
        "\n",
        "    # Now we start to add variables of interest.\n",
        "    # Compute time in fractional years since the epoch.\n",
        "    date = ee.Date(image.get('system:time_start'))\n",
        "    years = date.difference(ee.Date('1970-01-01'), 'year')\n",
        "    # Return the image with the added bands.\n",
        "    return imgScaled \\\n",
        "    .addBands(imgScaled.normalizedDifference(['SR_B5', 'SR_B4']) \\\n",
        "    .rename('NDVI')) \\\n",
        "    .addBands(ee.Image(years).rename('t')) \\\n",
        "    .float() \\\n",
        "    .addBands(ee.Image.constant(1))\n",
        "\n",
        "\n",
        "# Import point of interest over California, USA.\n",
        "roi = ee.Geometry.Point([-121.059, 37.9242])\n",
        "\n",
        "# Import the USGS Landsat 8 Level 2, Collection 2, Tier 1 image collection),\n",
        "# filter, mask clouds, scale, and add variables.\n",
        "landsat8sr = ee.ImageCollection('LANDSAT/LC08/C02/T1_L2') \\\n",
        ".filterBounds(roi) \\\n",
        ".filterDate('2013-01-01', '2018-01-01') \\\n",
        ".map(maskScaleAndAddVariable)\n",
        "\n",
        "# Set map center over the ROI.\n",
        "Map.centerObject(roi, 6)\n",
        "\n",
        "# Plot a time series of NDVI at a single location.\n",
        "chart = ui_chart.image_series(\n",
        "    image_collection=landsat8sr.select('NDVI'), \n",
        "    region=roi,\n",
        "    chart_type='ScatterChart')\n",
        "\n",
        "chart.set_options(options={\n",
        "'title': 'Landsat 8 NDVI time series at ROI',\n",
        "'lineWidth': 1,\n",
        "'pointSize': 3,\n",
        "})\n",
        "\n",
        "chart.display()\n",
        "\n",
        "# Plot a time series of NDVI with a linear trend line\n",
        "# at a single location.\n",
        "chart = ui_chart.image_series(\n",
        "    image_collection=landsat8sr.select('NDVI'),\n",
        "    region=roi,\n",
        "    chart_type='ScatterChart')\n",
        "\n",
        "chart.set_options(\n",
        "    options={\n",
        "        'title': 'Landsat 8 NDVI time series at ROI',\n",
        "        'trendlines': {\n",
        "            '0': {\n",
        "                    'color': 'CC0000'\n",
        "                }\n",
        "        },\n",
        "        'lineWidth': 1,\n",
        "        'pointSize': 3,\n",
        "    }\n",
        ")\n",
        "\n",
        "chart.display()\n",
        "\n",
        "#  -----------------------------------------------------------------------\n",
        "#  CHECKPOINT\n",
        "#  -----------------------------------------------------------------------\n",
        "\n",
        "##########/ Section 3 ##############/\n",
        "\n",
        "# List of the independent variable names\n",
        "independents = ee.List(['constant', 't'])\n",
        "\n",
        "# Name of the dependent variable.\n",
        "dependent = ee.String('NDVI')\n",
        "\n",
        "# Compute a linear trend.  This will have two bands: 'residuals' and\n",
        "# a 2x1 (Array Image) band called 'coefficients'.\n",
        "# (Columns are for dependent variables)\n",
        "trend = landsat8sr.select(independents.add(dependent)) \\\n",
        ".reduce(ee.Reducer.linearRegression(independents.length(), 1))\n",
        "Map.addLayer(trend, {}, 'trend array image')\n",
        "\n",
        "# Flatten the coefficients into a 2-band image.\n",
        "coefficients = trend.select('coefficients') \\\n",
        ".arrayProject([0]) \\\n",
        ".arrayFlatten([independents])\n",
        "Map.addLayer(coefficients, {}, 'coefficients image')\n",
        "\n",
        "# Compute a detrended series.\n",
        "\n",
        "def func_rqf(image):\n",
        "    return image.select(dependent).subtract(\n",
        "    image.select(independents).multiply(coefficients) \\\n",
        "    .reduce('sum')) \\\n",
        "    .rename(dependent) \\\n",
        "    .copyProperties(image, ['system:time_start'])\n",
        "\n",
        "detrended = landsat8sr.map(func_rqf)\n",
        "\n",
        "\n",
        "\n",
        "\n",
        "\n",
        "\n",
        "\n",
        "# Plot the detrended results.\n",
        "detrendedChart = ui_chart.image_series(detrended, roi, None, 30)\n",
        "detrendedChart.set_options(options={\n",
        "'title': 'Detrended Landsat time series at ROI',\n",
        "'lineWidth': 1,\n",
        "'pointSize': 3,\n",
        "'trendlines': {\n",
        "    '0': {\n",
        "            'color': 'CC0000'\n",
        "        }\n",
        "},\n",
        "})\n",
        "detrendedChart.display()\n",
        "\n",
        "#  -----------------------------------------------------------------------\n",
        "#  CHECKPOINT\n",
        "#  -----------------------------------------------------------------------\n",
        "\n",
        "##########/ Section 4 ##############/\n",
        "\n",
        "# Use these independent variables in the harmonic regression.\n",
        "harmonicIndependents = ee.List(['constant', 't', 'cos', 'sin'])\n",
        "\n",
        "# Add harmonic terms as new image bands.\n",
        "\n",
        "def func_nlv(image):\n",
        "    timeRadians = image.select('t').multiply(2 * math.pi)\n",
        "    return image \\\n",
        "    .addBands(timeRadians.cos().rename('cos')) \\\n",
        "    .addBands(timeRadians.sin().rename('sin'))\n",
        "\n",
        "harmonicLandsat = landsat8sr.map(func_nlv)\n",
        "\n",
        "\n",
        "\n",
        "\n",
        "\n",
        "\n",
        "# Fit the model.\n",
        "harmonicTrend = harmonicLandsat \\\n",
        ".select(harmonicIndependents.add(dependent)) \\\n",
        ".reduce(ee.Reducer.linearRegression(harmonicIndependents.length(),\n",
        "1))\n",
        "\n",
        "# Turn the array image into a multi-band image of coefficients.\n",
        "harmonicTrendCoefficients = harmonicTrend.select('coefficients') \\\n",
        ".arrayProject([0]) \\\n",
        ".arrayFlatten([harmonicIndependents])\n",
        "\n",
        "# Compute fitted values.\n",
        "\n",
        "def func_bht(image):\n",
        "    return image.addBands(\n",
        "    image.select(harmonicIndependents) \\\n",
        "    .multiply(harmonicTrendCoefficients) \\\n",
        "    .reduce('sum') \\\n",
        "    .rename('fitted'))\n",
        "\n",
        "fittedHarmonic = harmonicLandsat.map(func_bht)\n",
        "\n",
        "\n",
        "\n",
        "\n",
        "\n",
        "\n",
        "\n",
        "# Plot the fitted model and the original data at the ROI.\n",
        "chart = ui_chart.image_series(\n",
        "fittedHarmonic.select(['fitted', 'NDVI']), roi, ee.Reducer \\\n",
        ".mean(), 30)\n",
        "#setSeriesNames(['NDVI', 'fitted']) \\\n",
        "chart.set_options(options={\n",
        "'title': 'Harmonic model = original and fitted values',\n",
        "'lineWidth': 1,\n",
        "'pointSize': 3,\n",
        "})\n",
        "chart.display()\n",
        "\n",
        "# Compute phase and amplitude.\n",
        "phase = harmonicTrendCoefficients.select('sin') \\\n",
        ".atan2(harmonicTrendCoefficients.select('cos')) \\\n",
        ".unitScale(-math.pi, math.pi)\n",
        "\n",
        "amplitude = harmonicTrendCoefficients.select('sin') \\\n",
        ".hypot(harmonicTrendCoefficients.select('cos')) \\\n",
        ".multiply(5)\n",
        "\n",
        "# Compute the mean NDVI.\n",
        "meanNdvi = landsat8sr.select('NDVI').mean()\n",
        "\n",
        "# Use the HSV to RGB transformation to display phase and amplitude.\n",
        "rgb = ee.Image.cat([\n",
        "phase, \n",
        "amplitude, \n",
        "meanNdvi \n",
        "]).hsvToRgb()\n",
        "\n",
        "Map.addLayer(rgb, {}, 'phase (hue), amplitude (sat), ndvi (val)')\n",
        "\n",
        "#  -----------------------------------------------------------------------\n",
        "#  CHECKPOINT\n",
        "#  -----------------------------------------------------------------------\n",
        "\n",
        "##########/ Section 5 ##############/\n",
        "\n",
        "# Import point of interest over California, USA.\n",
        "roi = ee.Geometry.Point([-121.04, 37.641])\n",
        "\n",
        "# Set map center over the ROI.\n",
        "Map.centerObject(roi, 14)\n",
        "\n",
        "trend0D = trend.select('coefficients').arrayProject([0]) \\\n",
        ".arrayFlatten([independents]).select('t')\n",
        "\n",
        "anotherView = ee.Image(harmonicTrendCoefficients.select('sin')) \\\n",
        ".addBands(trend0D) \\\n",
        ".addBands(harmonicTrendCoefficients.select('cos'))\n",
        "\n",
        "Map.addLayer(anotherView,\n",
        "{\n",
        "    'min': -0.03,\n",
        "    'max': 0.03\n",
        "},\n",
        "'Another combination of fit characteristics')\n",
        "\n",
        "#  -----------------------------------------------------------------------\n",
        "#  CHECKPOINT\n",
        "#  -----------------------------------------------------------------------"
      ]
    },
    {
      "cell_type": "markdown",
      "metadata": {},
      "source": [
        "## Display the interactive map"
      ]
    },
    {
      "cell_type": "code",
      "execution_count": 13,
      "metadata": {},
      "outputs": [
        {
          "data": {
            "text/html": [
              "\n",
              "            <style>\n",
              "                .geemap-dark {\n",
              "                    --jp-widgets-color: white;\n",
              "                    --jp-widgets-label-color: white;\n",
              "                    --jp-ui-font-color1: white;\n",
              "                    --jp-layout-color2: #454545;\n",
              "                    background-color: #383838;\n",
              "                }\n",
              "\n",
              "                .geemap-dark .jupyter-button {\n",
              "                    --jp-layout-color3: #383838;\n",
              "                }\n",
              "\n",
              "                .geemap-colab {\n",
              "                    background-color: var(--colab-primary-surface-color, white);\n",
              "                }\n",
              "\n",
              "                .geemap-colab .jupyter-button {\n",
              "                    --jp-layout-color3: var(--colab-primary-surface-color, white);\n",
              "                }\n",
              "            </style>\n",
              "            "
            ],
            "text/plain": [
              "<IPython.core.display.HTML object>"
            ]
          },
          "metadata": {},
          "output_type": "display_data"
        },
        {
          "data": {
            "application/vnd.jupyter.widget-view+json": {
              "model_id": "b1e262d303ed41f18be2bd3f05a92ebb",
              "version_major": 2,
              "version_minor": 0
            },
            "text/plain": [
              "Map(center=[37.641, -121.04], controls=(WidgetControl(options=['position', 'transparent_bg'], widget=SearchDat…"
            ]
          },
          "execution_count": 13,
          "metadata": {},
          "output_type": "execute_result"
        }
      ],
      "source": [
        "Map"
      ]
    }
  ],
  "metadata": {
    "anaconda-cloud": {},
    "kernelspec": {
      "display_name": "Python 3",
      "language": "python",
      "name": "python3"
    },
    "language_info": {
      "codemirror_mode": {
        "name": "ipython",
        "version": 3
      },
      "file_extension": ".py",
      "mimetype": "text/x-python",
      "name": "python",
      "nbconvert_exporter": "python",
      "pygments_lexer": "ipython3",
      "version": "3.11.9"
    }
  },
  "nbformat": 4,
  "nbformat_minor": 4
}
