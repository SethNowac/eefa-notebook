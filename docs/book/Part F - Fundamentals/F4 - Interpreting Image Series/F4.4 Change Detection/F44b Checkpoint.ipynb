{
  "cells": [
    {
      "cell_type": "markdown",
      "metadata": {},
      "source": [
        "## Import libraries"
      ]
    },
    {
      "cell_type": "code",
      "metadata": {},
      "source": [
        "import ee\n",
        "import geemap"
      ],
      "outputs": [],
      "execution_count": null
    },
    {
      "cell_type": "markdown",
      "metadata": {},
      "source": [
        "## Create an interactive map"
      ]
    },
    {
      "cell_type": "code",
      "metadata": {},
      "source": [
        "Map = geemap.Map(center=[40, -100], zoom=4)"
      ],
      "outputs": [],
      "execution_count": null
    },
    {
      "cell_type": "markdown",
      "metadata": {},
      "source": [
        "## Add Earth Engine Python script"
      ]
    },
    {
      "cell_type": "code",
      "metadata": {},
      "source": [
        "# Add Earth Engine dataset\n",
        "image = ee.Image(\"USGS/SRTMGL1_003\")\n",
        "\n",
        "#  ~~~~~~~~~~~~~~~~~~~~~~~~~~~~~~~~~~~~~~~~~~~~~~~~~~~~~~~~~~~~~~~~~~~~~~~\n",
        "#  Chapter:      F4.4 Change Detection\n",
        "#  Checkpoint:   F44b\n",
        "#  Author:       Karis Tenneson, John Dilger, Crystal Wespestad, Brian Zutta,\n",
        "#                Andr\u00e9a P Nicolau, Karen Dyson\n",
        "#  ~~~~~~~~~~~~~~~~~~~~~~~~~~~~~~~~~~~~~~~~~~~~~~~~~~~~~~~~~~~~~~~~~~~~~~~\n",
        "\n",
        "landsat8 = ee.ImageCollection('LANDSAT/LC08/C02/T1_L2') \\\n",
        "    .select(\n",
        "        ['SR_B2', 'SR_B3', 'SR_B4', 'SR_B5', 'SR_B6', 'SR_B7'],\n",
        "        ['blue', 'green', 'red', 'nir', 'swir1', 'swir2']\n",
        "    )\n",
        "\n",
        "point = ee.Geometry.Point([-123.64, 42.96])\n",
        "Map.centerObject(point, 11)\n",
        "\n",
        "preImage = landsat8 \\\n",
        "    .filterBounds(point) \\\n",
        "    .filterDate('2013-06-01', '2013-06-30') \\\n",
        "    .sort('CLOUD_COVER', True) \\\n",
        "    .first()\n",
        "\n",
        "postImage = landsat8 \\\n",
        "    .filterBounds(point) \\\n",
        "    .filterDate('2020-06-01', '2020-06-30') \\\n",
        "    .sort('CLOUD_COVER', True) \\\n",
        "    .first()\n",
        "\n",
        "visParam = {\n",
        "    'bands': ['swir2', 'nir', 'red'],\n",
        "    'min': 7750,\n",
        "    'max': 22200\n",
        "}\n",
        "Map.addLayer(preImage, visParam, 'pre')\n",
        "Map.addLayer(postImage, visParam, 'post')\n",
        "\n",
        "# Calculate NBR.\n",
        "nbrPre = preImage.normalizedDifference(['nir', 'swir2']) \\\n",
        "    .rename('nbr_pre')\n",
        "nbrPost = postImage.normalizedDifference(['nir', 'swir2']) \\\n",
        "    .rename('nbr_post')\n",
        "\n",
        "#  -----------------------------------------------------------------------\n",
        "#  CHECKPOINT\n",
        "#  -----------------------------------------------------------------------\n",
        "\n",
        "# 2-date change.\n",
        "diff = nbrPost.subtract(nbrPre).rename('change')\n",
        "\n",
        "palette = [\n",
        "    '011959', '0E365E', '1D5561', '3E6C55', '687B3E',\n",
        "    '9B882E', 'D59448', 'F9A380', 'FDB7BD', 'FACCFA'\n",
        "]\n",
        "visParams = {\n",
        "    'palette': palette,\n",
        "    'min': -0.2,\n",
        "    'max': 0.2\n",
        "}\n",
        "Map.addLayer(diff, visParams, 'change')\n",
        "\n",
        "# Classify change\n",
        "thresholdGain = 0.10\n",
        "thresholdLoss = -0.10\n",
        "\n",
        "diffClassified = ee.Image(0)\n",
        "\n",
        "diffClassified = diffClassified.where(diff.lte(thresholdLoss), 2)\n",
        "diffClassified = diffClassified.where(diff.gte(thresholdGain), 1)\n",
        "\n",
        "changeVis = {\n",
        "    'palette': 'fcffc8,2659eb,fa1373',\n",
        "    'min': 0,\n",
        "    'max': 2\n",
        "}\n",
        "\n",
        "Map.addLayer(diffClassified.selfMask(),\n",
        "    changeVis,\n",
        "    'change classified by threshold')\n",
        "\n",
        "#  -----------------------------------------------------------------------\n",
        "#  CHECKPOINT\n",
        "#  -----------------------------------------------------------------------\n"
      ],
      "outputs": [],
      "execution_count": null
    },
    {
      "cell_type": "markdown",
      "metadata": {},
      "source": [
        "## Display the interactive map"
      ]
    },
    {
      "cell_type": "code",
      "metadata": {},
      "source": [
        "Map"
      ],
      "outputs": [],
      "execution_count": null
    }
  ],
  "metadata": {
    "anaconda-cloud": {},
    "kernelspec": {
      "display_name": "Python 3",
      "language": "python",
      "name": "python3"
    },
    "language_info": {
      "codemirror_mode": {
        "name": "ipython",
        "version": 3
      },
      "file_extension": ".py",
      "mimetype": "text/x-python",
      "name": "python",
      "nbconvert_exporter": "python",
      "pygments_lexer": "ipython3",
      "version": "3.6.1"
    }
  },
  "nbformat": 4,
  "nbformat_minor": 4
}