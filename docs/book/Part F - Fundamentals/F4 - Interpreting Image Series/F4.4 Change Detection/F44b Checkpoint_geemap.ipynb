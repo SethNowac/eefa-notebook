{
  "cells": [
    {
      "cell_type": "markdown",
      "metadata": {},
      "source": [
        "## Import libraries"
      ]
    },
    {
      "cell_type": "code",
      "execution_count": 1,
      "metadata": {},
      "outputs": [],
      "source": [
        "import ee\n",
        "import geemap"
      ]
    },
    {
      "cell_type": "markdown",
      "metadata": {},
      "source": [
        "## Create an interactive map"
      ]
    },
    {
      "cell_type": "code",
      "execution_count": 2,
      "metadata": {},
      "outputs": [
        {
          "data": {
            "text/html": [
              "\n",
              "            <style>\n",
              "                .geemap-dark {\n",
              "                    --jp-widgets-color: white;\n",
              "                    --jp-widgets-label-color: white;\n",
              "                    --jp-ui-font-color1: white;\n",
              "                    --jp-layout-color2: #454545;\n",
              "                    background-color: #383838;\n",
              "                }\n",
              "                    \n",
              "                .geemap-dark .jupyter-button {\n",
              "                    --jp-layout-color3: #383838;\n",
              "                }\n",
              "                \n",
              "                .geemap-colab {\n",
              "                    background-color: var(--colab-primary-surface-color, white);\n",
              "                }\n",
              "                    \n",
              "                .geemap-colab .jupyter-button {\n",
              "                    --jp-layout-color3: var(--colab-primary-surface-color, white);\n",
              "                }\n",
              "            </style>\n",
              "            "
            ],
            "text/plain": [
              "<IPython.core.display.HTML object>"
            ]
          },
          "metadata": {},
          "output_type": "display_data"
        }
      ],
      "source": [
        "Map = geemap.Map(center=[40, -100], zoom=4)"
      ]
    },
    {
      "cell_type": "markdown",
      "metadata": {},
      "source": [
        "## Add Earth Engine Python script"
      ]
    },
    {
      "cell_type": "code",
      "execution_count": 13,
      "metadata": {},
      "outputs": [
        {
          "data": {
            "text/html": [
              "\n",
              "            <style>\n",
              "                .geemap-dark {\n",
              "                    --jp-widgets-color: white;\n",
              "                    --jp-widgets-label-color: white;\n",
              "                    --jp-ui-font-color1: white;\n",
              "                    --jp-layout-color2: #454545;\n",
              "                    background-color: #383838;\n",
              "                }\n",
              "                    \n",
              "                .geemap-dark .jupyter-button {\n",
              "                    --jp-layout-color3: #383838;\n",
              "                }\n",
              "                \n",
              "                .geemap-colab {\n",
              "                    background-color: var(--colab-primary-surface-color, white);\n",
              "                }\n",
              "                    \n",
              "                .geemap-colab .jupyter-button {\n",
              "                    --jp-layout-color3: var(--colab-primary-surface-color, white);\n",
              "                }\n",
              "            </style>\n",
              "            "
            ],
            "text/plain": [
              "<IPython.core.display.HTML object>"
            ]
          },
          "metadata": {},
          "output_type": "display_data"
        }
      ],
      "source": [
        "# Add Earth Engine dataset\n",
        "image = ee.Image(\"USGS/SRTMGL1_003\")\n",
        "\n",
        "#  ~~~~~~~~~~~~~~~~~~~~~~~~~~~~~~~~~~~~~~~~~~~~~~~~~~~~~~~~~~~~~~~~~~~~~~~\n",
        "#  Chapter:      F4.4 Change Detection\n",
        "#  Checkpoint:   F44b\n",
        "#  Author:       Karis Tenneson, John Dilger, Crystal Wespestad, Brian Zutta,\n",
        "#                Andréa P Nicolau, Karen Dyson\n",
        "#  ~~~~~~~~~~~~~~~~~~~~~~~~~~~~~~~~~~~~~~~~~~~~~~~~~~~~~~~~~~~~~~~~~~~~~~~\n",
        "\n",
        "landsat8 = ee.ImageCollection('LANDSAT/LC08/C02/T1_L2') \\\n",
        ".select(\n",
        "['SR_B2', 'SR_B3', 'SR_B4', 'SR_B5', 'SR_B6', 'SR_B7'],\n",
        "['blue', 'green', 'red', 'nir', 'swir1', 'swir2']\n",
        ")\n",
        "\n",
        "point = ee.Geometry.Point([-123.64, 42.96])\n",
        "Map.centerObject(point, 11)\n",
        "\n",
        "preImage = landsat8 \\\n",
        ".filterBounds(point) \\\n",
        ".filterDate('2013-06-01', '2013-06-30') \\\n",
        ".sort('CLOUD_COVER', True) \\\n",
        ".first()\n",
        "\n",
        "postImage = landsat8 \\\n",
        ".filterBounds(point) \\\n",
        ".filterDate('2020-06-01', '2020-06-30') \\\n",
        ".sort('CLOUD_COVER', True) \\\n",
        ".first()\n",
        "\n",
        "visParam = {\n",
        "    'bands': ['swir2', 'nir', 'red'],\n",
        "    'min': 7750,\n",
        "    'max': 22200\n",
        "}\n",
        "Map.addLayer(preImage, visParam, 'pre')\n",
        "Map.addLayer(postImage, visParam, 'post')\n",
        "\n",
        "# Calculate NBR.\n",
        "nbrPre = preImage.normalizedDifference(['nir', 'swir2']) \\\n",
        ".rename('nbr_pre')\n",
        "nbrPost = postImage.normalizedDifference(['nir', 'swir2']) \\\n",
        ".rename('nbr_post')\n",
        "\n",
        "#  -----------------------------------------------------------------------\n",
        "#  CHECKPOINT\n",
        "#  -----------------------------------------------------------------------\n",
        "\n",
        "# 2-date change.\n",
        "diff = nbrPost.subtract(nbrPre).rename('change')\n",
        "\n",
        "palette = [\n",
        "'011959', '0E365E', '1D5561', '3E6C55', '687B3E',\n",
        "'9B882E', 'D59448', 'F9A380', 'FDB7BD', 'FACCFA'\n",
        "]\n",
        "visParams = {\n",
        "    'palette': palette,\n",
        "    'min': -0.2,\n",
        "    'max': 0.2\n",
        "}\n",
        "Map.addLayer(diff, visParams, 'change')\n",
        "\n",
        "# Classify change\n",
        "thresholdGain = 0.10\n",
        "thresholdLoss = -0.10\n",
        "\n",
        "diffClassified = ee.Image(0)\n",
        "\n",
        "diffClassified = diffClassified.where(diff.lte(thresholdLoss), 2)\n",
        "diffClassified = diffClassified.where(diff.gte(thresholdGain), 1)\n",
        "\n",
        "changeVis = {\n",
        "    'palette': ['fcffc8','2659eb','fa1373'],\n",
        "    'min': 0,\n",
        "    'max': 2\n",
        "}\n",
        "\n",
        "Map.addLayer(diffClassified.selfMask(),\n",
        "changeVis,\n",
        "'change classified by threshold')\n",
        "\n",
        "#  -----------------------------------------------------------------------\n",
        "#  CHECKPOINT\n",
        "#  -----------------------------------------------------------------------\n"
      ]
    },
    {
      "cell_type": "markdown",
      "metadata": {},
      "source": [
        "## Display the interactive map"
      ]
    },
    {
      "cell_type": "code",
      "execution_count": 4,
      "metadata": {},
      "outputs": [
        {
          "data": {
            "text/html": [
              "\n",
              "            <style>\n",
              "                .geemap-dark {\n",
              "                    --jp-widgets-color: white;\n",
              "                    --jp-widgets-label-color: white;\n",
              "                    --jp-ui-font-color1: white;\n",
              "                    --jp-layout-color2: #454545;\n",
              "                    background-color: #383838;\n",
              "                }\n",
              "                    \n",
              "                .geemap-dark .jupyter-button {\n",
              "                    --jp-layout-color3: #383838;\n",
              "                }\n",
              "                \n",
              "                .geemap-colab {\n",
              "                    background-color: var(--colab-primary-surface-color, white);\n",
              "                }\n",
              "                    \n",
              "                .geemap-colab .jupyter-button {\n",
              "                    --jp-layout-color3: var(--colab-primary-surface-color, white);\n",
              "                }\n",
              "            </style>\n",
              "            "
            ],
            "text/plain": [
              "<IPython.core.display.HTML object>"
            ]
          },
          "metadata": {},
          "output_type": "display_data"
        },
        {
          "data": {
            "application/vnd.jupyter.widget-view+json": {
              "model_id": "44ab5a5a54cb49b7b477b4f71d9086d2",
              "version_major": 2,
              "version_minor": 0
            },
            "text/plain": [
              "Map(center=[42.96, -123.64], controls=(WidgetControl(options=['position', 'transparent_bg'], widget=SearchData…"
            ]
          },
          "execution_count": 4,
          "metadata": {},
          "output_type": "execute_result"
        }
      ],
      "source": [
        "Map"
      ]
    }
  ],
  "metadata": {
    "anaconda-cloud": {},
    "kernelspec": {
      "display_name": "Python 3",
      "language": "python",
      "name": "python3"
    },
    "language_info": {
      "codemirror_mode": {
        "name": "ipython",
        "version": 3
      },
      "file_extension": ".py",
      "mimetype": "text/x-python",
      "name": "python",
      "nbconvert_exporter": "python",
      "pygments_lexer": "ipython3",
      "version": "3.11.9"
    }
  },
  "nbformat": 4,
  "nbformat_minor": 4
}
