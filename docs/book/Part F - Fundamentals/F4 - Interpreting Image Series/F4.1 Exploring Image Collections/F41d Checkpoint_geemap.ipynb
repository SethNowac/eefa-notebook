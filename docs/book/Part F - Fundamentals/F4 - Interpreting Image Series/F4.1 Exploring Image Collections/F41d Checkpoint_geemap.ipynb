{
  "cells": [
    {
      "cell_type": "markdown",
      "metadata": {},
      "source": [
        "## Import libraries"
      ]
    },
    {
      "cell_type": "code",
      "execution_count": 3,
      "metadata": {},
      "outputs": [
        {
          "data": {
            "text/html": [
              "\n",
              "            <style>\n",
              "                .geemap-dark {\n",
              "                    --jp-widgets-color: white;\n",
              "                    --jp-widgets-label-color: white;\n",
              "                    --jp-ui-font-color1: white;\n",
              "                    --jp-layout-color2: #454545;\n",
              "                    background-color: #383838;\n",
              "                }\n",
              "                    \n",
              "                .geemap-dark .jupyter-button {\n",
              "                    --jp-layout-color3: #383838;\n",
              "                }\n",
              "                \n",
              "                .geemap-colab {\n",
              "                    background-color: var(--colab-primary-surface-color, white);\n",
              "                }\n",
              "                    \n",
              "                .geemap-colab .jupyter-button {\n",
              "                    --jp-layout-color3: var(--colab-primary-surface-color, white);\n",
              "                }\n",
              "            </style>\n",
              "            "
            ],
            "text/plain": [
              "<IPython.core.display.HTML object>"
            ]
          },
          "metadata": {},
          "output_type": "display_data"
        }
      ],
      "source": [
        "import ee\n",
        "import geemap\n",
        "import geemap.chart as chart"
      ]
    },
    {
      "cell_type": "markdown",
      "metadata": {},
      "source": [
        "## Create an interactive map"
      ]
    },
    {
      "cell_type": "code",
      "execution_count": 4,
      "metadata": {},
      "outputs": [
        {
          "data": {
            "text/html": [
              "\n",
              "            <style>\n",
              "                .geemap-dark {\n",
              "                    --jp-widgets-color: white;\n",
              "                    --jp-widgets-label-color: white;\n",
              "                    --jp-ui-font-color1: white;\n",
              "                    --jp-layout-color2: #454545;\n",
              "                    background-color: #383838;\n",
              "                }\n",
              "                    \n",
              "                .geemap-dark .jupyter-button {\n",
              "                    --jp-layout-color3: #383838;\n",
              "                }\n",
              "                \n",
              "                .geemap-colab {\n",
              "                    background-color: var(--colab-primary-surface-color, white);\n",
              "                }\n",
              "                    \n",
              "                .geemap-colab .jupyter-button {\n",
              "                    --jp-layout-color3: var(--colab-primary-surface-color, white);\n",
              "                }\n",
              "            </style>\n",
              "            "
            ],
            "text/plain": [
              "<IPython.core.display.HTML object>"
            ]
          },
          "metadata": {},
          "output_type": "display_data"
        }
      ],
      "source": [
        "Map = geemap.Map(center=[40, -100], zoom=4)"
      ]
    },
    {
      "cell_type": "markdown",
      "metadata": {},
      "source": [
        "## Add Earth Engine Python script"
      ]
    },
    {
      "cell_type": "code",
      "execution_count": 7,
      "metadata": {},
      "outputs": [
        {
          "data": {
            "text/html": [
              "\n",
              "            <style>\n",
              "                .geemap-dark {\n",
              "                    --jp-widgets-color: white;\n",
              "                    --jp-widgets-label-color: white;\n",
              "                    --jp-ui-font-color1: white;\n",
              "                    --jp-layout-color2: #454545;\n",
              "                    background-color: #383838;\n",
              "                }\n",
              "                    \n",
              "                .geemap-dark .jupyter-button {\n",
              "                    --jp-layout-color3: #383838;\n",
              "                }\n",
              "                \n",
              "                .geemap-colab {\n",
              "                    background-color: var(--colab-primary-surface-color, white);\n",
              "                }\n",
              "                    \n",
              "                .geemap-colab .jupyter-button {\n",
              "                    --jp-layout-color3: var(--colab-primary-surface-color, white);\n",
              "                }\n",
              "            </style>\n",
              "            "
            ],
            "text/plain": [
              "<IPython.core.display.HTML object>"
            ]
          },
          "metadata": {},
          "output_type": "display_data"
        }
      ],
      "source": [
        "# Add Earth Engine dataset\n",
        "image = ee.Image(\"USGS/SRTMGL1_003\")\n",
        "\n",
        "#  ~~~~~~~~~~~~~~~~~~~~~~~~~~~~~~~~~~~~~~~~~~~~~~~~~~~~~~~~~~~~~~~~~~~~~~~\n",
        "#  Chapter:      F4.1 Exploring Image Collections\n",
        "#  Checkpoint:   F41d\n",
        "#  Author:       Gennadii Donchyts\n",
        "#  ~~~~~~~~~~~~~~~~~~~~~~~~~~~~~~~~~~~~~~~~~~~~~~~~~~~~~~~~~~~~~~~~~~~~~~~\n",
        "\n",
        "# Define a region of interest as a point in Lisbon, Portugal.\n",
        "lisbonPoint = ee.Geometry.Point(-9.179473, 38.763948)\n",
        "\n",
        "# Center the map at that point.\n",
        "Map.centerObject(lisbonPoint, 16)\n",
        "\n",
        "# filter the large ImageCollection to be just images from 2020\n",
        "# around Lisbon. From each image, select True-color bands to draw\n",
        "filteredIC = ee.ImageCollection('LANDSAT/LC08/C02/T1_TOA') \\\n",
        ".filterDate('2020-01-01', '2021-01-01') \\\n",
        ".filterBounds(lisbonPoint) \\\n",
        ".select(['B6', 'B5', 'B4'])\n",
        "\n",
        "# Add the filtered ImageCollection so that we can inspect values\n",
        "# via the Inspector tool\n",
        "Map.addLayer(filteredIC, {}, 'TOA image collection')\n",
        "\n",
        "# Construct a chart using values queried from image collection.\n",
        "chart.image_series(\n",
        "imageCollection = filteredIC,\n",
        "region = lisbonPoint,\n",
        "reducer = ee.Reducer.first(),\n",
        "scale = 10,\n",
        "xProperty = None\n",
        ")\n",
        "\n",
        "#  -----------------------------------------------------------------------\n",
        "#  CHECKPOINT\n",
        "#  -----------------------------------------------------------------------\n",
        "\n",
        "# compute and show the number of observations in an image collection\n",
        "count = ee.ImageCollection('LANDSAT/LC08/C02/T1_TOA') \\\n",
        ".filterDate('2020-01-01', '2021-01-01') \\\n",
        ".select(['B6']) \\\n",
        ".count()\n",
        "\n",
        "# add white background and switch to HYBRID basemap\n",
        "Map.addLayer(ee.Image(1), {\n",
        "    'palette': ['white']\n",
        "}, 'white', True, 0.5)\n",
        "Map.setOptions('HYBRID')\n",
        "\n",
        "# show image count\n",
        "Map.addLayer(count, {\n",
        "    'min': 0,\n",
        "    'max': 50,\n",
        "    'palette': ['d7191c', 'fdae61', 'ffffbf', 'a6d96a',\n",
        "    '1a9641']\n",
        "}, 'landsat 8 image count (2020)')\n",
        "\n",
        "# Center the map at that point.\n",
        "Map.centerObject(lisbonPoint, 5)\n",
        "\n",
        "#  -----------------------------------------------------------------------\n",
        "#  CHECKPOINT\n",
        "#  -----------------------------------------------------------------------\n",
        "\n",
        "# Zoom to an informative scale for the code that follows.\n",
        "Map.centerObject(lisbonPoint, 10)\n",
        "\n",
        "# Add a mean composite image.\n",
        "meanFilteredIC = filteredIC.reduce(ee.Reducer.mean())\n",
        "Map.addLayer(meanFilteredIC, {},\n",
        "'Mean values within image collection')\n",
        "\n",
        "# Add a median composite image.\n",
        "medianFilteredIC = filteredIC.reduce(ee.Reducer.median())\n",
        "Map.addLayer(medianFilteredIC, {},\n",
        "'Median values within image collection')\n",
        "\n",
        "#  -----------------------------------------------------------------------\n",
        "#  CHECKPOINT\n",
        "#  -----------------------------------------------------------------------\n",
        "\n",
        "# compute a single 30% percentile\n",
        "p30 = filteredIC.reduce(ee.Reducer.percentile([30]))\n",
        "\n",
        "Map.addLayer(p30, {\n",
        "    'min': 0.05,\n",
        "    'max': 0.35\n",
        "}, '30%')\n",
        "\n",
        "percentiles = [0, 10, 20, 30, 40, 50, 60, 70, 80]\n",
        "\n",
        "# let's compute percentile images and add them as separate layers\n",
        "\n",
        "def func_gke(p):\n",
        "    image = filteredIC.reduce(ee.Reducer.percentile([p]))\n",
        "    Map.addLayer(image, {\n",
        "            'min': 0.05,\n",
        "            'max': 0.35\n",
        "        }, str(p) + '%')\n",
        "\n",
        "for i in percentiles:\n",
        "    func_gke(i)\n",
        "\n",
        "\n",
        "\n",
        "\n",
        "\n",
        "\n",
        "\n",
        "#  -----------------------------------------------------------------------\n",
        "#  CHECKPOINT\n",
        "#  -----------------------------------------------------------------------\n",
        "\n",
        "\n"
      ]
    },
    {
      "cell_type": "markdown",
      "metadata": {},
      "source": [
        "## Display the interactive map"
      ]
    },
    {
      "cell_type": "code",
      "execution_count": 8,
      "metadata": {},
      "outputs": [
        {
          "data": {
            "text/html": [
              "\n",
              "            <style>\n",
              "                .geemap-dark {\n",
              "                    --jp-widgets-color: white;\n",
              "                    --jp-widgets-label-color: white;\n",
              "                    --jp-ui-font-color1: white;\n",
              "                    --jp-layout-color2: #454545;\n",
              "                    background-color: #383838;\n",
              "                }\n",
              "                    \n",
              "                .geemap-dark .jupyter-button {\n",
              "                    --jp-layout-color3: #383838;\n",
              "                }\n",
              "                \n",
              "                .geemap-colab {\n",
              "                    background-color: var(--colab-primary-surface-color, white);\n",
              "                }\n",
              "                    \n",
              "                .geemap-colab .jupyter-button {\n",
              "                    --jp-layout-color3: var(--colab-primary-surface-color, white);\n",
              "                }\n",
              "            </style>\n",
              "            "
            ],
            "text/plain": [
              "<IPython.core.display.HTML object>"
            ]
          },
          "metadata": {},
          "output_type": "display_data"
        },
        {
          "data": {
            "application/vnd.jupyter.widget-view+json": {
              "model_id": "7a520d3f4da44058aaf2f07314a816b1",
              "version_major": 2,
              "version_minor": 0
            },
            "text/plain": [
              "Map(center=[38.763948, -9.179473], controls=(WidgetControl(options=['position', 'transparent_bg'], widget=Sear…"
            ]
          },
          "execution_count": 8,
          "metadata": {},
          "output_type": "execute_result"
        }
      ],
      "source": [
        "Map"
      ]
    }
  ],
  "metadata": {
    "anaconda-cloud": {},
    "kernelspec": {
      "display_name": "Python 3",
      "language": "python",
      "name": "python3"
    },
    "language_info": {
      "codemirror_mode": {
        "name": "ipython",
        "version": 3
      },
      "file_extension": ".py",
      "mimetype": "text/x-python",
      "name": "python",
      "nbconvert_exporter": "python",
      "pygments_lexer": "ipython3",
      "version": "3.11.9"
    }
  },
  "nbformat": 4,
  "nbformat_minor": 4
}
