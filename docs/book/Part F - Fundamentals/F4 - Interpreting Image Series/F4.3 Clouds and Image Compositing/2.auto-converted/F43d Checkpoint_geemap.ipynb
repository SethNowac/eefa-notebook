{
  "cells": [
    {
      "cell_type": "markdown",
      "metadata": {},
      "source": [
        "## Import libraries"
      ]
    },
    {
      "cell_type": "code",
      "execution_count": 1,
      "metadata": {},
      "outputs": [],
      "source": [
        "import ee\n",
        "import geemap"
      ]
    },
    {
      "cell_type": "markdown",
      "metadata": {},
      "source": [
        "## Create an interactive map"
      ]
    },
    {
      "cell_type": "code",
      "execution_count": 2,
      "metadata": {},
      "outputs": [
        {
          "data": {
            "text/html": [
              "\n",
              "            <style>\n",
              "                .geemap-dark {\n",
              "                    --jp-widgets-color: white;\n",
              "                    --jp-widgets-label-color: white;\n",
              "                    --jp-ui-font-color1: white;\n",
              "                    --jp-layout-color2: #454545;\n",
              "                    background-color: #383838;\n",
              "                }\n",
              "\n",
              "                .geemap-dark .jupyter-button {\n",
              "                    --jp-layout-color3: #383838;\n",
              "                }\n",
              "\n",
              "                .geemap-colab {\n",
              "                    background-color: var(--colab-primary-surface-color, white);\n",
              "                }\n",
              "\n",
              "                .geemap-colab .jupyter-button {\n",
              "                    --jp-layout-color3: var(--colab-primary-surface-color, white);\n",
              "                }\n",
              "            </style>\n",
              "            "
            ],
            "text/plain": [
              "<IPython.core.display.HTML object>"
            ]
          },
          "metadata": {},
          "output_type": "display_data"
        }
      ],
      "source": [
        "Map = geemap.Map(center=[40, -100], zoom=4)"
      ]
    },
    {
      "cell_type": "markdown",
      "metadata": {},
      "source": [
        "## Add Earth Engine Python script"
      ]
    },
    {
      "cell_type": "code",
      "execution_count": 3,
      "metadata": {},
      "outputs": [
        {
          "data": {
            "text/html": [
              "\n",
              "            <style>\n",
              "                .geemap-dark {\n",
              "                    --jp-widgets-color: white;\n",
              "                    --jp-widgets-label-color: white;\n",
              "                    --jp-ui-font-color1: white;\n",
              "                    --jp-layout-color2: #454545;\n",
              "                    background-color: #383838;\n",
              "                }\n",
              "\n",
              "                .geemap-dark .jupyter-button {\n",
              "                    --jp-layout-color3: #383838;\n",
              "                }\n",
              "\n",
              "                .geemap-colab {\n",
              "                    background-color: var(--colab-primary-surface-color, white);\n",
              "                }\n",
              "\n",
              "                .geemap-colab .jupyter-button {\n",
              "                    --jp-layout-color3: var(--colab-primary-surface-color, white);\n",
              "                }\n",
              "            </style>\n",
              "            "
            ],
            "text/plain": [
              "<IPython.core.display.HTML object>"
            ]
          },
          "metadata": {},
          "output_type": "display_data"
        },
        {
          "ename": "ModuleNotFoundError",
          "evalue": "No module named 'modules'",
          "output_type": "error",
          "traceback": [
            "\u001b[1;31m---------------------------------------------------------------------------\u001b[0m",
            "\u001b[1;31mModuleNotFoundError\u001b[0m                       Traceback (most recent call last)",
            "Cell \u001b[1;32mIn[3], line 31\u001b[0m\n\u001b[0;32m     27\u001b[0m colombia \u001b[38;5;241m=\u001b[39m worldCountries\u001b[38;5;241m.\u001b[39mfilter(ee\u001b[38;5;241m.\u001b[39mFilter\u001b[38;5;241m.\u001b[39meq(\u001b[38;5;124m'\u001b[39m\u001b[38;5;124mcountry_na\u001b[39m\u001b[38;5;124m'\u001b[39m,\n\u001b[0;32m     28\u001b[0m \u001b[38;5;124m'\u001b[39m\u001b[38;5;124mColombia\u001b[39m\u001b[38;5;124m'\u001b[39m))\n\u001b[0;32m     30\u001b[0m \u001b[38;5;66;03m# Load the bap library.\u001b[39;00m\n\u001b[1;32m---> 31\u001b[0m \u001b[38;5;28;01mfrom\u001b[39;00m \u001b[38;5;21;01mmodules\u001b[39;00m \u001b[38;5;28;01mimport\u001b[39;00m library_geemap \u001b[38;5;28;01mas\u001b[39;00m library\n\u001b[0;32m     33\u001b[0m \u001b[38;5;66;03m# Calculate BAP.\u001b[39;00m\n\u001b[0;32m     34\u001b[0m BAPCS \u001b[38;5;241m=\u001b[39m library\u001b[38;5;241m.\u001b[39mBAP(\u001b[38;5;28;01mNone\u001b[39;00m, targetDay, daysRange, cloudsTh,\n\u001b[0;32m     35\u001b[0m SLCoffPenalty, opacityScoreMin, opacityScoreMax, cloudDistMax)\n",
            "\u001b[1;31mModuleNotFoundError\u001b[0m: No module named 'modules'"
          ]
        }
      ],
      "source": [
        "# Add Earth Engine dataset\n",
        "image = ee.Image(\"USGS/SRTMGL1_003\")\n",
        "\n",
        "#  ~~~~~~~~~~~~~~~~~~~~~~~~~~~~~~~~~~~~~~~~~~~~~~~~~~~~~~~~~~~~~~~~~~~~~~~\n",
        "#  Chapter:      F4.3 Clouds and Image Compositing\n",
        "#  Checkpoint:   F43d\n",
        "#  Authors:      Txomin Hermosilla, Saverio Francini, Andréa P. Nicolau,\n",
        "#                Michael A. Wulder, Joanne C. White, Nicholas C. Coops,\n",
        "#                Gherardo Chirici\n",
        "#  ~~~~~~~~~~~~~~~~~~~~~~~~~~~~~~~~~~~~~~~~~~~~~~~~~~~~~~~~~~~~~~~~~~~~~~~\n",
        "\n",
        "# Define required parameters.\n",
        "targetDay = '06-01'\n",
        "daysRange = 75\n",
        "cloudsTh = 70\n",
        "SLCoffPenalty = 0.7\n",
        "opacityScoreMin = 0.2\n",
        "opacityScoreMax = 0.3\n",
        "cloudDistMax = 1500\n",
        "despikeTh = 0.65\n",
        "despikeNbands = 3\n",
        "startYear = 2015\n",
        "endYear = 2017\n",
        "\n",
        "# Define study area.\n",
        "worldCountries = ee.FeatureCollection('USDOS/LSIB_SIMPLE/2017')\n",
        "colombia = worldCountries.filter(ee.Filter.eq('country_na',\n",
        "'Colombia'))\n",
        "\n",
        "# Load the bap library.\n",
        "import modules.library as library\n",
        "\n",
        "# Calculate BAP.\n",
        "BAPCS = library.BAP(None, targetDay, daysRange, cloudsTh,\n",
        "SLCoffPenalty, opacityScoreMin, opacityScoreMax, cloudDistMax)\n",
        "\n",
        "# Despike the collection.\n",
        "BAPCS = library.despikeCollection(despikeTh, despikeNbands, BAPCS,\n",
        "1984, 2021, True)\n",
        "\n",
        "# Infill datagaps.\n",
        "BAPCS = library.infill(BAPCS, 1984, 2021, False, True)\n",
        "# Visualize the image.\n",
        "Map.centerObject(colombia, 5)\n",
        "library.ShowCollection(BAPCS, startYear, endYear, colombia, False,\n",
        "None, None, None)\n",
        "library.AddSLider(startYear, endYear)\n",
        "\n",
        "#  -----------------------------------------------------------------------\n",
        "#  CHECKPOINT\n",
        "#  -----------------------------------------------------------------------"
      ]
    },
    {
      "cell_type": "markdown",
      "metadata": {},
      "source": [
        "## Display the interactive map"
      ]
    },
    {
      "cell_type": "code",
      "execution_count": null,
      "metadata": {},
      "outputs": [],
      "source": [
        "Map"
      ]
    }
  ],
  "metadata": {
    "anaconda-cloud": {},
    "kernelspec": {
      "display_name": "Python 3",
      "language": "python",
      "name": "python3"
    },
    "language_info": {
      "codemirror_mode": {
        "name": "ipython",
        "version": 3
      },
      "file_extension": ".py",
      "mimetype": "text/x-python",
      "name": "python",
      "nbconvert_exporter": "python",
      "pygments_lexer": "ipython3",
      "version": "3.11.9"
    }
  },
  "nbformat": 4,
  "nbformat_minor": 4
}
