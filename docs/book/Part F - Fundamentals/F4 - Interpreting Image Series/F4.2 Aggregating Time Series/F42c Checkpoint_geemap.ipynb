{
  "cells": [
    {
      "cell_type": "markdown",
      "metadata": {},
      "source": [
        "## Import libraries"
      ]
    },
    {
      "cell_type": "code",
      "metadata": {},
      "source": [
        "import ee\n",
        "import geemap"
      ],
      "outputs": [],
      "execution_count": null
    },
    {
      "cell_type": "markdown",
      "metadata": {},
      "source": [
        "## Create an interactive map"
      ]
    },
    {
      "cell_type": "code",
      "metadata": {},
      "source": [
        "Map = geemap.Map(center=[40, -100], zoom=4)"
      ],
      "outputs": [],
      "execution_count": null
    },
    {
      "cell_type": "markdown",
      "metadata": {},
      "source": [
        "## Add Earth Engine Python script"
      ]
    },
    {
      "cell_type": "code",
      "metadata": {},
      "source": [
        "# Add Earth Engine dataset\n",
        "image = ee.Image(\"USGS/SRTMGL1_003\")\n",
        "\n",
        "#  ~~~~~~~~~~~~~~~~~~~~~~~~~~~~~~~~~~~~~~~~~~~~~~~~~~~~~~~~~~~~~~~~~~~~~~~\n",
        "#  Chapter:      F4.2 Aggregating Images for Time Series\n",
        "#  Checkpoint:   F42c\n",
        "#  Author:       Ujaval Gandhi\n",
        "#  ~~~~~~~~~~~~~~~~~~~~~~~~~~~~~~~~~~~~~~~~~~~~~~~~~~~~~~~~~~~~~~~~~~~~~~~\n",
        "\n",
        "chirps = ee.ImageCollection('UCSB-CHG/CHIRPS/PENTAD')\n",
        "year = 2019\n",
        "startDate = ee.Date.fromYMD(year, 1, 1)\n",
        "\n",
        "endDate = startDate.advance(1, 'year')\n",
        "\n",
        "yearFiltered = chirps \\\n",
        ".filter(ee.Filter.date(startDate, endDate))\n",
        "print(yearFiltered, 'Date-filtered CHIRPS images'.getInfo())\n",
        "\n",
        "print(startDate, 'Start date'.getInfo())\n",
        "print(endDate, 'End date'.getInfo())\n",
        "\n",
        "print('Start date as timestamp', startDate.millis().getInfo())\n",
        "print('End date as timestamp', endDate.millis().getInfo())\n",
        "\n",
        "#  -----------------------------------------------------------------------\n",
        "#  CHECKPOINT\n",
        "#  -----------------------------------------------------------------------\n",
        "\n",
        "# Aggregate this time series to compute monthly images.\n",
        "# Create a list of months\n",
        "months = ee.List.sequence(1, 12)\n",
        "\n",
        "# Write a function that takes a month number\n",
        "# and returns a monthly image.\n",
        "\n",
        "def func_taq(beginningMonth):\n",
        "    startDate = ee.Date.fromYMD(year, beginningMonth, 1)\n",
        "    endDate = startDate.advance(1, 'month')\n",
        "    monthFiltered = yearFiltered \\\n",
        "    .filter(ee.Filter.date(startDate, endDate))\n",
        "\n",
        "    # Calculate total precipitation.\n",
        "    total = monthFiltered.reduce(ee.Reducer.sum())\n",
        "    return total.set({\n",
        "        'system:time_start': startDate.millis(),\n",
        "        'system:time_end': endDate.millis(),\n",
        "        'year': year,\n",
        "        'month': beginningMonth\n",
        "        })\n",
        "\n",
        "createMonthlyImage = func_taq\n",
        "\n",
        "\n",
        "\n",
        "\n",
        "\n",
        "\n",
        "\n",
        "\n",
        "\n",
        "\n",
        "\n",
        "\n",
        "\n",
        "\n",
        "\n",
        "# map() the function on the list of months\n",
        "# This creates a list with images for each month in the list\n",
        "monthlyImages = months.map(createMonthlyImage)\n",
        "\n",
        "# Create an ee.ImageCollection.\n",
        "monthlyCollection = ee.ImageCollection.fromImages(monthlyImages)\n",
        "print(monthlyCollection.getInfo())\n",
        "\n",
        "#  -----------------------------------------------------------------------\n",
        "#  CHECKPOINT\n",
        "#  -----------------------------------------------------------------------\n"
      ],
      "outputs": [],
      "execution_count": null
    },
    {
      "cell_type": "markdown",
      "metadata": {},
      "source": [
        "## Display the interactive map"
      ]
    },
    {
      "cell_type": "code",
      "metadata": {},
      "source": [
        "Map"
      ],
      "outputs": [],
      "execution_count": null
    }
  ],
  "metadata": {
    "anaconda-cloud": {},
    "kernelspec": {
      "display_name": "Python 3",
      "language": "python",
      "name": "python3"
    },
    "language_info": {
      "codemirror_mode": {
        "name": "ipython",
        "version": 3
      },
      "file_extension": ".py",
      "mimetype": "text/x-python",
      "name": "python",
      "nbconvert_exporter": "python",
      "pygments_lexer": "ipython3",
      "version": "3.6.1"
    }
  },
  "nbformat": 4,
  "nbformat_minor": 4
}