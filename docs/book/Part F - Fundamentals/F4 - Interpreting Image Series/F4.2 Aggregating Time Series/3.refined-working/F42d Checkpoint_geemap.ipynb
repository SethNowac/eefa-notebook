{
  "cells": [
    {
      "cell_type": "markdown",
      "metadata": {},
      "source": [
        "## Import libraries"
      ]
    },
    {
      "cell_type": "code",
      "execution_count": 9,
      "metadata": {},
      "outputs": [
        {
          "data": {
            "text/html": [
              "\n",
              "            <style>\n",
              "                .geemap-dark {\n",
              "                    --jp-widgets-color: white;\n",
              "                    --jp-widgets-label-color: white;\n",
              "                    --jp-ui-font-color1: white;\n",
              "                    --jp-layout-color2: #454545;\n",
              "                    background-color: #383838;\n",
              "                }\n",
              "\n",
              "                .geemap-dark .jupyter-button {\n",
              "                    --jp-layout-color3: #383838;\n",
              "                }\n",
              "\n",
              "                .geemap-colab {\n",
              "                    background-color: var(--colab-primary-surface-color, white);\n",
              "                }\n",
              "\n",
              "                .geemap-colab .jupyter-button {\n",
              "                    --jp-layout-color3: var(--colab-primary-surface-color, white);\n",
              "                }\n",
              "            </style>\n",
              "            "
            ],
            "text/plain": [
              "<IPython.core.display.HTML object>"
            ]
          },
          "metadata": {},
          "output_type": "display_data"
        }
      ],
      "source": [
        "import ee\n",
        "import geemap\n",
        "import geemap.chart as ui_chart"
      ]
    },
    {
      "cell_type": "markdown",
      "metadata": {},
      "source": [
        "## Create an interactive map"
      ]
    },
    {
      "cell_type": "code",
      "execution_count": 10,
      "metadata": {},
      "outputs": [
        {
          "data": {
            "text/html": [
              "\n",
              "            <style>\n",
              "                .geemap-dark {\n",
              "                    --jp-widgets-color: white;\n",
              "                    --jp-widgets-label-color: white;\n",
              "                    --jp-ui-font-color1: white;\n",
              "                    --jp-layout-color2: #454545;\n",
              "                    background-color: #383838;\n",
              "                }\n",
              "\n",
              "                .geemap-dark .jupyter-button {\n",
              "                    --jp-layout-color3: #383838;\n",
              "                }\n",
              "\n",
              "                .geemap-colab {\n",
              "                    background-color: var(--colab-primary-surface-color, white);\n",
              "                }\n",
              "\n",
              "                .geemap-colab .jupyter-button {\n",
              "                    --jp-layout-color3: var(--colab-primary-surface-color, white);\n",
              "                }\n",
              "            </style>\n",
              "            "
            ],
            "text/plain": [
              "<IPython.core.display.HTML object>"
            ]
          },
          "metadata": {},
          "output_type": "display_data"
        }
      ],
      "source": [
        "Map = geemap.Map(center=[40, -100], zoom=4)"
      ]
    },
    {
      "cell_type": "markdown",
      "metadata": {},
      "source": [
        "## Add Earth Engine Python script"
      ]
    },
    {
      "cell_type": "code",
      "execution_count": 16,
      "metadata": {},
      "outputs": [
        {
          "data": {
            "text/html": [
              "\n",
              "            <style>\n",
              "                .geemap-dark {\n",
              "                    --jp-widgets-color: white;\n",
              "                    --jp-widgets-label-color: white;\n",
              "                    --jp-ui-font-color1: white;\n",
              "                    --jp-layout-color2: #454545;\n",
              "                    background-color: #383838;\n",
              "                }\n",
              "\n",
              "                .geemap-dark .jupyter-button {\n",
              "                    --jp-layout-color3: #383838;\n",
              "                }\n",
              "\n",
              "                .geemap-colab {\n",
              "                    background-color: var(--colab-primary-surface-color, white);\n",
              "                }\n",
              "\n",
              "                .geemap-colab .jupyter-button {\n",
              "                    --jp-layout-color3: var(--colab-primary-surface-color, white);\n",
              "                }\n",
              "            </style>\n",
              "            "
            ],
            "text/plain": [
              "<IPython.core.display.HTML object>"
            ]
          },
          "metadata": {},
          "output_type": "display_data"
        },
        {
          "name": "stdout",
          "output_type": "stream",
          "text": [
            "{'type': 'ImageCollection', 'bands': [], 'version': 1724452176693717, 'id': 'UCSB-CHG/CHIRPS/PENTAD', 'properties': {'system:visualization_0_min': '0.0', 'type_name': 'ImageCollection', 'keywords': ['chg', 'climate', 'geophysical', 'precipitation', 'ucsb', 'weather'], 'thumb': 'https://mw1.google.com/ges/dd/images/CHIRPS_thumb.png', 'description': '<p>Climate Hazards Group InfraRed Precipitation with Station data (CHIRPS)\\nis a 30+ year quasi-global rainfall dataset. CHIRPS incorporates\\n0.05° resolution satellite imagery with in-situ station data\\nto create gridded rainfall time series for trend analysis and seasonal\\ndrought monitoring.</p><p><b>Provider: <a href=\"https://chc.ucsb.edu/data/chirps\">UCSB/CHG</a></b><br><p><b>Resolution</b><br>5566 meters\\n</p><p><b>Cadence</b><br>\\n    1\\n  pentad\\n<br>Each asset spans a pentad. Each of first 5 pentads in a month\\nhave 5 days. The last pentad contains all the days from the 26th to the\\nend of the month.\\n</p><p><b>Bands</b><table class=\"eecat\"><tr><th scope=\"col\">Name</th><th scope=\"col\">Description</th></tr><tr><td>precipitation</td><td><p>Precipitation</p></td></tr></table><p><b>Image Properties</b><table class=\"eecat\"><tr><th scope=\"col\">Name</th><th scope=\"col\">Type</th><th scope=\"col\">Description</th></tr><tr><td>month</td><td>DOUBLE</td><td><p>Month</p></td></tr><tr><td>pentad</td><td>DOUBLE</td><td><p>Pentad</p></td></tr><tr><td>year</td><td>DOUBLE</td><td><p>Year</p></td></tr></table><p><b>Terms of Use</b><br><p>This datasets are in the public domain. To the extent possible under law,\\n<a href=\"https://chc.ucsb.edu/people/pete-peterson\">Pete Peterson</a>\\nhas waived all copyright and related or neighboring rights to\\nClimate Hazards Group Infrared Precipitation with Stations (CHIRPS).</p><p><b>Suggested citation(s)</b><ul><li><p>Funk, Chris, Pete Peterson, Martin Landsfeld, Diego Pedreros, James\\nVerdin, Shraddhanand Shukla, Gregory Husak, James Rowland, Laura Harrison,\\nAndrew Hoell &amp; Joel Michaelsen. &quot;The climate hazards infrared precipitation\\nwith stations—a new environmental record for monitoring extremes&quot;.\\nScientific Data 2, 150066. <a href=\"https://doi.org/10.1038/sdata.2015.66\">doi:10.1038/sdata.2015.66</a>\\n2015.</p></li></ul><style>\\n  table.eecat {\\n  border: 1px solid black;\\n  border-collapse: collapse;\\n  font-size: 13px;\\n  }\\n  table.eecat td, tr, th {\\n  text-align: left; vertical-align: top;\\n  border: 1px solid gray; padding: 3px;\\n  }\\n  td.nobreak { white-space: nowrap; }\\n</style>', 'source_tags': ['ucsb', 'chg'], 'visualization_0_max': '112.0', 'title': 'CHIRPS Pentad: Climate Hazards Group InfraRed Precipitation With Station Data (Version 2.0 Final)', 'product_tags': ['precipitation', 'climate', 'weather', 'geophysical'], 'provider': 'UCSB/CHG', 'visualization_0_min': '0.0', 'visualization_0_name': 'Precipitation', 'date_range': [347155200000, 1645833600000], 'period': 0, 'system:visualization_0_bands': 'precipitation', 'provider_url': 'https://chc.ucsb.edu/data/chirps', 'sample': 'https://mw1.google.com/ges/dd/images/CHIRPS_sample.png', 'tags': ['chg', 'climate', 'geophysical', 'precipitation', 'ucsb', 'weather'], 'system:visualization_0_max': '112.0', 'visualization_0_palette': '001137,0aab1e,e7eb05,ff4a2d,e90000', 'system:visualization_0_palette': '001137,0aab1e,e7eb05,ff4a2d,e90000', 'system:visualization_0_name': 'Precipitation', 'visualization_0_bands': 'precipitation'}, 'features': [{'type': 'Image', 'bands': [{'id': 'precipitation', 'data_type': {'type': 'PixelType', 'precision': 'float'}, 'dimensions': [7200, 2000], 'crs': 'EPSG:4326', 'crs_transform': [0.05000000074505806, 0, -180, 0, -0.05000000074505806, 50]}], 'version': 1724365221176928, 'id': 'UCSB-CHG/CHIRPS/PENTAD/20190101', 'properties': {'system:time_start': 1546300800000, 'month': 1, 'year': 2019, 'system:footprint': {'type': 'LinearRing', 'coordinates': [[-180, -90], [180, -90], [180, 90], [-180, 90], [-180, -90]]}, 'system:time_end': 1546732800000, 'system:asset_size': 18589902, 'pentad': 1, 'system:index': '20190101'}}, {'type': 'Image', 'bands': [{'id': 'precipitation', 'data_type': {'type': 'PixelType', 'precision': 'float'}, 'dimensions': [7200, 2000], 'crs': 'EPSG:4326', 'crs_transform': [0.05000000074505806, 0, -180, 0, -0.05000000074505806, 50]}], 'version': 1724364630386846, 'id': 'UCSB-CHG/CHIRPS/PENTAD/20190106', 'properties': {'system:time_start': 1546732800000, 'month': 1, 'year': 2019, 'system:footprint': {'type': 'LinearRing', 'coordinates': [[-180, -90], [180, -90], [180, 90], [-180, 90], [-180, -90]]}, 'system:time_end': 1547164800000, 'system:asset_size': 18527046, 'pentad': 2, 'system:index': '20190106'}}, {'type': 'Image', 'bands': [{'id': 'precipitation', 'data_type': {'type': 'PixelType', 'precision': 'float'}, 'dimensions': [7200, 2000], 'crs': 'EPSG:4326', 'crs_transform': [0.05000000074505806, 0, -180, 0, -0.05000000074505806, 50]}], 'version': 1724365425567610.0, 'id': 'UCSB-CHG/CHIRPS/PENTAD/20190111', 'properties': {'system:time_start': 1547164800000, 'month': 1, 'year': 2019, 'system:footprint': {'type': 'LinearRing', 'coordinates': [[-180, -90], [180, -90], [180, 90], [-180, 90], [-180, -90]]}, 'system:time_end': 1547596800000, 'system:asset_size': 18241521, 'pentad': 3, 'system:index': '20190111'}}, {'type': 'Image', 'bands': [{'id': 'precipitation', 'data_type': {'type': 'PixelType', 'precision': 'float'}, 'dimensions': [7200, 2000], 'crs': 'EPSG:4326', 'crs_transform': [0.05000000074505806, 0, -180, 0, -0.05000000074505806, 50]}], 'version': 1724364975835206, 'id': 'UCSB-CHG/CHIRPS/PENTAD/20190116', 'properties': {'system:time_start': 1547596800000, 'month': 1, 'year': 2019, 'system:footprint': {'type': 'LinearRing', 'coordinates': [[-180, -90], [180, -90], [180, 90], [-180, 90], [-180, -90]]}, 'system:time_end': 1548028800000, 'system:asset_size': 18258182, 'pentad': 4, 'system:index': '20190116'}}, {'type': 'Image', 'bands': [{'id': 'precipitation', 'data_type': {'type': 'PixelType', 'precision': 'float'}, 'dimensions': [7200, 2000], 'crs': 'EPSG:4326', 'crs_transform': [0.05000000074505806, 0, -180, 0, -0.05000000074505806, 50]}], 'version': 1724364323427402, 'id': 'UCSB-CHG/CHIRPS/PENTAD/20190121', 'properties': {'system:time_start': 1548028800000, 'month': 1, 'year': 2019, 'system:footprint': {'type': 'LinearRing', 'coordinates': [[-180, -90], [180, -90], [180, 90], [-180, 90], [-180, -90]]}, 'system:time_end': 1548460800000, 'system:asset_size': 18617021, 'pentad': 5, 'system:index': '20190121'}}, {'type': 'Image', 'bands': [{'id': 'precipitation', 'data_type': {'type': 'PixelType', 'precision': 'float'}, 'dimensions': [7200, 2000], 'crs': 'EPSG:4326', 'crs_transform': [0.05000000074505806, 0, -180, 0, -0.05000000074505806, 50]}], 'version': 1724365182096498, 'id': 'UCSB-CHG/CHIRPS/PENTAD/20190126', 'properties': {'system:time_start': 1548460800000, 'month': 1, 'year': 2019, 'system:footprint': {'type': 'LinearRing', 'coordinates': [[-180, -90], [180, -90], [180, 90], [-180, 90], [-180, -90]]}, 'system:time_end': 1548979200000, 'system:asset_size': 18831959, 'pentad': 6, 'system:index': '20190126'}}, {'type': 'Image', 'bands': [{'id': 'precipitation', 'data_type': {'type': 'PixelType', 'precision': 'float'}, 'dimensions': [7200, 2000], 'crs': 'EPSG:4326', 'crs_transform': [0.05000000074505806, 0, -180, 0, -0.05000000074505806, 50]}], 'version': 1724365103214245, 'id': 'UCSB-CHG/CHIRPS/PENTAD/20190201', 'properties': {'system:time_start': 1548979200000, 'month': 2, 'year': 2019, 'system:footprint': {'type': 'LinearRing', 'coordinates': [[-180, -90], [180, -90], [180, 90], [-180, 90], [-180, -90]]}, 'system:time_end': 1549411200000, 'system:asset_size': 18553143, 'pentad': 1, 'system:index': '20190201'}}, {'type': 'Image', 'bands': [{'id': 'precipitation', 'data_type': {'type': 'PixelType', 'precision': 'float'}, 'dimensions': [7200, 2000], 'crs': 'EPSG:4326', 'crs_transform': [0.05000000074505806, 0, -180, 0, -0.05000000074505806, 50]}], 'version': 1724363475070275, 'id': 'UCSB-CHG/CHIRPS/PENTAD/20190206', 'properties': {'system:time_start': 1549411200000, 'month': 2, 'year': 2019, 'system:footprint': {'type': 'LinearRing', 'coordinates': [[-180, -90], [180, -90], [180, 90], [-180, 90], [-180, -90]]}, 'system:time_end': 1549843200000, 'system:asset_size': 18468370, 'pentad': 2, 'system:index': '20190206'}}, {'type': 'Image', 'bands': [{'id': 'precipitation', 'data_type': {'type': 'PixelType', 'precision': 'float'}, 'dimensions': [7200, 2000], 'crs': 'EPSG:4326', 'crs_transform': [0.05000000074505806, 0, -180, 0, -0.05000000074505806, 50]}], 'version': 1724365882574851, 'id': 'UCSB-CHG/CHIRPS/PENTAD/20190211', 'properties': {'system:time_start': 1549843200000, 'month': 2, 'year': 2019, 'system:footprint': {'type': 'LinearRing', 'coordinates': [[-180, -90], [180, -90], [180, 90], [-180, 90], [-180, -90]]}, 'system:time_end': 1550275200000, 'system:asset_size': 18253352, 'pentad': 3, 'system:index': '20190211'}}, {'type': 'Image', 'bands': [{'id': 'precipitation', 'data_type': {'type': 'PixelType', 'precision': 'float'}, 'dimensions': [7200, 2000], 'crs': 'EPSG:4326', 'crs_transform': [0.05000000074505806, 0, -180, 0, -0.05000000074505806, 50]}], 'version': 1724364927921861, 'id': 'UCSB-CHG/CHIRPS/PENTAD/20190216', 'properties': {'system:time_start': 1550275200000, 'month': 2, 'year': 2019, 'system:footprint': {'type': 'LinearRing', 'coordinates': [[-180, -90], [180, -90], [180, 90], [-180, 90], [-180, -90]]}, 'system:time_end': 1550707200000, 'system:asset_size': 18643588, 'pentad': 4, 'system:index': '20190216'}}, {'type': 'Image', 'bands': [{'id': 'precipitation', 'data_type': {'type': 'PixelType', 'precision': 'float'}, 'dimensions': [7200, 2000], 'crs': 'EPSG:4326', 'crs_transform': [0.05000000074505806, 0, -180, 0, -0.05000000074505806, 50]}], 'version': 1724365611338522, 'id': 'UCSB-CHG/CHIRPS/PENTAD/20190221', 'properties': {'system:time_start': 1550707200000, 'month': 2, 'year': 2019, 'system:footprint': {'type': 'LinearRing', 'coordinates': [[-180, -90], [180, -90], [180, 90], [-180, 90], [-180, -90]]}, 'system:time_end': 1551139200000, 'system:asset_size': 18771741, 'pentad': 5, 'system:index': '20190221'}}, {'type': 'Image', 'bands': [{'id': 'precipitation', 'data_type': {'type': 'PixelType', 'precision': 'float'}, 'dimensions': [7200, 2000], 'crs': 'EPSG:4326', 'crs_transform': [0.05000000074505806, 0, -180, 0, -0.05000000074505806, 50]}], 'version': 1724366046438650.0, 'id': 'UCSB-CHG/CHIRPS/PENTAD/20190226', 'properties': {'system:time_start': 1551139200000, 'month': 2, 'year': 2019, 'system:footprint': {'type': 'LinearRing', 'coordinates': [[-180, -90], [180, -90], [180, 90], [-180, 90], [-180, -90]]}, 'system:time_end': 1551398400000, 'system:asset_size': 18895062, 'pentad': 6, 'system:index': '20190226'}}, {'type': 'Image', 'bands': [{'id': 'precipitation', 'data_type': {'type': 'PixelType', 'precision': 'float'}, 'dimensions': [7200, 2000], 'crs': 'EPSG:4326', 'crs_transform': [0.05000000074505806, 0, -180, 0, -0.05000000074505806, 50]}], 'version': 1724364649471125, 'id': 'UCSB-CHG/CHIRPS/PENTAD/20190301', 'properties': {'system:time_start': 1551398400000, 'month': 3, 'year': 2019, 'system:footprint': {'type': 'LinearRing', 'coordinates': [[-180, -90], [180, -90], [180, 90], [-180, 90], [-180, -90]]}, 'system:time_end': 1551830400000, 'system:asset_size': 18564771, 'pentad': 1, 'system:index': '20190301'}}, {'type': 'Image', 'bands': [{'id': 'precipitation', 'data_type': {'type': 'PixelType', 'precision': 'float'}, 'dimensions': [7200, 2000], 'crs': 'EPSG:4326', 'crs_transform': [0.05000000074505806, 0, -180, 0, -0.05000000074505806, 50]}], 'version': 1724364887751950.0, 'id': 'UCSB-CHG/CHIRPS/PENTAD/20190306', 'properties': {'system:time_start': 1551830400000, 'month': 3, 'year': 2019, 'system:footprint': {'type': 'LinearRing', 'coordinates': [[-180, -90], [180, -90], [180, 90], [-180, 90], [-180, -90]]}, 'system:time_end': 1552262400000, 'system:asset_size': 18511040, 'pentad': 2, 'system:index': '20190306'}}, {'type': 'Image', 'bands': [{'id': 'precipitation', 'data_type': {'type': 'PixelType', 'precision': 'float'}, 'dimensions': [7200, 2000], 'crs': 'EPSG:4326', 'crs_transform': [0.05000000074505806, 0, -180, 0, -0.05000000074505806, 50]}], 'version': 1724363941873782, 'id': 'UCSB-CHG/CHIRPS/PENTAD/20190311', 'properties': {'system:time_start': 1552262400000, 'month': 3, 'year': 2019, 'system:footprint': {'type': 'LinearRing', 'coordinates': [[-180, -90], [180, -90], [180, 90], [-180, 90], [-180, -90]]}, 'system:time_end': 1552694400000, 'system:asset_size': 18411337, 'pentad': 3, 'system:index': '20190311'}}, {'type': 'Image', 'bands': [{'id': 'precipitation', 'data_type': {'type': 'PixelType', 'precision': 'float'}, 'dimensions': [7200, 2000], 'crs': 'EPSG:4326', 'crs_transform': [0.05000000074505806, 0, -180, 0, -0.05000000074505806, 50]}], 'version': 1724364541456119, 'id': 'UCSB-CHG/CHIRPS/PENTAD/20190316', 'properties': {'system:time_start': 1552694400000, 'month': 3, 'year': 2019, 'system:footprint': {'type': 'LinearRing', 'coordinates': [[-180, -90], [180, -90], [180, 90], [-180, 90], [-180, -90]]}, 'system:time_end': 1553126400000, 'system:asset_size': 18474894, 'pentad': 4, 'system:index': '20190316'}}, {'type': 'Image', 'bands': [{'id': 'precipitation', 'data_type': {'type': 'PixelType', 'precision': 'float'}, 'dimensions': [7200, 2000], 'crs': 'EPSG:4326', 'crs_transform': [0.05000000074505806, 0, -180, 0, -0.05000000074505806, 50]}], 'version': 1724363716705722, 'id': 'UCSB-CHG/CHIRPS/PENTAD/20190321', 'properties': {'system:time_start': 1553126400000, 'month': 3, 'year': 2019, 'system:footprint': {'type': 'LinearRing', 'coordinates': [[-180, -90], [180, -90], [180, 90], [-180, 90], [-180, -90]]}, 'system:time_end': 1553558400000, 'system:asset_size': 18926109, 'pentad': 5, 'system:index': '20190321'}}, {'type': 'Image', 'bands': [{'id': 'precipitation', 'data_type': {'type': 'PixelType', 'precision': 'float'}, 'dimensions': [7200, 2000], 'crs': 'EPSG:4326', 'crs_transform': [0.05000000074505806, 0, -180, 0, -0.05000000074505806, 50]}], 'version': 1724365214773726, 'id': 'UCSB-CHG/CHIRPS/PENTAD/20190326', 'properties': {'system:time_start': 1553558400000, 'month': 3, 'year': 2019, 'system:footprint': {'type': 'LinearRing', 'coordinates': [[-180, -90], [180, -90], [180, 90], [-180, 90], [-180, -90]]}, 'system:time_end': 1554076800000, 'system:asset_size': 18995910, 'pentad': 6, 'system:index': '20190326'}}, {'type': 'Image', 'bands': [{'id': 'precipitation', 'data_type': {'type': 'PixelType', 'precision': 'float'}, 'dimensions': [7200, 2000], 'crs': 'EPSG:4326', 'crs_transform': [0.05000000074505806, 0, -180, 0, -0.05000000074505806, 50]}], 'version': 1724365355461510.0, 'id': 'UCSB-CHG/CHIRPS/PENTAD/20190401', 'properties': {'system:time_start': 1554076800000, 'month': 4, 'year': 2019, 'system:footprint': {'type': 'LinearRing', 'coordinates': [[-180, -90], [180, -90], [180, 90], [-180, 90], [-180, -90]]}, 'system:time_end': 1554508800000, 'system:asset_size': 18828870, 'pentad': 1, 'system:index': '20190401'}}, {'type': 'Image', 'bands': [{'id': 'precipitation', 'data_type': {'type': 'PixelType', 'precision': 'float'}, 'dimensions': [7200, 2000], 'crs': 'EPSG:4326', 'crs_transform': [0.05000000074505806, 0, -180, 0, -0.05000000074505806, 50]}], 'version': 1724364807917857, 'id': 'UCSB-CHG/CHIRPS/PENTAD/20190406', 'properties': {'system:time_start': 1554508800000, 'month': 4, 'year': 2019, 'system:footprint': {'type': 'LinearRing', 'coordinates': [[-180, -90], [180, -90], [180, 90], [-180, 90], [-180, -90]]}, 'system:time_end': 1554940800000, 'system:asset_size': 18803227, 'pentad': 2, 'system:index': '20190406'}}, {'type': 'Image', 'bands': [{'id': 'precipitation', 'data_type': {'type': 'PixelType', 'precision': 'float'}, 'dimensions': [7200, 2000], 'crs': 'EPSG:4326', 'crs_transform': [0.05000000074505806, 0, -180, 0, -0.05000000074505806, 50]}], 'version': 1724365859887918, 'id': 'UCSB-CHG/CHIRPS/PENTAD/20190411', 'properties': {'system:time_start': 1554940800000, 'month': 4, 'year': 2019, 'system:footprint': {'type': 'LinearRing', 'coordinates': [[-180, -90], [180, -90], [180, 90], [-180, 90], [-180, -90]]}, 'system:time_end': 1555372800000, 'system:asset_size': 18774080, 'pentad': 3, 'system:index': '20190411'}}, {'type': 'Image', 'bands': [{'id': 'precipitation', 'data_type': {'type': 'PixelType', 'precision': 'float'}, 'dimensions': [7200, 2000], 'crs': 'EPSG:4326', 'crs_transform': [0.05000000074505806, 0, -180, 0, -0.05000000074505806, 50]}], 'version': 1724364094494226, 'id': 'UCSB-CHG/CHIRPS/PENTAD/20190416', 'properties': {'system:time_start': 1555372800000, 'month': 4, 'year': 2019, 'system:footprint': {'type': 'LinearRing', 'coordinates': [[-180, -90], [180, -90], [180, 90], [-180, 90], [-180, -90]]}, 'system:time_end': 1555804800000, 'system:asset_size': 18826713, 'pentad': 4, 'system:index': '20190416'}}, {'type': 'Image', 'bands': [{'id': 'precipitation', 'data_type': {'type': 'PixelType', 'precision': 'float'}, 'dimensions': [7200, 2000], 'crs': 'EPSG:4326', 'crs_transform': [0.05000000074505806, 0, -180, 0, -0.05000000074505806, 50]}], 'version': 1724363735465821, 'id': 'UCSB-CHG/CHIRPS/PENTAD/20190421', 'properties': {'system:time_start': 1555804800000, 'month': 4, 'year': 2019, 'system:footprint': {'type': 'LinearRing', 'coordinates': [[-180, -90], [180, -90], [180, 90], [-180, 90], [-180, -90]]}, 'system:time_end': 1556236800000, 'system:asset_size': 19043084, 'pentad': 5, 'system:index': '20190421'}}, {'type': 'Image', 'bands': [{'id': 'precipitation', 'data_type': {'type': 'PixelType', 'precision': 'float'}, 'dimensions': [7200, 2000], 'crs': 'EPSG:4326', 'crs_transform': [0.05000000074505806, 0, -180, 0, -0.05000000074505806, 50]}], 'version': 1724363835552617, 'id': 'UCSB-CHG/CHIRPS/PENTAD/20190426', 'properties': {'system:time_start': 1556236800000, 'month': 4, 'year': 2019, 'system:footprint': {'type': 'LinearRing', 'coordinates': [[-180, -90], [180, -90], [180, 90], [-180, 90], [-180, -90]]}, 'system:time_end': 1556668800000, 'system:asset_size': 19038375, 'pentad': 6, 'system:index': '20190426'}}, {'type': 'Image', 'bands': [{'id': 'precipitation', 'data_type': {'type': 'PixelType', 'precision': 'float'}, 'dimensions': [7200, 2000], 'crs': 'EPSG:4326', 'crs_transform': [0.05000000074505806, 0, -180, 0, -0.05000000074505806, 50]}], 'version': 1724366153677366, 'id': 'UCSB-CHG/CHIRPS/PENTAD/20190501', 'properties': {'system:time_start': 1556668800000, 'month': 5, 'year': 2019, 'system:footprint': {'type': 'LinearRing', 'coordinates': [[-180, -90], [180, -90], [180, 90], [-180, 90], [-180, -90]]}, 'system:time_end': 1557100800000, 'system:asset_size': 18898497, 'pentad': 1, 'system:index': '20190501'}}, {'type': 'Image', 'bands': [{'id': 'precipitation', 'data_type': {'type': 'PixelType', 'precision': 'float'}, 'dimensions': [7200, 2000], 'crs': 'EPSG:4326', 'crs_transform': [0.05000000074505806, 0, -180, 0, -0.05000000074505806, 50]}], 'version': 1724365298423149, 'id': 'UCSB-CHG/CHIRPS/PENTAD/20190506', 'properties': {'system:time_start': 1557100800000, 'month': 5, 'year': 2019, 'system:footprint': {'type': 'LinearRing', 'coordinates': [[-180, -90], [180, -90], [180, 90], [-180, 90], [-180, -90]]}, 'system:time_end': 1557532800000, 'system:asset_size': 18877821, 'pentad': 2, 'system:index': '20190506'}}, {'type': 'Image', 'bands': [{'id': 'precipitation', 'data_type': {'type': 'PixelType', 'precision': 'float'}, 'dimensions': [7200, 2000], 'crs': 'EPSG:4326', 'crs_transform': [0.05000000074505806, 0, -180, 0, -0.05000000074505806, 50]}], 'version': 1724363782968881, 'id': 'UCSB-CHG/CHIRPS/PENTAD/20190511', 'properties': {'system:time_start': 1557532800000, 'month': 5, 'year': 2019, 'system:footprint': {'type': 'LinearRing', 'coordinates': [[-180, -90], [180, -90], [180, 90], [-180, 90], [-180, -90]]}, 'system:time_end': 1557964800000, 'system:asset_size': 18672380, 'pentad': 3, 'system:index': '20190511'}}, {'type': 'Image', 'bands': [{'id': 'precipitation', 'data_type': {'type': 'PixelType', 'precision': 'float'}, 'dimensions': [7200, 2000], 'crs': 'EPSG:4326', 'crs_transform': [0.05000000074505806, 0, -180, 0, -0.05000000074505806, 50]}], 'version': 1724366046912894, 'id': 'UCSB-CHG/CHIRPS/PENTAD/20190516', 'properties': {'system:time_start': 1557964800000, 'month': 5, 'year': 2019, 'system:footprint': {'type': 'LinearRing', 'coordinates': [[-180, -90], [180, -90], [180, 90], [-180, 90], [-180, -90]]}, 'system:time_end': 1558396800000, 'system:asset_size': 18667306, 'pentad': 4, 'system:index': '20190516'}}, {'type': 'Image', 'bands': [{'id': 'precipitation', 'data_type': {'type': 'PixelType', 'precision': 'float'}, 'dimensions': [7200, 2000], 'crs': 'EPSG:4326', 'crs_transform': [0.05000000074505806, 0, -180, 0, -0.05000000074505806, 50]}], 'version': 1724365046287643, 'id': 'UCSB-CHG/CHIRPS/PENTAD/20190521', 'properties': {'system:time_start': 1558396800000, 'month': 5, 'year': 2019, 'system:footprint': {'type': 'LinearRing', 'coordinates': [[-180, -90], [180, -90], [180, 90], [-180, 90], [-180, -90]]}, 'system:time_end': 1558828800000, 'system:asset_size': 18838972, 'pentad': 5, 'system:index': '20190521'}}, {'type': 'Image', 'bands': [{'id': 'precipitation', 'data_type': {'type': 'PixelType', 'precision': 'float'}, 'dimensions': [7200, 2000], 'crs': 'EPSG:4326', 'crs_transform': [0.05000000074505806, 0, -180, 0, -0.05000000074505806, 50]}], 'version': 1724365089999990.0, 'id': 'UCSB-CHG/CHIRPS/PENTAD/20190526', 'properties': {'system:time_start': 1558828800000, 'month': 5, 'year': 2019, 'system:footprint': {'type': 'LinearRing', 'coordinates': [[-180, -90], [180, -90], [180, 90], [-180, 90], [-180, -90]]}, 'system:time_end': 1559347200000, 'system:asset_size': 18839930, 'pentad': 6, 'system:index': '20190526'}}, {'type': 'Image', 'bands': [{'id': 'precipitation', 'data_type': {'type': 'PixelType', 'precision': 'float'}, 'dimensions': [7200, 2000], 'crs': 'EPSG:4326', 'crs_transform': [0.05000000074505806, 0, -180, 0, -0.05000000074505806, 50]}], 'version': 1724366096312267, 'id': 'UCSB-CHG/CHIRPS/PENTAD/20190601', 'properties': {'system:time_start': 1559347200000, 'month': 6, 'year': 2019, 'system:footprint': {'type': 'LinearRing', 'coordinates': [[-180, -90], [180, -90], [180, 90], [-180, 90], [-180, -90]]}, 'system:time_end': 1559779200000, 'system:asset_size': 18960750, 'pentad': 1, 'system:index': '20190601'}}, {'type': 'Image', 'bands': [{'id': 'precipitation', 'data_type': {'type': 'PixelType', 'precision': 'float'}, 'dimensions': [7200, 2000], 'crs': 'EPSG:4326', 'crs_transform': [0.05000000074505806, 0, -180, 0, -0.05000000074505806, 50]}], 'version': 1724364080771971, 'id': 'UCSB-CHG/CHIRPS/PENTAD/20190606', 'properties': {'system:time_start': 1559779200000, 'month': 6, 'year': 2019, 'system:footprint': {'type': 'LinearRing', 'coordinates': [[-180, -90], [180, -90], [180, 90], [-180, 90], [-180, -90]]}, 'system:time_end': 1560211200000, 'system:asset_size': 18906360, 'pentad': 2, 'system:index': '20190606'}}, {'type': 'Image', 'bands': [{'id': 'precipitation', 'data_type': {'type': 'PixelType', 'precision': 'float'}, 'dimensions': [7200, 2000], 'crs': 'EPSG:4326', 'crs_transform': [0.05000000074505806, 0, -180, 0, -0.05000000074505806, 50]}], 'version': 1724365600173501, 'id': 'UCSB-CHG/CHIRPS/PENTAD/20190611', 'properties': {'system:time_start': 1560211200000, 'month': 6, 'year': 2019, 'system:footprint': {'type': 'LinearRing', 'coordinates': [[-180, -90], [180, -90], [180, 90], [-180, 90], [-180, -90]]}, 'system:time_end': 1560643200000, 'system:asset_size': 18104926, 'pentad': 3, 'system:index': '20190611'}}, {'type': 'Image', 'bands': [{'id': 'precipitation', 'data_type': {'type': 'PixelType', 'precision': 'float'}, 'dimensions': [7200, 2000], 'crs': 'EPSG:4326', 'crs_transform': [0.05000000074505806, 0, -180, 0, -0.05000000074505806, 50]}], 'version': 1724364964742036, 'id': 'UCSB-CHG/CHIRPS/PENTAD/20190616', 'properties': {'system:time_start': 1560643200000, 'month': 6, 'year': 2019, 'system:footprint': {'type': 'LinearRing', 'coordinates': [[-180, -90], [180, -90], [180, 90], [-180, 90], [-180, -90]]}, 'system:time_end': 1561075200000, 'system:asset_size': 17782606, 'pentad': 4, 'system:index': '20190616'}}, {'type': 'Image', 'bands': [{'id': 'precipitation', 'data_type': {'type': 'PixelType', 'precision': 'float'}, 'dimensions': [7200, 2000], 'crs': 'EPSG:4326', 'crs_transform': [0.05000000074505806, 0, -180, 0, -0.05000000074505806, 50]}], 'version': 1724364727369014, 'id': 'UCSB-CHG/CHIRPS/PENTAD/20190621', 'properties': {'system:time_start': 1561075200000, 'month': 6, 'year': 2019, 'system:footprint': {'type': 'LinearRing', 'coordinates': [[-180, -90], [180, -90], [180, 90], [-180, 90], [-180, -90]]}, 'system:time_end': 1561507200000, 'system:asset_size': 17981441, 'pentad': 5, 'system:index': '20190621'}}, {'type': 'Image', 'bands': [{'id': 'precipitation', 'data_type': {'type': 'PixelType', 'precision': 'float'}, 'dimensions': [7200, 2000], 'crs': 'EPSG:4326', 'crs_transform': [0.05000000074505806, 0, -180, 0, -0.05000000074505806, 50]}], 'version': 1724365442690926, 'id': 'UCSB-CHG/CHIRPS/PENTAD/20190626', 'properties': {'system:time_start': 1561507200000, 'month': 6, 'year': 2019, 'system:footprint': {'type': 'LinearRing', 'coordinates': [[-180, -90], [180, -90], [180, 90], [-180, 90], [-180, -90]]}, 'system:time_end': 1561939200000, 'system:asset_size': 18030411, 'pentad': 6, 'system:index': '20190626'}}, {'type': 'Image', 'bands': [{'id': 'precipitation', 'data_type': {'type': 'PixelType', 'precision': 'float'}, 'dimensions': [7200, 2000], 'crs': 'EPSG:4326', 'crs_transform': [0.05000000074505806, 0, -180, 0, -0.05000000074505806, 50]}], 'version': 1724364536643264, 'id': 'UCSB-CHG/CHIRPS/PENTAD/20190701', 'properties': {'system:time_start': 1561939200000, 'month': 7, 'year': 2019, 'system:footprint': {'type': 'LinearRing', 'coordinates': [[-180, -90], [180, -90], [180, 90], [-180, 90], [-180, -90]]}, 'system:time_end': 1562371200000, 'system:asset_size': 18838865, 'pentad': 1, 'system:index': '20190701'}}, {'type': 'Image', 'bands': [{'id': 'precipitation', 'data_type': {'type': 'PixelType', 'precision': 'float'}, 'dimensions': [7200, 2000], 'crs': 'EPSG:4326', 'crs_transform': [0.05000000074505806, 0, -180, 0, -0.05000000074505806, 50]}], 'version': 1724364785671025, 'id': 'UCSB-CHG/CHIRPS/PENTAD/20190706', 'properties': {'system:time_start': 1562371200000, 'month': 7, 'year': 2019, 'system:footprint': {'type': 'LinearRing', 'coordinates': [[-180, -90], [180, -90], [180, 90], [-180, 90], [-180, -90]]}, 'system:time_end': 1562803200000, 'system:asset_size': 18626390, 'pentad': 2, 'system:index': '20190706'}}, {'type': 'Image', 'bands': [{'id': 'precipitation', 'data_type': {'type': 'PixelType', 'precision': 'float'}, 'dimensions': [7200, 2000], 'crs': 'EPSG:4326', 'crs_transform': [0.05000000074505806, 0, -180, 0, -0.05000000074505806, 50]}], 'version': 1724365669403026, 'id': 'UCSB-CHG/CHIRPS/PENTAD/20190711', 'properties': {'system:time_start': 1562803200000, 'month': 7, 'year': 2019, 'system:footprint': {'type': 'LinearRing', 'coordinates': [[-180, -90], [180, -90], [180, 90], [-180, 90], [-180, -90]]}, 'system:time_end': 1563235200000, 'system:asset_size': 18005508, 'pentad': 3, 'system:index': '20190711'}}, {'type': 'Image', 'bands': [{'id': 'precipitation', 'data_type': {'type': 'PixelType', 'precision': 'float'}, 'dimensions': [7200, 2000], 'crs': 'EPSG:4326', 'crs_transform': [0.05000000074505806, 0, -180, 0, -0.05000000074505806, 50]}], 'version': 1724364259566028, 'id': 'UCSB-CHG/CHIRPS/PENTAD/20190716', 'properties': {'system:time_start': 1563235200000, 'month': 7, 'year': 2019, 'system:footprint': {'type': 'LinearRing', 'coordinates': [[-180, -90], [180, -90], [180, 90], [-180, 90], [-180, -90]]}, 'system:time_end': 1563667200000, 'system:asset_size': 17951306, 'pentad': 4, 'system:index': '20190716'}}, {'type': 'Image', 'bands': [{'id': 'precipitation', 'data_type': {'type': 'PixelType', 'precision': 'float'}, 'dimensions': [7200, 2000], 'crs': 'EPSG:4326', 'crs_transform': [0.05000000074505806, 0, -180, 0, -0.05000000074505806, 50]}], 'version': 1724366039830587, 'id': 'UCSB-CHG/CHIRPS/PENTAD/20190721', 'properties': {'system:time_start': 1563667200000, 'month': 7, 'year': 2019, 'system:footprint': {'type': 'LinearRing', 'coordinates': [[-180, -90], [180, -90], [180, 90], [-180, 90], [-180, -90]]}, 'system:time_end': 1564099200000, 'system:asset_size': 18551655, 'pentad': 5, 'system:index': '20190721'}}, {'type': 'Image', 'bands': [{'id': 'precipitation', 'data_type': {'type': 'PixelType', 'precision': 'float'}, 'dimensions': [7200, 2000], 'crs': 'EPSG:4326', 'crs_transform': [0.05000000074505806, 0, -180, 0, -0.05000000074505806, 50]}], 'version': 1724366275723189, 'id': 'UCSB-CHG/CHIRPS/PENTAD/20190726', 'properties': {'system:time_start': 1564099200000, 'month': 7, 'year': 2019, 'system:footprint': {'type': 'LinearRing', 'coordinates': [[-180, -90], [180, -90], [180, 90], [-180, 90], [-180, -90]]}, 'system:time_end': 1564617600000, 'system:asset_size': 18739625, 'pentad': 6, 'system:index': '20190726'}}, {'type': 'Image', 'bands': [{'id': 'precipitation', 'data_type': {'type': 'PixelType', 'precision': 'float'}, 'dimensions': [7200, 2000], 'crs': 'EPSG:4326', 'crs_transform': [0.05000000074505806, 0, -180, 0, -0.05000000074505806, 50]}], 'version': 1724364090713726, 'id': 'UCSB-CHG/CHIRPS/PENTAD/20190801', 'properties': {'system:time_start': 1564617600000, 'month': 8, 'year': 2019, 'system:footprint': {'type': 'LinearRing', 'coordinates': [[-180, -90], [180, -90], [180, 90], [-180, 90], [-180, -90]]}, 'system:time_end': 1565049600000, 'system:asset_size': 18548338, 'pentad': 1, 'system:index': '20190801'}}, {'type': 'Image', 'bands': [{'id': 'precipitation', 'data_type': {'type': 'PixelType', 'precision': 'float'}, 'dimensions': [7200, 2000], 'crs': 'EPSG:4326', 'crs_transform': [0.05000000074505806, 0, -180, 0, -0.05000000074505806, 50]}], 'version': 1724365323834487, 'id': 'UCSB-CHG/CHIRPS/PENTAD/20190806', 'properties': {'system:time_start': 1565049600000, 'month': 8, 'year': 2019, 'system:footprint': {'type': 'LinearRing', 'coordinates': [[-180, -90], [180, -90], [180, 90], [-180, 90], [-180, -90]]}, 'system:time_end': 1565481600000, 'system:asset_size': 18533920, 'pentad': 2, 'system:index': '20190806'}}, {'type': 'Image', 'bands': [{'id': 'precipitation', 'data_type': {'type': 'PixelType', 'precision': 'float'}, 'dimensions': [7200, 2000], 'crs': 'EPSG:4326', 'crs_transform': [0.05000000074505806, 0, -180, 0, -0.05000000074505806, 50]}], 'version': 1724365856963625, 'id': 'UCSB-CHG/CHIRPS/PENTAD/20190811', 'properties': {'system:time_start': 1565481600000, 'month': 8, 'year': 2019, 'system:footprint': {'type': 'LinearRing', 'coordinates': [[-180, -90], [180, -90], [180, 90], [-180, 90], [-180, -90]]}, 'system:time_end': 1565913600000, 'system:asset_size': 18349326, 'pentad': 3, 'system:index': '20190811'}}, {'type': 'Image', 'bands': [{'id': 'precipitation', 'data_type': {'type': 'PixelType', 'precision': 'float'}, 'dimensions': [7200, 2000], 'crs': 'EPSG:4326', 'crs_transform': [0.05000000074505806, 0, -180, 0, -0.05000000074505806, 50]}], 'version': 1724364653418324, 'id': 'UCSB-CHG/CHIRPS/PENTAD/20190816', 'properties': {'system:time_start': 1565913600000, 'month': 8, 'year': 2019, 'system:footprint': {'type': 'LinearRing', 'coordinates': [[-180, -90], [180, -90], [180, 90], [-180, 90], [-180, -90]]}, 'system:time_end': 1566345600000, 'system:asset_size': 18444265, 'pentad': 4, 'system:index': '20190816'}}, {'type': 'Image', 'bands': [{'id': 'precipitation', 'data_type': {'type': 'PixelType', 'precision': 'float'}, 'dimensions': [7200, 2000], 'crs': 'EPSG:4326', 'crs_transform': [0.05000000074505806, 0, -180, 0, -0.05000000074505806, 50]}], 'version': 1724364696308162, 'id': 'UCSB-CHG/CHIRPS/PENTAD/20190821', 'properties': {'system:time_start': 1566345600000, 'month': 8, 'year': 2019, 'system:footprint': {'type': 'LinearRing', 'coordinates': [[-180, -90], [180, -90], [180, 90], [-180, 90], [-180, -90]]}, 'system:time_end': 1566777600000, 'system:asset_size': 18881125, 'pentad': 5, 'system:index': '20190821'}}, {'type': 'Image', 'bands': [{'id': 'precipitation', 'data_type': {'type': 'PixelType', 'precision': 'float'}, 'dimensions': [7200, 2000], 'crs': 'EPSG:4326', 'crs_transform': [0.05000000074505806, 0, -180, 0, -0.05000000074505806, 50]}], 'version': 1724364418657317, 'id': 'UCSB-CHG/CHIRPS/PENTAD/20190826', 'properties': {'system:time_start': 1566777600000, 'month': 8, 'year': 2019, 'system:footprint': {'type': 'LinearRing', 'coordinates': [[-180, -90], [180, -90], [180, 90], [-180, 90], [-180, -90]]}, 'system:time_end': 1567296000000, 'system:asset_size': 18989787, 'pentad': 6, 'system:index': '20190826'}}, {'type': 'Image', 'bands': [{'id': 'precipitation', 'data_type': {'type': 'PixelType', 'precision': 'float'}, 'dimensions': [7200, 2000], 'crs': 'EPSG:4326', 'crs_transform': [0.05000000074505806, 0, -180, 0, -0.05000000074505806, 50]}], 'version': 1724365207630401, 'id': 'UCSB-CHG/CHIRPS/PENTAD/20190901', 'properties': {'system:time_start': 1567296000000, 'month': 9, 'year': 2019, 'system:footprint': {'type': 'LinearRing', 'coordinates': [[-180, -90], [180, -90], [180, 90], [-180, 90], [-180, -90]]}, 'system:time_end': 1567728000000, 'system:asset_size': 18338114, 'pentad': 1, 'system:index': '20190901'}}, {'type': 'Image', 'bands': [{'id': 'precipitation', 'data_type': {'type': 'PixelType', 'precision': 'float'}, 'dimensions': [7200, 2000], 'crs': 'EPSG:4326', 'crs_transform': [0.05000000074505806, 0, -180, 0, -0.05000000074505806, 50]}], 'version': 1724365749786588, 'id': 'UCSB-CHG/CHIRPS/PENTAD/20190906', 'properties': {'system:time_start': 1567728000000, 'month': 9, 'year': 2019, 'system:footprint': {'type': 'LinearRing', 'coordinates': [[-180, -90], [180, -90], [180, 90], [-180, 90], [-180, -90]]}, 'system:time_end': 1568160000000, 'system:asset_size': 18347342, 'pentad': 2, 'system:index': '20190906'}}, {'type': 'Image', 'bands': [{'id': 'precipitation', 'data_type': {'type': 'PixelType', 'precision': 'float'}, 'dimensions': [7200, 2000], 'crs': 'EPSG:4326', 'crs_transform': [0.05000000074505806, 0, -180, 0, -0.05000000074505806, 50]}], 'version': 1724364479585746, 'id': 'UCSB-CHG/CHIRPS/PENTAD/20190911', 'properties': {'system:time_start': 1568160000000, 'month': 9, 'year': 2019, 'system:footprint': {'type': 'LinearRing', 'coordinates': [[-180, -90], [180, -90], [180, 90], [-180, 90], [-180, -90]]}, 'system:time_end': 1568592000000, 'system:asset_size': 18081818, 'pentad': 3, 'system:index': '20190911'}}, {'type': 'Image', 'bands': [{'id': 'precipitation', 'data_type': {'type': 'PixelType', 'precision': 'float'}, 'dimensions': [7200, 2000], 'crs': 'EPSG:4326', 'crs_transform': [0.05000000074505806, 0, -180, 0, -0.05000000074505806, 50]}], 'version': 1724363978553613, 'id': 'UCSB-CHG/CHIRPS/PENTAD/20190916', 'properties': {'system:time_start': 1568592000000, 'month': 9, 'year': 2019, 'system:footprint': {'type': 'LinearRing', 'coordinates': [[-180, -90], [180, -90], [180, 90], [-180, 90], [-180, -90]]}, 'system:time_end': 1569024000000, 'system:asset_size': 18233907, 'pentad': 4, 'system:index': '20190916'}}, {'type': 'Image', 'bands': [{'id': 'precipitation', 'data_type': {'type': 'PixelType', 'precision': 'float'}, 'dimensions': [7200, 2000], 'crs': 'EPSG:4326', 'crs_transform': [0.05000000074505806, 0, -180, 0, -0.05000000074505806, 50]}], 'version': 1724365780145385, 'id': 'UCSB-CHG/CHIRPS/PENTAD/20190921', 'properties': {'system:time_start': 1569024000000, 'month': 9, 'year': 2019, 'system:footprint': {'type': 'LinearRing', 'coordinates': [[-180, -90], [180, -90], [180, 90], [-180, 90], [-180, -90]]}, 'system:time_end': 1569456000000, 'system:asset_size': 18805786, 'pentad': 5, 'system:index': '20190921'}}, {'type': 'Image', 'bands': [{'id': 'precipitation', 'data_type': {'type': 'PixelType', 'precision': 'float'}, 'dimensions': [7200, 2000], 'crs': 'EPSG:4326', 'crs_transform': [0.05000000074505806, 0, -180, 0, -0.05000000074505806, 50]}], 'version': 1724363788343097, 'id': 'UCSB-CHG/CHIRPS/PENTAD/20190926', 'properties': {'system:time_start': 1569456000000, 'month': 9, 'year': 2019, 'system:footprint': {'type': 'LinearRing', 'coordinates': [[-180, -90], [180, -90], [180, 90], [-180, 90], [-180, -90]]}, 'system:time_end': 1569888000000, 'system:asset_size': 18871183, 'pentad': 6, 'system:index': '20190926'}}, {'type': 'Image', 'bands': [{'id': 'precipitation', 'data_type': {'type': 'PixelType', 'precision': 'float'}, 'dimensions': [7200, 2000], 'crs': 'EPSG:4326', 'crs_transform': [0.05000000074505806, 0, -180, 0, -0.05000000074505806, 50]}], 'version': 1724364984397207, 'id': 'UCSB-CHG/CHIRPS/PENTAD/20191001', 'properties': {'system:time_start': 1569888000000, 'month': 10, 'year': 2019, 'system:footprint': {'type': 'LinearRing', 'coordinates': [[-180, -90], [180, -90], [180, 90], [-180, 90], [-180, -90]]}, 'system:time_end': 1570320000000, 'system:asset_size': 19010921, 'pentad': 1, 'system:index': '20191001'}}, {'type': 'Image', 'bands': [{'id': 'precipitation', 'data_type': {'type': 'PixelType', 'precision': 'float'}, 'dimensions': [7200, 2000], 'crs': 'EPSG:4326', 'crs_transform': [0.05000000074505806, 0, -180, 0, -0.05000000074505806, 50]}], 'version': 1724363684569081, 'id': 'UCSB-CHG/CHIRPS/PENTAD/20191006', 'properties': {'system:time_start': 1570320000000, 'month': 10, 'year': 2019, 'system:footprint': {'type': 'LinearRing', 'coordinates': [[-180, -90], [180, -90], [180, 90], [-180, 90], [-180, -90]]}, 'system:time_end': 1570752000000, 'system:asset_size': 18981959, 'pentad': 2, 'system:index': '20191006'}}, {'type': 'Image', 'bands': [{'id': 'precipitation', 'data_type': {'type': 'PixelType', 'precision': 'float'}, 'dimensions': [7200, 2000], 'crs': 'EPSG:4326', 'crs_transform': [0.05000000074505806, 0, -180, 0, -0.05000000074505806, 50]}], 'version': 1724364028563838, 'id': 'UCSB-CHG/CHIRPS/PENTAD/20191011', 'properties': {'system:time_start': 1570752000000, 'month': 10, 'year': 2019, 'system:footprint': {'type': 'LinearRing', 'coordinates': [[-180, -90], [180, -90], [180, 90], [-180, 90], [-180, -90]]}, 'system:time_end': 1571184000000, 'system:asset_size': 18840489, 'pentad': 3, 'system:index': '20191011'}}, {'type': 'Image', 'bands': [{'id': 'precipitation', 'data_type': {'type': 'PixelType', 'precision': 'float'}, 'dimensions': [7200, 2000], 'crs': 'EPSG:4326', 'crs_transform': [0.05000000074505806, 0, -180, 0, -0.05000000074505806, 50]}], 'version': 1724365659528764, 'id': 'UCSB-CHG/CHIRPS/PENTAD/20191016', 'properties': {'system:time_start': 1571184000000, 'month': 10, 'year': 2019, 'system:footprint': {'type': 'LinearRing', 'coordinates': [[-180, -90], [180, -90], [180, 90], [-180, 90], [-180, -90]]}, 'system:time_end': 1571616000000, 'system:asset_size': 18770726, 'pentad': 4, 'system:index': '20191016'}}, {'type': 'Image', 'bands': [{'id': 'precipitation', 'data_type': {'type': 'PixelType', 'precision': 'float'}, 'dimensions': [7200, 2000], 'crs': 'EPSG:4326', 'crs_transform': [0.05000000074505806, 0, -180, 0, -0.05000000074505806, 50]}], 'version': 1724365079476685, 'id': 'UCSB-CHG/CHIRPS/PENTAD/20191021', 'properties': {'system:time_start': 1571616000000, 'month': 10, 'year': 2019, 'system:footprint': {'type': 'LinearRing', 'coordinates': [[-180, -90], [180, -90], [180, 90], [-180, 90], [-180, -90]]}, 'system:time_end': 1572048000000, 'system:asset_size': 18813187, 'pentad': 5, 'system:index': '20191021'}}, {'type': 'Image', 'bands': [{'id': 'precipitation', 'data_type': {'type': 'PixelType', 'precision': 'float'}, 'dimensions': [7200, 2000], 'crs': 'EPSG:4326', 'crs_transform': [0.05000000074505806, 0, -180, 0, -0.05000000074505806, 50]}], 'version': 1724365910581874, 'id': 'UCSB-CHG/CHIRPS/PENTAD/20191026', 'properties': {'system:time_start': 1572048000000, 'month': 10, 'year': 2019, 'system:footprint': {'type': 'LinearRing', 'coordinates': [[-180, -90], [180, -90], [180, 90], [-180, 90], [-180, -90]]}, 'system:time_end': 1572566400000, 'system:asset_size': 18827892, 'pentad': 6, 'system:index': '20191026'}}, {'type': 'Image', 'bands': [{'id': 'precipitation', 'data_type': {'type': 'PixelType', 'precision': 'float'}, 'dimensions': [7200, 2000], 'crs': 'EPSG:4326', 'crs_transform': [0.05000000074505806, 0, -180, 0, -0.05000000074505806, 50]}], 'version': 1724364413372316, 'id': 'UCSB-CHG/CHIRPS/PENTAD/20191101', 'properties': {'system:time_start': 1572566400000, 'month': 11, 'year': 2019, 'system:footprint': {'type': 'LinearRing', 'coordinates': [[-180, -90], [180, -90], [180, 90], [-180, 90], [-180, -90]]}, 'system:time_end': 1572998400000, 'system:asset_size': 18980517, 'pentad': 1, 'system:index': '20191101'}}, {'type': 'Image', 'bands': [{'id': 'precipitation', 'data_type': {'type': 'PixelType', 'precision': 'float'}, 'dimensions': [7200, 2000], 'crs': 'EPSG:4326', 'crs_transform': [0.05000000074505806, 0, -180, 0, -0.05000000074505806, 50]}], 'version': 1724363712889208, 'id': 'UCSB-CHG/CHIRPS/PENTAD/20191106', 'properties': {'system:time_start': 1572998400000, 'month': 11, 'year': 2019, 'system:footprint': {'type': 'LinearRing', 'coordinates': [[-180, -90], [180, -90], [180, 90], [-180, 90], [-180, -90]]}, 'system:time_end': 1573430400000, 'system:asset_size': 18924092, 'pentad': 2, 'system:index': '20191106'}}, {'type': 'Image', 'bands': [{'id': 'precipitation', 'data_type': {'type': 'PixelType', 'precision': 'float'}, 'dimensions': [7200, 2000], 'crs': 'EPSG:4326', 'crs_transform': [0.05000000074505806, 0, -180, 0, -0.05000000074505806, 50]}], 'version': 1724365849986822, 'id': 'UCSB-CHG/CHIRPS/PENTAD/20191111', 'properties': {'system:time_start': 1573430400000, 'month': 11, 'year': 2019, 'system:footprint': {'type': 'LinearRing', 'coordinates': [[-180, -90], [180, -90], [180, 90], [-180, 90], [-180, -90]]}, 'system:time_end': 1573862400000, 'system:asset_size': 18292687, 'pentad': 3, 'system:index': '20191111'}}, {'type': 'Image', 'bands': [{'id': 'precipitation', 'data_type': {'type': 'PixelType', 'precision': 'float'}, 'dimensions': [7200, 2000], 'crs': 'EPSG:4326', 'crs_transform': [0.05000000074505806, 0, -180, 0, -0.05000000074505806, 50]}], 'version': 1724364190634881, 'id': 'UCSB-CHG/CHIRPS/PENTAD/20191116', 'properties': {'system:time_start': 1573862400000, 'month': 11, 'year': 2019, 'system:footprint': {'type': 'LinearRing', 'coordinates': [[-180, -90], [180, -90], [180, 90], [-180, 90], [-180, -90]]}, 'system:time_end': 1574294400000, 'system:asset_size': 18034749, 'pentad': 4, 'system:index': '20191116'}}, {'type': 'Image', 'bands': [{'id': 'precipitation', 'data_type': {'type': 'PixelType', 'precision': 'float'}, 'dimensions': [7200, 2000], 'crs': 'EPSG:4326', 'crs_transform': [0.05000000074505806, 0, -180, 0, -0.05000000074505806, 50]}], 'version': 1724365750103408, 'id': 'UCSB-CHG/CHIRPS/PENTAD/20191121', 'properties': {'system:time_start': 1574294400000, 'month': 11, 'year': 2019, 'system:footprint': {'type': 'LinearRing', 'coordinates': [[-180, -90], [180, -90], [180, 90], [-180, 90], [-180, -90]]}, 'system:time_end': 1574726400000, 'system:asset_size': 18135445, 'pentad': 5, 'system:index': '20191121'}}, {'type': 'Image', 'bands': [{'id': 'precipitation', 'data_type': {'type': 'PixelType', 'precision': 'float'}, 'dimensions': [7200, 2000], 'crs': 'EPSG:4326', 'crs_transform': [0.05000000074505806, 0, -180, 0, -0.05000000074505806, 50]}], 'version': 1724365453702724, 'id': 'UCSB-CHG/CHIRPS/PENTAD/20191126', 'properties': {'system:time_start': 1574726400000, 'month': 11, 'year': 2019, 'system:footprint': {'type': 'LinearRing', 'coordinates': [[-180, -90], [180, -90], [180, 90], [-180, 90], [-180, -90]]}, 'system:time_end': 1575158400000, 'system:asset_size': 18153630, 'pentad': 6, 'system:index': '20191126'}}, {'type': 'Image', 'bands': [{'id': 'precipitation', 'data_type': {'type': 'PixelType', 'precision': 'float'}, 'dimensions': [7200, 2000], 'crs': 'EPSG:4326', 'crs_transform': [0.05000000074505806, 0, -180, 0, -0.05000000074505806, 50]}], 'version': 1724365684112050.0, 'id': 'UCSB-CHG/CHIRPS/PENTAD/20191201', 'properties': {'system:time_start': 1575158400000, 'month': 12, 'year': 2019, 'system:footprint': {'type': 'LinearRing', 'coordinates': [[-180, -90], [180, -90], [180, 90], [-180, 90], [-180, -90]]}, 'system:time_end': 1575590400000, 'system:asset_size': 18888852, 'pentad': 1, 'system:index': '20191201'}}, {'type': 'Image', 'bands': [{'id': 'precipitation', 'data_type': {'type': 'PixelType', 'precision': 'float'}, 'dimensions': [7200, 2000], 'crs': 'EPSG:4326', 'crs_transform': [0.05000000074505806, 0, -180, 0, -0.05000000074505806, 50]}], 'version': 1724363734983863, 'id': 'UCSB-CHG/CHIRPS/PENTAD/20191206', 'properties': {'system:time_start': 1575590400000, 'month': 12, 'year': 2019, 'system:footprint': {'type': 'LinearRing', 'coordinates': [[-180, -90], [180, -90], [180, 90], [-180, 90], [-180, -90]]}, 'system:time_end': 1576022400000, 'system:asset_size': 18704752, 'pentad': 2, 'system:index': '20191206'}}, {'type': 'Image', 'bands': [{'id': 'precipitation', 'data_type': {'type': 'PixelType', 'precision': 'float'}, 'dimensions': [7200, 2000], 'crs': 'EPSG:4326', 'crs_transform': [0.05000000074505806, 0, -180, 0, -0.05000000074505806, 50]}], 'version': 1724365327037821, 'id': 'UCSB-CHG/CHIRPS/PENTAD/20191211', 'properties': {'system:time_start': 1576022400000, 'month': 12, 'year': 2019, 'system:footprint': {'type': 'LinearRing', 'coordinates': [[-180, -90], [180, -90], [180, 90], [-180, 90], [-180, -90]]}, 'system:time_end': 1576454400000, 'system:asset_size': 18308782, 'pentad': 3, 'system:index': '20191211'}}, {'type': 'Image', 'bands': [{'id': 'precipitation', 'data_type': {'type': 'PixelType', 'precision': 'float'}, 'dimensions': [7200, 2000], 'crs': 'EPSG:4326', 'crs_transform': [0.05000000074505806, 0, -180, 0, -0.05000000074505806, 50]}], 'version': 1724366003765692, 'id': 'UCSB-CHG/CHIRPS/PENTAD/20191216', 'properties': {'system:time_start': 1576454400000, 'month': 12, 'year': 2019, 'system:footprint': {'type': 'LinearRing', 'coordinates': [[-180, -90], [180, -90], [180, 90], [-180, 90], [-180, -90]]}, 'system:time_end': 1576886400000, 'system:asset_size': 18234845, 'pentad': 4, 'system:index': '20191216'}}, {'type': 'Image', 'bands': [{'id': 'precipitation', 'data_type': {'type': 'PixelType', 'precision': 'float'}, 'dimensions': [7200, 2000], 'crs': 'EPSG:4326', 'crs_transform': [0.05000000074505806, 0, -180, 0, -0.05000000074505806, 50]}], 'version': 1724365010842708, 'id': 'UCSB-CHG/CHIRPS/PENTAD/20191221', 'properties': {'system:time_start': 1576886400000, 'month': 12, 'year': 2019, 'system:footprint': {'type': 'LinearRing', 'coordinates': [[-180, -90], [180, -90], [180, 90], [-180, 90], [-180, -90]]}, 'system:time_end': 1577318400000, 'system:asset_size': 18471161, 'pentad': 5, 'system:index': '20191221'}}, {'type': 'Image', 'bands': [{'id': 'precipitation', 'data_type': {'type': 'PixelType', 'precision': 'float'}, 'dimensions': [7200, 2000], 'crs': 'EPSG:4326', 'crs_transform': [0.05000000074505806, 0, -180, 0, -0.05000000074505806, 50]}], 'version': 1724364027328522, 'id': 'UCSB-CHG/CHIRPS/PENTAD/20191226', 'properties': {'system:time_start': 1577318400000, 'month': 12, 'year': 2019, 'system:footprint': {'type': 'LinearRing', 'coordinates': [[-180, -90], [180, -90], [180, 90], [-180, 90], [-180, -90]]}, 'system:time_end': 1577836800000, 'system:asset_size': 18498304, 'pentad': 6, 'system:index': '20191226'}}]} Date-filtered CHIRPS images\n",
            "{'type': 'Date', 'value': 1546300800000} Start date\n",
            "{'type': 'Date', 'value': 1577836800000} End date\n",
            "Start date as timestamp 1546300800000\n",
            "End date as timestamp 1577836800000\n",
            "{'type': 'ImageCollection', 'bands': [], 'features': [{'type': 'Image', 'bands': [{'id': 'precipitation_sum', 'data_type': {'type': 'PixelType', 'precision': 'double'}, 'crs': 'EPSG:4326', 'crs_transform': [1, 0, 0, 0, 1, 0]}], 'properties': {'system:time_start': 1546300800000, 'month': 1, 'year': 2019, 'system:time_end': 1548979200000, 'system:index': '0'}}, {'type': 'Image', 'bands': [{'id': 'precipitation_sum', 'data_type': {'type': 'PixelType', 'precision': 'double'}, 'crs': 'EPSG:4326', 'crs_transform': [1, 0, 0, 0, 1, 0]}], 'properties': {'system:time_start': 1548979200000, 'month': 2, 'year': 2019, 'system:time_end': 1551398400000, 'system:index': '1'}}, {'type': 'Image', 'bands': [{'id': 'precipitation_sum', 'data_type': {'type': 'PixelType', 'precision': 'double'}, 'crs': 'EPSG:4326', 'crs_transform': [1, 0, 0, 0, 1, 0]}], 'properties': {'system:time_start': 1551398400000, 'month': 3, 'year': 2019, 'system:time_end': 1554076800000, 'system:index': '2'}}, {'type': 'Image', 'bands': [{'id': 'precipitation_sum', 'data_type': {'type': 'PixelType', 'precision': 'double'}, 'crs': 'EPSG:4326', 'crs_transform': [1, 0, 0, 0, 1, 0]}], 'properties': {'system:time_start': 1554076800000, 'month': 4, 'year': 2019, 'system:time_end': 1556668800000, 'system:index': '3'}}, {'type': 'Image', 'bands': [{'id': 'precipitation_sum', 'data_type': {'type': 'PixelType', 'precision': 'double'}, 'crs': 'EPSG:4326', 'crs_transform': [1, 0, 0, 0, 1, 0]}], 'properties': {'system:time_start': 1556668800000, 'month': 5, 'year': 2019, 'system:time_end': 1559347200000, 'system:index': '4'}}, {'type': 'Image', 'bands': [{'id': 'precipitation_sum', 'data_type': {'type': 'PixelType', 'precision': 'double'}, 'crs': 'EPSG:4326', 'crs_transform': [1, 0, 0, 0, 1, 0]}], 'properties': {'system:time_start': 1559347200000, 'month': 6, 'year': 2019, 'system:time_end': 1561939200000, 'system:index': '5'}}, {'type': 'Image', 'bands': [{'id': 'precipitation_sum', 'data_type': {'type': 'PixelType', 'precision': 'double'}, 'crs': 'EPSG:4326', 'crs_transform': [1, 0, 0, 0, 1, 0]}], 'properties': {'system:time_start': 1561939200000, 'month': 7, 'year': 2019, 'system:time_end': 1564617600000, 'system:index': '6'}}, {'type': 'Image', 'bands': [{'id': 'precipitation_sum', 'data_type': {'type': 'PixelType', 'precision': 'double'}, 'crs': 'EPSG:4326', 'crs_transform': [1, 0, 0, 0, 1, 0]}], 'properties': {'system:time_start': 1564617600000, 'month': 8, 'year': 2019, 'system:time_end': 1567296000000, 'system:index': '7'}}, {'type': 'Image', 'bands': [{'id': 'precipitation_sum', 'data_type': {'type': 'PixelType', 'precision': 'double'}, 'crs': 'EPSG:4326', 'crs_transform': [1, 0, 0, 0, 1, 0]}], 'properties': {'system:time_start': 1567296000000, 'month': 9, 'year': 2019, 'system:time_end': 1569888000000, 'system:index': '8'}}, {'type': 'Image', 'bands': [{'id': 'precipitation_sum', 'data_type': {'type': 'PixelType', 'precision': 'double'}, 'crs': 'EPSG:4326', 'crs_transform': [1, 0, 0, 0, 1, 0]}], 'properties': {'system:time_start': 1569888000000, 'month': 10, 'year': 2019, 'system:time_end': 1572566400000, 'system:index': '9'}}, {'type': 'Image', 'bands': [{'id': 'precipitation_sum', 'data_type': {'type': 'PixelType', 'precision': 'double'}, 'crs': 'EPSG:4326', 'crs_transform': [1, 0, 0, 0, 1, 0]}], 'properties': {'system:time_start': 1572566400000, 'month': 11, 'year': 2019, 'system:time_end': 1575158400000, 'system:index': '10'}}, {'type': 'Image', 'bands': [{'id': 'precipitation_sum', 'data_type': {'type': 'PixelType', 'precision': 'double'}, 'crs': 'EPSG:4326', 'crs_transform': [1, 0, 0, 0, 1, 0]}], 'properties': {'system:time_start': 1575158400000, 'month': 12, 'year': 2019, 'system:time_end': 1577836800000, 'system:index': '11'}}]}\n"
          ]
        },
        {
          "data": {
            "application/vnd.jupyter.widget-view+json": {
              "model_id": "da7b10cef5f8497ca499e2dff02b4d4d",
              "version_major": 2,
              "version_minor": 0
            },
            "text/plain": [
              "Figure(axes=[Axis(label_offset='30px', scale=DateScale()), Axis(label_offset='40px', orientation='vertical', s…"
            ]
          },
          "metadata": {},
          "output_type": "display_data"
        },
        {
          "data": {
            "application/vnd.jupyter.widget-view+json": {
              "model_id": "8d9f560ba6ec4c658ebc24941622930a",
              "version_major": 2,
              "version_minor": 0
            },
            "text/plain": [
              "Output(layout=Layout(width='50%'))"
            ]
          },
          "metadata": {},
          "output_type": "display_data"
        },
        {
          "data": {
            "application/vnd.jupyter.widget-view+json": {
              "model_id": "abe4577fa1b847208c4e7472e0f2810a",
              "version_major": 2,
              "version_minor": 0
            },
            "text/plain": [
              "Figure(fig_margin={'top': 60, 'bottom': 60, 'left': 60, 'right': 60}, scale_x=LinearScale(allow_padding=False,…"
            ]
          },
          "metadata": {},
          "output_type": "display_data"
        }
      ],
      "source": [
        "# Add Earth Engine dataset\n",
        "image = ee.Image(\"USGS/SRTMGL1_003\")\n",
        "\n",
        "#  ~~~~~~~~~~~~~~~~~~~~~~~~~~~~~~~~~~~~~~~~~~~~~~~~~~~~~~~~~~~~~~~~~~~~~~~\n",
        "#  Chapter:      F4.2 Aggregating Images for Time Series\n",
        "#  Checkpoint:   F42b\n",
        "#  Author:       Ujaval Gandhi\n",
        "#  ~~~~~~~~~~~~~~~~~~~~~~~~~~~~~~~~~~~~~~~~~~~~~~~~~~~~~~~~~~~~~~~~~~~~~~~\n",
        "\n",
        "chirps = ee.ImageCollection('UCSB-CHG/CHIRPS/PENTAD')\n",
        "year = 2019\n",
        "startDate = ee.Date.fromYMD(year, 1, 1)\n",
        "\n",
        "endDate = startDate.advance(1, 'year')\n",
        "\n",
        "yearFiltered = chirps \\\n",
        ".filter(ee.Filter.date(startDate, endDate))\n",
        "print(yearFiltered.getInfo(), 'Date-filtered CHIRPS images')\n",
        "\n",
        "print(startDate.getInfo(), 'Start date')\n",
        "print(endDate.getInfo(), 'End date')\n",
        "\n",
        "print('Start date as timestamp', startDate.millis().getInfo())\n",
        "print('End date as timestamp', endDate.millis().getInfo())\n",
        "\n",
        "#  -----------------------------------------------------------------------\n",
        "#  CHECKPOINT\n",
        "#  -----------------------------------------------------------------------\n",
        "\n",
        "# Aggregate this time series to compute monthly images.\n",
        "# Create a list of months\n",
        "months = ee.List.sequence(1, 12)\n",
        "\n",
        "# Write a function that takes a month number\n",
        "# and returns a monthly image.\n",
        "\n",
        "def func_lcx(beginningMonth):\n",
        "    startDate = ee.Date.fromYMD(year, beginningMonth, 1)\n",
        "    endDate = startDate.advance(1, 'month')\n",
        "    monthFiltered = yearFiltered \\\n",
        "    .filter(ee.Filter.date(startDate, endDate))\n",
        "\n",
        "    # Calculate total precipitation.\n",
        "    total = monthFiltered.reduce(ee.Reducer.sum())\n",
        "    return total.set({\n",
        "        'system:time_start': startDate.millis(),\n",
        "        'system:time_end': endDate.millis(),\n",
        "        'year': year,\n",
        "        'month': beginningMonth\n",
        "        })\n",
        "\n",
        "createMonthlyImage = func_lcx\n",
        "\n",
        "\n",
        "\n",
        "\n",
        "\n",
        "\n",
        "\n",
        "\n",
        "\n",
        "\n",
        "\n",
        "\n",
        "\n",
        "\n",
        "\n",
        "# map() the function on the list of months\n",
        "# This creates a list with images for each month in the list\n",
        "monthlyImages = months.map(createMonthlyImage)\n",
        "\n",
        "# Create an ee.ImageCollection.\n",
        "monthlyCollection = ee.ImageCollection.fromImages(monthlyImages)\n",
        "print(monthlyCollection.getInfo())\n",
        "\n",
        "#  -----------------------------------------------------------------------\n",
        "#  CHECKPOINT\n",
        "#  -----------------------------------------------------------------------\n",
        "\n",
        "# Create a point with coordinates for the city of Bengaluru, India.\n",
        "point = ee.Geometry.Point(77.5946, 12.9716)\n",
        "\n",
        "chart = ui_chart.image_series(\n",
        "image_collection = monthlyCollection,\n",
        "region = point,\n",
        "reducer = ee.Reducer.mean(),\n",
        "scale = 5566,\n",
        ")\n",
        "chart.display()\n",
        "\n",
        "chart = ui_chart.image_series(\n",
        "image_collection = monthlyCollection,\n",
        "region = point,\n",
        "reducer = ee.Reducer.mean(),\n",
        "scale = 5566)\n",
        "chart.set_options(options = {\n",
        "    'lineWidth': 1,\n",
        "    'pointSize': 3,\n",
        "    'title': 'Monthly Rainfall at Bengaluru',\n",
        "    'vAxis': {\n",
        "        'title': 'Rainfall (mm)'\n",
        "        },\n",
        "    'hAxis': {\n",
        "        'title': 'Month',\n",
        "        'gridlines': {\n",
        "                'count': 12\n",
        "            }\n",
        "        }\n",
        "    })\n",
        "chart.display()\n",
        "\n",
        "#  -----------------------------------------------------------------------\n",
        "#  CHECKPOINT\n",
        "#  -----------------------------------------------------------------------\n"
      ]
    },
    {
      "cell_type": "markdown",
      "metadata": {},
      "source": [
        "## Display the interactive map"
      ]
    },
    {
      "cell_type": "code",
      "execution_count": 12,
      "metadata": {},
      "outputs": [
        {
          "data": {
            "text/html": [
              "\n",
              "            <style>\n",
              "                .geemap-dark {\n",
              "                    --jp-widgets-color: white;\n",
              "                    --jp-widgets-label-color: white;\n",
              "                    --jp-ui-font-color1: white;\n",
              "                    --jp-layout-color2: #454545;\n",
              "                    background-color: #383838;\n",
              "                }\n",
              "\n",
              "                .geemap-dark .jupyter-button {\n",
              "                    --jp-layout-color3: #383838;\n",
              "                }\n",
              "\n",
              "                .geemap-colab {\n",
              "                    background-color: var(--colab-primary-surface-color, white);\n",
              "                }\n",
              "\n",
              "                .geemap-colab .jupyter-button {\n",
              "                    --jp-layout-color3: var(--colab-primary-surface-color, white);\n",
              "                }\n",
              "            </style>\n",
              "            "
            ],
            "text/plain": [
              "<IPython.core.display.HTML object>"
            ]
          },
          "metadata": {},
          "output_type": "display_data"
        },
        {
          "data": {
            "application/vnd.jupyter.widget-view+json": {
              "model_id": "aa8d8be564fd4ad7bf9b9c9375694c65",
              "version_major": 2,
              "version_minor": 0
            },
            "text/plain": [
              "Map(center=[40, -100], controls=(WidgetControl(options=['position', 'transparent_bg'], widget=SearchDataGUI(ch…"
            ]
          },
          "execution_count": 12,
          "metadata": {},
          "output_type": "execute_result"
        }
      ],
      "source": [
        "Map"
      ]
    }
  ],
  "metadata": {
    "anaconda-cloud": {},
    "kernelspec": {
      "display_name": "Python 3",
      "language": "python",
      "name": "python3"
    },
    "language_info": {
      "codemirror_mode": {
        "name": "ipython",
        "version": 3
      },
      "file_extension": ".py",
      "mimetype": "text/x-python",
      "name": "python",
      "nbconvert_exporter": "python",
      "pygments_lexer": "ipython3",
      "version": "3.11.9"
    }
  },
  "nbformat": 4,
  "nbformat_minor": 4
}
