{
  "cells": [
    {
      "cell_type": "markdown",
      "metadata": {},
      "source": [
        "## Import libraries"
      ]
    },
    {
      "cell_type": "code",
      "execution_count": 4,
      "metadata": {},
      "outputs": [
        {
          "data": {
            "text/html": [
              "\n",
              "            <style>\n",
              "                .geemap-dark {\n",
              "                    --jp-widgets-color: white;\n",
              "                    --jp-widgets-label-color: white;\n",
              "                    --jp-ui-font-color1: white;\n",
              "                    --jp-layout-color2: #454545;\n",
              "                    background-color: #383838;\n",
              "                }\n",
              "                    \n",
              "                .geemap-dark .jupyter-button {\n",
              "                    --jp-layout-color3: #383838;\n",
              "                }\n",
              "                \n",
              "                .geemap-colab {\n",
              "                    background-color: var(--colab-primary-surface-color, white);\n",
              "                }\n",
              "                    \n",
              "                .geemap-colab .jupyter-button {\n",
              "                    --jp-layout-color3: var(--colab-primary-surface-color, white);\n",
              "                }\n",
              "            </style>\n",
              "            "
            ],
            "text/plain": [
              "<IPython.core.display.HTML object>"
            ]
          },
          "metadata": {},
          "output_type": "display_data"
        }
      ],
      "source": [
        "import ee\n",
        "import geemap"
      ]
    },
    {
      "cell_type": "markdown",
      "metadata": {},
      "source": [
        "## Create an interactive map"
      ]
    },
    {
      "cell_type": "code",
      "execution_count": 5,
      "metadata": {},
      "outputs": [
        {
          "data": {
            "text/html": [
              "\n",
              "            <style>\n",
              "                .geemap-dark {\n",
              "                    --jp-widgets-color: white;\n",
              "                    --jp-widgets-label-color: white;\n",
              "                    --jp-ui-font-color1: white;\n",
              "                    --jp-layout-color2: #454545;\n",
              "                    background-color: #383838;\n",
              "                }\n",
              "                    \n",
              "                .geemap-dark .jupyter-button {\n",
              "                    --jp-layout-color3: #383838;\n",
              "                }\n",
              "                \n",
              "                .geemap-colab {\n",
              "                    background-color: var(--colab-primary-surface-color, white);\n",
              "                }\n",
              "                    \n",
              "                .geemap-colab .jupyter-button {\n",
              "                    --jp-layout-color3: var(--colab-primary-surface-color, white);\n",
              "                }\n",
              "            </style>\n",
              "            "
            ],
            "text/plain": [
              "<IPython.core.display.HTML object>"
            ]
          },
          "metadata": {},
          "output_type": "display_data"
        }
      ],
      "source": [
        "Map = geemap.Map(center=[40, -100], zoom=4)"
      ]
    },
    {
      "cell_type": "markdown",
      "metadata": {},
      "source": [
        "## Add Earth Engine Python script"
      ]
    },
    {
      "cell_type": "code",
      "execution_count": 6,
      "metadata": {},
      "outputs": [
        {
          "data": {
            "text/html": [
              "\n",
              "            <style>\n",
              "                .geemap-dark {\n",
              "                    --jp-widgets-color: white;\n",
              "                    --jp-widgets-label-color: white;\n",
              "                    --jp-ui-font-color1: white;\n",
              "                    --jp-layout-color2: #454545;\n",
              "                    background-color: #383838;\n",
              "                }\n",
              "                    \n",
              "                .geemap-dark .jupyter-button {\n",
              "                    --jp-layout-color3: #383838;\n",
              "                }\n",
              "                \n",
              "                .geemap-colab {\n",
              "                    background-color: var(--colab-primary-surface-color, white);\n",
              "                }\n",
              "                    \n",
              "                .geemap-colab .jupyter-button {\n",
              "                    --jp-layout-color3: var(--colab-primary-surface-color, white);\n",
              "                }\n",
              "            </style>\n",
              "            "
            ],
            "text/plain": [
              "<IPython.core.display.HTML object>"
            ]
          },
          "metadata": {},
          "output_type": "display_data"
        },
        {
          "name": "stdout",
          "output_type": "stream",
          "text": [
            "All images ever:  1869015\n",
            "All images 2000-2010:  646696\n",
            "All images here, 2000-2010:  125\n",
            "Less than 50% clouds in this area, 2000-2010 83\n",
            "Chained: Less than 50% clouds in this area, 2000-2010 83\n",
            "Efficient filtering: Less than 50% clouds in this area, 2000-2010 83\n",
            "Verifying that the .map gives back the same number of images:  83\n",
            "{'type': 'ImageCollection', 'bands': [], 'version': 1723972040218094, 'id': 'LANDSAT/LT05/C02/T1_L2', 'properties': {'date_range': [441763200000, 1336176000000], 'visualization_2_bands': 'SR_B7,SR_B4,SR_B2', 'visualization_2_name': 'Shortwave Infrared (742)', 'period': 0, 'type_name': 'ImageCollection', 'keywords': ['cfmask', 'cloud', 'fmask', 'global', 'landsat', 'lasrc', 'lst', 'reflectance', 'sr', 'tm', 'usgs'], 'visualization_1_bands': 'SR_B4,SR_B3,SR_B2', 'thumb': 'https://mw1.google.com/ges/dd/images/LANDSAT_SR_thumb.png', 'visualization_2_gain': '1.8,1.9,1.9', 'description': '<p>This dataset contains atmospherically corrected\\nsurface reflectance and land surface temperature derived from the data\\nproduced by the Landsat TM sensor.\\nThese images contain 4 visible and near-infrared (VNIR) bands and\\n2 short-wave infrared (SWIR) bands processed to orthorectified surface\\nreflectance, and one thermal infrared (TIR) band processed to orthorectified\\nsurface temperature. They also contain intermediate bands used in\\ncalculation of the ST products, as well as QA bands.</p><p>Landsat 4 and 5 SR products are created with the Landsat Ecosystem Disturbance\\nAdaptive Processing System (LEDAPS) algorithm (version 3.4.0).\\nAll Collection 2 ST products are created with a single-channel algorithm\\njointly created by the Rochester Institute of Technology (RIT) and\\nNational Aeronautics and Space Administration (NASA)\\nJet Propulsion Laboratory (JPL).</p><p>Strips of collected data are packaged into overlapping &quot;scenes&quot; covering approximately\\n170km x 183km using a <a href=\"https://landsat.gsfc.nasa.gov/about/worldwide-reference-system\">standardized reference grid</a>.</p><p>Some assets have only SR data, in which case ST bands are present but empty.\\nFor assets with both ST and SR bands, &#39;PROCESSING_LEVEL&#39; is set to &#39;L2SP&#39;.\\nFor assets with only SR bands, &#39;PROCESSING_LEVEL&#39; is set to &#39;L2SR&#39;.</p><p><a href=\"/earth-engine/guides/landsat\">Additional documentation and usage examples.</a></p><p>Data provider notes:</p><ul><li><p>Data products must contain both optical and thermal data to be\\nsuccessfully processed to surface temperature, as ASTER NDVI is\\nrequired to temporally adjust the ASTER GED product to the target Landsat\\nscene. Therefore, night time acquisitions cannot be processed to\\nsurface temperature.</p></li><li><p>A known error exists in the surface temperature retrievals relative\\nto clouds and possibly cloud shadows. The characterization of these\\nissues has been documented by\\n<a href=\"https://doi.org/10.3390/rs61111244\">Cook et al., (2014)</a>.</p></li></ul><p><b>Provider: <a href=\"https://www.usgs.gov/core-science-systems/nli/landsat/landsat-collection-2-level-2-science-products\">USGS</a></b><br><p><b>Resolution</b><br>30 meters\\n</p><p><b>Revisit Interval</b><br>\\n  16 days\\n</p><p><b>Bands</b><table class=\"eecat\"><tr><th scope=\"col\">Name</th><th scope=\"col\">Units</th><th scope=\"col\">Min</th><th scope=\"col\">Max</th><th scope=\"col\">Scale</th><th scope=\"col\">Offset</th><th scope=\"col\">Wavelength</th><th scope=\"col\">Description</th></tr><tr><td>SR_B1</td><td></td><td>\\n          1\\n</td><td>\\n          65455\\n</td><td>2.75e-05</td><td>-0.2</td><td>0.45-0.52 &mu;m</td><td><p>Band 1 (blue) surface reflectance</p></td></tr><tr><td>SR_B2</td><td></td><td>\\n          1\\n</td><td>\\n          65455\\n</td><td>2.75e-05</td><td>-0.2</td><td>0.52-0.60 &mu;m</td><td><p>Band 2 (green) surface reflectance</p></td></tr><tr><td>SR_B3</td><td></td><td>\\n          1\\n</td><td>\\n          65455\\n</td><td>2.75e-05</td><td>-0.2</td><td>0.63-0.69 &mu;m</td><td><p>Band 3 (red) surface reflectance</p></td></tr><tr><td>SR_B4</td><td></td><td>\\n          1\\n</td><td>\\n          65455\\n</td><td>2.75e-05</td><td>-0.2</td><td>0.77-0.90 &mu;m</td><td><p>Band 4 (near infrared) surface reflectance</p></td></tr><tr><td>SR_B5</td><td></td><td>\\n          1\\n</td><td>\\n          65455\\n</td><td>2.75e-05</td><td>-0.2</td><td>1.55-1.75 &mu;m</td><td><p>Band 5 (shortwave infrared 1) surface reflectance</p></td></tr><tr><td>SR_B7</td><td></td><td>\\n          1\\n</td><td>\\n          65455\\n</td><td>2.75e-05</td><td>-0.2</td><td>2.08-2.35 &mu;m</td><td><p>Band 7 (shortwave infrared 2) surface reflectance</p></td></tr><tr><td>SR_ATMOS_OPACITY</td><td></td><td>\\n          0\\n</td><td>\\n          10000\\n</td><td>0.001</td><td></td><td></td><td><p>A general interpretation of atmospheric opacity\\ngenerated by LEDAPS and based on the radiance viewed over Dark Dense\\nVegetation (DDV) within the scene. A general interpretation of atmospheric\\nopacity is that values (after scaling by 0.001 is applied)\\nless than 0.1 are clear, 0.1-0.3 are average,\\nand values greater than 0.3 indicate haze or other cloud situations.\\nSR values from pixels with high atmospheric opacity will be less reliable,\\nespecially under high solar zenith angle conditions. The\\nSR_ATMOS_OPACITY band is provided for advanced users and for product quality\\nassessment and has not been validated. Most users are advised to instead use\\nthe QA_PIXEL band information for cloud discrimination.</p></td></tr><tr><td>SR_CLOUD_QA</td><td></td><td></td><td></td><td></td><td></td><td></td><td><p>Cloud Quality Assessment</p></td></tr><tr><td colspan=100>\\n      Bitmask for SR_CLOUD_QA\\n<ul><li>\\n          Bit 0: Dark Dense Vegetation (DDV)\\n<ul></ul></li><li>\\n          Bit 1: Cloud\\n<ul></ul></li><li>\\n          Bit 2: Cloud Shadow\\n<ul></ul></li><li>\\n          Bit 3: Adjacent to Cloud\\n<ul></ul></li><li>\\n          Bit 4: Snow\\n<ul></ul></li><li>\\n          Bit 5: Water\\n<ul></ul></li></ul></td></tr><tr><td>ST_B6</td><td>Kelvin</td><td>\\n          0\\n</td><td>\\n          65535\\n</td><td>0.00341802</td><td>149</td><td>10.40-12.50 &mu;m</td><td><p>Band 6 surface temperature.\\nIf &#39;PROCESSING_LEVEL&#39; is set to &#39;L2SR&#39;, this band is fully masked out.</p></td></tr><tr><td>ST_ATRAN</td><td></td><td>\\n          0\\n</td><td>\\n          10000\\n</td><td>0.0001</td><td></td><td></td><td><p>Atmospheric Transmittance.\\nIf &#39;PROCESSING_LEVEL&#39; is set to &#39;L2SR&#39;, this band is fully masked out.</p></td></tr><tr><td>ST_CDIST</td><td>km</td><td>\\n          0\\n</td><td>\\n          24000\\n</td><td>0.01</td><td></td><td></td><td><p>Pixel distance to cloud.\\nIf &#39;PROCESSING_LEVEL&#39; is set to &#39;L2SR&#39;, this band is fully masked out.</p></td></tr><tr><td>ST_DRAD</td><td>W/(m^2*sr*um)/ DN</td><td>\\n          0\\n</td><td>\\n          28000\\n</td><td>0.001</td><td></td><td></td><td><p>Downwelled Radiance.\\nIf &#39;PROCESSING_LEVEL&#39; is set to &#39;L2SR&#39;, this band is fully masked out.</p></td></tr><tr><td>ST_EMIS</td><td></td><td>\\n          0\\n</td><td>\\n          10000\\n</td><td>0.0001</td><td></td><td></td><td><p>Emissivity estimated from ASTER GED.\\nIf &#39;PROCESSING_LEVEL&#39; is set to &#39;L2SR&#39;, this band is fully masked out.</p></td></tr><tr><td>ST_EMSD</td><td></td><td>\\n          0\\n</td><td>\\n          10000\\n</td><td>0.0001</td><td></td><td></td><td><p>Emissivity standard deviation.\\nIf &#39;PROCESSING_LEVEL&#39; is set to &#39;L2SR&#39;, this band is fully masked out.</p></td></tr><tr><td>ST_QA</td><td>K</td><td>\\n          0\\n</td><td>\\n          32767\\n</td><td>0.01</td><td></td><td></td><td><p>Uncertainty of the Surface Temperature band.\\nIf &#39;PROCESSING_LEVEL&#39; is set to &#39;L2SR&#39;, this band is fully masked out.</p></td></tr><tr><td>ST_TRAD</td><td>W/(m^2*sr*um)/ DN</td><td>\\n          0\\n</td><td>\\n          22000\\n</td><td>0.001</td><td></td><td></td><td><p>Thermal band converted to radiance.\\nIf &#39;PROCESSING_LEVEL&#39; is set to &#39;L2SR&#39;, this band is fully masked out.</p></td></tr><tr><td>ST_URAD</td><td>W/(m^2*sr*um)/ DN</td><td>\\n          0\\n</td><td>\\n          28000\\n</td><td>0.001</td><td></td><td></td><td><p>Upwelled Radiance.\\nIf &#39;PROCESSING_LEVEL&#39; is set to &#39;L2SR&#39;, this band is fully masked out.</p></td></tr><tr><td>QA_PIXEL</td><td></td><td></td><td></td><td></td><td></td><td></td><td><p>Pixel quality attributes generated from the CFMASK algorithm.</p></td></tr><tr><td colspan=100>\\n      Bitmask for QA_PIXEL\\n<ul><li>\\n          Bit 0: Fill\\n<ul></ul></li><li>\\n          Bit 1: Dilated Cloud\\n<ul></ul></li><li>\\n          Bit 2: Unused\\n<ul></ul></li><li>\\n          Bit 3: Cloud\\n<ul></ul></li><li>\\n          Bit 4: Cloud Shadow\\n<ul></ul></li><li>\\n          Bit 5: Snow\\n<ul></ul></li><li>\\n          Bit 6: Clear\\n<ul><li>0: Cloud or Dilated Cloud bits are set</li><li>1: Cloud and Dilated Cloud bits are not set</li></ul></li><li>\\n          Bit 7: Water\\n<ul></ul></li><li>\\n          Bits 8-9: Cloud Confidence\\n<ul><li>0: None</li><li>1: Low</li><li>2: Medium</li><li>3: High</li></ul></li><li>\\n          Bits 10-11: Cloud Shadow Confidence\\n<ul><li>0: None</li><li>1: Low</li><li>2: Medium</li><li>3: High</li></ul></li><li>\\n          Bits 12-13: Snow/Ice Confidence\\n<ul><li>0: None</li><li>1: Low</li><li>2: Medium</li><li>3: High</li></ul></li><li>\\n          Bits 14-15: Cirrus Confidence\\n<ul><li>0: None</li><li>1: Low</li><li>2: Medium</li><li>3: High</li></ul></li></ul></td></tr><tr><td>QA_RADSAT</td><td></td><td></td><td></td><td></td><td></td><td></td><td><p>Radiometric saturation QA</p></td></tr><tr><td colspan=100>\\n      Bitmask for QA_RADSAT\\n<ul><li>\\n          Bit 0: Band 1 data saturated\\n<ul></ul></li><li>\\n          Bit 1: Band 2 data saturated\\n<ul></ul></li><li>\\n          Bit 2: Band 3 data saturated\\n<ul></ul></li><li>\\n          Bit 3: Band 4 data saturated\\n<ul></ul></li><li>\\n          Bit 4: Band 5 data saturated\\n<ul></ul></li><li>\\n          Bit 5: Band 6L data saturated\\n<ul></ul></li><li>\\n          Bit 6: Band 7 data saturated\\n<ul></ul></li><li>\\n          Bit 7: Unused\\n<ul></ul></li><li>\\n          Bit 8: Band 6H data saturated\\n<ul></ul></li><li>\\n          Bit 9: Dropped pixel\\n<ul><li>0: Pixel present</li><li>1: Detector doesn&#39;t have a value</li></ul></li></ul></td></tr></table><p><b>Image Properties</b><table class=\"eecat\"><tr><th scope=\"col\">Name</th><th scope=\"col\">Type</th><th scope=\"col\">Description</th></tr><tr><td>ALGORITHM_SOURCE_SURFACE_REFLECTANCE</td><td>STRING</td><td><p>Name and version of the surface reflectance algorithm.</p></td></tr><tr><td>ALGORITHM_SOURCE_SURFACE_TEMPERATURE</td><td>STRING</td><td><p>Name and version of the surface temperature algorithm.</p></td></tr><tr><td>CLOUD_COVER</td><td>DOUBLE</td><td><p>Percentage cloud cover (0-100), -1 = not calculated.</p></td></tr><tr><td>CLOUD_COVER_LAND</td><td>DOUBLE</td><td><p>Percentage cloud cover over land (0-100), -1 = not calculated.</p></td></tr><tr><td>COLLECTION_CATEGORY</td><td>STRING</td><td><p>Scene collection category, &quot;T1&quot; or &quot;T2&quot;.</p></td></tr><tr><td>DATA_SOURCE_AIR_TEMPERATURE</td><td>STRING</td><td><p>Air temperature data source.</p></td></tr><tr><td>DATA_SOURCE_ELEVATION</td><td>STRING</td><td><p>Elevation data source.</p></td></tr><tr><td>DATA_SOURCE_OZONE</td><td>STRING</td><td><p>Ozone data source.</p></td></tr><tr><td>DATA_SOURCE_PRESSURE</td><td>STRING</td><td><p>Pressure data source.</p></td></tr><tr><td>DATA_SOURCE_REANALYSIS</td><td>STRING</td><td><p>Reanalysis data source.</p></td></tr><tr><td>DATA_SOURCE_WATER_VAPOR</td><td>STRING</td><td><p>Water vapor data source.</p></td></tr><tr><td>DATE_PRODUCT_GENERATED</td><td>DOUBLE</td><td><p>Timestamp of the date when the product was generated.</p></td></tr><tr><td>EARTH_SUN_DISTANCE</td><td>DOUBLE</td><td><p>Earth-Sun distance (AU).</p></td></tr><tr><td>EPHEMERIS_TYPE</td><td>PROPERTY_TYPE_UNSPECIFIED</td><td><p>Identifier to inform the user of the orbital ephemeris type used:\\n&quot;DEFINITIVE&quot; or &quot;PREDICTIVE&quot;. If the field is not present, the user should\\nassume &quot;PREDICTIVE&quot;.</p></td></tr><tr><td>GEOMETRIC_RMSE_MODEL</td><td>DOUBLE</td><td><p>Combined RMSE (Root Mean Square Error) of the geometric\\nresiduals (meters) in both across-track and along-track\\ndirections.</p></td></tr><tr><td>GEOMETRIC_RMSE_MODEL_X</td><td>DOUBLE</td><td><p>RMSE (Root Mean Square Error) of the geometric residuals (meters)\\nmeasured on the GCPs (Ground Control Points) used in geometric\\nprecision correction in the across-track direction.</p></td></tr><tr><td>GEOMETRIC_RMSE_MODEL_Y</td><td>DOUBLE</td><td><p>RMSE (Root Mean Square Error) of the geometric residuals (meters)\\nmeasured on the GCPs (Ground Control Points) used in geometric\\nprecision correction in the along-track direction.</p></td></tr><tr><td>GROUND_CONTROL_POINTS_MODEL</td><td>DOUBLE</td><td><p>Number of GCPs used in the precision correction process.\\nThis parameter is only present if the PROCESSING_LEVEL is L1TP.</p></td></tr><tr><td>GROUND_CONTROL_POINTS_VERSION</td><td>DOUBLE</td><td><p>GCP dataset version used in the precision correction process. This\\nparameter is only present if the PROCESSING_LEVEL is L1TP.</p></td></tr><tr><td>IMAGE_QUALITY</td><td>INT</td><td><p>Composite image quality for the bands.\\n0 = worst, 9 = best, -1 = quality not calculated or assessed.</p></td></tr><tr><td>L1_DATE_PRODUCT_GENERATED</td><td>STRING</td><td><p>Product generation date for the corresponding L1 product.</p></td></tr><tr><td>L1_LANDSAT_PRODUCT_ID</td><td>STRING</td><td><p>Landsat Product Identifier for the corresponding L1 product.</p></td></tr><tr><td>L1_PROCESSING_LEVEL</td><td>STRING</td><td><p>Processing Level for the corresponding L1 product.</p></td></tr><tr><td>L1_PROCESSING_SOFTWARE_VERSION</td><td>STRING</td><td><p>Processing software version for the corresponding L1 product.</p></td></tr><tr><td>LANDSAT_PRODUCT_ID</td><td>STRING</td><td><p>Landsat Product Identifier</p></td></tr><tr><td>LANDSAT_SCENE_ID</td><td>STRING</td><td><p>Short Landsat Scene Identifier</p></td></tr><tr><td>PROCESSING_LEVEL</td><td>STRING</td><td><p>&quot;L2SP&quot; when both SR and LST bands are present, or &quot;L2SR&quot; when only\\nSR bands are present.</p></td></tr><tr><td>PROCESSING_SOFTWARE_VERSION</td><td>STRING</td><td><p>The processing software version that created the product.</p></td></tr><tr><td>SCENE_CENTER_TIME</td><td>STRING</td><td><p>Time of the observations as in ISO 8601 string.</p></td></tr><tr><td>SENSOR_ID</td><td>STRING</td><td><p>Name of the sensor.</p></td></tr><tr><td>SPACECRAFT_ID</td><td>STRING</td><td><p>Name of the spacecraft.</p></td></tr><tr><td>SUN_AZIMUTH</td><td>DOUBLE</td><td><p>Sun azimuth angle in degrees for the image center location at the\\nimage center acquisition time. A positive value indicates angles to the\\neast or clockwise from the north. A negative value indicates angles to\\nthe west or counterclockwise from the north.</p></td></tr><tr><td>SUN_ELEVATION</td><td>DOUBLE</td><td><p>Sun elevation angle in degrees for the image center location at the\\nimage center acquisition time. A positive value indicates a daytime\\nscene. A negative value indicates a nighttime scene.\\nNote: For reflectance calculation, the sun zenith angle is needed,\\nwhich is 90 - sun elevation angle.</p></td></tr><tr><td>TEMPERATURE_MAXIMUM_BAND_ST_B6</td><td>DOUBLE</td><td><p>Maximum achievable temperature value for Band 6.</p></td></tr><tr><td>TEMPERATURE_MINIMUM_BAND_ST_B6</td><td>DOUBLE</td><td><p>Minimum achievable temperature value for Band 6.</p></td></tr><tr><td>WRS_PATH</td><td>INT</td><td><p>WRS path number of scene.</p></td></tr><tr><td>WRS_ROW</td><td>INT</td><td><p>WRS row number of scene.</p></td></tr></table><p><b>Terms of Use</b><br><p>Landsat datasets are federally created data\\nand therefore reside in the public domain and may be used, transferred, or reproduced without copyright restriction.</p><p>Acknowledgement or credit of the USGS as data source should be provided\\nby including a line of text citation such as the example shown below.</p><p>(Product, Image, Photograph, or Dataset Name) courtesy of\\nthe U.S. Geological Survey</p><p>Example: Landsat-7 image courtesy of the U.S. Geological Survey</p><p>See the\\n<a href=\"https://www.usgs.gov/information-policies-and-instructions/usgs-visual-identity-system\">USGS Visual Identity System Guidance</a>\\nfor further details on proper citation and acknowledgement of USGS products.</p><style>\\n  table.eecat {\\n  border: 1px solid black;\\n  border-collapse: collapse;\\n  font-size: 13px;\\n  }\\n  table.eecat td, tr, th {\\n  text-align: left; vertical-align: top;\\n  border: 1px solid gray; padding: 3px;\\n  }\\n  td.nobreak { white-space: nowrap; }\\n</style>', 'source_tags': ['landsat', 'usgs'], 'visualization_1_name': 'Near Infrared (432)', 'provider_url': 'https://www.usgs.gov/core-science-systems/nli/landsat/landsat-collection-2-level-2-science-products', 'title': 'USGS Landsat 5 Level 2, Collection 2, Tier 1', 'visualization_0_gain': '1.4,1.2,1.0', 'sample': 'https://mw1.google.com/ges/dd/images/LANDSAT_SR_sample.png', 'tags': ['cfmask', 'cloud', 'fmask', 'global', 'landsat', 'lasrc', 'lst', 'reflectance', 'sr', 'tm', 'usgs'], 'product_tags': ['global', 'sr', 'reflectance', 'lst', 'cloud', 'lasrc', 'fmask', 'cfmask', 'tm', 'lt05'], 'visualization_1_gain': '1.4,1.2,1.4', 'provider': 'USGS', 'visualization_0_name': 'True Color (321)', 'visualization_0_bands': 'SR_B3,SR_B2,SR_B1'}, 'features': [{'type': 'Image', 'bands': [{'id': 'EVI', 'data_type': {'type': 'PixelType', 'precision': 'double'}, 'dimensions': [7861, 7191], 'crs': 'EPSG:32651', 'crs_transform': [30, 0, 269985, 0, -30, 3621915]}], 'properties': {'system:index': 'LT05_118038_20000130'}}, {'type': 'Image', 'bands': [{'id': 'EVI', 'data_type': {'type': 'PixelType', 'precision': 'double'}, 'dimensions': [7871, 7181], 'crs': 'EPSG:32651', 'crs_transform': [30, 0, 270885, 0, -30, 3621615]}], 'properties': {'system:index': 'LT05_118038_20000215'}}, {'type': 'Image', 'bands': [{'id': 'EVI', 'data_type': {'type': 'PixelType', 'precision': 'double'}, 'dimensions': [7881, 7191], 'crs': 'EPSG:32651', 'crs_transform': [30, 0, 289185, 0, -30, 3619515]}], 'properties': {'system:index': 'LT05_118038_20000302'}}, {'type': 'Image', 'bands': [{'id': 'EVI', 'data_type': {'type': 'PixelType', 'precision': 'double'}, 'dimensions': [7891, 7191], 'crs': 'EPSG:32651', 'crs_transform': [30, 0, 278085, 0, -30, 3627915]}], 'properties': {'system:index': 'LT05_118038_20000521'}}, {'type': 'Image', 'bands': [{'id': 'EVI', 'data_type': {'type': 'PixelType', 'precision': 'double'}, 'dimensions': [7891, 7201], 'crs': 'EPSG:32651', 'crs_transform': [30, 0, 277185, 0, -30, 3621315]}], 'properties': {'system:index': 'LT05_118038_20000606'}}, {'type': 'Image', 'bands': [{'id': 'EVI', 'data_type': {'type': 'PixelType', 'precision': 'double'}, 'dimensions': [7891, 7201], 'crs': 'EPSG:32651', 'crs_transform': [30, 0, 276585, 0, -30, 3619215]}], 'properties': {'system:index': 'LT05_118038_20000708'}}, {'type': 'Image', 'bands': [{'id': 'EVI', 'data_type': {'type': 'PixelType', 'precision': 'double'}, 'dimensions': [7881, 7201], 'crs': 'EPSG:32651', 'crs_transform': [30, 0, 278385, 0, -30, 3620115]}], 'properties': {'system:index': 'LT05_118038_20000809'}}, {'type': 'Image', 'bands': [{'id': 'EVI', 'data_type': {'type': 'PixelType', 'precision': 'double'}, 'dimensions': [7871, 7201], 'crs': 'EPSG:32651', 'crs_transform': [30, 0, 277485, 0, -30, 3618015]}], 'properties': {'system:index': 'LT05_118038_20001215'}}, {'type': 'Image', 'bands': [{'id': 'EVI', 'data_type': {'type': 'PixelType', 'precision': 'double'}, 'dimensions': [7881, 7201], 'crs': 'EPSG:32651', 'crs_transform': [30, 0, 275685, 0, -30, 3621015]}], 'properties': {'system:index': 'LT05_118038_20001231'}}, {'type': 'Image', 'bands': [{'id': 'EVI', 'data_type': {'type': 'PixelType', 'precision': 'double'}, 'dimensions': [7881, 7201], 'crs': 'EPSG:32651', 'crs_transform': [30, 0, 275685, 0, -30, 3622515]}], 'properties': {'system:index': 'LT05_118038_20010116'}}, {'type': 'Image', 'bands': [{'id': 'EVI', 'data_type': {'type': 'PixelType', 'precision': 'double'}, 'dimensions': [7891, 7191], 'crs': 'EPSG:32651', 'crs_transform': [30, 0, 275985, 0, -30, 3621015]}], 'properties': {'system:index': 'LT05_118038_20010305'}}, {'type': 'Image', 'bands': [{'id': 'EVI', 'data_type': {'type': 'PixelType', 'precision': 'double'}, 'dimensions': [7871, 7201], 'crs': 'EPSG:32651', 'crs_transform': [30, 0, 281985, 0, -30, 3617715]}], 'properties': {'system:index': 'LT05_118038_20010422'}}, {'type': 'Image', 'bands': [{'id': 'EVI', 'data_type': {'type': 'PixelType', 'precision': 'double'}, 'dimensions': [7881, 7201], 'crs': 'EPSG:32651', 'crs_transform': [30, 0, 277485, 0, -30, 3617115]}], 'properties': {'system:index': 'LT05_118038_20010524'}}, {'type': 'Image', 'bands': [{'id': 'EVI', 'data_type': {'type': 'PixelType', 'precision': 'double'}, 'dimensions': [7881, 7201], 'crs': 'EPSG:32651', 'crs_transform': [30, 0, 273585, 0, -30, 3622215]}], 'properties': {'system:index': 'LT05_118038_20010711'}}, {'type': 'Image', 'bands': [{'id': 'EVI', 'data_type': {'type': 'PixelType', 'precision': 'double'}, 'dimensions': [7881, 7201], 'crs': 'EPSG:32651', 'crs_transform': [30, 0, 274185, 0, -30, 3618315]}], 'properties': {'system:index': 'LT05_118038_20010727'}}, {'type': 'Image', 'bands': [{'id': 'EVI', 'data_type': {'type': 'PixelType', 'precision': 'double'}, 'dimensions': [7881, 7201], 'crs': 'EPSG:32651', 'crs_transform': [30, 0, 275685, 0, -30, 3622815]}], 'properties': {'system:index': 'LT05_118038_20010913'}}, {'type': 'Image', 'bands': [{'id': 'EVI', 'data_type': {'type': 'PixelType', 'precision': 'double'}, 'dimensions': [7891, 7201], 'crs': 'EPSG:32651', 'crs_transform': [30, 0, 274785, 0, -30, 3621615]}], 'properties': {'system:index': 'LT05_118038_20011015'}}, {'type': 'Image', 'bands': [{'id': 'EVI', 'data_type': {'type': 'PixelType', 'precision': 'double'}, 'dimensions': [7881, 7191], 'crs': 'EPSG:32651', 'crs_transform': [30, 0, 278385, 0, -30, 3618615]}], 'properties': {'system:index': 'LT05_118038_20011031'}}, {'type': 'Image', 'bands': [{'id': 'EVI', 'data_type': {'type': 'PixelType', 'precision': 'double'}, 'dimensions': [7871, 7201], 'crs': 'EPSG:32651', 'crs_transform': [30, 0, 278085, 0, -30, 3619215]}], 'properties': {'system:index': 'LT05_118038_20011116'}}, {'type': 'Image', 'bands': [{'id': 'EVI', 'data_type': {'type': 'PixelType', 'precision': 'double'}, 'dimensions': [7881, 7191], 'crs': 'EPSG:32651', 'crs_transform': [30, 0, 276285, 0, -30, 3621915]}], 'properties': {'system:index': 'LT05_118038_20020103'}}, {'type': 'Image', 'bands': [{'id': 'EVI', 'data_type': {'type': 'PixelType', 'precision': 'double'}, 'dimensions': [7891, 7201], 'crs': 'EPSG:32651', 'crs_transform': [30, 0, 272085, 0, -30, 3617715]}], 'properties': {'system:index': 'LT05_118038_20020119'}}, {'type': 'Image', 'bands': [{'id': 'EVI', 'data_type': {'type': 'PixelType', 'precision': 'double'}, 'dimensions': [7891, 7201], 'crs': 'EPSG:32651', 'crs_transform': [30, 0, 275085, 0, -30, 3616815]}], 'properties': {'system:index': 'LT05_118038_20020220'}}, {'type': 'Image', 'bands': [{'id': 'EVI', 'data_type': {'type': 'PixelType', 'precision': 'double'}, 'dimensions': [7871, 7201], 'crs': 'EPSG:32651', 'crs_transform': [30, 0, 275685, 0, -30, 3618015]}], 'properties': {'system:index': 'LT05_118038_20020308'}}, {'type': 'Image', 'bands': [{'id': 'EVI', 'data_type': {'type': 'PixelType', 'precision': 'double'}, 'dimensions': [7921, 7111], 'crs': 'EPSG:32651', 'crs_transform': [30, 0, 272085, 0, -30, 3621015]}], 'properties': {'system:index': 'LT05_118038_20020714'}}, {'type': 'Image', 'bands': [{'id': 'EVI', 'data_type': {'type': 'PixelType', 'precision': 'double'}, 'dimensions': [7921, 7121], 'crs': 'EPSG:32651', 'crs_transform': [30, 0, 271485, 0, -30, 3622815]}], 'properties': {'system:index': 'LT05_118038_20020730'}}, {'type': 'Image', 'bands': [{'id': 'EVI', 'data_type': {'type': 'PixelType', 'precision': 'double'}, 'dimensions': [7931, 7121], 'crs': 'EPSG:32651', 'crs_transform': [30, 0, 275385, 0, -30, 3621015]}], 'properties': {'system:index': 'LT05_118038_20020831'}}, {'type': 'Image', 'bands': [{'id': 'EVI', 'data_type': {'type': 'PixelType', 'precision': 'double'}, 'dimensions': [7941, 7121], 'crs': 'EPSG:32651', 'crs_transform': [30, 0, 272385, 0, -30, 3619815]}], 'properties': {'system:index': 'LT05_118038_20021002'}}, {'type': 'Image', 'bands': [{'id': 'EVI', 'data_type': {'type': 'PixelType', 'precision': 'double'}, 'dimensions': [7951, 7131], 'crs': 'EPSG:32651', 'crs_transform': [30, 0, 281385, 0, -30, 3618615]}], 'properties': {'system:index': 'LT05_118038_20030311'}}, {'type': 'Image', 'bands': [{'id': 'EVI', 'data_type': {'type': 'PixelType', 'precision': 'double'}, 'dimensions': [7961, 7131], 'crs': 'EPSG:32651', 'crs_transform': [30, 0, 277785, 0, -30, 3617715]}], 'properties': {'system:index': 'LT05_118038_20030802'}}, {'type': 'Image', 'bands': [{'id': 'EVI', 'data_type': {'type': 'PixelType', 'precision': 'double'}, 'dimensions': [7931, 7131], 'crs': 'EPSG:32651', 'crs_transform': [30, 0, 279285, 0, -30, 3618915]}], 'properties': {'system:index': 'LT05_118038_20030903'}}, {'type': 'Image', 'bands': [{'id': 'EVI', 'data_type': {'type': 'PixelType', 'precision': 'double'}, 'dimensions': [7951, 7121], 'crs': 'EPSG:32651', 'crs_transform': [30, 0, 278685, 0, -30, 3618615]}], 'properties': {'system:index': 'LT05_118038_20031021'}}, {'type': 'Image', 'bands': [{'id': 'EVI', 'data_type': {'type': 'PixelType', 'precision': 'double'}, 'dimensions': [7961, 7131], 'crs': 'EPSG:32651', 'crs_transform': [30, 0, 275985, 0, -30, 3617715]}], 'properties': {'system:index': 'LT05_118038_20031122'}}, {'type': 'Image', 'bands': [{'id': 'EVI', 'data_type': {'type': 'PixelType', 'precision': 'double'}, 'dimensions': [7931, 7131], 'crs': 'EPSG:32651', 'crs_transform': [30, 0, 276885, 0, -30, 3619515]}], 'properties': {'system:index': 'LT05_118038_20031224'}}, {'type': 'Image', 'bands': [{'id': 'EVI', 'data_type': {'type': 'PixelType', 'precision': 'double'}, 'dimensions': [7941, 7131], 'crs': 'EPSG:32651', 'crs_transform': [30, 0, 278985, 0, -30, 3619815]}], 'properties': {'system:index': 'LT05_118038_20040125'}}, {'type': 'Image', 'bands': [{'id': 'EVI', 'data_type': {'type': 'PixelType', 'precision': 'double'}, 'dimensions': [7951, 7121], 'crs': 'EPSG:32651', 'crs_transform': [30, 0, 279585, 0, -30, 3619215]}], 'properties': {'system:index': 'LT05_118038_20040210'}}, {'type': 'Image', 'bands': [{'id': 'EVI', 'data_type': {'type': 'PixelType', 'precision': 'double'}, 'dimensions': [7951, 7121], 'crs': 'EPSG:32651', 'crs_transform': [30, 0, 278985, 0, -30, 3620115]}], 'properties': {'system:index': 'LT05_118038_20040226'}}, {'type': 'Image', 'bands': [{'id': 'EVI', 'data_type': {'type': 'PixelType', 'precision': 'double'}, 'dimensions': [7961, 7121], 'crs': 'EPSG:32651', 'crs_transform': [30, 0, 277485, 0, -30, 3620415]}], 'properties': {'system:index': 'LT05_118038_20040313'}}, {'type': 'Image', 'bands': [{'id': 'EVI', 'data_type': {'type': 'PixelType', 'precision': 'double'}, 'dimensions': [7931, 7131], 'crs': 'EPSG:32651', 'crs_transform': [30, 0, 282885, 0, -30, 3618615]}], 'properties': {'system:index': 'LT05_118038_20040414'}}, {'type': 'Image', 'bands': [{'id': 'EVI', 'data_type': {'type': 'PixelType', 'precision': 'double'}, 'dimensions': [7951, 7121], 'crs': 'EPSG:32651', 'crs_transform': [30, 0, 282585, 0, -30, 3618315]}], 'properties': {'system:index': 'LT05_118038_20040601'}}, {'type': 'Image', 'bands': [{'id': 'EVI', 'data_type': {'type': 'PixelType', 'precision': 'double'}, 'dimensions': [7961, 7131], 'crs': 'EPSG:32651', 'crs_transform': [30, 0, 280485, 0, -30, 3619215]}], 'properties': {'system:index': 'LT05_118038_20040719'}}, {'type': 'Image', 'bands': [{'id': 'EVI', 'data_type': {'type': 'PixelType', 'precision': 'double'}, 'dimensions': [7941, 7131], 'crs': 'EPSG:32651', 'crs_transform': [30, 0, 282885, 0, -30, 3618315]}], 'properties': {'system:index': 'LT05_118038_20040804'}}, {'type': 'Image', 'bands': [{'id': 'EVI', 'data_type': {'type': 'PixelType', 'precision': 'double'}, 'dimensions': [7921, 7131], 'crs': 'EPSG:32651', 'crs_transform': [30, 0, 282885, 0, -30, 3618615]}], 'properties': {'system:index': 'LT05_118038_20040820'}}, {'type': 'Image', 'bands': [{'id': 'EVI', 'data_type': {'type': 'PixelType', 'precision': 'double'}, 'dimensions': [7941, 7121], 'crs': 'EPSG:32651', 'crs_transform': [30, 0, 281385, 0, -30, 3618915]}], 'properties': {'system:index': 'LT05_118038_20041124'}}, {'type': 'Image', 'bands': [{'id': 'EVI', 'data_type': {'type': 'PixelType', 'precision': 'double'}, 'dimensions': [7921, 7131], 'crs': 'EPSG:32651', 'crs_transform': [30, 0, 279585, 0, -30, 3619515]}], 'properties': {'system:index': 'LT05_118038_20041210'}}, {'type': 'Image', 'bands': [{'id': 'EVI', 'data_type': {'type': 'PixelType', 'precision': 'double'}, 'dimensions': [7921, 7121], 'crs': 'EPSG:32651', 'crs_transform': [30, 0, 280485, 0, -30, 3619215]}], 'properties': {'system:index': 'LT05_118038_20050417'}}, {'type': 'Image', 'bands': [{'id': 'EVI', 'data_type': {'type': 'PixelType', 'precision': 'double'}, 'dimensions': [7931, 7121], 'crs': 'EPSG:32651', 'crs_transform': [30, 0, 281085, 0, -30, 3619215]}], 'properties': {'system:index': 'LT05_118038_20050503'}}, {'type': 'Image', 'bands': [{'id': 'EVI', 'data_type': {'type': 'PixelType', 'precision': 'double'}, 'dimensions': [7981, 7131], 'crs': 'EPSG:32651', 'crs_transform': [30, 0, 279585, 0, -30, 3620715]}], 'properties': {'system:index': 'LT05_118038_20050604'}}, {'type': 'Image', 'bands': [{'id': 'EVI', 'data_type': {'type': 'PixelType', 'precision': 'double'}, 'dimensions': [7931, 7131], 'crs': 'EPSG:32651', 'crs_transform': [30, 0, 277185, 0, -30, 3620115]}], 'properties': {'system:index': 'LT05_118038_20050722'}}, {'type': 'Image', 'bands': [{'id': 'EVI', 'data_type': {'type': 'PixelType', 'precision': 'double'}, 'dimensions': [7951, 7131], 'crs': 'EPSG:32651', 'crs_transform': [30, 0, 273885, 0, -30, 3621015]}], 'properties': {'system:index': 'LT05_118038_20050908'}}, {'type': 'Image', 'bands': [{'id': 'EVI', 'data_type': {'type': 'PixelType', 'precision': 'double'}, 'dimensions': [7981, 7131], 'crs': 'EPSG:32651', 'crs_transform': [30, 0, 275385, 0, -30, 3619815]}], 'properties': {'system:index': 'LT05_118038_20051010'}}, {'type': 'Image', 'bands': [{'id': 'EVI', 'data_type': {'type': 'PixelType', 'precision': 'double'}, 'dimensions': [7911, 7131], 'crs': 'EPSG:32651', 'crs_transform': [30, 0, 283785, 0, -30, 3618315]}], 'properties': {'system:index': 'LT05_118038_20051127'}}, {'type': 'Image', 'bands': [{'id': 'EVI', 'data_type': {'type': 'PixelType', 'precision': 'double'}, 'dimensions': [7951, 7121], 'crs': 'EPSG:32651', 'crs_transform': [30, 0, 282585, 0, -30, 3618615]}], 'properties': {'system:index': 'LT05_118038_20060303'}}, {'type': 'Image', 'bands': [{'id': 'EVI', 'data_type': {'type': 'PixelType', 'precision': 'double'}, 'dimensions': [7941, 7141], 'crs': 'EPSG:32651', 'crs_transform': [30, 0, 281385, 0, -30, 3619515]}], 'properties': {'system:index': 'LT05_118038_20060420'}}, {'type': 'Image', 'bands': [{'id': 'EVI', 'data_type': {'type': 'PixelType', 'precision': 'double'}, 'dimensions': [7991, 7131], 'crs': 'EPSG:32651', 'crs_transform': [30, 0, 281085, 0, -30, 3619215]}], 'properties': {'system:index': 'LT05_118038_20060607'}}, {'type': 'Image', 'bands': [{'id': 'EVI', 'data_type': {'type': 'PixelType', 'precision': 'double'}, 'dimensions': [7931, 7131], 'crs': 'EPSG:32651', 'crs_transform': [30, 0, 280485, 0, -30, 3619215]}], 'properties': {'system:index': 'LT05_118038_20060709'}}, {'type': 'Image', 'bands': [{'id': 'EVI', 'data_type': {'type': 'PixelType', 'precision': 'double'}, 'dimensions': [7941, 7121], 'crs': 'EPSG:32651', 'crs_transform': [30, 0, 280785, 0, -30, 3619515]}], 'properties': {'system:index': 'LT05_118038_20060810'}}, {'type': 'Image', 'bands': [{'id': 'EVI', 'data_type': {'type': 'PixelType', 'precision': 'double'}, 'dimensions': [7981, 7141], 'crs': 'EPSG:32651', 'crs_transform': [30, 0, 279585, 0, -30, 3620115]}], 'properties': {'system:index': 'LT05_118038_20060826'}}, {'type': 'Image', 'bands': [{'id': 'EVI', 'data_type': {'type': 'PixelType', 'precision': 'double'}, 'dimensions': [8011, 7131], 'crs': 'EPSG:32651', 'crs_transform': [30, 0, 276885, 0, -30, 3619215]}], 'properties': {'system:index': 'LT05_118038_20060927'}}, {'type': 'Image', 'bands': [{'id': 'EVI', 'data_type': {'type': 'PixelType', 'precision': 'double'}, 'dimensions': [7951, 7131], 'crs': 'EPSG:32651', 'crs_transform': [30, 0, 274785, 0, -30, 3620715]}], 'properties': {'system:index': 'LT05_118038_20061029'}}, {'type': 'Image', 'bands': [{'id': 'EVI', 'data_type': {'type': 'PixelType', 'precision': 'double'}, 'dimensions': [7931, 7131], 'crs': 'EPSG:32651', 'crs_transform': [30, 0, 273285, 0, -30, 3620715]}], 'properties': {'system:index': 'LT05_118038_20061114'}}, {'type': 'Image', 'bands': [{'id': 'EVI', 'data_type': {'type': 'PixelType', 'precision': 'double'}, 'dimensions': [7971, 7131], 'crs': 'EPSG:32651', 'crs_transform': [30, 0, 271485, 0, -30, 3621315]}], 'properties': {'system:index': 'LT05_118038_20061216'}}, {'type': 'Image', 'bands': [{'id': 'EVI', 'data_type': {'type': 'PixelType', 'precision': 'double'}, 'dimensions': [8001, 7141], 'crs': 'EPSG:32651', 'crs_transform': [30, 0, 267585, 0, -30, 3621615]}], 'properties': {'system:index': 'LT05_118038_20070202'}}, {'type': 'Image', 'bands': [{'id': 'EVI', 'data_type': {'type': 'PixelType', 'precision': 'double'}, 'dimensions': [7941, 7131], 'crs': 'EPSG:32651', 'crs_transform': [30, 0, 267585, 0, -30, 3622215]}], 'properties': {'system:index': 'LT05_118038_20070322'}}, {'type': 'Image', 'bands': [{'id': 'EVI', 'data_type': {'type': 'PixelType', 'precision': 'double'}, 'dimensions': [7971, 7141], 'crs': 'EPSG:32651', 'crs_transform': [30, 0, 268185, 0, -30, 3621015]}], 'properties': {'system:index': 'LT05_118038_20070407'}}, {'type': 'Image', 'bands': [{'id': 'EVI', 'data_type': {'type': 'PixelType', 'precision': 'double'}, 'dimensions': [8001, 7131], 'crs': 'EPSG:32651', 'crs_transform': [30, 0, 267585, 0, -30, 3622515]}], 'properties': {'system:index': 'LT05_118038_20070423'}}, {'type': 'Image', 'bands': [{'id': 'EVI', 'data_type': {'type': 'PixelType', 'precision': 'double'}, 'dimensions': [7951, 7121], 'crs': 'EPSG:32651', 'crs_transform': [30, 0, 280485, 0, -30, 3618915]}], 'properties': {'system:index': 'LT05_118038_20070728'}}, {'type': 'Image', 'bands': [{'id': 'EVI', 'data_type': {'type': 'PixelType', 'precision': 'double'}, 'dimensions': [7981, 7121], 'crs': 'EPSG:32651', 'crs_transform': [30, 0, 278685, 0, -30, 3619215]}], 'properties': {'system:index': 'LT05_118038_20070930'}}, {'type': 'Image', 'bands': [{'id': 'EVI', 'data_type': {'type': 'PixelType', 'precision': 'double'}, 'dimensions': [8021, 7111], 'crs': 'EPSG:32651', 'crs_transform': [30, 0, 273585, 0, -30, 3619515]}], 'properties': {'system:index': 'LT05_118038_20080425'}}, {'type': 'Image', 'bands': [{'id': 'EVI', 'data_type': {'type': 'PixelType', 'precision': 'double'}, 'dimensions': [8001, 7131], 'crs': 'EPSG:32651', 'crs_transform': [30, 0, 274485, 0, -30, 3619815]}], 'properties': {'system:index': 'LT05_118038_20080511'}}, {'type': 'Image', 'bands': [{'id': 'EVI', 'data_type': {'type': 'PixelType', 'precision': 'double'}, 'dimensions': [7971, 7121], 'crs': 'EPSG:32651', 'crs_transform': [30, 0, 275385, 0, -30, 3619515]}], 'properties': {'system:index': 'LT05_118038_20080714'}}, {'type': 'Image', 'bands': [{'id': 'EVI', 'data_type': {'type': 'PixelType', 'precision': 'double'}, 'dimensions': [8021, 7121], 'crs': 'EPSG:32651', 'crs_transform': [30, 0, 275385, 0, -30, 3624015]}], 'properties': {'system:index': 'LT05_118038_20080815'}}, {'type': 'Image', 'bands': [{'id': 'EVI', 'data_type': {'type': 'PixelType', 'precision': 'double'}, 'dimensions': [7951, 7121], 'crs': 'EPSG:32651', 'crs_transform': [30, 0, 271485, 0, -30, 3620715]}], 'properties': {'system:index': 'LT05_118038_20081002'}}, {'type': 'Image', 'bands': [{'id': 'EVI', 'data_type': {'type': 'PixelType', 'precision': 'double'}, 'dimensions': [7941, 7121], 'crs': 'EPSG:32651', 'crs_transform': [30, 0, 269985, 0, -30, 3620115]}], 'properties': {'system:index': 'LT05_118038_20081018'}}, {'type': 'Image', 'bands': [{'id': 'EVI', 'data_type': {'type': 'PixelType', 'precision': 'double'}, 'dimensions': [8001, 7121], 'crs': 'EPSG:32651', 'crs_transform': [30, 0, 284085, 0, -30, 3617715]}], 'properties': {'system:index': 'LT05_118038_20081119'}}, {'type': 'Image', 'bands': [{'id': 'EVI', 'data_type': {'type': 'PixelType', 'precision': 'double'}, 'dimensions': [8021, 7111], 'crs': 'EPSG:32651', 'crs_transform': [30, 0, 283485, 0, -30, 3617115]}], 'properties': {'system:index': 'LT05_118038_20081205'}}, {'type': 'Image', 'bands': [{'id': 'EVI', 'data_type': {'type': 'PixelType', 'precision': 'double'}, 'dimensions': [8001, 7131], 'crs': 'EPSG:32651', 'crs_transform': [30, 0, 279585, 0, -30, 3618615]}], 'properties': {'system:index': 'LT05_118038_20090428'}}, {'type': 'Image', 'bands': [{'id': 'EVI', 'data_type': {'type': 'PixelType', 'precision': 'double'}, 'dimensions': [7981, 7141], 'crs': 'EPSG:32651', 'crs_transform': [30, 0, 279885, 0, -30, 3618915]}], 'properties': {'system:index': 'LT05_118038_20090530'}}, {'type': 'Image', 'bands': [{'id': 'EVI', 'data_type': {'type': 'PixelType', 'precision': 'double'}, 'dimensions': [7991, 7141], 'crs': 'EPSG:32651', 'crs_transform': [30, 0, 278985, 0, -30, 3620115]}], 'properties': {'system:index': 'LT05_118038_20090701'}}, {'type': 'Image', 'bands': [{'id': 'EVI', 'data_type': {'type': 'PixelType', 'precision': 'double'}, 'dimensions': [8011, 7141], 'crs': 'EPSG:32651', 'crs_transform': [30, 0, 278085, 0, -30, 3619215]}], 'properties': {'system:index': 'LT05_118038_20090818'}}, {'type': 'Image', 'bands': [{'id': 'EVI', 'data_type': {'type': 'PixelType', 'precision': 'double'}, 'dimensions': [7991, 7141], 'crs': 'EPSG:32651', 'crs_transform': [30, 0, 278685, 0, -30, 3620415]}], 'properties': {'system:index': 'LT05_118038_20090919'}}, {'type': 'Image', 'bands': [{'id': 'EVI', 'data_type': {'type': 'PixelType', 'precision': 'double'}, 'dimensions': [7991, 7131], 'crs': 'EPSG:32651', 'crs_transform': [30, 0, 277185, 0, -30, 3618315]}], 'properties': {'system:index': 'LT05_118038_20091005'}}, {'type': 'Image', 'bands': [{'id': 'EVI', 'data_type': {'type': 'PixelType', 'precision': 'double'}, 'dimensions': [8001, 7131], 'crs': 'EPSG:32651', 'crs_transform': [30, 0, 277785, 0, -30, 3619215]}], 'properties': {'system:index': 'LT05_118038_20091021'}}, {'type': 'Image', 'bands': [{'id': 'EVI', 'data_type': {'type': 'PixelType', 'precision': 'double'}, 'dimensions': [8031, 7121], 'crs': 'EPSG:32651', 'crs_transform': [30, 0, 278385, 0, -30, 3618915]}], 'properties': {'system:index': 'LT05_118038_20091122'}}]}\n",
            "{'type': 'Image', 'bands': [{'id': 'EVI_mean', 'data_type': {'type': 'PixelType', 'precision': 'double'}, 'crs': 'EPSG:4326', 'crs_transform': [1, 0, 0, 0, 1, 0]}]}\n",
            "{'type': 'Image', 'bands': [{'id': 'EVI_median', 'data_type': {'type': 'PixelType', 'precision': 'double'}, 'crs': 'EPSG:4326', 'crs_transform': [1, 0, 0, 0, 1, 0]}]}\n"
          ]
        }
      ],
      "source": [
        "# Add Earth Engine dataset\n",
        "image = ee.Image(\"USGS/SRTMGL1_003\")\n",
        "\n",
        "#  ~~~~~~~~~~~~~~~~~~~~~~~~~~~~~~~~~~~~~~~~~~~~~~~~~~~~~~~~~~~~~~~~~~~~~~~\n",
        "#  Chapter:      F4.0 Filter, Map, Reduce\n",
        "#  Checkpoint:   F40c\n",
        "#  Author:       Jeff Cardille\n",
        "#  ~~~~~~~~~~~~~~~~~~~~~~~~~~~~~~~~~~~~~~~~~~~~~~~~~~~~~~~~~~~~~~~~~~~~~~~\n",
        "\n",
        "imgCol = ee.ImageCollection('LANDSAT/LT05/C02/T1_L2')\n",
        "# How many Tier 1 Landsat 5 images have ever been collected?\n",
        "print(\"All images ever: \", imgCol.size().getInfo())\n",
        "\n",
        "# How many images were collected in the 2000s?\n",
        "startDate = '2000-01-01'\n",
        "endDate = '2010-01-01'\n",
        "\n",
        "imgColfilteredByDate = imgCol.filterDate(startDate, endDate)\n",
        "print(\"All images 2000-2010: \", imgColfilteredByDate.size().getInfo())\n",
        "# A smaller (but still large) number\n",
        "\n",
        "ShanghaiImage = ee.Image(\n",
        "'LANDSAT/LT05/C02/T1_L2/LT05_118038_20000606')\n",
        "Map.centerObject(ShanghaiImage, 9)\n",
        "\n",
        "imgColfilteredByDateHere = imgColfilteredByDate.filterBounds(ee.Geometry.Point([Map.get_center()[1], Map.get_center()[0]]))\n",
        "print(\"All images here, 2000-2010: \", imgColfilteredByDateHere \\\n",
        ".size().getInfo())\n",
        "\n",
        "L5FilteredLowCloudImages = imgColfilteredByDateHere \\\n",
        ".filterMetadata('CLOUD_COVER', 'less_than', 50)\n",
        "print(\"Less than 50% clouds in this area, 2000-2010\",\n",
        "L5FilteredLowCloudImages.size().getInfo())\n",
        "\n",
        "chainedFilteredSet = imgCol.filterDate(startDate, endDate) \\\n",
        ".filterBounds(ee.Geometry.Point([Map.get_center()[1], Map.get_center()[0]])) \\\n",
        ".filterMetadata('CLOUD_COVER', 'less_than', 50)\n",
        "print('Chained: Less than 50% clouds in this area, 2000-2010',\n",
        "chainedFilteredSet.size().getInfo())\n",
        "\n",
        "efficientFilteredSet = imgCol.filterBounds(ee.Geometry.Point([Map.get_center()[1], Map.get_center()[0]])) \\\n",
        ".filterDate(startDate, endDate) \\\n",
        ".filterMetadata('CLOUD_COVER', 'less_than', 50)\n",
        "print('Efficient filtering: Less than 50% clouds in this area, 2000-2010',\n",
        "efficientFilteredSet.size().getInfo())\n",
        "\n",
        "#  -----------------------------------------------------------------------\n",
        "#  CHECKPOINT\n",
        "#  -----------------------------------------------------------------------\n",
        "\n",
        "\n",
        "def func_mrg(oneL5Image):\n",
        "    # compute the EVI for any Landsat 5 image. Note it's specific to\n",
        "    # Landsat 5 images due to the band numbers. Don't run this exact\n",
        "    # function for images from sensors other than Landsat 5.\n",
        "\n",
        "    # Extract the bands and divide by 1e4 to account for scaling done.\n",
        "    nirScaled = oneL5Image.select('SR_B4').divide(10000)\n",
        "    redScaled = oneL5Image.select('SR_B3').divide(10000)\n",
        "    blueScaled = oneL5Image.select('SR_B1').divide(10000)\n",
        "\n",
        "    # Calculate the numerator, note that order goes from left to right.\n",
        "    numeratorEVI = (nirScaled.subtract(redScaled)).multiply(\n",
        "    2.5)\n",
        "\n",
        "    # Calculate the denominator\n",
        "    denomClause1 = redScaled.multiply(6)\n",
        "    denomClause2 = blueScaled.multiply(7.5)\n",
        "    denominatorEVI = nirScaled.add(denomClause1).subtract(\n",
        "    denomClause2).add(1)\n",
        "\n",
        "    # Calculate EVI and name it.\n",
        "    landsat5EVI = numeratorEVI.divide(denominatorEVI).rename(\n",
        "    'EVI')\n",
        "    return (landsat5EVI)\n",
        "\n",
        "makeLandsat5EVI = func_mrg\n",
        "\n",
        "\n",
        "\n",
        "\n",
        "\n",
        "\n",
        "\n",
        "\n",
        "\n",
        "\n",
        "\n",
        "\n",
        "\n",
        "\n",
        "\n",
        "\n",
        "\n",
        "\n",
        "\n",
        "\n",
        "\n",
        "\n",
        "\n",
        "\n",
        "\n",
        "L5EVIimages = efficientFilteredSet.map(makeLandsat5EVI)\n",
        "print('Verifying that the .map gives back the same number of images: ',\n",
        "L5EVIimages.size().getInfo())\n",
        "print(L5EVIimages.getInfo())\n",
        "\n",
        "Map.addLayer(L5EVIimages, {}, 'L5EVIimages', 1, 1)\n",
        "\n",
        "#  -----------------------------------------------------------------------\n",
        "#  CHECKPOINT\n",
        "#  -----------------------------------------------------------------------\n",
        "\n",
        "L5EVImean = L5EVIimages.reduce(ee.Reducer.mean())\n",
        "print(L5EVImean.getInfo())\n",
        "Map.addLayer(L5EVImean, {\n",
        "    'min': -1,\n",
        "    'max': 2,\n",
        "    'palette': ['red', 'white', 'green']\n",
        "}, 'Mean EVI')\n",
        "\n",
        "L5EVImedian = L5EVIimages.reduce(ee.Reducer.median())\n",
        "print(L5EVImedian.getInfo())\n",
        "Map.addLayer(L5EVImedian, {\n",
        "    'min': -1,\n",
        "    'max': 2,\n",
        "    'palette': ['red', 'white', 'green']\n",
        "}, 'Median EVI')\n",
        "\n",
        "#  -----------------------------------------------------------------------\n",
        "#  CHECKPOINT\n",
        "#  -----------------------------------------------------------------------"
      ]
    },
    {
      "cell_type": "markdown",
      "metadata": {},
      "source": [
        "## Display the interactive map"
      ]
    },
    {
      "cell_type": "code",
      "execution_count": 7,
      "metadata": {},
      "outputs": [
        {
          "data": {
            "text/html": [
              "\n",
              "            <style>\n",
              "                .geemap-dark {\n",
              "                    --jp-widgets-color: white;\n",
              "                    --jp-widgets-label-color: white;\n",
              "                    --jp-ui-font-color1: white;\n",
              "                    --jp-layout-color2: #454545;\n",
              "                    background-color: #383838;\n",
              "                }\n",
              "                    \n",
              "                .geemap-dark .jupyter-button {\n",
              "                    --jp-layout-color3: #383838;\n",
              "                }\n",
              "                \n",
              "                .geemap-colab {\n",
              "                    background-color: var(--colab-primary-surface-color, white);\n",
              "                }\n",
              "                    \n",
              "                .geemap-colab .jupyter-button {\n",
              "                    --jp-layout-color3: var(--colab-primary-surface-color, white);\n",
              "                }\n",
              "            </style>\n",
              "            "
            ],
            "text/plain": [
              "<IPython.core.display.HTML object>"
            ]
          },
          "metadata": {},
          "output_type": "display_data"
        },
        {
          "data": {
            "application/vnd.jupyter.widget-view+json": {
              "model_id": "7779b0c84b534637a81c3df41b4b3065",
              "version_major": 2,
              "version_minor": 0
            },
            "text/plain": [
              "Map(center=[31.754546511814873, 121.89145949319253], controls=(WidgetControl(options=['position', 'transparent…"
            ]
          },
          "execution_count": 7,
          "metadata": {},
          "output_type": "execute_result"
        }
      ],
      "source": [
        "Map"
      ]
    }
  ],
  "metadata": {
    "anaconda-cloud": {},
    "kernelspec": {
      "display_name": "Python 3",
      "language": "python",
      "name": "python3"
    },
    "language_info": {
      "codemirror_mode": {
        "name": "ipython",
        "version": 3
      },
      "file_extension": ".py",
      "mimetype": "text/x-python",
      "name": "python",
      "nbconvert_exporter": "python",
      "pygments_lexer": "ipython3",
      "version": "3.11.9"
    }
  },
  "nbformat": 4,
  "nbformat_minor": 4
}
