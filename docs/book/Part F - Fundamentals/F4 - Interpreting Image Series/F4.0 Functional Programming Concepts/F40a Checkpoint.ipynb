{
  "cells": [
    {
      "cell_type": "markdown",
      "metadata": {},
      "source": [
        "## Import libraries"
      ]
    },
    {
      "cell_type": "code",
      "metadata": {},
      "source": [
        "import ee\n",
        "import geemap"
      ],
      "outputs": [],
      "execution_count": null
    },
    {
      "cell_type": "markdown",
      "metadata": {},
      "source": [
        "## Create an interactive map"
      ]
    },
    {
      "cell_type": "code",
      "metadata": {},
      "source": [
        "Map = geemap.Map(center=[40, -100], zoom=4)"
      ],
      "outputs": [],
      "execution_count": null
    },
    {
      "cell_type": "markdown",
      "metadata": {},
      "source": [
        "## Add Earth Engine Python script"
      ]
    },
    {
      "cell_type": "code",
      "metadata": {},
      "source": [
        "# Add Earth Engine dataset\n",
        "image = ee.Image(\"USGS/SRTMGL1_003\")\n",
        "\n",
        "#  ~~~~~~~~~~~~~~~~~~~~~~~~~~~~~~~~~~~~~~~~~~~~~~~~~~~~~~~~~~~~~~~~~~~~~~~\n",
        "#  Chapter:      F4.0 Filter, Map, Reduce\n",
        "#  Checkpoint:   F40a\n",
        "#  Author:       Jeff Cardille\n",
        "#  ~~~~~~~~~~~~~~~~~~~~~~~~~~~~~~~~~~~~~~~~~~~~~~~~~~~~~~~~~~~~~~~~~~~~~~~\n",
        "\n",
        "imgCol = ee.ImageCollection('LANDSAT/LT05/C02/T1_L2')\n",
        "# How many Tier 1 Landsat 5 images have ever been collected?\n",
        "print(\"All images ever: \", imgCol.size()); # A very large number\n",
        "\n",
        "# How many images were collected in the 2000s?\n",
        "startDate = '2000-01-01'\n",
        "endDate = '2010-01-01'\n",
        "\n",
        "imgColfilteredByDate = imgCol.filterDate(startDate, endDate)\n",
        "print(\"All images 2000-2010: \", imgColfilteredByDate.size())\n",
        "# A smaller (but still large) number\n",
        "\n",
        "ShanghaiImage = ee.Image(\n",
        "    'LANDSAT/LT05/C02/T1_L2/LT05_118038_20000606')\n",
        "Map.centerObject(ShanghaiImage, 9)\n",
        "\n",
        "imgColfilteredByDateHere = imgColfilteredByDate.filterBounds(Map \\\n",
        "    .getCenter())\n",
        "print(\"All images here, 2000-2010: \", imgColfilteredByDateHere \\\n",
        ".size()); \n",
        "\n",
        "L5FilteredLowCloudImages = imgColfilteredByDateHere \\\n",
        "    .filterMetadata('CLOUD_COVER', 'less_than', 50)\n",
        "print(\"Less than 50% clouds in this area, 2000-2010\",\n",
        "    L5FilteredLowCloudImages.size()); # A smaller number\n",
        "\n",
        "chainedFilteredSet = imgCol.filterDate(startDate, endDate) \\\n",
        "    .filterBounds(Map.getCenter()) \\\n",
        "    .filterMetadata('CLOUD_COVER', 'less_than', 50)\n",
        "print('Chained: Less than 50% clouds in this area, 2000-2010',\n",
        "    chainedFilteredSet.size())\n",
        "\n",
        "efficientFilteredSet = imgCol.filterBounds(Map.getCenter()) \\\n",
        "    .filterDate(startDate, endDate) \\\n",
        "    .filterMetadata('CLOUD_COVER', 'less_than', 50)\n",
        "print('Efficient filtering: Less than 50% clouds in this area, 2000-2010',\n",
        "    efficientFilteredSet.size())\n",
        "\n",
        "#  -----------------------------------------------------------------------\n",
        "#  CHECKPOINT\n",
        "#  -----------------------------------------------------------------------"
      ],
      "outputs": [],
      "execution_count": null
    },
    {
      "cell_type": "markdown",
      "metadata": {},
      "source": [
        "## Display the interactive map"
      ]
    },
    {
      "cell_type": "code",
      "metadata": {},
      "source": [
        "Map"
      ],
      "outputs": [],
      "execution_count": null
    }
  ],
  "metadata": {
    "anaconda-cloud": {},
    "kernelspec": {
      "display_name": "Python 3",
      "language": "python",
      "name": "python3"
    },
    "language_info": {
      "codemirror_mode": {
        "name": "ipython",
        "version": 3
      },
      "file_extension": ".py",
      "mimetype": "text/x-python",
      "name": "python",
      "nbconvert_exporter": "python",
      "pygments_lexer": "ipython3",
      "version": "3.6.1"
    }
  },
  "nbformat": 4,
  "nbformat_minor": 4
}