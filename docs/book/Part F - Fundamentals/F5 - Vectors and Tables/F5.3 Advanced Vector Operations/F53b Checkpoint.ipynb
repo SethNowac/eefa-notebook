{
  "cells": [
    {
      "cell_type": "markdown",
      "metadata": {},
      "source": [
        "## Import libraries"
      ]
    },
    {
      "cell_type": "code",
      "metadata": {},
      "source": [
        "import ee\n",
        "import geemap"
      ],
      "outputs": [],
      "execution_count": null
    },
    {
      "cell_type": "markdown",
      "metadata": {},
      "source": [
        "## Create an interactive map"
      ]
    },
    {
      "cell_type": "code",
      "metadata": {},
      "source": [
        "Map = geemap.Map(center=[40, -100], zoom=4)"
      ],
      "outputs": [],
      "execution_count": null
    },
    {
      "cell_type": "markdown",
      "metadata": {},
      "source": [
        "## Add Earth Engine Python script"
      ]
    },
    {
      "cell_type": "code",
      "metadata": {},
      "source": [
        "# Add Earth Engine dataset\n",
        "image = ee.Image(\"USGS/SRTMGL1_003\")\n",
        "\n",
        "#  ~~~~~~~~~~~~~~~~~~~~~~~~~~~~~~~~~~~~~~~~~~~~~~~~~~~~~~~~~~~~~~~~~~~~~~~~~~~~~~~\n",
        "#  Chapter:      F5.3 Advanced Vector Operations\n",
        "#  Checkpoint:   F53b\n",
        "#  Author:       Ujaval Gandhi\n",
        "#  ~~~~~~~~~~~~~~~~~~~~~~~~~~~~~~~~~~~~~~~~~~~~~~~~~~~~~~~~~~~~~~~~~~~~~~~~~~~~~~~\n",
        "\n",
        "blocks = ee.FeatureCollection('TIGER/2010/Blocks')\n",
        "roads = ee.FeatureCollection('TIGER/2016/Roads')\n",
        "sfNeighborhoods = ee.FeatureCollection(\n",
        "    'projects/gee-book/assets/F5-0/SFneighborhoods')\n",
        "\n",
        "geometry = sfNeighborhoods.geometry()\n",
        "Map.centerObject(geometry)\n",
        "\n",
        "# Filter blocks and roads to the San Francisco boundary.\n",
        "sfBlocks = blocks.filter(ee.Filter.bounds(geometry))\n",
        "sfRoads = roads.filter(ee.Filter.bounds(geometry))\n",
        "\n",
        "# Select by Location\n",
        "# Select all census blocks within 1km of an interstate.\n",
        "interstateRoads = sfRoads.filter(ee.Filter.eq('rttyp', 'I'))\n",
        "\n",
        "# Visualize the layers\n",
        "sfBlocksDrawn = sfBlocks.draw({\n",
        "        'color': 'gray',\n",
        "        'strokeWidth': 1\n",
        "    }) \\\n",
        "    .clip(geometry)\n",
        "Map.addLayer(sfBlocksDrawn, {}, 'All Blocks')\n",
        "interstateRoadsDrawn = interstateRoads.draw({\n",
        "        'color': 'blue',\n",
        "        'strokeWidth': 3\n",
        "    }) \\\n",
        "    .clip(geometry)\n",
        "Map.addLayer(interstateRoadsDrawn, {}, 'Interstate Roads')\n",
        "\n",
        "# Define a spatial filter, with distance 1 km.\n",
        "joinFilter = ee.Filter.withinDistance({\n",
        "    'distance': 1000,\n",
        "    'leftField': '.geo',\n",
        "    'rightField': '.geo',\n",
        "    'maxError': 10\n",
        "})\n",
        "\n",
        "closeBlocks = ee.Join.simple().apply({\n",
        "    'primary': sfBlocks,\n",
        "    'secondary': interstateRoads,\n",
        "    'condition': joinFilter\n",
        "})\n",
        "\n",
        "closeBlocksDrawn = closeBlocks.draw({\n",
        "        'color': 'orange',\n",
        "        'strokeWidth': 1\n",
        "    }) \\\n",
        "    .clip(geometry)\n",
        "Map.addLayer(closeBlocksDrawn, {}, 'Blocks within 1km')\n",
        "\n",
        "# Spatial Join (Summary)\n",
        "# Calculate Tree Counts.\n",
        "\n",
        "sfNeighborhoods = ee.FeatureCollection(\n",
        "    'projects/gee-book/assets/F5-0/SFneighborhoods')\n",
        "sfTrees = ee.FeatureCollection(\n",
        "    'projects/gee-book/assets/F5-3/SFTrees')\n",
        "\n",
        "# Visualize the layers\n",
        "\n",
        "# Use paint() to visualize the polygons with only outline\n",
        "sfNeighborhoodsOutline = ee.Image().byte().paint({\n",
        "    'featureCollection': sfNeighborhoods,\n",
        "    'color': 1,\n",
        "    'width': 3\n",
        "})\n",
        "Map.addLayer(sfNeighborhoodsOutline, {\n",
        "        'palette': ['blue']\n",
        "    },\n",
        "    'SF Neighborhoods')\n",
        "\n",
        "# Use style() to visualize the points\n",
        "sfTreesStyled = sfTrees.style(**{\n",
        "    'color': 'green',\n",
        "    'pointSize': 2,\n",
        "    'pointShape': 'triangle',\n",
        "    'width': 2\n",
        "})\n",
        "Map.addLayer(sfTreesStyled, {}, 'SF Trees')\n",
        "\n",
        "# Define a spatial intersection filter\n",
        "intersectFilter = ee.Filter.intersects({\n",
        "    'leftField': '.geo',\n",
        "    'rightField': '.geo',\n",
        "    'maxError': 10\n",
        "})\n",
        "\n",
        "# Define a saveAll join.\n",
        "saveAllJoin = ee.Join.saveAll({\n",
        "    'matchesKey': 'trees',\n",
        "})\n",
        "\n",
        "# Apply the join.\n",
        "joined = saveAllJoin \\\n",
        "    .apply(sfNeighborhoods, sfTrees, intersectFilter)\n",
        "print(joined.first())\n",
        "\n",
        "# Calculate total number of trees within each feature.\n",
        "\n",
        "def func_gjj(f):\n",
        "    treesWithin = ee.List(f.get('trees'))\n",
        "    totalTrees = ee.FeatureCollection(treesWithin).size()\n",
        "    return f.set('total_trees', totalTrees)\n",
        "\n",
        "sfNeighborhoods = joined.map(func_gjj)\n",
        "\n",
        "\n",
        "\n",
        "\n",
        "\n",
        "\n",
        "print(sfNeighborhoods.first())\n",
        "\n",
        "# Export the results as a CSV.\n",
        "Export.table.toDrive({\n",
        "    'collection': sfNeighborhoods,\n",
        "    'description': 'SF_Neighborhood_Tree_Count',\n",
        "    'folder': 'earthengine',\n",
        "    'fileNamePrefix': 'tree_count',\n",
        "    'fileFormat': 'CSV',\n",
        "    'selectors': ['nhood', 'total_trees']\n",
        "})\n",
        "\n",
        "#  -----------------------------------------------------------------------\n",
        "#  CHECKPOINT\n",
        "#  -----------------------------------------------------------------------"
      ],
      "outputs": [],
      "execution_count": null
    },
    {
      "cell_type": "markdown",
      "metadata": {},
      "source": [
        "## Display the interactive map"
      ]
    },
    {
      "cell_type": "code",
      "metadata": {},
      "source": [
        "Map"
      ],
      "outputs": [],
      "execution_count": null
    }
  ],
  "metadata": {
    "anaconda-cloud": {},
    "kernelspec": {
      "display_name": "Python 3",
      "language": "python",
      "name": "python3"
    },
    "language_info": {
      "codemirror_mode": {
        "name": "ipython",
        "version": 3
      },
      "file_extension": ".py",
      "mimetype": "text/x-python",
      "name": "python",
      "nbconvert_exporter": "python",
      "pygments_lexer": "ipython3",
      "version": "3.6.1"
    }
  },
  "nbformat": 4,
  "nbformat_minor": 4
}