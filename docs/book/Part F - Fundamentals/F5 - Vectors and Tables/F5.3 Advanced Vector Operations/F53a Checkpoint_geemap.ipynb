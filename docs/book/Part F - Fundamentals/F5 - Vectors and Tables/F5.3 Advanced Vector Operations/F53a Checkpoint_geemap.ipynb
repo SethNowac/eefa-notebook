{
  "cells": [
    {
      "cell_type": "markdown",
      "metadata": {},
      "source": [
        "## Import libraries"
      ]
    },
    {
      "cell_type": "code",
      "execution_count": 1,
      "metadata": {},
      "outputs": [],
      "source": [
        "import ee\n",
        "import geemap"
      ]
    },
    {
      "cell_type": "markdown",
      "metadata": {},
      "source": [
        "## Create an interactive map"
      ]
    },
    {
      "cell_type": "code",
      "execution_count": 2,
      "metadata": {},
      "outputs": [
        {
          "data": {
            "text/html": [
              "\n",
              "            <style>\n",
              "                .geemap-dark {\n",
              "                    --jp-widgets-color: white;\n",
              "                    --jp-widgets-label-color: white;\n",
              "                    --jp-ui-font-color1: white;\n",
              "                    --jp-layout-color2: #454545;\n",
              "                    background-color: #383838;\n",
              "                }\n",
              "                    \n",
              "                .geemap-dark .jupyter-button {\n",
              "                    --jp-layout-color3: #383838;\n",
              "                }\n",
              "                \n",
              "                .geemap-colab {\n",
              "                    background-color: var(--colab-primary-surface-color, white);\n",
              "                }\n",
              "                    \n",
              "                .geemap-colab .jupyter-button {\n",
              "                    --jp-layout-color3: var(--colab-primary-surface-color, white);\n",
              "                }\n",
              "            </style>\n",
              "            "
            ],
            "text/plain": [
              "<IPython.core.display.HTML object>"
            ]
          },
          "metadata": {},
          "output_type": "display_data"
        }
      ],
      "source": [
        "Map = geemap.Map(center=[40, -100], zoom=4)"
      ]
    },
    {
      "cell_type": "markdown",
      "metadata": {},
      "source": [
        "## Add Earth Engine Python script"
      ]
    },
    {
      "cell_type": "code",
      "execution_count": 3,
      "metadata": {},
      "outputs": [
        {
          "data": {
            "text/html": [
              "\n",
              "            <style>\n",
              "                .geemap-dark {\n",
              "                    --jp-widgets-color: white;\n",
              "                    --jp-widgets-label-color: white;\n",
              "                    --jp-ui-font-color1: white;\n",
              "                    --jp-layout-color2: #454545;\n",
              "                    background-color: #383838;\n",
              "                }\n",
              "                    \n",
              "                .geemap-dark .jupyter-button {\n",
              "                    --jp-layout-color3: #383838;\n",
              "                }\n",
              "                \n",
              "                .geemap-colab {\n",
              "                    background-color: var(--colab-primary-surface-color, white);\n",
              "                }\n",
              "                    \n",
              "                .geemap-colab .jupyter-button {\n",
              "                    --jp-layout-color3: var(--colab-primary-surface-color, white);\n",
              "                }\n",
              "            </style>\n",
              "            "
            ],
            "text/plain": [
              "<IPython.core.display.HTML object>"
            ]
          },
          "metadata": {},
          "output_type": "display_data"
        },
        {
          "name": "stdout",
          "output_type": "stream",
          "text": [
            "{'max': 560799.3972602487, 'mean': 19815.271612013155, 'min': 0, 'sample_sd': 24428.737718087283, 'sample_var': 596763226.4991002, 'sum': 146434857.21277723, 'sum_sq': 7311129949739.396, 'total_count': 7390, 'total_sd': 24427.084838237082, 'total_var': 596682473.6944319, 'valid_count': 7390, 'weight_sum': 7390, 'weighted_sum': 146434857.21277723}\n"
          ]
        }
      ],
      "source": [
        "# Add Earth Engine dataset\n",
        "image = ee.Image(\"USGS/SRTMGL1_003\")\n",
        "\n",
        "#  ~~~~~~~~~~~~~~~~~~~~~~~~~~~~~~~~~~~~~~~~~~~~~~~~~~~~~~~~~~~~~~~~~~~~~~~~~~~~~~~\n",
        "#  Chapter:      F5.3 Advanced Vector Operations\n",
        "#  Checkpoint:   F53a\n",
        "#  Author:       Ujaval Gandhi\n",
        "#  ~~~~~~~~~~~~~~~~~~~~~~~~~~~~~~~~~~~~~~~~~~~~~~~~~~~~~~~~~~~~~~~~~~~~~~~~~~~~~~~\n",
        "\n",
        "blocks = ee.FeatureCollection('TIGER/2010/Blocks')\n",
        "roads = ee.FeatureCollection('TIGER/2016/Roads')\n",
        "sfNeighborhoods = ee.FeatureCollection(\n",
        "'projects/gee-book/assets/F5-0/SFneighborhoods')\n",
        "\n",
        "geometry = sfNeighborhoods.geometry()\n",
        "Map.centerObject(geometry)\n",
        "\n",
        "# Creating a Choropleth Map\n",
        "\n",
        "# Filter blocks to the San Francisco boundary.\n",
        "sfBlocks = blocks.filter(ee.Filter.bounds(geometry))\n",
        "\n",
        "# Visualize with a single color.\n",
        "Map.addLayer(sfBlocks, {\n",
        "    'color': '#de2d26'\n",
        "}, 'Census Blocks (single color)')\n",
        "\n",
        "# Visualize with values in a column using paint().\n",
        "\n",
        "# Add a pop_density column.\n",
        "\n",
        "def func_uzj(f):\n",
        "    # Get the polygon area in square miles.\n",
        "    area_sqmi = f.area().divide(2.59e6)\n",
        "    population = f.get('pop10')\n",
        "    # Calculate population density.\n",
        "    density = ee.Number(population).divide(area_sqmi)\n",
        "    return f.set({\n",
        "        'area_sqmi': area_sqmi,\n",
        "        'pop_density': density\n",
        "        })\n",
        "\n",
        "sfBlocks = sfBlocks.map(func_uzj)\n",
        "\n",
        "\n",
        "\n",
        "\n",
        "\n",
        "\n",
        "\n",
        "\n",
        "\n",
        "\n",
        "\n",
        "# Calculate the statistics of the newly computed column.\n",
        "stats = sfBlocks.aggregate_stats('pop_density')\n",
        "print(stats.getInfo())\n",
        "\n",
        "# Create an empty image into which to paint the features.\n",
        "# Cast to 32-bit integer which supports storing values\n",
        "# up to 2,147,483,647.\n",
        "\n",
        "empty = ee.Image().int32()\n",
        "\n",
        "# use paint() to color image with the values from the\n",
        "# 'pop_density' column.\n",
        "sfBlocksPaint = empty.paint(\n",
        "featureCollection = sfBlocks,\n",
        "color = 'pop_density',\n",
        ")\n",
        "\n",
        "palette = ['fee5d9', 'fcae91', 'fb6a4a', 'de2d26', 'a50f15']\n",
        "visParams = {\n",
        "    'min': 0,\n",
        "    'max': 50000,\n",
        "    'palette': palette\n",
        "}\n",
        "Map.addLayer(sfBlocksPaint.clip(geometry), visParams,\n",
        "'Population Density')\n",
        "\n",
        "# Filter roads to San Francisco boundary.\n",
        "sfRoads = roads.filter(ee.Filter.bounds(geometry))\n",
        "\n",
        "Map.addLayer(sfRoads, {\n",
        "    'color': 'blue'\n",
        "}, 'Roads (default)')\n",
        "\n",
        "# Visualize with draw().\n",
        "sfRoadsDraw = sfRoads.draw(\n",
        "color = 'blue',\n",
        "strokeWidth = 1\n",
        ")\n",
        "Map.addLayer(sfRoadsDraw, {}, 'Roads (Draw)')\n",
        "\n",
        "styles = ee.Dictionary({\n",
        "'S1100': {\n",
        "    'color': 'blue',\n",
        "    'width': 3\n",
        "},\n",
        "'S1200': {\n",
        "    'color': 'green',\n",
        "    'width': 2\n",
        "},\n",
        "'S1400': {\n",
        "    'color': 'orange',\n",
        "    'width': 1\n",
        "}\n",
        "})\n",
        "defaultStyle = {\n",
        "    'color': 'gray',\n",
        "    'width': 1\n",
        "}\n",
        "\n",
        "\n",
        "def func_fqu(f):\n",
        "    classcode = f.get('mtfcc')\n",
        "    style = styles.get(classcode, defaultStyle)\n",
        "    return f.set('style', style)\n",
        "\n",
        "sfRoads = sfRoads.map(func_fqu)\n",
        "\n",
        "\n",
        "\n",
        "\n",
        "\n",
        "sfRoadsStyle = sfRoads.style(\n",
        "styleProperty = 'style'\n",
        ")\n",
        "Map.addLayer(sfRoadsStyle.clip(geometry), {}, 'Roads (Style)')\n",
        "\n",
        "#  -----------------------------------------------------------------------\n",
        "#  CHECKPOINT\n",
        "#  -----------------------------------------------------------------------"
      ]
    },
    {
      "cell_type": "markdown",
      "metadata": {},
      "source": [
        "## Display the interactive map"
      ]
    },
    {
      "cell_type": "code",
      "execution_count": 4,
      "metadata": {},
      "outputs": [
        {
          "data": {
            "text/html": [
              "\n",
              "            <style>\n",
              "                .geemap-dark {\n",
              "                    --jp-widgets-color: white;\n",
              "                    --jp-widgets-label-color: white;\n",
              "                    --jp-ui-font-color1: white;\n",
              "                    --jp-layout-color2: #454545;\n",
              "                    background-color: #383838;\n",
              "                }\n",
              "                    \n",
              "                .geemap-dark .jupyter-button {\n",
              "                    --jp-layout-color3: #383838;\n",
              "                }\n",
              "                \n",
              "                .geemap-colab {\n",
              "                    background-color: var(--colab-primary-surface-color, white);\n",
              "                }\n",
              "                    \n",
              "                .geemap-colab .jupyter-button {\n",
              "                    --jp-layout-color3: var(--colab-primary-surface-color, white);\n",
              "                }\n",
              "            </style>\n",
              "            "
            ],
            "text/plain": [
              "<IPython.core.display.HTML object>"
            ]
          },
          "metadata": {},
          "output_type": "display_data"
        },
        {
          "data": {
            "application/vnd.jupyter.widget-view+json": {
              "model_id": "f2e8292e67cf4fa588662144364642b0",
              "version_major": 2,
              "version_minor": 0
            },
            "text/plain": [
              "Map(center=[37.770715116445906, -122.4359566847391], controls=(WidgetControl(options=['position', 'transparent…"
            ]
          },
          "execution_count": 4,
          "metadata": {},
          "output_type": "execute_result"
        }
      ],
      "source": [
        "Map"
      ]
    }
  ],
  "metadata": {
    "anaconda-cloud": {},
    "kernelspec": {
      "display_name": "Python 3",
      "language": "python",
      "name": "python3"
    },
    "language_info": {
      "codemirror_mode": {
        "name": "ipython",
        "version": 3
      },
      "file_extension": ".py",
      "mimetype": "text/x-python",
      "name": "python",
      "nbconvert_exporter": "python",
      "pygments_lexer": "ipython3",
      "version": "3.11.9"
    }
  },
  "nbformat": 4,
  "nbformat_minor": 4
}
