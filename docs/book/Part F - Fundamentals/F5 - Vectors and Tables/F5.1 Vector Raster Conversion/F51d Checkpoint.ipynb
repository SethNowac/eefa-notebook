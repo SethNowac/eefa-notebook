{
  "cells": [
    {
      "cell_type": "markdown",
      "metadata": {},
      "source": [
        "## Import libraries"
      ]
    },
    {
      "cell_type": "code",
      "metadata": {},
      "source": [
        "import ee\n",
        "import geemap"
      ],
      "outputs": [],
      "execution_count": null
    },
    {
      "cell_type": "markdown",
      "metadata": {},
      "source": [
        "## Create an interactive map"
      ]
    },
    {
      "cell_type": "code",
      "metadata": {},
      "source": [
        "Map = geemap.Map(center=[40, -100], zoom=4)"
      ],
      "outputs": [],
      "execution_count": null
    },
    {
      "cell_type": "markdown",
      "metadata": {},
      "source": [
        "## Add Earth Engine Python script"
      ]
    },
    {
      "cell_type": "code",
      "metadata": {},
      "source": [
        "# Add Earth Engine dataset\n",
        "image = ee.Image(\"USGS/SRTMGL1_003\")\n",
        "\n",
        "#  ~~~~~~~~~~~~~~~~~~~~~~~~~~~~~~~~~~~~~~~~~~~~~~~~~~~~~~~~~~~~~~~~~~~~~~~~~~~~~~~\n",
        "#  Chapter:      F5.1 Raster/Vector Conversions\n",
        "#  Checkpoint:   F51d\n",
        "#  Authors:      Keiko Nomura, Samuel Bowers\n",
        "#  ~~~~~~~~~~~~~~~~~~~~~~~~~~~~~~~~~~~~~~~~~~~~~~~~~~~~~~~~~~~~~~~~~~~~~~~~~~~~~~~\n",
        "\n",
        "#-------------#\n",
        "# Section 2.1 #\n",
        "#-------------#\n",
        "\n",
        "# Load required datasets.\n",
        "gfc = ee.Image('UMD/hansen/global_forest_change_2020_v1_8')\n",
        "wdpa = ee.FeatureCollection('WCMC/WDPA/current/polygons')\n",
        "\n",
        "# Get deforestation.\n",
        "deforestation = gfc.select('lossyear')\n",
        "\n",
        "# Generate a new property called 'protected' to apply to the output mask.\n",
        "\n",
        "def func_hmy(feat):\n",
        "    return feat.set('protected', 1)\n",
        "\n",
        "wdpa = wdpa.map(func_hmy)\n",
        "\n",
        "\n",
        "\n",
        "\n",
        "# Rasterize using the new property.\n",
        "# unmask() sets areas outside protected area polygons to 0.\n",
        "wdpaMask = wdpa.reduceToImage(['protected'], ee.Reducer.first()) \\\n",
        "    .unmask()\n",
        "\n",
        "# Center on Colombia.\n",
        "Map.setCenter(-75, 3, 6)\n",
        "\n",
        "# Display on map.\n",
        "Map.addLayer(wdpaMask, {\n",
        "    'min': 0,\n",
        "    'max': 1\n",
        "}, 'Protected areas (mask)')\n",
        "\n",
        "# Set the deforestation layer to 0 where outside a protected area.\n",
        "deforestationProtected = deforestation.where(wdpaMask.eq(0), 0)\n",
        "\n",
        "# Update mask to hide where deforestation layer = 0\n",
        "deforestationProtected = deforestationProtected \\\n",
        "    .updateMask(deforestationProtected.gt(0))\n",
        "\n",
        "# Display deforestation in protected areas\n",
        "Map.addLayer(deforestationProtected, {\n",
        "    'min': 1,\n",
        "    'max': 20,\n",
        "    'palette': ['yellow', 'orange', 'red']\n",
        "}, 'Deforestation protected')\n",
        "\n",
        "# Produce an image with unique ID of protected areas.\n",
        "wdpaId = wdpa.reduceToImage(['WDPAID'], ee.Reducer.first())\n",
        "\n",
        "Map.addLayer(wdpaId, {\n",
        "    'min': 1,\n",
        "    'max': 100000\n",
        "}, 'Protected area ID')\n",
        "\n",
        "#  -----------------------------------------------------------------------\n",
        "#  CHECKPOINT\n",
        "#  -----------------------------------------------------------------------"
      ],
      "outputs": [],
      "execution_count": null
    },
    {
      "cell_type": "markdown",
      "metadata": {},
      "source": [
        "## Display the interactive map"
      ]
    },
    {
      "cell_type": "code",
      "metadata": {},
      "source": [
        "Map"
      ],
      "outputs": [],
      "execution_count": null
    }
  ],
  "metadata": {
    "anaconda-cloud": {},
    "kernelspec": {
      "display_name": "Python 3",
      "language": "python",
      "name": "python3"
    },
    "language_info": {
      "codemirror_mode": {
        "name": "ipython",
        "version": 3
      },
      "file_extension": ".py",
      "mimetype": "text/x-python",
      "name": "python",
      "nbconvert_exporter": "python",
      "pygments_lexer": "ipython3",
      "version": "3.6.1"
    }
  },
  "nbformat": 4,
  "nbformat_minor": 4
}