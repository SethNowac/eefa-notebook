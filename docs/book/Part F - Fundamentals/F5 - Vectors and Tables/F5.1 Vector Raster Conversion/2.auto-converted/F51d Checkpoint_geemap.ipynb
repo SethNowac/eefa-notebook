{
  "cells": [
    {
      "cell_type": "markdown",
      "metadata": {},
      "source": [
        "## Import libraries"
      ]
    },
    {
      "cell_type": "code",
      "execution_count": 1,
      "metadata": {},
      "outputs": [],
      "source": [
        "import ee\n",
        "import geemap"
      ]
    },
    {
      "cell_type": "markdown",
      "metadata": {},
      "source": [
        "## Create an interactive map"
      ]
    },
    {
      "cell_type": "code",
      "execution_count": 2,
      "metadata": {},
      "outputs": [
        {
          "data": {
            "text/html": [
              "\n",
              "            <style>\n",
              "                .geemap-dark {\n",
              "                    --jp-widgets-color: white;\n",
              "                    --jp-widgets-label-color: white;\n",
              "                    --jp-ui-font-color1: white;\n",
              "                    --jp-layout-color2: #454545;\n",
              "                    background-color: #383838;\n",
              "                }\n",
              "                    \n",
              "                .geemap-dark .jupyter-button {\n",
              "                    --jp-layout-color3: #383838;\n",
              "                }\n",
              "                \n",
              "                .geemap-colab {\n",
              "                    background-color: var(--colab-primary-surface-color, white);\n",
              "                }\n",
              "                    \n",
              "                .geemap-colab .jupyter-button {\n",
              "                    --jp-layout-color3: var(--colab-primary-surface-color, white);\n",
              "                }\n",
              "            </style>\n",
              "            "
            ],
            "text/plain": [
              "<IPython.core.display.HTML object>"
            ]
          },
          "metadata": {},
          "output_type": "display_data"
        }
      ],
      "source": [
        "Map = geemap.Map(center=[40, -100], zoom=4)"
      ]
    },
    {
      "cell_type": "markdown",
      "metadata": {},
      "source": [
        "## Add Earth Engine Python script"
      ]
    },
    {
      "cell_type": "code",
      "execution_count": 3,
      "metadata": {},
      "outputs": [
        {
          "data": {
            "text/html": [
              "\n",
              "            <style>\n",
              "                .geemap-dark {\n",
              "                    --jp-widgets-color: white;\n",
              "                    --jp-widgets-label-color: white;\n",
              "                    --jp-ui-font-color1: white;\n",
              "                    --jp-layout-color2: #454545;\n",
              "                    background-color: #383838;\n",
              "                }\n",
              "                    \n",
              "                .geemap-dark .jupyter-button {\n",
              "                    --jp-layout-color3: #383838;\n",
              "                }\n",
              "                \n",
              "                .geemap-colab {\n",
              "                    background-color: var(--colab-primary-surface-color, white);\n",
              "                }\n",
              "                    \n",
              "                .geemap-colab .jupyter-button {\n",
              "                    --jp-layout-color3: var(--colab-primary-surface-color, white);\n",
              "                }\n",
              "            </style>\n",
              "            "
            ],
            "text/plain": [
              "<IPython.core.display.HTML object>"
            ]
          },
          "metadata": {},
          "output_type": "display_data"
        }
      ],
      "source": [
        "# Add Earth Engine dataset\n",
        "image = ee.Image(\"USGS/SRTMGL1_003\")\n",
        "\n",
        "#  ~~~~~~~~~~~~~~~~~~~~~~~~~~~~~~~~~~~~~~~~~~~~~~~~~~~~~~~~~~~~~~~~~~~~~~~~~~~~~~~\n",
        "#  Chapter:      F5.1 Raster/Vector Conversions\n",
        "#  Checkpoint:   F51d\n",
        "#  Authors:      Keiko Nomura, Samuel Bowers\n",
        "#  ~~~~~~~~~~~~~~~~~~~~~~~~~~~~~~~~~~~~~~~~~~~~~~~~~~~~~~~~~~~~~~~~~~~~~~~~~~~~~~~\n",
        "\n",
        "#-------------#\n",
        "# Section 2.1 #\n",
        "#-------------#\n",
        "\n",
        "# Load required datasets.\n",
        "gfc = ee.Image('UMD/hansen/global_forest_change_2020_v1_8')\n",
        "wdpa = ee.FeatureCollection('WCMC/WDPA/current/polygons')\n",
        "\n",
        "# Get deforestation.\n",
        "deforestation = gfc.select('lossyear')\n",
        "\n",
        "# Generate a new property called 'protected' to apply to the output mask.\n",
        "\n",
        "def func_wxz(feat):\n",
        "    return feat.set('protected', 1)\n",
        "\n",
        "wdpa = wdpa.map(func_wxz)\n",
        "\n",
        "\n",
        "\n",
        "# Rasterize using the new property.\n",
        "# unmask() sets areas outside protected area polygons to 0.\n",
        "wdpaMask = wdpa.reduceToImage(['protected'], ee.Reducer.first()) \\\n",
        ".unmask()\n",
        "\n",
        "# Center on Colombia.\n",
        "Map.setCenter(-75, 3, 6)\n",
        "\n",
        "# Display on map.\n",
        "Map.addLayer(wdpaMask, {\n",
        "    'min': 0,\n",
        "    'max': 1\n",
        "}, 'Protected areas (mask)')\n",
        "\n",
        "# Set the deforestation layer to 0 where outside a protected area.\n",
        "deforestationProtected = deforestation.where(wdpaMask.eq(0), 0)\n",
        "\n",
        "# Update mask to hide where deforestation layer = 0\n",
        "deforestationProtected = deforestationProtected \\\n",
        ".updateMask(deforestationProtected.gt(0))\n",
        "\n",
        "# Display deforestation in protected areas\n",
        "Map.addLayer(deforestationProtected, {\n",
        "    'min': 1,\n",
        "    'max': 20,\n",
        "    'palette': ['yellow', 'orange', 'red']\n",
        "}, 'Deforestation protected')\n",
        "\n",
        "# Produce an image with unique ID of protected areas.\n",
        "wdpaId = wdpa.reduceToImage(['WDPAID'], ee.Reducer.first())\n",
        "\n",
        "Map.addLayer(wdpaId, {\n",
        "    'min': 1,\n",
        "    'max': 100000\n",
        "}, 'Protected area ID')\n",
        "\n",
        "#  -----------------------------------------------------------------------\n",
        "#  CHECKPOINT\n",
        "#  -----------------------------------------------------------------------"
      ]
    },
    {
      "cell_type": "markdown",
      "metadata": {},
      "source": [
        "## Display the interactive map"
      ]
    },
    {
      "cell_type": "code",
      "execution_count": 4,
      "metadata": {},
      "outputs": [
        {
          "data": {
            "text/html": [
              "\n",
              "            <style>\n",
              "                .geemap-dark {\n",
              "                    --jp-widgets-color: white;\n",
              "                    --jp-widgets-label-color: white;\n",
              "                    --jp-ui-font-color1: white;\n",
              "                    --jp-layout-color2: #454545;\n",
              "                    background-color: #383838;\n",
              "                }\n",
              "                    \n",
              "                .geemap-dark .jupyter-button {\n",
              "                    --jp-layout-color3: #383838;\n",
              "                }\n",
              "                \n",
              "                .geemap-colab {\n",
              "                    background-color: var(--colab-primary-surface-color, white);\n",
              "                }\n",
              "                    \n",
              "                .geemap-colab .jupyter-button {\n",
              "                    --jp-layout-color3: var(--colab-primary-surface-color, white);\n",
              "                }\n",
              "            </style>\n",
              "            "
            ],
            "text/plain": [
              "<IPython.core.display.HTML object>"
            ]
          },
          "metadata": {},
          "output_type": "display_data"
        },
        {
          "data": {
            "application/vnd.jupyter.widget-view+json": {
              "model_id": "9c671b13076b4c65a6fadca7956e7876",
              "version_major": 2,
              "version_minor": 0
            },
            "text/plain": [
              "Map(center=[3, -75], controls=(WidgetControl(options=['position', 'transparent_bg'], widget=SearchDataGUI(chil…"
            ]
          },
          "execution_count": 4,
          "metadata": {},
          "output_type": "execute_result"
        }
      ],
      "source": [
        "Map"
      ]
    }
  ],
  "metadata": {
    "anaconda-cloud": {},
    "kernelspec": {
      "display_name": "Python 3",
      "language": "python",
      "name": "python3"
    },
    "language_info": {
      "codemirror_mode": {
        "name": "ipython",
        "version": 3
      },
      "file_extension": ".py",
      "mimetype": "text/x-python",
      "name": "python",
      "nbconvert_exporter": "python",
      "pygments_lexer": "ipython3",
      "version": "3.11.9"
    }
  },
  "nbformat": 4,
  "nbformat_minor": 4
}
