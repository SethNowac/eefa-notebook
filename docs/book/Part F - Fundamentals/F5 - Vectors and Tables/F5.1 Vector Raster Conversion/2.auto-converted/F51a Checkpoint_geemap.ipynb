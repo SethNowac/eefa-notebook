{
  "cells": [
    {
      "cell_type": "markdown",
      "metadata": {},
      "source": [
        "## Import libraries"
      ]
    },
    {
      "cell_type": "code",
      "execution_count": 1,
      "metadata": {},
      "outputs": [],
      "source": [
        "import ee\n",
        "import geemap"
      ]
    },
    {
      "cell_type": "markdown",
      "metadata": {},
      "source": [
        "## Create an interactive map"
      ]
    },
    {
      "cell_type": "code",
      "execution_count": 2,
      "metadata": {},
      "outputs": [
        {
          "data": {
            "text/html": [
              "\n",
              "            <style>\n",
              "                .geemap-dark {\n",
              "                    --jp-widgets-color: white;\n",
              "                    --jp-widgets-label-color: white;\n",
              "                    --jp-ui-font-color1: white;\n",
              "                    --jp-layout-color2: #454545;\n",
              "                    background-color: #383838;\n",
              "                }\n",
              "                    \n",
              "                .geemap-dark .jupyter-button {\n",
              "                    --jp-layout-color3: #383838;\n",
              "                }\n",
              "                \n",
              "                .geemap-colab {\n",
              "                    background-color: var(--colab-primary-surface-color, white);\n",
              "                }\n",
              "                    \n",
              "                .geemap-colab .jupyter-button {\n",
              "                    --jp-layout-color3: var(--colab-primary-surface-color, white);\n",
              "                }\n",
              "            </style>\n",
              "            "
            ],
            "text/plain": [
              "<IPython.core.display.HTML object>"
            ]
          },
          "metadata": {},
          "output_type": "display_data"
        }
      ],
      "source": [
        "Map = geemap.Map(center=[40, -100], zoom=4)"
      ]
    },
    {
      "cell_type": "markdown",
      "metadata": {},
      "source": [
        "## Add Earth Engine Python script"
      ]
    },
    {
      "cell_type": "code",
      "execution_count": 3,
      "metadata": {},
      "outputs": [
        {
          "data": {
            "text/html": [
              "\n",
              "            <style>\n",
              "                .geemap-dark {\n",
              "                    --jp-widgets-color: white;\n",
              "                    --jp-widgets-label-color: white;\n",
              "                    --jp-ui-font-color1: white;\n",
              "                    --jp-layout-color2: #454545;\n",
              "                    background-color: #383838;\n",
              "                }\n",
              "                    \n",
              "                .geemap-dark .jupyter-button {\n",
              "                    --jp-layout-color3: #383838;\n",
              "                }\n",
              "                \n",
              "                .geemap-colab {\n",
              "                    background-color: var(--colab-primary-surface-color, white);\n",
              "                }\n",
              "                    \n",
              "                .geemap-colab .jupyter-button {\n",
              "                    --jp-layout-color3: var(--colab-primary-surface-color, white);\n",
              "                }\n",
              "            </style>\n",
              "            "
            ],
            "text/plain": [
              "<IPython.core.display.HTML object>"
            ]
          },
          "metadata": {},
          "output_type": "display_data"
        },
        {
          "name": "stdout",
          "output_type": "stream",
          "text": [
            "{'type': 'FeatureCollection', 'columns': {'count': 'Long<0, 4294967295>', 'system:index': 'String', 'zone': 'Byte<0, 3>'}, 'features': [{'type': 'Feature', 'geometry': {'geodesic': False, 'type': 'Polygon', 'coordinates': [[[-81.73342995905446, 12.475998189514755], [-81.72444680621327, 12.475998189514755], [-81.72444680621327, 12.484981342355951], [-81.71546365337207, 12.484981342355951], [-81.71546365337207, 12.51193080087954], [-81.70648050053089, 12.51193080087954], [-81.70648050053089, 12.538880259403115], [-81.69749734768969, 12.538880259403115], [-81.69749734768969, 12.5748128707679], [-81.6795310420073, 12.5748128707679], [-81.6795310420073, 12.583796023609096], [-81.6885141948485, 12.583796023609096], [-81.6885141948485, 12.592779176450293], [-81.71546365337207, 12.592779176450293], [-81.71546365337207, 12.583796023609096], [-81.72444680621327, 12.583796023609096], [-81.72444680621327, 12.556846565085507], [-81.73342995905446, 12.556846565085507], [-81.73342995905446, 12.529897106561933], [-81.72444680621327, 12.529897106561933], [-81.72444680621327, 12.520913953720736], [-81.73342995905446, 12.520913953720736], [-81.73342995905446, 12.475998189514755]]]}, 'id': '+10939+7961', 'properties': {'count': 37, 'zone': 0}}, {'type': 'Feature', 'geometry': {'geodesic': False, 'type': 'Polygon', 'coordinates': [[[-81.61664897211892, 3.9959019074264717], [-81.60766581927773, 3.9959019074264717], [-81.60766581927773, 4.004885060267668], [-81.61664897211892, 4.004885060267668], [-81.61664897211892, 3.9959019074264717]]]}, 'id': '+10952+8905', 'properties': {'count': 1, 'zone': 0}}, {'type': 'Feature', 'geometry': {'geodesic': False, 'type': 'Polygon', 'coordinates': [[[-81.38308699824785, 13.38329662647547], [-81.37410384540665, 13.38329662647547], [-81.37410384540665, 13.392279779316667], [-81.38308699824785, 13.392279779316667], [-81.38308699824785, 13.38329662647547]]]}, 'id': '+10978+7860', 'properties': {'count': 1, 'zone': 0}}, {'type': 'Feature', 'geometry': {'geodesic': False, 'type': 'Polygon', 'coordinates': [[[-81.38308699824785, 13.338380862269489], [-81.37410384540665, 13.338380862269489], [-81.37410384540665, 13.347364015110685], [-81.36512069256545, 13.347364015110685], [-81.36512069256545, 13.356347167951881], [-81.38308699824785, 13.356347167951881], [-81.38308699824785, 13.338380862269489]]]}, 'id': '+10978+7865', 'properties': {'count': 3, 'zone': 1}}, {'type': 'Feature', 'geometry': {'geodesic': False, 'type': 'Polygon', 'coordinates': [[[-81.37410384540665, 13.338380862269489], [-81.36512069256545, 13.338380862269489], [-81.36512069256545, 13.347364015110685], [-81.37410384540665, 13.347364015110685], [-81.37410384540665, 13.338380862269489]]]}, 'id': '+10979+7865', 'properties': {'count': 1, 'zone': 2}}, {'type': 'Feature', 'geometry': {'geodesic': False, 'type': 'Polygon', 'coordinates': [[[-81.39207015108904, 13.32041455658711], [-81.36512069256545, 13.32041455658711], [-81.36512069256545, 13.329397709428306], [-81.35613753972427, 13.329397709428306], [-81.35613753972427, 13.338380862269489], [-81.38308699824785, 13.338380862269489], [-81.38308699824785, 13.356347167951881], [-81.36512069256545, 13.356347167951881], [-81.36512069256545, 13.347364015110685], [-81.34715438688308, 13.347364015110685], [-81.34715438688308, 13.365330320793078], [-81.35613753972427, 13.365330320793078], [-81.35613753972427, 13.38329662647547], [-81.37410384540665, 13.38329662647547], [-81.37410384540665, 13.374313473634274], [-81.38308699824785, 13.374313473634274], [-81.38308699824785, 13.365330320793078], [-81.39207015108904, 13.365330320793078], [-81.39207015108904, 13.32041455658711]]]}, 'id': '+10979+7867', 'properties': {'count': 21, 'zone': 0}}, {'type': 'Feature', 'geometry': {'geodesic': False, 'type': 'Polygon', 'coordinates': [[[-81.36512069256545, 13.338380862269489], [-81.35613753972427, 13.338380862269489], [-81.35613753972427, 13.347364015110685], [-81.36512069256545, 13.347364015110685], [-81.36512069256545, 13.338380862269489]]]}, 'id': '+10980+7865', 'properties': {'count': 1, 'zone': 1}}, {'type': 'Feature', 'geometry': {'geodesic': False, 'type': 'Polygon', 'coordinates': [[[-78.77797267430124, 1.8129957670160337], [-78.76898952146004, 1.8129957670160337], [-78.76898952146004, 1.82197891985723], [-78.77797267430124, 1.82197891985723], [-78.77797267430124, 1.8129957670160337]]]}, 'id': '+11268+9148', 'properties': {'count': 1, 'zone': 0}}, {'type': 'Feature', 'geometry': {'geodesic': False, 'type': 'Polygon', 'coordinates': [[[-78.72407375725408, 1.7860463084924447], [-78.71509060441288, 1.7860463084924447], [-78.71509060441288, 1.795029461333641], [-78.72407375725408, 1.795029461333641], [-78.72407375725408, 1.7860463084924447]]]}, 'id': '+11274+9151', 'properties': {'count': 1, 'zone': 0}}, {'type': 'Feature', 'geometry': {'geodesic': False, 'type': 'Polygon', 'coordinates': [[[-78.6701748402069, 1.3368886664326851], [-78.6522085345245, 1.3368886664326851], [-78.6522085345245, 1.3458718192738814], [-78.6701748402069, 1.3458718192738814], [-78.6701748402069, 1.3368886664326851]]]}, 'id': '+11281+9201', 'properties': {'count': 2, 'zone': 1}}]}\n",
            "Exporting extracted_points... Please check the Task Manager from the JavaScript Code Editor.\n"
          ]
        }
      ],
      "source": [
        "# Add Earth Engine dataset\n",
        "image = ee.Image(\"USGS/SRTMGL1_003\")\n",
        "\n",
        "#  ~~~~~~~~~~~~~~~~~~~~~~~~~~~~~~~~~~~~~~~~~~~~~~~~~~~~~~~~~~~~~~~~~~~~~~~~~~~~~~~\n",
        "#  Chapter:      F5.1 Raster/Vector Conversions\n",
        "#  Checkpoint:   F51a\n",
        "#  Authors:      Keiko Nomura, Samuel Bowers\n",
        "#  ~~~~~~~~~~~~~~~~~~~~~~~~~~~~~~~~~~~~~~~~~~~~~~~~~~~~~~~~~~~~~~~~~~~~~~~~~~~~~~~\n",
        "\n",
        "#-------------#\n",
        "# Section 1.1 #\n",
        "#-------------#\n",
        "\n",
        "# Load raster (elevation) and vector (colombia) datasets.\n",
        "elevation = ee.Image('USGS/GMTED2010').rename('elevation')\n",
        "colombia = ee.FeatureCollection(\n",
        "'FAO/GAUL_SIMPLIFIED_500m/2015/level0') \\\n",
        ".filter(ee.Filter.equals('ADM0_NAME', 'Colombia'))\n",
        "\n",
        "# Display elevation image.\n",
        "Map.centerObject(colombia, 7)\n",
        "Map.addLayer(elevation, {\n",
        "    'min': 0,\n",
        "    'max': 4000\n",
        "}, 'Elevation')\n",
        "\n",
        "# Initialize image with zeros and define elevation zones.\n",
        "zones = ee.Image(0) \\\n",
        ".where(elevation.gt(100), 1) \\\n",
        ".where(elevation.gt(200), 2) \\\n",
        ".where(elevation.gt(500), 3)\n",
        "\n",
        "# Mask pixels below sea level (<= 0 m) to retain only land areas.\n",
        "# Name the band with values 0-3 as 'zone'.\n",
        "zones = zones.updateMask(elevation.gt(0)).rename('zone')\n",
        "\n",
        "Map.addLayer(zones, {\n",
        "    'min': 0,\n",
        "    'max': 3,\n",
        "    'palette': ['white', 'yellow', 'lime', 'green'],\n",
        "    'opacity': 0.7\n",
        "}, 'Elevation zones')\n",
        "\n",
        "projection = elevation.projection()\n",
        "scale = elevation.projection().nominalScale()\n",
        "\n",
        "elevationVector = zones.reduceToVectors(\n",
        "geometry = colombia.geometry(),\n",
        "crs = projection,\n",
        "scale = 1000, \n",
        "geometryType = 'polygon',\n",
        "eightConnected = False,\n",
        "labelProperty = 'zone',\n",
        "bestEffort = False,\n",
        "maxPixels = 1e13,\n",
        "tileScale = 3 \n",
        ")\n",
        "\n",
        "print(elevationVector.limit(10).getInfo())\n",
        "\n",
        "elevationDrawn = elevationVector.draw(\n",
        "color = 'black',\n",
        "strokeWidth = 1\n",
        ")\n",
        "Map.addLayer(elevationDrawn, {}, 'Elevation zone polygon')\n",
        "\n",
        "zonesSmooth = zones.focalMode(4, 'square')\n",
        "\n",
        "zonesSmooth = zonesSmooth.reproject(projection.atScale(scale))\n",
        "\n",
        "Map.addLayer(zonesSmooth, {\n",
        "    'min': 0,\n",
        "    'max': 3,\n",
        "    'palette': ['white', 'yellow', 'lime', 'green'],\n",
        "    'opacity': 0.7\n",
        "}, 'Elevation zones (smooth)')\n",
        "\n",
        "elevationVectorSmooth = zonesSmooth.reduceToVectors(\n",
        "geometry = colombia.geometry(),\n",
        "crs = projection,\n",
        "scale = scale,\n",
        "geometryType = 'polygon',\n",
        "eightConnected = False,\n",
        "labelProperty = 'zone',\n",
        "bestEffort = False,\n",
        "maxPixels = 1e13,\n",
        "tileScale = 3\n",
        ")\n",
        "\n",
        "smoothDrawn = elevationVectorSmooth.draw(\n",
        "color = 'black',\n",
        "strokeWidth = 1\n",
        ")\n",
        "Map.addLayer(smoothDrawn, {}, 'Elevation zone polygon (smooth)')\n",
        "\n",
        "#-------------#\n",
        "# Section 1.2 #\n",
        "#-------------#\n",
        "\n",
        "geometry = ee.Geometry.Polygon([\n",
        "[-89.553, -0.929],\n",
        "[-89.436, -0.929],\n",
        "[-89.436, -0.866],\n",
        "[-89.553, -0.866],\n",
        "[-89.553, -0.929]\n",
        "])\n",
        "\n",
        "# To zoom into the area, un-comment and run below\n",
        "# Map.centerObject(geometry,12)\n",
        "Map.addLayer(geometry, {}, 'Areas to extract points')\n",
        "\n",
        "elevationSamples = elevation.sample(\n",
        "region = geometry,\n",
        "projection = projection,\n",
        "scale = scale,\n",
        "geometries = True,\n",
        ")\n",
        "\n",
        "Map.addLayer(elevationSamples, {}, 'Points extracted')\n",
        "\n",
        "# Add three properties to the output table:\n",
        "# 'Elevation', 'Longitude', and 'Latitude'.\n",
        "\n",
        "def func_jeh(feature):\n",
        "    geom = feature.geometry().coordinates()\n",
        "    return ee.Feature(None, {\n",
        "            'Elevation': ee.Number(feature.get(\n",
        "            'elevation')),\n",
        "            'Long': ee.Number(geom.get(0)),\n",
        "            'Lat': ee.Number(geom.get(1))\n",
        "        })\n",
        "\n",
        "elevationSamples = elevationSamples.map(func_jeh)\n",
        "\n",
        "\n",
        "\n",
        "\n",
        "\n",
        "\n",
        "\n",
        "\n",
        "\n",
        "# Export as CSV.\n",
        "geemap.ee_export_vector_to_drive(\n",
        "collection = elevationSamples,\n",
        "description = 'extracted_points',\n",
        "fileFormat = 'CSV'\n",
        ")\n",
        "\n",
        "elevationSamplesStratified = zones.stratifiedSample(\n",
        "numPoints = 10,\n",
        "classBand = 'zone',\n",
        "region = geometry,\n",
        "scale = scale,\n",
        "projection = projection,\n",
        "geometries = True\n",
        ")\n",
        "\n",
        "Map.addLayer(elevationSamplesStratified, {}, 'Stratified samples')\n",
        "\n",
        "#  -----------------------------------------------------------------------\n",
        "#  CHECKPOINT\n",
        "#  -----------------------------------------------------------------------"
      ]
    },
    {
      "cell_type": "markdown",
      "metadata": {},
      "source": [
        "## Display the interactive map"
      ]
    },
    {
      "cell_type": "code",
      "execution_count": 4,
      "metadata": {},
      "outputs": [
        {
          "data": {
            "text/html": [
              "\n",
              "            <style>\n",
              "                .geemap-dark {\n",
              "                    --jp-widgets-color: white;\n",
              "                    --jp-widgets-label-color: white;\n",
              "                    --jp-ui-font-color1: white;\n",
              "                    --jp-layout-color2: #454545;\n",
              "                    background-color: #383838;\n",
              "                }\n",
              "                    \n",
              "                .geemap-dark .jupyter-button {\n",
              "                    --jp-layout-color3: #383838;\n",
              "                }\n",
              "                \n",
              "                .geemap-colab {\n",
              "                    background-color: var(--colab-primary-surface-color, white);\n",
              "                }\n",
              "                    \n",
              "                .geemap-colab .jupyter-button {\n",
              "                    --jp-layout-color3: var(--colab-primary-surface-color, white);\n",
              "                }\n",
              "            </style>\n",
              "            "
            ],
            "text/plain": [
              "<IPython.core.display.HTML object>"
            ]
          },
          "metadata": {},
          "output_type": "display_data"
        },
        {
          "data": {
            "application/vnd.jupyter.widget-view+json": {
              "model_id": "f396fb38269c458d95972466bc2353a6",
              "version_major": 2,
              "version_minor": 0
            },
            "text/plain": [
              "Map(center=[3.8953576070659985, -73.07893922598336], controls=(WidgetControl(options=['position', 'transparent…"
            ]
          },
          "execution_count": 4,
          "metadata": {},
          "output_type": "execute_result"
        }
      ],
      "source": [
        "Map"
      ]
    }
  ],
  "metadata": {
    "anaconda-cloud": {},
    "kernelspec": {
      "display_name": "Python 3",
      "language": "python",
      "name": "python3"
    },
    "language_info": {
      "codemirror_mode": {
        "name": "ipython",
        "version": 3
      },
      "file_extension": ".py",
      "mimetype": "text/x-python",
      "name": "python",
      "nbconvert_exporter": "python",
      "pygments_lexer": "ipython3",
      "version": "3.11.9"
    }
  },
  "nbformat": 4,
  "nbformat_minor": 4
}
