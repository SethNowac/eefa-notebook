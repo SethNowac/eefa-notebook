{
  "cells": [
    {
      "cell_type": "markdown",
      "metadata": {},
      "source": [
        "## Import libraries"
      ]
    },
    {
      "cell_type": "code",
      "execution_count": 1,
      "metadata": {},
      "outputs": [],
      "source": [
        "import ee\n",
        "import geemap"
      ]
    },
    {
      "cell_type": "markdown",
      "metadata": {},
      "source": [
        "## Create an interactive map"
      ]
    },
    {
      "cell_type": "code",
      "execution_count": 2,
      "metadata": {},
      "outputs": [
        {
          "data": {
            "text/html": [
              "\n",
              "            <style>\n",
              "                .geemap-dark {\n",
              "                    --jp-widgets-color: white;\n",
              "                    --jp-widgets-label-color: white;\n",
              "                    --jp-ui-font-color1: white;\n",
              "                    --jp-layout-color2: #454545;\n",
              "                    background-color: #383838;\n",
              "                }\n",
              "                    \n",
              "                .geemap-dark .jupyter-button {\n",
              "                    --jp-layout-color3: #383838;\n",
              "                }\n",
              "                \n",
              "                .geemap-colab {\n",
              "                    background-color: var(--colab-primary-surface-color, white);\n",
              "                }\n",
              "                    \n",
              "                .geemap-colab .jupyter-button {\n",
              "                    --jp-layout-color3: var(--colab-primary-surface-color, white);\n",
              "                }\n",
              "            </style>\n",
              "            "
            ],
            "text/plain": [
              "<IPython.core.display.HTML object>"
            ]
          },
          "metadata": {},
          "output_type": "display_data"
        }
      ],
      "source": [
        "Map = geemap.Map(center=[40, -100], zoom=4)"
      ]
    },
    {
      "cell_type": "markdown",
      "metadata": {},
      "source": [
        "## Add Earth Engine Python script"
      ]
    },
    {
      "cell_type": "code",
      "execution_count": 4,
      "metadata": {},
      "outputs": [
        {
          "data": {
            "text/html": [
              "\n",
              "            <style>\n",
              "                .geemap-dark {\n",
              "                    --jp-widgets-color: white;\n",
              "                    --jp-widgets-label-color: white;\n",
              "                    --jp-ui-font-color1: white;\n",
              "                    --jp-layout-color2: #454545;\n",
              "                    background-color: #383838;\n",
              "                }\n",
              "                    \n",
              "                .geemap-dark .jupyter-button {\n",
              "                    --jp-layout-color3: #383838;\n",
              "                }\n",
              "                \n",
              "                .geemap-colab {\n",
              "                    background-color: var(--colab-primary-surface-color, white);\n",
              "                }\n",
              "                    \n",
              "                .geemap-colab .jupyter-button {\n",
              "                    --jp-layout-color3: var(--colab-primary-surface-color, white);\n",
              "                }\n",
              "            </style>\n",
              "            "
            ],
            "text/plain": [
              "<IPython.core.display.HTML object>"
            ]
          },
          "metadata": {},
          "output_type": "display_data"
        },
        {
          "name": "stdout",
          "output_type": "stream",
          "text": [
            "All image properties ['DATA_SOURCE_ELEVATION', 'WRS_TYPE', 'system:id', 'REFLECTANCE_ADD_BAND_1', 'REFLECTANCE_ADD_BAND_2', 'DATUM', 'REFLECTANCE_ADD_BAND_3', 'REFLECTANCE_ADD_BAND_4', 'REFLECTANCE_ADD_BAND_5', 'REFLECTANCE_ADD_BAND_6', 'REFLECTANCE_ADD_BAND_7', 'system:footprint', 'REFLECTIVE_SAMPLES', 'system:version', 'GROUND_CONTROL_POINTS_VERSION', 'SUN_AZIMUTH', 'DATA_SOURCE_TIRS_STRAY_LIGHT_CORRECTION', 'UTM_ZONE', 'DATE_ACQUIRED', 'ELLIPSOID', 'system:time_end', 'DATA_SOURCE_PRESSURE', 'LANDSAT_PRODUCT_ID', 'STATION_ID', 'TEMPERATURE_ADD_BAND_ST_B10', 'DATA_SOURCE_REANALYSIS', 'REFLECTANCE_MULT_BAND_7', 'system:time_start', 'REFLECTANCE_MULT_BAND_6', 'L1_PROCESSING_LEVEL', 'PROCESSING_SOFTWARE_VERSION', 'L1_DATE_PRODUCT_GENERATED', 'ORIENTATION', 'REFLECTANCE_MULT_BAND_1', 'WRS_ROW', 'REFLECTANCE_MULT_BAND_3', 'REFLECTANCE_MULT_BAND_2', 'TARGET_WRS_ROW', 'REFLECTANCE_MULT_BAND_5', 'REFLECTANCE_MULT_BAND_4', 'THERMAL_LINES', 'TIRS_SSM_POSITION_STATUS', 'GRID_CELL_SIZE_THERMAL', 'IMAGE_QUALITY_TIRS', 'TRUNCATION_OLI', 'NADIR_OFFNADIR', 'CLOUD_COVER', 'REQUEST_ID', 'EARTH_SUN_DISTANCE', 'TIRS_SSM_MODEL', 'COLLECTION_CATEGORY', 'SCENE_CENTER_TIME', 'GRID_CELL_SIZE_REFLECTIVE', 'SUN_ELEVATION', 'ALGORITHM_SOURCE_SURFACE_TEMPERATURE', 'TEMPERATURE_MAXIMUM_BAND_ST_B10', 'CLOUD_COVER_LAND', 'GEOMETRIC_RMSE_MODEL', 'ROLL_ANGLE', 'COLLECTION_NUMBER', 'DATE_PRODUCT_GENERATED', 'L1_REQUEST_ID', 'DATA_SOURCE_OZONE', 'SATURATION_BAND_1', 'DATA_SOURCE_WATER_VAPOR', 'SATURATION_BAND_2', 'SATURATION_BAND_3', 'IMAGE_QUALITY_OLI', 'SATURATION_BAND_4', 'LANDSAT_SCENE_ID', 'SATURATION_BAND_5', 'MAP_PROJECTION', 'SATURATION_BAND_6', 'SENSOR_ID', 'SATURATION_BAND_7', 'SATURATION_BAND_8', 'WRS_PATH', 'SATURATION_BAND_9', 'TARGET_WRS_PATH', 'L1_PROCESSING_SOFTWARE_VERSION', 'TEMPERATURE_MULT_BAND_ST_B10', 'L1_LANDSAT_PRODUCT_ID', 'PROCESSING_LEVEL', 'ALGORITHM_SOURCE_SURFACE_REFLECTANCE', 'GROUND_CONTROL_POINTS_MODEL', 'SPACECRAFT_ID', 'TEMPERATURE_MINIMUM_BAND_ST_B10', 'GEOMETRIC_RMSE_MODEL_Y', 'REFLECTIVE_LINES', 'GEOMETRIC_RMSE_MODEL_X', 'THERMAL_SAMPLES', 'system:asset_size', 'DATA_SOURCE_AIR_TEMPERATURE', 'system:index', 'system:bands', 'system:band_names']\n",
            "Lost original image properties ['system:footprint', 'system:bands', 'system:band_names']\n",
            "Selected image properties retained ['system:time_start', 'system:footprint', 'LANDSAT_PRODUCT_ID', 'system:bands', 'system:band_names']\n",
            "n pixels in the reduction 3\n"
          ]
        }
      ],
      "source": [
        "# Add Earth Engine dataset\n",
        "image = ee.Image(\"USGS/SRTMGL1_003\")\n",
        "\n",
        "#  ~~~~~~~~~~~~~~~~~~~~~~~~~~~~~~~~~~~~~~~~~~~~~~~~~~~~~~~~~~~~~~~~~~~~~~~~~~~~~~~\n",
        "#  Chapter:      F5.2 Zonal Statistics\n",
        "#  Checkpoint:   F52c\n",
        "#  Authors:      Sara Winsemius and Justin Braaten\n",
        "#  ~~~~~~~~~~~~~~~~~~~~~~~~~~~~~~~~~~~~~~~~~~~~~~~~~~~~~~~~~~~~~~~~~~~~~~~~~~~~~~~\n",
        "\n",
        "# Copy properties to computed images\n",
        "\n",
        "# Define a Landsat image.\n",
        "img = ee.ImageCollection('LANDSAT/LC08/C02/T1_L2').first()\n",
        "\n",
        "# Print its properties.\n",
        "print('All image properties', img.propertyNames().getInfo())\n",
        "\n",
        "# Subset the reflectance bands and unscale them.\n",
        "computedImg = img.select('SR_B.').multiply(0.0000275).add(-0.2)\n",
        "\n",
        "# Print the unscaled image's properties.\n",
        "print('Lost original image properties', computedImg.propertyNames().getInfo())\n",
        "\n",
        "# Subset the reflectance bands and unscale them, keeping selected\n",
        "# source properties.\n",
        "computedImg = img.select('SR_B.').multiply(0.0000275).add(-0.2) \\\n",
        ".copyProperties(img, ['system:time_start', 'LANDSAT_PRODUCT_ID'])\n",
        "\n",
        "# Print the unscaled image's properties.\n",
        "print('Selected image properties retained', computedImg \\\n",
        ".propertyNames().getInfo())\n",
        "\n",
        "# Understanding which pixels are included in polygon statistics\n",
        "\n",
        "# Define polygon geometry.\n",
        "geometry = ee.Geometry.Polygon(\n",
        "[\n",
        "[\n",
        "[-118.6019835717645, 37.079867782687884],\n",
        "[-118.6019835717645, 37.07838698844939],\n",
        "[-118.60036351751951, 37.07838698844939],\n",
        "[-118.60036351751951, 37.079867782687884]\n",
        "]\n",
        "], None, False)\n",
        "\n",
        "# Import the MERIT global elevation dataset.\n",
        "elev = ee.Image('MERIT/DEM/v1_0_3')\n",
        "\n",
        "# Define desired scale and crs for region reduction (for image display too).\n",
        "proj = {\n",
        "    'scale': 90,\n",
        "    'crs': 'EPSG:5070'\n",
        "}\n",
        "\n",
        "# A count reducer will return how many pixel centers are overlapped by the\n",
        "# polygon region.\n",
        "count = elev.select(0).reduceRegion(\n",
        "reducer = ee.Reducer.count(),\n",
        "geometry = geometry,\n",
        "scale = proj['scale'],\n",
        "crs = proj['crs']\n",
        ")\n",
        "print('n pixels in the reduction', count.get('dem').getInfo())\n",
        "\n",
        "# Make a feature collection of pixel center points for those that are\n",
        "# included in the reduction.\n",
        "pixels = ee.Image.pixelLonLat().reduceRegion(\n",
        "reducer = ee.Reducer.toCollection(['lon', 'lat']),\n",
        "geometry = geometry,\n",
        "scale = proj['scale'],\n",
        "crs = proj['crs']\n",
        ")\n",
        "\n",
        "def func_wjc(f):\n",
        "    return f.setGeometry(ee.Geometry.Point([f.get('lon'), f \\\n",
        "    .get('lat')\n",
        "    ]))\n",
        "\n",
        "pixelsFc = ee.FeatureCollection(pixels.get('features')).map(\n",
        "func_wjc)\n",
        "\n",
        "\n",
        "\n",
        "\n",
        "\n",
        "# Display layers on the map.\n",
        "Map.centerObject(geometry, 18)\n",
        "Map.addLayer(\n",
        "elev.reproject(\n",
        "crs = proj['crs'],\n",
        "scale = proj['scale']\n",
        "),\n",
        "{\n",
        "    'min': 2500,\n",
        "    'max': 3000,\n",
        "    'palette': ['blue', 'white', 'red']\n",
        "}, 'Image')\n",
        "Map.addLayer(geometry, {\n",
        "    'color': 'white'\n",
        "}, 'Geometry')\n",
        "Map.addLayer(pixelsFc, {\n",
        "    'color': 'purple'\n",
        "}, 'Pixels in reduction')\n",
        "\n",
        "\n",
        "\n",
        "#  -----------------------------------------------------------------------\n",
        "#  CHECKPOINT\n",
        "#  -----------------------------------------------------------------------\n",
        "\n",
        "\n",
        "\n"
      ]
    },
    {
      "cell_type": "markdown",
      "metadata": {},
      "source": [
        "## Display the interactive map"
      ]
    },
    {
      "cell_type": "code",
      "execution_count": 5,
      "metadata": {},
      "outputs": [
        {
          "data": {
            "text/html": [
              "\n",
              "            <style>\n",
              "                .geemap-dark {\n",
              "                    --jp-widgets-color: white;\n",
              "                    --jp-widgets-label-color: white;\n",
              "                    --jp-ui-font-color1: white;\n",
              "                    --jp-layout-color2: #454545;\n",
              "                    background-color: #383838;\n",
              "                }\n",
              "                    \n",
              "                .geemap-dark .jupyter-button {\n",
              "                    --jp-layout-color3: #383838;\n",
              "                }\n",
              "                \n",
              "                .geemap-colab {\n",
              "                    background-color: var(--colab-primary-surface-color, white);\n",
              "                }\n",
              "                    \n",
              "                .geemap-colab .jupyter-button {\n",
              "                    --jp-layout-color3: var(--colab-primary-surface-color, white);\n",
              "                }\n",
              "            </style>\n",
              "            "
            ],
            "text/plain": [
              "<IPython.core.display.HTML object>"
            ]
          },
          "metadata": {},
          "output_type": "display_data"
        },
        {
          "data": {
            "application/vnd.jupyter.widget-view+json": {
              "model_id": "e36803304a7045cb84a759e88937bb3b",
              "version_major": 2,
              "version_minor": 0
            },
            "text/plain": [
              "Map(center=[37.079127385889684, -118.60117354470816], controls=(WidgetControl(options=['position', 'transparen…"
            ]
          },
          "execution_count": 5,
          "metadata": {},
          "output_type": "execute_result"
        }
      ],
      "source": [
        "Map"
      ]
    }
  ],
  "metadata": {
    "anaconda-cloud": {},
    "kernelspec": {
      "display_name": "Python 3",
      "language": "python",
      "name": "python3"
    },
    "language_info": {
      "codemirror_mode": {
        "name": "ipython",
        "version": 3
      },
      "file_extension": ".py",
      "mimetype": "text/x-python",
      "name": "python",
      "nbconvert_exporter": "python",
      "pygments_lexer": "ipython3",
      "version": "3.11.9"
    }
  },
  "nbformat": 4,
  "nbformat_minor": 4
}
