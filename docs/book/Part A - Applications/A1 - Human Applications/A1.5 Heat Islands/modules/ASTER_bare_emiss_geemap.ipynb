{
  "cells": [
    {
      "cell_type": "markdown",
      "metadata": {},
      "source": [
        "## Import libraries"
      ]
    },
    {
      "cell_type": "code",
      "metadata": {},
      "source": [
        "import ee\n",
        "import geemap"
      ],
      "outputs": [],
      "execution_count": null
    },
    {
      "cell_type": "markdown",
      "metadata": {},
      "source": [
        "## Create an interactive map"
      ]
    },
    {
      "cell_type": "code",
      "metadata": {},
      "source": [
        "Map = geemap.Map(center=[40, -100], zoom=4)"
      ],
      "outputs": [],
      "execution_count": null
    },
    {
      "cell_type": "markdown",
      "metadata": {},
      "source": [
        "## Add Earth Engine Python script"
      ]
    },
    {
      "cell_type": "code",
      "metadata": {},
      "source": [
        "# Add Earth Engine dataset\n",
        "image = ee.Image(\"USGS/SRTMGL1_003\")\n",
        "\n",
        "#\n",
        "'Author': Sofia Ermida (sofia.ermida@ipma.pt; @ermida_sofia)\n",
        "\n",
        "This code is free and open.\n",
        "By using this code and any data derived with it,\n",
        "you agree to cite the following reference\n",
        "'in any publications derived from them':\n",
        "Ermida, S.L., Soares, P., Mantas, V., G\u00f6ttsche, F.-M., Trigo, I.F., 2020.\n",
        "Google Earth Engine open-source code for Land Surface Temperature estimation from the Landsat series.\n",
        "'Remote Sensing, 12 (9), 1471; https':\n",
        "\n",
        "This function applies a vegetation cover correction to ASTER emissivity\n",
        "in order to obtain a bare ground emissivity component at each pixel\n",
        "\n",
        "'to call this function use':\n",
        "\n",
        "ASTERGED = require('users/sofiaermida/landsat_smw_lst:modules/ASTER_bare_emiss.js')\n",
        "bare_ground_emiss = ASTERGED.emiss_bare_bandXX(image)\n",
        "or\n",
        "ImageCollectionwithASTER = ImageCollection.map(ASTERGED.emiss_bare_bandXX)\n",
        "\n",
        "with XX = band number\n",
        "\n",
        "'INPUTS':\n",
        "'- image': <ee.Image>\n",
        "an image is required to clip the ASTER data\n",
        "to the image geometry; using the full ASTER image\n",
        "compromises the performance\n",
        "'OUTPUTS':\n",
        "- <ee.Image>\n",
        "bare ground emissivity of band XX\n",
        "#\n",
        "\n",
        "\n",
        "# get ASTER emissivity\n",
        "aster = ee.Image(\"NASA/ASTER_GED/AG100_003\")\n",
        "\n",
        "#get ASTER FVC from NDVI\n",
        "aster_ndvi = aster.select('ndvi').multiply(0.01)\n",
        "\n",
        "aster_fvc = aster_ndvi.expression('((ndvi-ndvi_bg)/(ndvi_vg - ndvi_bg))**2',\n",
        "{'ndvi':aster_ndvi,'ndvi_bg':0.2,'ndvi_vg':0.86})\n",
        "aster_fvc = aster_fvc.where(aster_fvc.lt(0.0),0.0)\n",
        "aster_fvc = aster_fvc.where(aster_fvc.gt(1.0),1.0)\n",
        "\n",
        "# bare ground emissivity functions for each band\n",
        "\n",
        "def func_jvf(image):\n",
        "    return image.expression('(EM - 0.99*fvc)/(1.0-fvc)',{\n",
        "            'EM':aster.select('emissivity_band10').multiply(0.001),\n",
        "        'fvc':aster_fvc}) \\\n",
        "    .clip(image.geometry())\n",
        "\n",
        "emiss_bare_band10 = func_jvf\n",
        "\n",
        "\n",
        "\n",
        "\n",
        "\n",
        "\n",
        "\n",
        "def func_rsw(image):\n",
        "    return image.expression('(EM - 0.99*fvc)/(1.0-fvc)',{\n",
        "            'EM':aster.select('emissivity_band11').multiply(0.001),\n",
        "        'fvc':aster_fvc}) \\\n",
        "    .clip(image.geometry())\n",
        "\n",
        "emiss_bare_band11 = func_rsw\n",
        "\n",
        "\n",
        "\n",
        "\n",
        "\n",
        "\n",
        "\n",
        "def func_csh(image):\n",
        "    return image.expression('(EM - 0.99*fvc)/(1.0-fvc)',{\n",
        "            'EM':aster.select('emissivity_band12').multiply(0.001),\n",
        "        'fvc':aster_fvc}) \\\n",
        "    .clip(image.geometry())\n",
        "\n",
        "emiss_bare_band12 = func_csh\n",
        "\n",
        "\n",
        "\n",
        "\n",
        "\n",
        "\n",
        "\n",
        "def func_aia(image):\n",
        "    return image.expression('(EM - 0.99*fvc)/(1.0-fvc)',{\n",
        "            'EM':aster.select('emissivity_band13').multiply(0.001),\n",
        "        'fvc':aster_fvc}) \\\n",
        "    .clip(image.geometry())\n",
        "\n",
        "emiss_bare_band13 = func_aia\n",
        "\n",
        "\n",
        "\n",
        "\n",
        "\n",
        "\n",
        "\n",
        "def func_jnd(image):\n",
        "    return image.expression('(EM - 0.99*fvc)/(1.0-fvc)',{\n",
        "            'EM':aster.select('emissivity_band14').multiply(0.001),\n",
        "        'fvc':aster_fvc}) \\\n",
        "    .clip(image.geometry())\n",
        "\n",
        "emiss_bare_band14 = func_jnd\n",
        "\n",
        "\n",
        "\n",
        "\n"
      ],
      "outputs": [],
      "execution_count": null
    },
    {
      "cell_type": "markdown",
      "metadata": {},
      "source": [
        "## Display the interactive map"
      ]
    },
    {
      "cell_type": "code",
      "metadata": {},
      "source": [
        "Map"
      ],
      "outputs": [],
      "execution_count": null
    }
  ],
  "metadata": {
    "anaconda-cloud": {},
    "kernelspec": {
      "display_name": "Python 3",
      "language": "python",
      "name": "python3"
    },
    "language_info": {
      "codemirror_mode": {
        "name": "ipython",
        "version": 3
      },
      "file_extension": ".py",
      "mimetype": "text/x-python",
      "name": "python",
      "nbconvert_exporter": "python",
      "pygments_lexer": "ipython3",
      "version": "3.6.1"
    }
  },
  "nbformat": 4,
  "nbformat_minor": 4
}