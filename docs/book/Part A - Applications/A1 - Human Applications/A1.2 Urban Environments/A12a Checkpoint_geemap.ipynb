{
  "cells": [
    {
      "cell_type": "markdown",
      "metadata": {},
      "source": [
        "## Import libraries"
      ]
    },
    {
      "cell_type": "code",
      "execution_count": 5,
      "metadata": {},
      "outputs": [
        {
          "data": {
            "text/html": [
              "\n",
              "            <style>\n",
              "                .geemap-dark {\n",
              "                    --jp-widgets-color: white;\n",
              "                    --jp-widgets-label-color: white;\n",
              "                    --jp-ui-font-color1: white;\n",
              "                    --jp-layout-color2: #454545;\n",
              "                    background-color: #383838;\n",
              "                }\n",
              "\n",
              "                .geemap-dark .jupyter-button {\n",
              "                    --jp-layout-color3: #383838;\n",
              "                }\n",
              "\n",
              "                .geemap-colab {\n",
              "                    background-color: var(--colab-primary-surface-color, white);\n",
              "                }\n",
              "\n",
              "                .geemap-colab .jupyter-button {\n",
              "                    --jp-layout-color3: var(--colab-primary-surface-color, white);\n",
              "                }\n",
              "            </style>\n",
              "            "
            ],
            "text/plain": [
              "<IPython.core.display.HTML object>"
            ]
          },
          "metadata": {},
          "output_type": "display_data"
        }
      ],
      "source": [
        "import ee\n",
        "import geemap"
      ]
    },
    {
      "cell_type": "markdown",
      "metadata": {},
      "source": [
        "## Create an interactive map"
      ]
    },
    {
      "cell_type": "code",
      "execution_count": 6,
      "metadata": {},
      "outputs": [
        {
          "data": {
            "text/html": [
              "\n",
              "            <style>\n",
              "                .geemap-dark {\n",
              "                    --jp-widgets-color: white;\n",
              "                    --jp-widgets-label-color: white;\n",
              "                    --jp-ui-font-color1: white;\n",
              "                    --jp-layout-color2: #454545;\n",
              "                    background-color: #383838;\n",
              "                }\n",
              "\n",
              "                .geemap-dark .jupyter-button {\n",
              "                    --jp-layout-color3: #383838;\n",
              "                }\n",
              "\n",
              "                .geemap-colab {\n",
              "                    background-color: var(--colab-primary-surface-color, white);\n",
              "                }\n",
              "\n",
              "                .geemap-colab .jupyter-button {\n",
              "                    --jp-layout-color3: var(--colab-primary-surface-color, white);\n",
              "                }\n",
              "            </style>\n",
              "            "
            ],
            "text/plain": [
              "<IPython.core.display.HTML object>"
            ]
          },
          "metadata": {},
          "output_type": "display_data"
        }
      ],
      "source": [
        "Map = geemap.Map(center=[40, -100], zoom=4)"
      ]
    },
    {
      "cell_type": "markdown",
      "metadata": {},
      "source": [
        "## Add Earth Engine Python script"
      ]
    },
    {
      "cell_type": "code",
      "execution_count": 8,
      "metadata": {},
      "outputs": [
        {
          "data": {
            "text/html": [
              "\n",
              "            <style>\n",
              "                .geemap-dark {\n",
              "                    --jp-widgets-color: white;\n",
              "                    --jp-widgets-label-color: white;\n",
              "                    --jp-ui-font-color1: white;\n",
              "                    --jp-layout-color2: #454545;\n",
              "                    background-color: #383838;\n",
              "                }\n",
              "\n",
              "                .geemap-dark .jupyter-button {\n",
              "                    --jp-layout-color3: #383838;\n",
              "                }\n",
              "\n",
              "                .geemap-colab {\n",
              "                    background-color: var(--colab-primary-surface-color, white);\n",
              "                }\n",
              "\n",
              "                .geemap-colab .jupyter-button {\n",
              "                    --jp-layout-color3: var(--colab-primary-surface-color, white);\n",
              "                }\n",
              "            </style>\n",
              "            "
            ],
            "text/plain": [
              "<IPython.core.display.HTML object>"
            ]
          },
          "metadata": {},
          "output_type": "display_data"
        },
        {
          "name": "stdout",
          "output_type": "stream",
          "text": [
            "Total number of images: 38\n",
            "\n",
            "Downloading 1/38: LC08_144051_20140110.jpg ...\n",
            "Downloading 2/38: LC08_144051_20140126.jpg ...\n",
            "Downloading 3/38: LC08_144051_20140211.jpg ...\n",
            "Downloading 4/38: LC08_144051_20140315.jpg ...\n",
            "Downloading 5/38: LC08_144051_20140331.jpg ...\n",
            "Downloading 6/38: LC08_144051_20140416.jpg ...\n",
            "Downloading 7/38: LC08_144051_20150113.jpg ...\n",
            "Downloading 8/38: LC08_144051_20150214.jpg ...\n",
            "Downloading 9/38: LC08_144051_20150318.jpg ...\n",
            "Downloading 10/38: LC08_144051_20150521.jpg ...\n",
            "Downloading 11/38: LC08_144051_20151231.jpg ...\n",
            "Downloading 12/38: LC08_144051_20160116.jpg ...\n",
            "Downloading 13/38: LC08_144051_20160320.jpg ...\n",
            "Downloading 14/38: LC08_144051_20160405.jpg ...\n",
            "Downloading 15/38: LC08_144051_20160523.jpg ...\n",
            "Downloading 16/38: LC08_144051_20170118.jpg ...\n",
            "Downloading 17/38: LC08_144051_20170203.jpg ...\n",
            "Downloading 18/38: LC08_144051_20170323.jpg ...\n",
            "Downloading 19/38: LC08_144051_20170408.jpg ...\n",
            "Downloading 20/38: LC08_144051_20170424.jpg ...\n",
            "Downloading 21/38: LC08_144051_20180105.jpg ...\n",
            "Downloading 22/38: LC08_144051_20180121.jpg ...\n",
            "Downloading 23/38: LC08_144051_20180206.jpg ...\n",
            "Downloading 24/38: LC08_144051_20180222.jpg ...\n",
            "Downloading 25/38: LC08_144051_20180427.jpg ...\n",
            "Downloading 26/38: LC08_144051_20190108.jpg ...\n",
            "Downloading 27/38: LC08_144051_20190124.jpg ...\n",
            "Downloading 28/38: LC08_144051_20190225.jpg ...\n",
            "Downloading 29/38: LC08_144051_20190313.jpg ...\n",
            "Downloading 30/38: LC08_144051_20190329.jpg ...\n",
            "Downloading 31/38: LC08_144051_20190414.jpg ...\n",
            "Downloading 32/38: LC08_144051_20200111.jpg ...\n",
            "Downloading 33/38: LC08_144051_20200127.jpg ...\n",
            "Downloading 34/38: LC08_144051_20200315.jpg ...\n",
            "Downloading 35/38: LC08_144051_20200331.jpg ...\n",
            "Downloading 36/38: LC08_144051_20200416.jpg ...\n",
            "Downloading 37/38: LC08_144051_20200502.jpg ...\n",
            "Downloading 38/38: LC08_144051_20201212.jpg ...\n"
          ]
        },
        {
          "data": {
            "application/vnd.jupyter.widget-view+json": {
              "model_id": "b212cc13f9144c2e9fe0a495054a8110",
              "version_major": 2,
              "version_minor": 0
            },
            "text/plain": [
              "Output()"
            ]
          },
          "metadata": {},
          "output_type": "display_data"
        }
      ],
      "source": [
        "# Add Earth Engine dataset\n",
        "image = ee.Image(\"USGS/SRTMGL1_003\")\n",
        "\n",
        "#*** Start of imports. If edited, may not auto-convert in the playground. ***#\n",
        "geometry = (\n",
        "# [\n",
        "# {\n",
        "#     \"type\": \"rectangle\"\n",
        "# }\n",
        "# ] \n",
        "ee.Geometry.Polygon(\n",
        "[[[77.65634552256087, 13.221993749480964],\n",
        "[77.65634552256087, 13.170852478759896],\n",
        "[77.75041595713118, 13.170852478759896],\n",
        "[77.75041595713118, 13.221993749480964]]], None, False))\n",
        "L8 = ee.ImageCollection(\"LANDSAT/LC08/C02/T1_L2\")\n",
        "#**** End of imports. If edited, may not auto-convert in the playground. ****#\n",
        "#  ~~~~~~~~~~~~~~~~~~~~~~~~~~~~~~~~~~~~~~~~~~~~~~~~~~~~~~~~~~~~~~~~~~~~~~~\n",
        "#  Chapter:      A1.2 Urban Environments\n",
        "#  Checkpoint:   A12a\n",
        "#  Authors:      Michelle Stuhlmacher and Ran Goldblatt\n",
        "#  ~~~~~~~~~~~~~~~~~~~~~~~~~~~~~~~~~~~~~~~~~~~~~~~~~~~~~~~~~~~~~~~~~~~~~~~\n",
        "Map.centerObject(geometry)\n",
        "\n",
        "# Filter collection.\n",
        "collection = L8 \\\n",
        ".filterBounds(geometry) \\\n",
        ".filterDate('2010-01-01', '2020-12-31') \\\n",
        ".filter(ee.Filter.lte('CLOUD_COVER_LAND', 3))\n",
        "\n",
        "# Define GIF visualization arguments.\n",
        "gifParams = {\n",
        "    'bands': ['SR_B4', 'SR_B3', 'SR_B2'],\n",
        "    'min': 0.07 * 65536,\n",
        "    'max': 0.3 * 65536,\n",
        "    'region': geometry,\n",
        "    'framesPerSecond': 15,\n",
        "    'format': 'gif'\n",
        "}\n",
        "\n",
        "# Render the GIF animation in the console.\n",
        "geemap.get_image_collection_thumbnails(ee_object=collection, vis_params=gifParams, out_dir='thumbnail')\n",
        "geemap.make_gif('thumbnail', 'landsat.gif', fps=15)\n",
        "geemap.show_image('landsat.gif')\n",
        "\n",
        "# -----------------------------------------------------------------------\n",
        "# CHECKPOINT\n",
        "# -----------------------------------------------------------------------"
      ]
    },
    {
      "cell_type": "markdown",
      "metadata": {},
      "source": [
        "## Display the interactive map"
      ]
    },
    {
      "cell_type": "code",
      "execution_count": null,
      "metadata": {},
      "outputs": [],
      "source": [
        "Map"
      ]
    }
  ],
  "metadata": {
    "anaconda-cloud": {},
    "kernelspec": {
      "display_name": "Python 3",
      "language": "python",
      "name": "python3"
    },
    "language_info": {
      "codemirror_mode": {
        "name": "ipython",
        "version": 3
      },
      "file_extension": ".py",
      "mimetype": "text/x-python",
      "name": "python",
      "nbconvert_exporter": "python",
      "pygments_lexer": "ipython3",
      "version": "3.11.9"
    }
  },
  "nbformat": 4,
  "nbformat_minor": 4
}
