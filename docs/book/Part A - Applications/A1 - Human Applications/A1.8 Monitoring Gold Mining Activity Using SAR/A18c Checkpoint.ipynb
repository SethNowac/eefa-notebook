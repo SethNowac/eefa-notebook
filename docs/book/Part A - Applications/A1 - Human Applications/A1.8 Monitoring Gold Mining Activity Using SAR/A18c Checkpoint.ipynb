{
  "cells": [
    {
      "cell_type": "markdown",
      "metadata": {},
      "source": [
        "## Import libraries"
      ]
    },
    {
      "cell_type": "code",
      "metadata": {},
      "source": [
        "import ee\n",
        "import geemap"
      ],
      "outputs": [],
      "execution_count": null
    },
    {
      "cell_type": "markdown",
      "metadata": {},
      "source": [
        "## Create an interactive map"
      ]
    },
    {
      "cell_type": "code",
      "metadata": {},
      "source": [
        "Map = geemap.Map(center=[40, -100], zoom=4)"
      ],
      "outputs": [],
      "execution_count": null
    },
    {
      "cell_type": "markdown",
      "metadata": {},
      "source": [
        "## Add Earth Engine Python script"
      ]
    },
    {
      "cell_type": "code",
      "metadata": {},
      "source": [
        "# Add Earth Engine dataset\n",
        "image = ee.Image(\"USGS/SRTMGL1_003\")\n",
        "\n",
        "#  ~~~~~~~~~~~~~~~~~~~~~~~~~~~~~~~~~~~~~~~~~~~~~~~~~~~~~~~~~~~~~~~~~~~~~~~~~~~~\n",
        "#  Chapter:      A1.8 Monitoring Gold Mining Activity using SAR\n",
        "#  Checkpoint:   A18c\n",
        "#  Authors:      Lucio Villa, Sidney Novoa, Milagros Becerra,\n",
        "#                Andr\u00e9a Puzzi Nicolau, Karen Dyson, Karis Tenneson, John Dilger\n",
        "#  ~~~~~~~~~~~~~~~~~~~~~~~~~~~~~~~~~~~~~~~~~~~~~~~~~~~~~~~~~~~~~~~~~~~~~~~~~~~~\n",
        "\n",
        "###########################\n",
        "#/ Section Two\n",
        "###########################\n",
        "\n",
        "# Define the area of study.\n",
        "aoi = ee.FeatureCollection('projects/gee-book/assets/A1-8/mdd')\n",
        "\n",
        "# Center the map at the aoi.\n",
        "Map.centerObject(aoi, 9)\n",
        "\n",
        "# Create an empty image.\n",
        "empty = ee.Image().byte()\n",
        "\n",
        "# Convert the area of study to an EE image object\n",
        "# so we can visualize only the boundary.\n",
        "aoiOutline = empty.paint({\n",
        "    'featureCollection': aoi,\n",
        "    'color': 1,\n",
        "    'width': 2\n",
        "})\n",
        "\n",
        "# Select the satellite basemap view.\n",
        "Map.setOptions('SATELLITE')\n",
        "\n",
        "# Add the area of study boundary to the map.\n",
        "Map.addLayer(aoiOutline, {\n",
        "    'palette': 'red'\n",
        "}, 'Area of Study')\n",
        "\n",
        "# Function to mask the SAR images acquired with an incidence angle\n",
        "# lower equal than 31 and greater equal than 45 degrees.\n",
        "def maskAngle(image):\n",
        "    angleMask = image.select('angle')\n",
        "    return image.updateMask(angleMask.gte(31).And(angleMask.lte(45)))\n",
        "\n",
        "\n",
        "# Function to get the SAR Collection.\n",
        "def getCollection(dates, roi, orbitPass0):\n",
        "    sarCollFloat = ee.ImageCollection('COPERNICUS/S1_GRD_FLOAT') \\\n",
        "        .filterBounds(roi) \\\n",
        "        .filterDate(dates[0], dates[1]) \\\n",
        "        .filter(ee.Filter.eq('orbitProperties_pass', orbitPass0))\n",
        "    return sarCollFloat.map(maskAngle).select(['VV', 'VH'])\n",
        "\n",
        "\n",
        "# Define variables: the period of time and the orbitpass.\n",
        "listOfDates = ['2021-01-01', '2022-01-01']\n",
        "orbitPass = 'DESCENDING'\n",
        "\n",
        "# Apply the function to get the SAR Collection.\n",
        "sarImageColl = getCollection(listOfDates, aoi, orbitPass)\n",
        "print('SAR Image Collection', sarImageColl)\n",
        "\n",
        "# -----------------------------------------------------------------------\n",
        "# CHECKPOINT\n",
        "# -----------------------------------------------------------------------\n",
        "\n",
        "# Function to get dates in 'YYYY-MM-dd' format.\n",
        "def getDates(dd):\n",
        "    return ee.Date(dd).format('YYYY-MM-dd')\n",
        "\n",
        "\n",
        "# Function to get a SAR Mosaic clipped to the study area.\n",
        "def mosaicSAR(dates1):\n",
        "    dates1 = ee.Date(dates1)\n",
        "    imageFilt = sarImageColl \\\n",
        "        .filterDate(dates1, dates1.advance(1, 'day'))\n",
        "    return imageFilt.mosaic() \\\n",
        "        .clip(aoi) \\\n",
        "        .set({\n",
        "            'system:time_start': dates1.millis(),\n",
        "            'dateYMD': dates1.format('YYYY-MM-dd')\n",
        "        })\n",
        "\n",
        "\n",
        "# Function to get a SAR Collection of mosaics by date.\n",
        "datesMosaic = ee.List(sarImageColl \\\n",
        "        .aggregate_array('system:time_start')) \\\n",
        "    .map(getDates) \\\n",
        "    .distinct()\n",
        "\n",
        "# Get a SAR List and Image Collection of mosaics by date.\n",
        "getMosaicList = datesMosaic.map(mosaicSAR)\n",
        "getMosaicColl = ee.ImageCollection(getMosaicList)\n",
        "print('get Mosaic Collection', getMosaicColl)\n",
        "\n",
        "# Visualize results.\n",
        "sarVis = {\n",
        "    'bands': ['VV', 'VH', 'VV'],\n",
        "    'min': [-18, -23, 3],\n",
        "    'max': [-4, -11, 15]\n",
        "}\n",
        "\n",
        "image1 = getMosaicColl \\\n",
        "    .filter(ee.Filter.eq('dateYMD', '2021-01-04')) \\\n",
        "    .first().log10().multiply(10.0)\n",
        "image2 = getMosaicColl \\\n",
        "    .filter(ee.Filter.eq('dateYMD', '2021-12-18')) \\\n",
        "    .first().log10().multiply(10.0)\n",
        "\n",
        "Map.addLayer(image1, sarVis, 'Sentinel-1 | 2021-01-04')\n",
        "Map.addLayer(image2, sarVis, 'Sentinel-1 | 2021-12-18')\n",
        "\n",
        "# -----------------------------------------------------------------------\n",
        "# CHECKPOINT\n",
        "# -----------------------------------------------------------------------"
      ],
      "outputs": [],
      "execution_count": null
    },
    {
      "cell_type": "markdown",
      "metadata": {},
      "source": [
        "## Display the interactive map"
      ]
    },
    {
      "cell_type": "code",
      "metadata": {},
      "source": [
        "Map"
      ],
      "outputs": [],
      "execution_count": null
    }
  ],
  "metadata": {
    "anaconda-cloud": {},
    "kernelspec": {
      "display_name": "Python 3",
      "language": "python",
      "name": "python3"
    },
    "language_info": {
      "codemirror_mode": {
        "name": "ipython",
        "version": 3
      },
      "file_extension": ".py",
      "mimetype": "text/x-python",
      "name": "python",
      "nbconvert_exporter": "python",
      "pygments_lexer": "ipython3",
      "version": "3.6.1"
    }
  },
  "nbformat": 4,
  "nbformat_minor": 4
}