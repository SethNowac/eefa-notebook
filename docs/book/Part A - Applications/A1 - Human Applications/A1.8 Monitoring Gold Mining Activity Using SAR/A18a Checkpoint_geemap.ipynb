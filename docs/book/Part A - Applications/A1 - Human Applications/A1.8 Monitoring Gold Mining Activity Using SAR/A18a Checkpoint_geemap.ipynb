{
  "cells": [
    {
      "cell_type": "markdown",
      "metadata": {},
      "source": [
        "## Import libraries"
      ]
    },
    {
      "cell_type": "code",
      "execution_count": 1,
      "metadata": {},
      "outputs": [],
      "source": [
        "import ee\n",
        "import geemap"
      ]
    },
    {
      "cell_type": "markdown",
      "metadata": {},
      "source": [
        "## Create an interactive map"
      ]
    },
    {
      "cell_type": "code",
      "execution_count": 2,
      "metadata": {},
      "outputs": [
        {
          "data": {
            "text/html": [
              "\n",
              "            <style>\n",
              "                .geemap-dark {\n",
              "                    --jp-widgets-color: white;\n",
              "                    --jp-widgets-label-color: white;\n",
              "                    --jp-ui-font-color1: white;\n",
              "                    --jp-layout-color2: #454545;\n",
              "                    background-color: #383838;\n",
              "                }\n",
              "                    \n",
              "                .geemap-dark .jupyter-button {\n",
              "                    --jp-layout-color3: #383838;\n",
              "                }\n",
              "                \n",
              "                .geemap-colab {\n",
              "                    background-color: var(--colab-primary-surface-color, white);\n",
              "                }\n",
              "                    \n",
              "                .geemap-colab .jupyter-button {\n",
              "                    --jp-layout-color3: var(--colab-primary-surface-color, white);\n",
              "                }\n",
              "            </style>\n",
              "            "
            ],
            "text/plain": [
              "<IPython.core.display.HTML object>"
            ]
          },
          "metadata": {},
          "output_type": "display_data"
        }
      ],
      "source": [
        "Map = geemap.Map(center=[40, -100], zoom=4)"
      ]
    },
    {
      "cell_type": "markdown",
      "metadata": {},
      "source": [
        "## Add Earth Engine Python script"
      ]
    },
    {
      "cell_type": "code",
      "execution_count": 3,
      "metadata": {},
      "outputs": [
        {
          "data": {
            "text/html": [
              "\n",
              "            <style>\n",
              "                .geemap-dark {\n",
              "                    --jp-widgets-color: white;\n",
              "                    --jp-widgets-label-color: white;\n",
              "                    --jp-ui-font-color1: white;\n",
              "                    --jp-layout-color2: #454545;\n",
              "                    background-color: #383838;\n",
              "                }\n",
              "                    \n",
              "                .geemap-dark .jupyter-button {\n",
              "                    --jp-layout-color3: #383838;\n",
              "                }\n",
              "                \n",
              "                .geemap-colab {\n",
              "                    background-color: var(--colab-primary-surface-color, white);\n",
              "                }\n",
              "                    \n",
              "                .geemap-colab .jupyter-button {\n",
              "                    --jp-layout-color3: var(--colab-primary-surface-color, white);\n",
              "                }\n",
              "            </style>\n",
              "            "
            ],
            "text/plain": [
              "<IPython.core.display.HTML object>"
            ]
          },
          "metadata": {},
          "output_type": "display_data"
        },
        {
          "name": "stdout",
          "output_type": "stream",
          "text": [
            "SAR Image Mosaic {'type': 'Image', 'bands': [{'id': 'VV', 'data_type': {'type': 'PixelType', 'precision': 'float'}, 'crs': 'EPSG:4326', 'crs_transform': [1, 0, 0, 0, 1, 0]}, {'id': 'VH', 'data_type': {'type': 'PixelType', 'precision': 'float'}, 'crs': 'EPSG:4326', 'crs_transform': [1, 0, 0, 0, 1, 0]}]}\n"
          ]
        }
      ],
      "source": [
        "# Add Earth Engine dataset\n",
        "image = ee.Image(\"USGS/SRTMGL1_003\")\n",
        "\n",
        "#  ~~~~~~~~~~~~~~~~~~~~~~~~~~~~~~~~~~~~~~~~~~~~~~~~~~~~~~~~~~~~~~~~~~~~~~~~~~~~\n",
        "#  Chapter:      A1.8 Monitoring Gold Mining Activity using SAR\n",
        "#  Checkpoint:   A18a\n",
        "#  Authors:      Lucio Villa, Sidney Novoa, Milagros Becerra,\n",
        "#                Andréa Puzzi Nicolau, Karen Dyson, Karis Tenneson, John Dilger\n",
        "#  ~~~~~~~~~~~~~~~~~~~~~~~~~~~~~~~~~~~~~~~~~~~~~~~~~~~~~~~~~~~~~~~~~~~~~~~~~~~~\n",
        "\n",
        "###########################\n",
        "#/ Section One\n",
        "###########################\n",
        "\n",
        "# Define the area of study.\n",
        "aoi = ee.FeatureCollection('projects/gee-book/assets/A1-8/mdd')\n",
        "\n",
        "# Center the map at the aoi.\n",
        "Map.centerObject(aoi, 9)\n",
        "\n",
        "# Create an empty image.\n",
        "empty = ee.Image().byte()\n",
        "\n",
        "# Convert the area of study to an EE image object\n",
        "# so we can visualize only the boundary.\n",
        "aoiOutline = empty.paint(\n",
        "featureCollection = aoi,\n",
        "color = 1,\n",
        "width = 2\n",
        ")\n",
        "\n",
        "# Select the satellite basemap view.\n",
        "Map.setOptions('SATELLITE')\n",
        "\n",
        "# Add the area of study boundary to the map.\n",
        "Map.addLayer(aoiOutline, {\n",
        "    'palette': 'red'\n",
        "}, 'Area of Study')\n",
        "\n",
        "# Function to mask the SAR images acquired with an incidence angle\n",
        "# lower or equal to  31 and greater or equal to 45 degrees.\n",
        "def maskAngle(image):\n",
        "    angleMask = image.select('angle')\n",
        "    return image.updateMask(angleMask.gte(31).And(angleMask.lte(45)))\n",
        "\n",
        "\n",
        "# Function to get the SAR Collection.\n",
        "def getCollection(dates, roi, orbitPass0):\n",
        "    sarCollFloat = ee.ImageCollection('COPERNICUS/S1_GRD_FLOAT') \\\n",
        "    .filterBounds(roi) \\\n",
        "    .filterDate(dates[0], dates[1]) \\\n",
        "    .filter(ee.Filter.eq('orbitProperties_pass', orbitPass0))\n",
        "    return sarCollFloat.map(maskAngle).select(['VV', 'VH'])\n",
        "\n",
        "\n",
        "# Define variables: the period of time and the orbitpass.\n",
        "listOfDates = ['2021-08-01', '2021-08-12']\n",
        "orbitPass = 'DESCENDING'\n",
        "\n",
        "# Apply the function to get the SAR mosaic.\n",
        "sarImageColl = getCollection(listOfDates, aoi, orbitPass) \\\n",
        ".mosaic() \\\n",
        ".clip(aoi)\n",
        "print('SAR Image Mosaic', sarImageColl.getInfo())\n",
        "\n",
        "# Apply logarithmic scale.\n",
        "sarImageScaled = sarImageColl.log10().multiply(10.0)\n",
        "\n",
        "# Visualize results.\n",
        "sarVis = {\n",
        "    'bands': ['VV', 'VH', 'VV'],\n",
        "    'min': [-18, -23, 3],\n",
        "    'max': [-4, -11, 15]\n",
        "}\n",
        "Map.addLayer(sarImageScaled, sarVis, 'Sentinel-1 / SAR Mosaic')\n",
        "\n",
        "# -----------------------------------------------------------------------\n",
        "# CHECKPOINT\n",
        "# -----------------------------------------------------------------------"
      ]
    },
    {
      "cell_type": "markdown",
      "metadata": {},
      "source": [
        "## Display the interactive map"
      ]
    },
    {
      "cell_type": "code",
      "execution_count": 4,
      "metadata": {},
      "outputs": [
        {
          "data": {
            "text/html": [
              "\n",
              "            <style>\n",
              "                .geemap-dark {\n",
              "                    --jp-widgets-color: white;\n",
              "                    --jp-widgets-label-color: white;\n",
              "                    --jp-ui-font-color1: white;\n",
              "                    --jp-layout-color2: #454545;\n",
              "                    background-color: #383838;\n",
              "                }\n",
              "                    \n",
              "                .geemap-dark .jupyter-button {\n",
              "                    --jp-layout-color3: #383838;\n",
              "                }\n",
              "                \n",
              "                .geemap-colab {\n",
              "                    background-color: var(--colab-primary-surface-color, white);\n",
              "                }\n",
              "                    \n",
              "                .geemap-colab .jupyter-button {\n",
              "                    --jp-layout-color3: var(--colab-primary-surface-color, white);\n",
              "                }\n",
              "            </style>\n",
              "            "
            ],
            "text/plain": [
              "<IPython.core.display.HTML object>"
            ]
          },
          "metadata": {},
          "output_type": "display_data"
        },
        {
          "data": {
            "application/vnd.jupyter.widget-view+json": {
              "model_id": "56f8a13aa050482fb2f409e0d09abf6f",
              "version_major": 2,
              "version_minor": 0
            },
            "text/plain": [
              "Map(center=[-12.837338752919175, -70.2031617173126], controls=(WidgetControl(options=['position', 'transparent…"
            ]
          },
          "execution_count": 4,
          "metadata": {},
          "output_type": "execute_result"
        }
      ],
      "source": [
        "Map"
      ]
    }
  ],
  "metadata": {
    "anaconda-cloud": {},
    "kernelspec": {
      "display_name": "Python 3",
      "language": "python",
      "name": "python3"
    },
    "language_info": {
      "codemirror_mode": {
        "name": "ipython",
        "version": 3
      },
      "file_extension": ".py",
      "mimetype": "text/x-python",
      "name": "python",
      "nbconvert_exporter": "python",
      "pygments_lexer": "ipython3",
      "version": "3.11.9"
    }
  },
  "nbformat": 4,
  "nbformat_minor": 4
}
