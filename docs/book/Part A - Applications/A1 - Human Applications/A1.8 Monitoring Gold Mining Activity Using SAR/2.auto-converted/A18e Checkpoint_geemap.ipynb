{
  "cells": [
    {
      "cell_type": "markdown",
      "metadata": {},
      "source": [
        "## Import libraries"
      ]
    },
    {
      "cell_type": "code",
      "execution_count": 1,
      "metadata": {},
      "outputs": [],
      "source": [
        "import ee\n",
        "import geemap"
      ]
    },
    {
      "cell_type": "markdown",
      "metadata": {},
      "source": [
        "## Create an interactive map"
      ]
    },
    {
      "cell_type": "code",
      "execution_count": 2,
      "metadata": {},
      "outputs": [
        {
          "data": {
            "text/html": [
              "\n",
              "            <style>\n",
              "                .geemap-dark {\n",
              "                    --jp-widgets-color: white;\n",
              "                    --jp-widgets-label-color: white;\n",
              "                    --jp-ui-font-color1: white;\n",
              "                    --jp-layout-color2: #454545;\n",
              "                    background-color: #383838;\n",
              "                }\n",
              "                    \n",
              "                .geemap-dark .jupyter-button {\n",
              "                    --jp-layout-color3: #383838;\n",
              "                }\n",
              "                \n",
              "                .geemap-colab {\n",
              "                    background-color: var(--colab-primary-surface-color, white);\n",
              "                }\n",
              "                    \n",
              "                .geemap-colab .jupyter-button {\n",
              "                    --jp-layout-color3: var(--colab-primary-surface-color, white);\n",
              "                }\n",
              "            </style>\n",
              "            "
            ],
            "text/plain": [
              "<IPython.core.display.HTML object>"
            ]
          },
          "metadata": {},
          "output_type": "display_data"
        }
      ],
      "source": [
        "Map = geemap.Map(center=[40, -100], zoom=4)"
      ]
    },
    {
      "cell_type": "markdown",
      "metadata": {},
      "source": [
        "## Add Earth Engine Python script"
      ]
    },
    {
      "cell_type": "code",
      "execution_count": 4,
      "metadata": {},
      "outputs": [
        {
          "data": {
            "text/html": [
              "\n",
              "            <style>\n",
              "                .geemap-dark {\n",
              "                    --jp-widgets-color: white;\n",
              "                    --jp-widgets-label-color: white;\n",
              "                    --jp-ui-font-color1: white;\n",
              "                    --jp-layout-color2: #454545;\n",
              "                    background-color: #383838;\n",
              "                }\n",
              "                    \n",
              "                .geemap-dark .jupyter-button {\n",
              "                    --jp-layout-color3: #383838;\n",
              "                }\n",
              "                \n",
              "                .geemap-colab {\n",
              "                    background-color: var(--colab-primary-surface-color, white);\n",
              "                }\n",
              "                    \n",
              "                .geemap-colab .jupyter-button {\n",
              "                    --jp-layout-color3: var(--colab-primary-surface-color, white);\n",
              "                }\n",
              "            </style>\n",
              "            "
            ],
            "text/plain": [
              "<IPython.core.display.HTML object>"
            ]
          },
          "metadata": {},
          "output_type": "display_data"
        }
      ],
      "source": [
        "# Add Earth Engine dataset\n",
        "image = ee.Image(\"USGS/SRTMGL1_003\")\n",
        "\n",
        "#  ~~~~~~~~~~~~~~~~~~~~~~~~~~~~~~~~~~~~~~~~~~~~~~~~~~~~~~~~~~~~~~~~~~~~~~~~~~~~\n",
        "#  Chapter:      A1.6 Monitoring Gold Mining Activity using SAR\n",
        "#  Checkpoint:   A16e\n",
        "#  Authors:      Lucio Villa, Sidney Novoa, Milagros Becerra,\n",
        "#                Andréa Puzzi Nicolau, Karen Dyson, Karis Tenneson, John Dilger\n",
        "#  ~~~~~~~~~~~~~~~~~~~~~~~~~~~~~~~~~~~~~~~~~~~~~~~~~~~~~~~~~~~~~~~~~~~~~~~~~~~~\n",
        "\n",
        "###########################\n",
        "#/ Section Four\n",
        "###########################\n",
        "\n",
        "# Define the area of study.\n",
        "aoi = ee.FeatureCollection('projects/gee-book/assets/A1-8/mdd')\n",
        "\n",
        "# Center the map.\n",
        "Map.centerObject(aoi, 10)\n",
        "\n",
        "# Create an empty image.\n",
        "empty = ee.Image().byte()\n",
        "\n",
        "# Convert the area of study to an EE image object so we can visualize\n",
        "# only the boundary.\n",
        "aoiOutline = empty.paint(\n",
        "featureCollection = aoi,\n",
        "color = 1,\n",
        "width = 2\n",
        ")\n",
        "\n",
        "# Select the satellite basemap view.\n",
        "Map.setOptions('SATELLITE')\n",
        "\n",
        "# Add the area of study boundary to the map.\n",
        "Map.addLayer(aoiOutline, {\n",
        "    'palette': 'red'\n",
        "}, 'Area of Study')\n",
        "\n",
        "# Import the smap result from section 3.\n",
        "changeDetect = ee.Image('projects/gee-book/assets/A1-8/smap')\n",
        "\n",
        "# Visualization parameters.\n",
        "countDates = 30\n",
        "jet = ['black', 'blue', 'cyan', 'yellow', 'red']\n",
        "vis = {\n",
        "    'min': 0,\n",
        "    'max': countDates,\n",
        "    'palette': jet\n",
        "}\n",
        "\n",
        "# Add results to the map.\n",
        "Map.addLayer(changeDetect, vis, 'Change Map Unfiltered')\n",
        "\n",
        "# Digital Elevation Model SRTM.\n",
        "# https:#developers.google.com/earth-engine/datasets/catalog/USGS_SRTMGL1_003\n",
        "srtm = ee.Image('USGS/SRTMGL1_003').clip(aoi)\n",
        "slope = ee.Terrain.slope(srtm)\n",
        "srtmVis = {\n",
        "    'min': 0,\n",
        "    'max': 1000,\n",
        "    'palette': ['black', 'blue', 'cyan', 'yellow', 'red']\n",
        "}\n",
        "Map.addLayer(srtm, srtmVis, 'SRTM Elevation')\n",
        "slopeVis = {\n",
        "    'min': 0,\n",
        "    'max': 15,\n",
        "    'palette': ['black', 'blue', 'cyan', 'yellow', 'red']\n",
        "}\n",
        "Map.addLayer(slope, slopeVis, 'SRTM Slope')\n",
        "\n",
        "# Hansen Global Forest Change v1.8 (2000-2020)\n",
        "# https:#developers.google.com/earth-engine/datasets/catalog/UMD_hansen_global_forest_change_2020_v1_8\n",
        "gfc = ee.Image('UMD/hansen/global_forest_change_2020_v1_8').clip(\n",
        "aoi)\n",
        "forest2020 = gfc.select('treecover2000') \\\n",
        ".gt(0) \\\n",
        ".updateMask(gfc.select('loss') \\\n",
        ".neq(1)) \\\n",
        ".selfMask()\n",
        "Map.addLayer(forest2020,\n",
        "{\n",
        "    'min': 0,\n",
        "    'max': 1,\n",
        "    'palette': ['black', 'green']\n",
        "},\n",
        "'Forest cover 2020')\n",
        "\n",
        "# JRC Yearly Water Classification History, v1.3 (Updated until Dec 2020).\n",
        "# https:#developers.google.com/earth-engine/datasets/catalog/JRC_GSW1_3_GlobalSurfaceWater\n",
        "waterJRC = ee.Image('JRC/GSW1_3/GlobalSurfaceWater').select(\n",
        "'max_extent')\n",
        "waterVis = {\n",
        "    'min': 0,\n",
        "    'max': 1,\n",
        "    'palette': ['blue', 'black']\n",
        "}\n",
        "Map.addLayer(waterJRC.eq(0), waterVis, 'Water Bodies until 2020')\n",
        "\n",
        "# Apply filters through masks.\n",
        "alertsFiltered = changeDetect \\\n",
        ".updateMask(srtm.lt(1000)) \\\n",
        ".updateMask(slope.lt(15)) \\\n",
        ".updateMask(forest2020.eq(1)) \\\n",
        ".updateMask(waterJRC.eq(0)) \\\n",
        ".selfMask()\n",
        "\n",
        "# Add filtered results to the map.\n",
        "Map.addLayer(alertsFiltered,\n",
        "{\n",
        "    'min': 0,\n",
        "    'max': countDates,\n",
        "    'palette': jet\n",
        "},\n",
        "'Change Map Filtered',\n",
        "1)\n",
        "\n",
        "# Function to filter small patches and isolated pixels.\n",
        "def filterMinPatchs(alerts0, minArea0, maxSize0):\n",
        "    pixelCount = alerts0.gt(0).connectedPixelCount(maxSize0)\n",
        "    minPixelCount = ee.Image(minArea0).divide(ee.Image \\\n",
        "    .pixelArea())\n",
        "    return alerts0.updateMask(pixelCount.gte(minPixelCount))\n",
        "\n",
        "\n",
        "# Apply the function and visualize the filtered results.\n",
        "alertsFiltMinPatchs = filterMinPatchs(alertsFiltered, 10000, 200)\n",
        "\n",
        "Map.addLayer(alertsFiltMinPatchs, vis,\n",
        "'Alerts Filtered - Minimum Patches')\n",
        "\n",
        "# Export filtered results to the Drive.\n",
        "geemap.ee_export_image_to_drive(\n",
        "image = alertsFiltMinPatchs,\n",
        "description = 'alertsFiltered',\n",
        "folder = 'alertsFiltered',\n",
        "region = aoi,\n",
        "scale = 10\n",
        ")\n",
        "\n",
        "# -----------------------------------------------------------------------\n",
        "# CHECKPOINT\n",
        "# -----------------------------------------------------------------------"
      ]
    },
    {
      "cell_type": "markdown",
      "metadata": {},
      "source": [
        "## Display the interactive map"
      ]
    },
    {
      "cell_type": "code",
      "execution_count": 5,
      "metadata": {},
      "outputs": [
        {
          "data": {
            "text/html": [
              "\n",
              "            <style>\n",
              "                .geemap-dark {\n",
              "                    --jp-widgets-color: white;\n",
              "                    --jp-widgets-label-color: white;\n",
              "                    --jp-ui-font-color1: white;\n",
              "                    --jp-layout-color2: #454545;\n",
              "                    background-color: #383838;\n",
              "                }\n",
              "                    \n",
              "                .geemap-dark .jupyter-button {\n",
              "                    --jp-layout-color3: #383838;\n",
              "                }\n",
              "                \n",
              "                .geemap-colab {\n",
              "                    background-color: var(--colab-primary-surface-color, white);\n",
              "                }\n",
              "                    \n",
              "                .geemap-colab .jupyter-button {\n",
              "                    --jp-layout-color3: var(--colab-primary-surface-color, white);\n",
              "                }\n",
              "            </style>\n",
              "            "
            ],
            "text/plain": [
              "<IPython.core.display.HTML object>"
            ]
          },
          "metadata": {},
          "output_type": "display_data"
        },
        {
          "data": {
            "application/vnd.jupyter.widget-view+json": {
              "model_id": "a2f414f0efe941a6a79a812895ce7533",
              "version_major": 2,
              "version_minor": 0
            },
            "text/plain": [
              "Map(center=[-12.837338752919175, -70.2031617173126], controls=(WidgetControl(options=['position', 'transparent…"
            ]
          },
          "execution_count": 5,
          "metadata": {},
          "output_type": "execute_result"
        }
      ],
      "source": [
        "Map"
      ]
    }
  ],
  "metadata": {
    "anaconda-cloud": {},
    "kernelspec": {
      "display_name": "Python 3",
      "language": "python",
      "name": "python3"
    },
    "language_info": {
      "codemirror_mode": {
        "name": "ipython",
        "version": 3
      },
      "file_extension": ".py",
      "mimetype": "text/x-python",
      "name": "python",
      "nbconvert_exporter": "python",
      "pygments_lexer": "ipython3",
      "version": "3.11.9"
    }
  },
  "nbformat": 4,
  "nbformat_minor": 4
}
