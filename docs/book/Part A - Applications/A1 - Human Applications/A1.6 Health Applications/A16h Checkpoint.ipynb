{
  "cells": [
    {
      "cell_type": "markdown",
      "metadata": {},
      "source": [
        "## Import libraries"
      ]
    },
    {
      "cell_type": "code",
      "metadata": {},
      "source": [
        "import ee\n",
        "import geemap"
      ],
      "outputs": [],
      "execution_count": null
    },
    {
      "cell_type": "markdown",
      "metadata": {},
      "source": [
        "## Create an interactive map"
      ]
    },
    {
      "cell_type": "code",
      "metadata": {},
      "source": [
        "Map = geemap.Map(center=[40, -100], zoom=4)"
      ],
      "outputs": [],
      "execution_count": null
    },
    {
      "cell_type": "markdown",
      "metadata": {},
      "source": [
        "## Add Earth Engine Python script"
      ]
    },
    {
      "cell_type": "code",
      "metadata": {},
      "source": [
        "# Add Earth Engine dataset\n",
        "image = ee.Image(\"USGS/SRTMGL1_003\")\n",
        "\n",
        "#  ~~~~~~~~~~~~~~~~~~~~~~~~~~~~~~~~~~~~~~~~~~~~~~~~~~~~~~~~~~~~~~~~~~~~~~~\n",
        "#  Chapter:      A1.6 Health Applications\n",
        "#  Checkpoint:   A16h\n",
        "#  Author:       Dawn Nekorchuk\n",
        "#  ~~~~~~~~~~~~~~~~~~~~~~~~~~~~~~~~~~~~~~~~~~~~~~~~~~~~~~~~~~~~~~~~~~~~~~~\n",
        "\n",
        "# Section 8: Viewing external analyses results\n",
        "\n",
        "# This is using *synthetic* malaria data.\n",
        "# For demonstration only, not to be used for epidemiological purposes.\n",
        "epidemiaResults = ee.FeatureCollection(\n",
        "    'projects/gee-book/assets/A1-6/amhara_pilot_synthetic_2018W32'\n",
        ")\n",
        "# Filter to only keep pilot woredas with forecasted values.\n",
        "pilot = epidemiaResults \\\n",
        "    .filter(ee.Filter.neq('inc_n_fc', None))\n",
        "nonpilot = epidemiaResults \\\n",
        "    .filter(ee.Filter.eq('inc_n_fc', None))\n",
        "\n",
        "Map.setCenter(38, 11.5, 7)\n",
        "\n",
        "# Paint the pilot woredas with different colors for forecasted* incidence\n",
        "# fc_n_inc here is the forecasted incidence (cut into factors)\n",
        "# made on (historical) 2018W24 (i.e. 8 weeks in advance).\n",
        "# * based on synthetic data for demonstration only.\n",
        "# Incidence per 1000\n",
        "# 1 : [0 - 0.25)\n",
        "# 2 : [0.25 - 0.5)\n",
        "# 3 : [0.5 - 0.75)\n",
        "# 4 : [0.75 - 1)\n",
        "# 5 : > 1\n",
        "\n",
        "empty = ee.Image().byte()\n",
        "fill_fc = empty.paint({\n",
        "    'featureCollection': pilot,\n",
        "    'color': 'inc_n_fc',\n",
        "})\n",
        "palette = ['fee5d9', 'fcae91', 'fb6a4a', 'de2d26', 'a50f15']\n",
        "Map.addLayer(\n",
        "    fill_fc, {\n",
        "        'palette': palette,\n",
        "        'min': 1,\n",
        "        'max': 5\n",
        "    },\n",
        "    'Forecasted Incidence'\n",
        ")\n",
        "\n",
        "# Paint the woredas with different colors for the observed* incidence.\n",
        "# * based on synthetic data for demonstration only\n",
        "fill_obs = empty.paint({\n",
        "    'featureCollection': pilot,\n",
        "    'color': 'inc_n_obs',\n",
        "})\n",
        "palette = ['fee5d9', 'fcae91', 'fb6a4a', 'de2d26', 'a50f15']\n",
        "# Layer is off by default, users change between the two in the map viewer.\n",
        "Map.addLayer(\n",
        "    fill_obs, {\n",
        "        'palette': palette,\n",
        "        'min': 1,\n",
        "        'max': 5\n",
        "    },\n",
        "    'Observed Incidence',\n",
        "    False\n",
        ")\n",
        "\n",
        "# Add gray fill for nonpilot woredas (not included in study).\n",
        "fill_na = empty.paint({\n",
        "    'featureCollection': nonpilot\n",
        "})\n",
        "Map.addLayer(\n",
        "    fill_na, {\n",
        "        'palette': 'a1a9a8'\n",
        "    },\n",
        "    'Non-study woredas'\n",
        ")\n",
        "\n",
        "# Draw borders for ALL Amhara region woredas.\n",
        "outline = empty.paint({\n",
        "    'featureCollection': epidemiaResults,\n",
        "    'color': 1,\n",
        "    'width': 1\n",
        "})\n",
        "# Add woreda boundaries to map.\n",
        "Map.addLayer(\n",
        "    outline, {\n",
        "        'palette': '000000'\n",
        "    },\n",
        "    'Woredas'\n",
        ")\n",
        "\n",
        "#  -----------------------------------------------------------------------\n",
        "#  CHECKPOINT\n",
        "#  -----------------------------------------------------------------------"
      ],
      "outputs": [],
      "execution_count": null
    },
    {
      "cell_type": "markdown",
      "metadata": {},
      "source": [
        "## Display the interactive map"
      ]
    },
    {
      "cell_type": "code",
      "metadata": {},
      "source": [
        "Map"
      ],
      "outputs": [],
      "execution_count": null
    }
  ],
  "metadata": {
    "anaconda-cloud": {},
    "kernelspec": {
      "display_name": "Python 3",
      "language": "python",
      "name": "python3"
    },
    "language_info": {
      "codemirror_mode": {
        "name": "ipython",
        "version": 3
      },
      "file_extension": ".py",
      "mimetype": "text/x-python",
      "name": "python",
      "nbconvert_exporter": "python",
      "pygments_lexer": "ipython3",
      "version": "3.6.1"
    }
  },
  "nbformat": 4,
  "nbformat_minor": 4
}