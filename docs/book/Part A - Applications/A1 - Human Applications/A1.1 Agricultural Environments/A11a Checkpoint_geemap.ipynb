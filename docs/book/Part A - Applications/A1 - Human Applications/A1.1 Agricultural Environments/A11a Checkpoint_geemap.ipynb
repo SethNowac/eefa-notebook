{
  "cells": [
    {
      "cell_type": "markdown",
      "metadata": {},
      "source": [
        "## Import libraries"
      ]
    },
    {
      "cell_type": "code",
      "execution_count": 1,
      "metadata": {},
      "outputs": [],
      "source": [
        "import ee\n",
        "import geemap"
      ]
    },
    {
      "cell_type": "markdown",
      "metadata": {},
      "source": [
        "## Create an interactive map"
      ]
    },
    {
      "cell_type": "code",
      "execution_count": 2,
      "metadata": {},
      "outputs": [
        {
          "data": {
            "text/html": [
              "\n",
              "            <style>\n",
              "                .geemap-dark {\n",
              "                    --jp-widgets-color: white;\n",
              "                    --jp-widgets-label-color: white;\n",
              "                    --jp-ui-font-color1: white;\n",
              "                    --jp-layout-color2: #454545;\n",
              "                    background-color: #383838;\n",
              "                }\n",
              "                    \n",
              "                .geemap-dark .jupyter-button {\n",
              "                    --jp-layout-color3: #383838;\n",
              "                }\n",
              "                \n",
              "                .geemap-colab {\n",
              "                    background-color: var(--colab-primary-surface-color, white);\n",
              "                }\n",
              "                    \n",
              "                .geemap-colab .jupyter-button {\n",
              "                    --jp-layout-color3: var(--colab-primary-surface-color, white);\n",
              "                }\n",
              "            </style>\n",
              "            "
            ],
            "text/plain": [
              "<IPython.core.display.HTML object>"
            ]
          },
          "metadata": {},
          "output_type": "display_data"
        },
        {
          "data": {
            "text/html": [
              "<p>To authorize access needed by Earth Engine, open the following\n",
              "        URL in a web browser and follow the instructions:</p>\n",
              "        <p><a href=https://code.earthengine.google.com/client-auth?scopes=https%3A//www.googleapis.com/auth/earthengine%20https%3A//www.googleapis.com/auth/cloud-platform%20https%3A//www.googleapis.com/auth/devstorage.full_control&request_id=qdzfDvOadqFQT80gCMXgIPQNTWJYin5hNo06W3W7m0M&tc=GKUfT0rThYuWEeXohRRYtRDRnCz_NYZ6LAn_3cK7mbY&cc=ZDcUvw1da21HEyTTOdGl7ohQ7orAHNAOEc-e3axW_5U>https://code.earthengine.google.com/client-auth?scopes=https%3A//www.googleapis.com/auth/earthengine%20https%3A//www.googleapis.com/auth/cloud-platform%20https%3A//www.googleapis.com/auth/devstorage.full_control&request_id=qdzfDvOadqFQT80gCMXgIPQNTWJYin5hNo06W3W7m0M&tc=GKUfT0rThYuWEeXohRRYtRDRnCz_NYZ6LAn_3cK7mbY&cc=ZDcUvw1da21HEyTTOdGl7ohQ7orAHNAOEc-e3axW_5U</a></p>\n",
              "        <p>The authorization workflow will generate a code, which you should paste in the box below.</p>\n",
              "        "
            ],
            "text/plain": [
              "<IPython.core.display.HTML object>"
            ]
          },
          "metadata": {},
          "output_type": "display_data"
        },
        {
          "name": "stdout",
          "output_type": "stream",
          "text": [
            "\n",
            "Successfully saved authorization token.\n"
          ]
        }
      ],
      "source": [
        "Map = geemap.Map(center=[40, -100], zoom=4)"
      ]
    },
    {
      "cell_type": "markdown",
      "metadata": {},
      "source": [
        "## Add Earth Engine Python script"
      ]
    },
    {
      "cell_type": "code",
      "execution_count": 3,
      "metadata": {},
      "outputs": [
        {
          "data": {
            "text/html": [
              "\n",
              "            <style>\n",
              "                .geemap-dark {\n",
              "                    --jp-widgets-color: white;\n",
              "                    --jp-widgets-label-color: white;\n",
              "                    --jp-ui-font-color1: white;\n",
              "                    --jp-layout-color2: #454545;\n",
              "                    background-color: #383838;\n",
              "                }\n",
              "                    \n",
              "                .geemap-dark .jupyter-button {\n",
              "                    --jp-layout-color3: #383838;\n",
              "                }\n",
              "                \n",
              "                .geemap-colab {\n",
              "                    background-color: var(--colab-primary-surface-color, white);\n",
              "                }\n",
              "                    \n",
              "                .geemap-colab .jupyter-button {\n",
              "                    --jp-layout-color3: var(--colab-primary-surface-color, white);\n",
              "                }\n",
              "            </style>\n",
              "            "
            ],
            "text/plain": [
              "<IPython.core.display.HTML object>"
            ]
          },
          "metadata": {},
          "output_type": "display_data"
        },
        {
          "ename": "NameError",
          "evalue": "name 'ui' is not defined",
          "output_type": "error",
          "traceback": [
            "\u001b[1;31m---------------------------------------------------------------------------\u001b[0m",
            "\u001b[1;31mNameError\u001b[0m                                 Traceback (most recent call last)",
            "Cell \u001b[1;32mIn[3], line 125\u001b[0m\n\u001b[0;32m    121\u001b[0m \u001b[38;5;66;03m# Visualize GCVI time series at one location.\u001b[39;00m\n\u001b[0;32m    122\u001b[0m point \u001b[38;5;241m=\u001b[39m ee\u001b[38;5;241m.\u001b[39mGeometry\u001b[38;5;241m.\u001b[39mPoint([\u001b[38;5;241m-\u001b[39m\u001b[38;5;241m88.81417685576481\u001b[39m,\n\u001b[0;32m    123\u001b[0m \u001b[38;5;241m40.579804398254005\u001b[39m\n\u001b[0;32m    124\u001b[0m ])\n\u001b[1;32m--> 125\u001b[0m landsatChart \u001b[38;5;241m=\u001b[39m \u001b[43mui\u001b[49m\u001b[38;5;241m.\u001b[39mChart\u001b[38;5;241m.\u001b[39mimage\u001b[38;5;241m.\u001b[39mseries(landsat\u001b[38;5;241m.\u001b[39mselect(\u001b[38;5;124m'\u001b[39m\u001b[38;5;124mGCVI\u001b[39m\u001b[38;5;124m'\u001b[39m),\n\u001b[0;32m    126\u001b[0m point) \\\n\u001b[0;32m    127\u001b[0m \u001b[38;5;241m.\u001b[39msetChartType(\u001b[38;5;124m'\u001b[39m\u001b[38;5;124mScatterChart\u001b[39m\u001b[38;5;124m'\u001b[39m) \\\n\u001b[0;32m    128\u001b[0m \u001b[38;5;241m.\u001b[39msetOptions(\n\u001b[0;32m    129\u001b[0m title \u001b[38;5;241m=\u001b[39m \u001b[38;5;124m'\u001b[39m\u001b[38;5;124mLandsat GCVI time series\u001b[39m\u001b[38;5;124m'\u001b[39m,\n\u001b[0;32m    130\u001b[0m lineWidth \u001b[38;5;241m=\u001b[39m \u001b[38;5;241m1\u001b[39m,\n\u001b[0;32m    131\u001b[0m pointSize \u001b[38;5;241m=\u001b[39m \u001b[38;5;241m3\u001b[39m,\n\u001b[0;32m    132\u001b[0m )\n\u001b[0;32m    133\u001b[0m \u001b[38;5;28mprint\u001b[39m(landsatChart\u001b[38;5;241m.\u001b[39mgetInfo())\n\u001b[0;32m    135\u001b[0m \u001b[38;5;66;03m# Get crop type dataset.\u001b[39;00m\n",
            "\u001b[1;31mNameError\u001b[0m: name 'ui' is not defined"
          ]
        }
      ],
      "source": [
        "# Add Earth Engine dataset\n",
        "image = ee.Image(\"USGS/SRTMGL1_003\")\n",
        "\n",
        "#  ~~~~~~~~~~~~~~~~~~~~~~~~~~~~~~~~~~~~~~~~~~~~~~~~~~~~~~~~~~~~~~~~~~~~~~~\n",
        "#  Chapter:      A1.1 Agricultural Environments\n",
        "#  Checkpoint:   A11a\n",
        "#  Authors:      Sherrie Wang, George Azzari\n",
        "#  ~~~~~~~~~~~~~~~~~~~~~~~~~~~~~~~~~~~~~~~~~~~~~~~~~~~~~~~~~~~~~~~~~~~~~~~\n",
        "\n",
        "##############################\n",
        "# 1. Pull all Landsat 7 and 8 images over study area\n",
        "##############################\n",
        "\n",
        "# Define study area.\n",
        "TIGER = ee.FeatureCollection('TIGER/2018/Counties')\n",
        "region = ee.Feature(TIGER \\\n",
        ".filter(ee.Filter.eq('STATEFP', '17')) \\\n",
        ".filter(ee.Filter.eq('NAME', 'McLean')) \\\n",
        ".first())\n",
        "geometry = region.geometry()\n",
        "Map.centerObject(region)\n",
        "Map.addLayer(region, {\n",
        "    'color': 'red'\n",
        "}, 'McLean County')\n",
        "\n",
        "# Import Landsat imagery.\n",
        "landsat7 = ee.ImageCollection('LANDSAT/LE07/C02/T1_L2')\n",
        "landsat8 = ee.ImageCollection('LANDSAT/LC08/C02/T1_L2')\n",
        "\n",
        "# Functions to rename Landsat 7 and 8 images.\n",
        "def renameL7(img):\n",
        "    return img.rename(['BLUE', 'GREEN', 'RED', 'NIR', 'SWIR1',\n",
        "    'SWIR2', 'TEMP1', 'ATMOS_OPACITY', 'QA_CLOUD',\n",
        "    'ATRAN', 'CDIST',\n",
        "    'DRAD', 'EMIS', 'EMSD', 'QA', 'TRAD', 'URAD',\n",
        "    'QA_PIXEL',\n",
        "    'QA_RADSAT'\n",
        "    ])\n",
        "\n",
        "\n",
        "def renameL8(img):\n",
        "    return img.rename(['AEROS', 'BLUE', 'GREEN', 'RED', 'NIR',\n",
        "    'SWIR1',\n",
        "    'SWIR2', 'TEMP1', 'QA_AEROSOL', 'ATRAN', 'CDIST',\n",
        "    'DRAD', 'EMIS',\n",
        "    'EMSD', 'QA', 'TRAD', 'URAD', 'QA_PIXEL', 'QA_RADSAT'\n",
        "    ])\n",
        "\n",
        "\n",
        "# Functions to mask out clouds, shadows, and other unwanted features.\n",
        "def addMask(img):\n",
        "    # Bit 0: Fill\n",
        "    # Bit 1: Dilated Cloud\n",
        "    # Bit 2: Cirrus (high confidence) (L8) or unused (L7)\n",
        "    # Bit 3: Cloud\n",
        "    # Bit 4: Cloud Shadow\n",
        "    # Bit 5: Snow\n",
        "    # Bit 6: Clear\n",
        "    #        0: Cloud or Dilated Cloud bits are set\n",
        "    #        1: Cloud and Dilated Cloud bits are not set\n",
        "    # Bit 7: Water\n",
        "    clear = img.select('QA_PIXEL').bitwiseAnd(64).neq(0)\n",
        "    clear = clear.updateMask(clear).rename(['pxqa_clear'])\n",
        "\n",
        "    water = img.select('QA_PIXEL').bitwiseAnd(128).neq(0)\n",
        "    water = water.updateMask(water).rename(['pxqa_water'])\n",
        "\n",
        "    cloud_shadow = img.select('QA_PIXEL').bitwiseAnd(16).neq(0)\n",
        "    cloud_shadow = cloud_shadow.updateMask(cloud_shadow).rename([\n",
        "    'pxqa_cloudshadow'\n",
        "    ])\n",
        "\n",
        "    snow = img.select('QA_PIXEL').bitwiseAnd(32).neq(0)\n",
        "    snow = snow.updateMask(snow).rename(['pxqa_snow'])\n",
        "\n",
        "    masks = ee.Image.cat([\n",
        "    clear, water, cloud_shadow, snow\n",
        "    ])\n",
        "\n",
        "    return img.addBands(masks)\n",
        "\n",
        "\n",
        "def maskQAClear(img):\n",
        "    return img.updateMask(img.select('pxqa_clear'))\n",
        "\n",
        "\n",
        "# Function to add GCVI as a band.\n",
        "def addVIs(img):\n",
        "    gcvi = img.expression('(nir / green) - 1', {\n",
        "        'nir': img.select('NIR'),\n",
        "        'green': img.select('GREEN')\n",
        "    }).select([0], ['GCVI'])\n",
        "\n",
        "    return ee.Image.cat([img, gcvi])\n",
        "\n",
        "\n",
        "# Define study time period.\n",
        "start_date = '2020-01-01'\n",
        "end_date = '2020-12-31'\n",
        "\n",
        "# Pull Landsat 7 and 8 imagery over the study area between start and end dates.\n",
        "landsat7coll = landsat7 \\\n",
        ".filterBounds(geometry) \\\n",
        ".filterDate(start_date, end_date) \\\n",
        ".map(renameL7)\n",
        "\n",
        "landsat8coll = landsat8 \\\n",
        ".filterDate(start_date, end_date) \\\n",
        ".filterBounds(geometry) \\\n",
        ".map(renameL8)\n",
        "\n",
        "# Merge Landsat 7 and 8 collections.\n",
        "landsat = landsat7coll.merge(landsat8coll) \\\n",
        ".sort('system:time_start')\n",
        "\n",
        "# Mask out non-clear pixels, add VIs and time variables.\n",
        "landsat = landsat.map(addMask) \\\n",
        ".map(maskQAClear) \\\n",
        ".map(addVIs)\n",
        "\n",
        "# Visualize GCVI time series at one location.\n",
        "point = ee.Geometry.Point([-88.81417685576481,\n",
        "40.579804398254005\n",
        "])\n",
        "landsatChart = ui.Chart.image.series(landsat.select('GCVI'),\n",
        "point) \\\n",
        ".setChartType('ScatterChart') \\\n",
        ".setOptions(\n",
        "title = 'Landsat GCVI time series',\n",
        "lineWidth = 1,\n",
        "pointSize = 3,\n",
        ")\n",
        "print(landsatChart.getInfo())\n",
        "\n",
        "# Get crop type dataset.\n",
        "cdl = ee.Image('USDA/NASS/CDL/2020').select(['cropland'])\n",
        "Map.addLayer(cdl.clip(geometry), {}, 'CDL 2020')\n",
        "\n",
        "#  -----------------------------------------------------------------------\n",
        "#  CHECKPOINT\n",
        "#  -----------------------------------------------------------------------"
      ]
    },
    {
      "cell_type": "markdown",
      "metadata": {},
      "source": [
        "## Display the interactive map"
      ]
    },
    {
      "cell_type": "code",
      "execution_count": null,
      "metadata": {},
      "outputs": [],
      "source": [
        "Map"
      ]
    }
  ],
  "metadata": {
    "anaconda-cloud": {},
    "kernelspec": {
      "display_name": "Python 3",
      "language": "python",
      "name": "python3"
    },
    "language_info": {
      "codemirror_mode": {
        "name": "ipython",
        "version": 3
      },
      "file_extension": ".py",
      "mimetype": "text/x-python",
      "name": "python",
      "nbconvert_exporter": "python",
      "pygments_lexer": "ipython3",
      "version": "3.11.9"
    }
  },
  "nbformat": 4,
  "nbformat_minor": 4
}
