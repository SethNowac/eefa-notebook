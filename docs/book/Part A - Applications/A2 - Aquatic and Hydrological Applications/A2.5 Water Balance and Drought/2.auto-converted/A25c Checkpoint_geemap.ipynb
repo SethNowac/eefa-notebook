{
  "cells": [
    {
      "cell_type": "markdown",
      "metadata": {},
      "source": [
        "## Import libraries"
      ]
    },
    {
      "cell_type": "code",
      "execution_count": 1,
      "metadata": {},
      "outputs": [],
      "source": [
        "import ee\n",
        "import geemap\n",
        "import geemap.chart as ui_chart"
      ]
    },
    {
      "cell_type": "markdown",
      "metadata": {},
      "source": [
        "## Create an interactive map"
      ]
    },
    {
      "cell_type": "code",
      "execution_count": 2,
      "metadata": {},
      "outputs": [
        {
          "data": {
            "text/html": [
              "\n",
              "            <style>\n",
              "                .geemap-dark {\n",
              "                    --jp-widgets-color: white;\n",
              "                    --jp-widgets-label-color: white;\n",
              "                    --jp-ui-font-color1: white;\n",
              "                    --jp-layout-color2: #454545;\n",
              "                    background-color: #383838;\n",
              "                }\n",
              "\n",
              "                .geemap-dark .jupyter-button {\n",
              "                    --jp-layout-color3: #383838;\n",
              "                }\n",
              "\n",
              "                .geemap-colab {\n",
              "                    background-color: var(--colab-primary-surface-color, white);\n",
              "                }\n",
              "\n",
              "                .geemap-colab .jupyter-button {\n",
              "                    --jp-layout-color3: var(--colab-primary-surface-color, white);\n",
              "                }\n",
              "            </style>\n",
              "            "
            ],
            "text/plain": [
              "<IPython.core.display.HTML object>"
            ]
          },
          "metadata": {},
          "output_type": "display_data"
        }
      ],
      "source": [
        "Map = geemap.Map(center=[40, -100], zoom=4)"
      ]
    },
    {
      "cell_type": "markdown",
      "metadata": {},
      "source": [
        "## Add Earth Engine Python script"
      ]
    },
    {
      "cell_type": "code",
      "execution_count": 3,
      "metadata": {},
      "outputs": [
        {
          "data": {
            "text/html": [
              "\n",
              "            <style>\n",
              "                .geemap-dark {\n",
              "                    --jp-widgets-color: white;\n",
              "                    --jp-widgets-label-color: white;\n",
              "                    --jp-ui-font-color1: white;\n",
              "                    --jp-layout-color2: #454545;\n",
              "                    background-color: #383838;\n",
              "                }\n",
              "\n",
              "                .geemap-dark .jupyter-button {\n",
              "                    --jp-layout-color3: #383838;\n",
              "                }\n",
              "\n",
              "                .geemap-colab {\n",
              "                    background-color: var(--colab-primary-surface-color, white);\n",
              "                }\n",
              "\n",
              "                .geemap-colab .jupyter-button {\n",
              "                    --jp-layout-color3: var(--colab-primary-surface-color, white);\n",
              "                }\n",
              "            </style>\n",
              "            "
            ],
            "text/plain": [
              "<IPython.core.display.HTML object>"
            ]
          },
          "metadata": {},
          "output_type": "display_data"
        },
        {
          "name": "stdout",
          "output_type": "stream",
          "text": [
            "    geo       0_wb      100_wb      101_wb      102_wb      103_wb     104_wb  \\\n",
            "0  None -56.326106  170.126268  218.496329  332.494219  290.393544  184.52837   \n",
            "\n",
            "     105_wb    106_wb     107_wb  ...       91_wb       92_wb       93_wb  \\\n",
            "0  22.79995 -48.64994 -36.153448  ...  314.170093  222.824368  106.393572   \n",
            "\n",
            "       94_wb      95_wb      96_wb      97_wb      98_wb      99_wb  \\\n",
            "0 -15.667313 -45.240105 -47.158509 -49.684588 -14.291624  46.278311   \n",
            "\n",
            "         9_wb  \n",
            "0  131.049145  \n",
            "\n",
            "[1 rows x 133 columns]\n"
          ]
        },
        {
          "ename": "Exception",
          "evalue": "'[None] not in index'",
          "output_type": "error",
          "traceback": [
            "\u001b[1;31m---------------------------------------------------------------------------\u001b[0m",
            "\u001b[1;31mKeyError\u001b[0m                                  Traceback (most recent call last)",
            "File \u001b[1;32m~\\AppData\\Local\\Packages\\PythonSoftwareFoundation.Python.3.11_qbz5n2kfra8p0\\LocalCache\\local-packages\\Python311\\site-packages\\geemap\\common.py:9136\u001b[0m, in \u001b[0;36mee_to_df\u001b[1;34m(ee_object, columns, remove_geom, sort_columns, **kwargs)\u001b[0m\n\u001b[0;32m   9135\u001b[0m     \u001b[38;5;28mprint\u001b[39m(df)\n\u001b[1;32m-> 9136\u001b[0m     df \u001b[38;5;241m=\u001b[39m \u001b[43mdf\u001b[49m\u001b[43m[\u001b[49m\u001b[43mcolumns\u001b[49m\u001b[43m]\u001b[49m\n\u001b[0;32m   9138\u001b[0m \u001b[38;5;28;01mif\u001b[39;00m remove_geom \u001b[38;5;129;01mand\u001b[39;00m (\u001b[38;5;124m\"\u001b[39m\u001b[38;5;124mgeo\u001b[39m\u001b[38;5;124m\"\u001b[39m \u001b[38;5;129;01min\u001b[39;00m df\u001b[38;5;241m.\u001b[39mcolumns):\n",
            "File \u001b[1;32m~\\AppData\\Local\\Packages\\PythonSoftwareFoundation.Python.3.11_qbz5n2kfra8p0\\LocalCache\\local-packages\\Python311\\site-packages\\pandas\\core\\frame.py:4096\u001b[0m, in \u001b[0;36mDataFrame.__getitem__\u001b[1;34m(self, key)\u001b[0m\n\u001b[0;32m   4095\u001b[0m         key \u001b[38;5;241m=\u001b[39m \u001b[38;5;28mlist\u001b[39m(key)\n\u001b[1;32m-> 4096\u001b[0m     indexer \u001b[38;5;241m=\u001b[39m \u001b[38;5;28;43mself\u001b[39;49m\u001b[38;5;241;43m.\u001b[39;49m\u001b[43mcolumns\u001b[49m\u001b[38;5;241;43m.\u001b[39;49m\u001b[43m_get_indexer_strict\u001b[49m\u001b[43m(\u001b[49m\u001b[43mkey\u001b[49m\u001b[43m,\u001b[49m\u001b[43m \u001b[49m\u001b[38;5;124;43m\"\u001b[39;49m\u001b[38;5;124;43mcolumns\u001b[39;49m\u001b[38;5;124;43m\"\u001b[39;49m\u001b[43m)\u001b[49m[\u001b[38;5;241m1\u001b[39m]\n\u001b[0;32m   4098\u001b[0m \u001b[38;5;66;03m# take() does not accept boolean indexers\u001b[39;00m\n",
            "File \u001b[1;32m~\\AppData\\Local\\Packages\\PythonSoftwareFoundation.Python.3.11_qbz5n2kfra8p0\\LocalCache\\local-packages\\Python311\\site-packages\\pandas\\core\\indexes\\base.py:6199\u001b[0m, in \u001b[0;36mIndex._get_indexer_strict\u001b[1;34m(self, key, axis_name)\u001b[0m\n\u001b[0;32m   6197\u001b[0m     keyarr, indexer, new_indexer \u001b[38;5;241m=\u001b[39m \u001b[38;5;28mself\u001b[39m\u001b[38;5;241m.\u001b[39m_reindex_non_unique(keyarr)\n\u001b[1;32m-> 6199\u001b[0m \u001b[38;5;28;43mself\u001b[39;49m\u001b[38;5;241;43m.\u001b[39;49m\u001b[43m_raise_if_missing\u001b[49m\u001b[43m(\u001b[49m\u001b[43mkeyarr\u001b[49m\u001b[43m,\u001b[49m\u001b[43m \u001b[49m\u001b[43mindexer\u001b[49m\u001b[43m,\u001b[49m\u001b[43m \u001b[49m\u001b[43maxis_name\u001b[49m\u001b[43m)\u001b[49m\n\u001b[0;32m   6201\u001b[0m keyarr \u001b[38;5;241m=\u001b[39m \u001b[38;5;28mself\u001b[39m\u001b[38;5;241m.\u001b[39mtake(indexer)\n",
            "File \u001b[1;32m~\\AppData\\Local\\Packages\\PythonSoftwareFoundation.Python.3.11_qbz5n2kfra8p0\\LocalCache\\local-packages\\Python311\\site-packages\\pandas\\core\\indexes\\base.py:6251\u001b[0m, in \u001b[0;36mIndex._raise_if_missing\u001b[1;34m(self, key, indexer, axis_name)\u001b[0m\n\u001b[0;32m   6250\u001b[0m not_found \u001b[38;5;241m=\u001b[39m \u001b[38;5;28mlist\u001b[39m(ensure_index(key)[missing_mask\u001b[38;5;241m.\u001b[39mnonzero()[\u001b[38;5;241m0\u001b[39m]]\u001b[38;5;241m.\u001b[39munique())\n\u001b[1;32m-> 6251\u001b[0m \u001b[38;5;28;01mraise\u001b[39;00m \u001b[38;5;167;01mKeyError\u001b[39;00m(\u001b[38;5;124mf\u001b[39m\u001b[38;5;124m\"\u001b[39m\u001b[38;5;132;01m{\u001b[39;00mnot_found\u001b[38;5;132;01m}\u001b[39;00m\u001b[38;5;124m not in index\u001b[39m\u001b[38;5;124m\"\u001b[39m)\n",
            "\u001b[1;31mKeyError\u001b[0m: '[None] not in index'",
            "\nDuring handling of the above exception, another exception occurred:\n",
            "\u001b[1;31mException\u001b[0m                                 Traceback (most recent call last)",
            "\u001b[1;32m~\\AppData\\Local\\Temp\\ipykernel_24244\\2931751542.py\u001b[0m in \u001b[0;36m?\u001b[1;34m()\u001b[0m\n\u001b[0;32m    100\u001b[0m     \u001b[1;34m'colors'\u001b[0m\u001b[1;33m:\u001b[0m \u001b[1;33m[\u001b[0m\u001b[1;34m'green'\u001b[0m\u001b[1;33m]\u001b[0m\u001b[1;33m\u001b[0m\u001b[1;33m\u001b[0m\u001b[0m\n\u001b[0;32m    101\u001b[0m }\n\u001b[0;32m    102\u001b[0m \u001b[1;33m\u001b[0m\u001b[0m\n\u001b[0;32m    103\u001b[0m \u001b[1;31m# Plot the chart using the Mekong boundary.\u001b[0m\u001b[1;33m\u001b[0m\u001b[1;33m\u001b[0m\u001b[0m\n\u001b[1;32m--> 104\u001b[1;33m chartMonthly = ui_chart.image_series_by_region(\n\u001b[0m\u001b[0;32m    105\u001b[0m \u001b[0mimage_collection\u001b[0m \u001b[1;33m=\u001b[0m \u001b[0mwaterBalance\u001b[0m\u001b[1;33m,\u001b[0m\u001b[1;33m\u001b[0m\u001b[1;33m\u001b[0m\u001b[0m\n\u001b[0;32m    106\u001b[0m \u001b[0mregions\u001b[0m \u001b[1;33m=\u001b[0m \u001b[0mmekongBasin\u001b[0m\u001b[1;33m,\u001b[0m\u001b[1;33m\u001b[0m\u001b[1;33m\u001b[0m\u001b[0m\n\u001b[0;32m    107\u001b[0m \u001b[0mreducer\u001b[0m \u001b[1;33m=\u001b[0m \u001b[0mee\u001b[0m\u001b[1;33m.\u001b[0m\u001b[0mReducer\u001b[0m\u001b[1;33m.\u001b[0m\u001b[0mmean\u001b[0m\u001b[1;33m(\u001b[0m\u001b[1;33m)\u001b[0m\u001b[1;33m,\u001b[0m\u001b[1;33m\u001b[0m\u001b[1;33m\u001b[0m\u001b[0m\n",
            "\u001b[1;32m~\\AppData\\Local\\Packages\\PythonSoftwareFoundation.Python.3.11_qbz5n2kfra8p0\\LocalCache\\local-packages\\Python311\\site-packages\\geemap\\chart.py\u001b[0m in \u001b[0;36m?\u001b[1;34m(image_collection, regions, reducer, band, scale, x_property, series_property, chart_type, x_cols, y_cols, colors, title, x_label, y_label, **kwargs)\u001b[0m\n\u001b[0;32m   1951\u001b[0m     fc = zonal_stats(\n\u001b[0;32m   1952\u001b[0m         \u001b[0mimage\u001b[0m\u001b[1;33m,\u001b[0m \u001b[0mregions\u001b[0m\u001b[1;33m,\u001b[0m \u001b[0mstat_type\u001b[0m\u001b[1;33m=\u001b[0m\u001b[0mreducer\u001b[0m\u001b[1;33m,\u001b[0m \u001b[0mscale\u001b[0m\u001b[1;33m=\u001b[0m\u001b[0mscale\u001b[0m\u001b[1;33m,\u001b[0m \u001b[0mverbose\u001b[0m\u001b[1;33m=\u001b[0m\u001b[1;32mFalse\u001b[0m\u001b[1;33m,\u001b[0m \u001b[0mreturn_fc\u001b[0m\u001b[1;33m=\u001b[0m\u001b[1;32mTrue\u001b[0m\u001b[1;33m\u001b[0m\u001b[1;33m\u001b[0m\u001b[0m\n\u001b[0;32m   1953\u001b[0m     )\n\u001b[0;32m   1954\u001b[0m     \u001b[0mcolumns\u001b[0m \u001b[1;33m=\u001b[0m \u001b[0mimage\u001b[0m\u001b[1;33m.\u001b[0m\u001b[0mbandNames\u001b[0m\u001b[1;33m(\u001b[0m\u001b[1;33m)\u001b[0m\u001b[1;33m.\u001b[0m\u001b[0mgetInfo\u001b[0m\u001b[1;33m(\u001b[0m\u001b[1;33m)\u001b[0m \u001b[1;33m+\u001b[0m \u001b[1;33m[\u001b[0m\u001b[0mseries_property\u001b[0m\u001b[1;33m]\u001b[0m\u001b[1;33m\u001b[0m\u001b[1;33m\u001b[0m\u001b[0m\n\u001b[1;32m-> 1955\u001b[1;33m     \u001b[0mdf\u001b[0m \u001b[1;33m=\u001b[0m \u001b[0mee_to_df\u001b[0m\u001b[1;33m(\u001b[0m\u001b[0mfc\u001b[0m\u001b[1;33m,\u001b[0m \u001b[0mcolumns\u001b[0m\u001b[1;33m=\u001b[0m\u001b[0mcolumns\u001b[0m\u001b[1;33m)\u001b[0m\u001b[1;33m\u001b[0m\u001b[1;33m\u001b[0m\u001b[0m\n\u001b[0m\u001b[0;32m   1956\u001b[0m \u001b[1;33m\u001b[0m\u001b[0m\n\u001b[0;32m   1957\u001b[0m     \u001b[0mheaders\u001b[0m \u001b[1;33m=\u001b[0m \u001b[0mdf\u001b[0m\u001b[1;33m[\u001b[0m\u001b[0mseries_property\u001b[0m\u001b[1;33m]\u001b[0m\u001b[1;33m.\u001b[0m\u001b[0mtolist\u001b[0m\u001b[1;33m(\u001b[0m\u001b[1;33m)\u001b[0m\u001b[1;33m\u001b[0m\u001b[1;33m\u001b[0m\u001b[0m\n\u001b[0;32m   1958\u001b[0m     \u001b[0mdf\u001b[0m \u001b[1;33m=\u001b[0m \u001b[0mdf\u001b[0m\u001b[1;33m.\u001b[0m\u001b[0mdrop\u001b[0m\u001b[1;33m(\u001b[0m\u001b[0mcolumns\u001b[0m\u001b[1;33m=\u001b[0m\u001b[1;33m[\u001b[0m\u001b[0mseries_property\u001b[0m\u001b[1;33m]\u001b[0m\u001b[1;33m)\u001b[0m\u001b[1;33m.\u001b[0m\u001b[0mT\u001b[0m\u001b[1;33m\u001b[0m\u001b[1;33m\u001b[0m\u001b[0m\n",
            "\u001b[1;32m~\\AppData\\Local\\Packages\\PythonSoftwareFoundation.Python.3.11_qbz5n2kfra8p0\\LocalCache\\local-packages\\Python311\\site-packages\\geemap\\common.py\u001b[0m in \u001b[0;36m?\u001b[1;34m(ee_object, columns, remove_geom, sort_columns, **kwargs)\u001b[0m\n\u001b[0;32m   9142\u001b[0m             \u001b[0mdf\u001b[0m \u001b[1;33m=\u001b[0m \u001b[0mdf\u001b[0m\u001b[1;33m.\u001b[0m\u001b[0mreindex\u001b[0m\u001b[1;33m(\u001b[0m\u001b[0msorted\u001b[0m\u001b[1;33m(\u001b[0m\u001b[0mdf\u001b[0m\u001b[1;33m.\u001b[0m\u001b[0mcolumns\u001b[0m\u001b[1;33m)\u001b[0m\u001b[1;33m,\u001b[0m \u001b[0maxis\u001b[0m\u001b[1;33m=\u001b[0m\u001b[1;36m1\u001b[0m\u001b[1;33m)\u001b[0m\u001b[1;33m\u001b[0m\u001b[1;33m\u001b[0m\u001b[0m\n\u001b[0;32m   9143\u001b[0m \u001b[1;33m\u001b[0m\u001b[0m\n\u001b[0;32m   9144\u001b[0m         \u001b[1;32mreturn\u001b[0m \u001b[0mdf\u001b[0m\u001b[1;33m\u001b[0m\u001b[1;33m\u001b[0m\u001b[0m\n\u001b[0;32m   9145\u001b[0m     \u001b[1;32mexcept\u001b[0m \u001b[0mException\u001b[0m \u001b[1;32mas\u001b[0m \u001b[0me\u001b[0m\u001b[1;33m:\u001b[0m\u001b[1;33m\u001b[0m\u001b[1;33m\u001b[0m\u001b[0m\n\u001b[1;32m-> 9146\u001b[1;33m         \u001b[1;32mraise\u001b[0m \u001b[0mException\u001b[0m\u001b[1;33m(\u001b[0m\u001b[0me\u001b[0m\u001b[1;33m)\u001b[0m\u001b[1;33m\u001b[0m\u001b[1;33m\u001b[0m\u001b[0m\n\u001b[0m",
            "\u001b[1;31mException\u001b[0m: '[None] not in index'"
          ]
        }
      ],
      "source": [
        "# Add Earth Engine dataset\n",
        "image = ee.Image(\"USGS/SRTMGL1_003\")\n",
        "\n",
        "#  ~~~~~~~~~~~~~~~~~~~~~~~~~~~~~~~~~~~~~~~~~~~~~~~~~~~~~~~~~~~~~~~~~~~~~~~~~~~~~~~~~~\n",
        "#  Chapter:      A2.5 Water Balance and Drought\n",
        "#  Checkpoint:   A25c\n",
        "#  Authors:      Ate Poortinga, Quyen Nguyen, Nyein Soe Thwal, Andréa Puzzi Nicolau\n",
        "#  ~~~~~~~~~~~~~~~~~~~~~~~~~~~~~~~~~~~~~~~~~~~~~~~~~~~~~~~~~~~~~~~~~~~~~~~~~~~~~~~~~~\n",
        "\n",
        "# Import the Lower Mekong boundary.\n",
        "mekongBasin = ee.FeatureCollection(\n",
        "'projects/gee-book/assets/A2-5/lowerMekongBasin')\n",
        "\n",
        "# Center the map.\n",
        "Map.centerObject(mekongBasin, 5)\n",
        "\n",
        "# Add the Lower Mekong Basin boundary to the map.\n",
        "Map.addLayer(mekongBasin, {}, 'Lower Mekong basin')\n",
        "\n",
        "# Set start and end years.\n",
        "startYear = 2010\n",
        "endYear = 2020\n",
        "\n",
        "# Create two date objects for start and end years.\n",
        "startDate = ee.Date.fromYMD(startYear, 1, 1)\n",
        "endDate = ee.Date.fromYMD(endYear + 1, 1, 1)\n",
        "\n",
        "# Make a list with years.\n",
        "years = ee.List.sequence(startYear, endYear)\n",
        "\n",
        "# Make a list with months.\n",
        "months = ee.List.sequence(1, 12)\n",
        "\n",
        "# Import the CHIRPS dataset.\n",
        "CHIRPS = ee.ImageCollection('UCSB-CHG/CHIRPS/PENTAD')\n",
        "\n",
        "# Filter for relevant time period.\n",
        "CHIRPS = CHIRPS.filterDate(startDate, endDate)\n",
        "\n",
        "# Import the MOD16 dataset.\n",
        "mod16 = ee.ImageCollection('MODIS/006/MOD16A2').select('ET')\n",
        "\n",
        "# Filter for relevant time period.\n",
        "mod16 = mod16.filterDate(startDate, endDate)\n",
        "\n",
        "# We apply a nested loop where we first iterate over\n",
        "# the relevant years and then iterate over the relevant\n",
        "# months. The function returns an image with P - ET\n",
        "# for each month. A flatten is applied to convert an\n",
        "# collection of collections into a single collection.\n",
        "def func_kqp(y):\n",
        "        def func_lkf(m):\n",
        "\n",
        "            P = CHIRPS.filter(ee.Filter \\\n",
        "                    .calendarRange(y, y, 'year')) \\\n",
        "                .filter(ee.Filter.calendarRange(m, m,\n",
        "                    'month')) \\\n",
        "                .sum()\n",
        "\n",
        "            ET = mod16.filter(ee.Filter \\\n",
        "                    .calendarRange(y, y, 'year')) \\\n",
        "                .filter(ee.Filter.calendarRange(m, m,\n",
        "                    'month')) \\\n",
        "                .sum() \\\n",
        "                .multiply(0.1)\n",
        "\n",
        "            wb = P.subtract(ET).rename('wb')\n",
        "\n",
        "            return wb.set('year', y) \\\n",
        "                .set('month', m) \\\n",
        "                .set('system:time_start', ee.Date \\\n",
        "                    .fromYMD(y, m, 1))\n",
        "\n",
        "        return months.map(func_lkf)\n",
        "\n",
        "waterBalance = ee.ImageCollection.fromImages(\n",
        "    years.map(func_kqp).flatten()\n",
        ")\n",
        "\n",
        "# Add layer with monthly mean. note that we clip for the Mekong river basin.\n",
        "balanceVis = {\n",
        "    'min': -50,\n",
        "    'max': 200,\n",
        "    'palette': ['red', 'orange', 'yellow', 'blue', 'darkblue', 'purple']\n",
        "}\n",
        "\n",
        "Map.addLayer(waterBalance.mean().clip(mekongBasin),\n",
        "    balanceVis,\n",
        "    'Mean monthly water balance')\n",
        "\n",
        "# Set the title and axis labels for the chart.\n",
        "title = {\n",
        "    'title': 'Monthly water balance',\n",
        "    'hAxis': {\n",
        "        'title': 'Time'\n",
        "    },\n",
        "    'vAxis': {\n",
        "        'title': 'Evapotranspiration (mm)'\n",
        "    },\n",
        "    'colors': ['green']\n",
        "}\n",
        "\n",
        "# Plot the chart using the Mekong boundary.\n",
        "chartMonthly = ui_chart.image_series_by_region(\n",
        "image_collection = waterBalance,\n",
        "regions = mekongBasin,\n",
        "reducer = ee.Reducer.mean(),\n",
        "band = 'wb',\n",
        "scale = 500,\n",
        "x_property = 'system:time_start',\n",
        "series_property = None\n",
        ")\n",
        "chartMonthly.set_chart_type('ColumnChart')\n",
        "#.setSeriesNames(['WB']) \\\n",
        "chartMonthly.set_options(options=title)\n",
        "chartMonthly.display()\n",
        "\n",
        "\n",
        "# -----------------------------------------------------------------------------------\n",
        "# CHECKPOINT\n",
        "# -----------------------------------------------------------------------------------"
      ]
    },
    {
      "cell_type": "markdown",
      "metadata": {},
      "source": [
        "## Display the interactive map"
      ]
    },
    {
      "cell_type": "code",
      "execution_count": null,
      "metadata": {},
      "outputs": [],
      "source": [
        "Map"
      ]
    }
  ],
  "metadata": {
    "anaconda-cloud": {},
    "kernelspec": {
      "display_name": "Python 3",
      "language": "python",
      "name": "python3"
    },
    "language_info": {
      "codemirror_mode": {
        "name": "ipython",
        "version": 3
      },
      "file_extension": ".py",
      "mimetype": "text/x-python",
      "name": "python",
      "nbconvert_exporter": "python",
      "pygments_lexer": "ipython3",
      "version": "3.11.9"
    }
  },
  "nbformat": 4,
  "nbformat_minor": 4
}
