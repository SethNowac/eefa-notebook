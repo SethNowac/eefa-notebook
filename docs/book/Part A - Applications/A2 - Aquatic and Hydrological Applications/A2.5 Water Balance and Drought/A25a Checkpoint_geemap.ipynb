{
  "cells": [
    {
      "cell_type": "markdown",
      "metadata": {},
      "source": [
        "## Import libraries"
      ]
    },
    {
      "cell_type": "code",
      "execution_count": 1,
      "metadata": {},
      "outputs": [],
      "source": [
        "import ee\n",
        "import geemap\n",
        "import geemap.chart as chart"
      ]
    },
    {
      "cell_type": "markdown",
      "metadata": {},
      "source": [
        "## Create an interactive map"
      ]
    },
    {
      "cell_type": "code",
      "execution_count": 2,
      "metadata": {},
      "outputs": [
        {
          "data": {
            "text/html": [
              "\n",
              "            <style>\n",
              "                .geemap-dark {\n",
              "                    --jp-widgets-color: white;\n",
              "                    --jp-widgets-label-color: white;\n",
              "                    --jp-ui-font-color1: white;\n",
              "                    --jp-layout-color2: #454545;\n",
              "                    background-color: #383838;\n",
              "                }\n",
              "                    \n",
              "                .geemap-dark .jupyter-button {\n",
              "                    --jp-layout-color3: #383838;\n",
              "                }\n",
              "                \n",
              "                .geemap-colab {\n",
              "                    background-color: var(--colab-primary-surface-color, white);\n",
              "                }\n",
              "                    \n",
              "                .geemap-colab .jupyter-button {\n",
              "                    --jp-layout-color3: var(--colab-primary-surface-color, white);\n",
              "                }\n",
              "            </style>\n",
              "            "
            ],
            "text/plain": [
              "<IPython.core.display.HTML object>"
            ]
          },
          "metadata": {},
          "output_type": "display_data"
        }
      ],
      "source": [
        "Map = geemap.Map(center=[40, -100], zoom=4)"
      ]
    },
    {
      "cell_type": "markdown",
      "metadata": {},
      "source": [
        "## Add Earth Engine Python script"
      ]
    },
    {
      "cell_type": "code",
      "execution_count": 5,
      "metadata": {},
      "outputs": [
        {
          "data": {
            "text/html": [
              "\n",
              "            <style>\n",
              "                .geemap-dark {\n",
              "                    --jp-widgets-color: white;\n",
              "                    --jp-widgets-label-color: white;\n",
              "                    --jp-ui-font-color1: white;\n",
              "                    --jp-layout-color2: #454545;\n",
              "                    background-color: #383838;\n",
              "                }\n",
              "                    \n",
              "                .geemap-dark .jupyter-button {\n",
              "                    --jp-layout-color3: #383838;\n",
              "                }\n",
              "                \n",
              "                .geemap-colab {\n",
              "                    background-color: var(--colab-primary-surface-color, white);\n",
              "                }\n",
              "                    \n",
              "                .geemap-colab .jupyter-button {\n",
              "                    --jp-layout-color3: var(--colab-primary-surface-color, white);\n",
              "                }\n",
              "            </style>\n",
              "            "
            ],
            "text/plain": [
              "<IPython.core.display.HTML object>"
            ]
          },
          "metadata": {},
          "output_type": "display_data"
        },
        {
          "ename": "AttributeError",
          "evalue": "'NoneType' object has no attribute 'setSeriesNames'",
          "output_type": "error",
          "traceback": [
            "\u001b[1;31m---------------------------------------------------------------------------\u001b[0m",
            "\u001b[1;31mAttributeError\u001b[0m                            Traceback (most recent call last)",
            "Cell \u001b[1;32mIn[5], line 96\u001b[0m\n\u001b[0;32m     85\u001b[0m chart\u001b[38;5;241m.\u001b[39mimage_seriesByRegion\n\u001b[0;32m     87\u001b[0m \u001b[38;5;66;03m# Plot the chart using the Mekong boundary.\u001b[39;00m\n\u001b[0;32m     88\u001b[0m \u001b[43mchart\u001b[49m\u001b[38;5;241;43m.\u001b[39;49m\u001b[43mimage_seriesByRegion\u001b[49m\u001b[43m(\u001b[49m\n\u001b[0;32m     89\u001b[0m \u001b[43mimageCollection\u001b[49m\u001b[43m \u001b[49m\u001b[38;5;241;43m=\u001b[39;49m\u001b[43m \u001b[49m\u001b[43mmonthlyPrecip\u001b[49m\u001b[43m,\u001b[49m\n\u001b[0;32m     90\u001b[0m \u001b[43mregions\u001b[49m\u001b[43m \u001b[49m\u001b[38;5;241;43m=\u001b[39;49m\u001b[43m \u001b[49m\u001b[43mmekongBasin\u001b[49m\u001b[38;5;241;43m.\u001b[39;49m\u001b[43mgeometry\u001b[49m\u001b[43m(\u001b[49m\u001b[43m)\u001b[49m\u001b[43m,\u001b[49m\n\u001b[0;32m     91\u001b[0m \u001b[43mreducer\u001b[49m\u001b[43m \u001b[49m\u001b[38;5;241;43m=\u001b[39;49m\u001b[43m \u001b[49m\u001b[43mee\u001b[49m\u001b[38;5;241;43m.\u001b[39;49m\u001b[43mReducer\u001b[49m\u001b[38;5;241;43m.\u001b[39;49m\u001b[43mmean\u001b[49m\u001b[43m(\u001b[49m\u001b[43m)\u001b[49m\u001b[43m,\u001b[49m\n\u001b[0;32m     92\u001b[0m \u001b[43mband\u001b[49m\u001b[43m \u001b[49m\u001b[38;5;241;43m=\u001b[39;49m\u001b[43m \u001b[49m\u001b[38;5;124;43m'\u001b[39;49m\u001b[38;5;124;43mprecipitation\u001b[39;49m\u001b[38;5;124;43m'\u001b[39;49m\u001b[43m,\u001b[49m\n\u001b[0;32m     93\u001b[0m \u001b[43mscale\u001b[49m\u001b[43m \u001b[49m\u001b[38;5;241;43m=\u001b[39;49m\u001b[43m \u001b[49m\u001b[38;5;241;43m5000\u001b[39;49m\u001b[43m,\u001b[49m\n\u001b[0;32m     94\u001b[0m \u001b[43mxProperty\u001b[49m\u001b[43m \u001b[49m\u001b[38;5;241;43m=\u001b[39;49m\u001b[43m \u001b[49m\u001b[38;5;124;43m'\u001b[39;49m\u001b[38;5;124;43msystem =time_start\u001b[39;49m\u001b[38;5;124;43m'\u001b[39;49m\u001b[43m,\u001b[49m\n\u001b[0;32m     95\u001b[0m \u001b[43mseriesProperty\u001b[49m\u001b[43m \u001b[49m\u001b[38;5;241;43m=\u001b[39;49m\u001b[43m \u001b[49m\u001b[38;5;28;43;01mNone\u001b[39;49;00m\n\u001b[1;32m---> 96\u001b[0m \u001b[43m)\u001b[49m\u001b[38;5;241;43m.\u001b[39;49m\u001b[43msetSeriesNames\u001b[49m([\u001b[38;5;124m'\u001b[39m\u001b[38;5;124mP\u001b[39m\u001b[38;5;124m'\u001b[39m]) \\\n\u001b[0;32m     97\u001b[0m \u001b[38;5;241m.\u001b[39msetOptions(title) \\\n\u001b[0;32m     98\u001b[0m \u001b[38;5;241m.\u001b[39msetChartType(\u001b[38;5;124m'\u001b[39m\u001b[38;5;124mColumnChart\u001b[39m\u001b[38;5;124m'\u001b[39m)\n\u001b[0;32m    100\u001b[0m \u001b[38;5;66;03m# -----------------------------------------------------------------------------------\u001b[39;00m\n\u001b[0;32m    101\u001b[0m \u001b[38;5;66;03m# CHECKPOINT\u001b[39;00m\n\u001b[0;32m    102\u001b[0m \u001b[38;5;66;03m# ----------------------------------------------------------------------------------# -----------------------------------------------------------------------------------\u001b[39;00m\n",
            "\u001b[1;31mAttributeError\u001b[0m: 'NoneType' object has no attribute 'setSeriesNames'"
          ]
        }
      ],
      "source": [
        "# Add Earth Engine dataset\n",
        "image = ee.Image(\"USGS/SRTMGL1_003\")\n",
        "\n",
        "#  ~~~~~~~~~~~~~~~~~~~~~~~~~~~~~~~~~~~~~~~~~~~~~~~~~~~~~~~~~~~~~~~~~~~~~~~~~~~~~~~~~~\n",
        "#  Chapter:      A2.5 Water Balance and Drought\n",
        "#  Checkpoint:   A25a\n",
        "#  Authors:      Ate Poortinga, Quyen Nguyen, Nyein Soe Thwal, Andréa Puzzi Nicolau\n",
        "#  ~~~~~~~~~~~~~~~~~~~~~~~~~~~~~~~~~~~~~~~~~~~~~~~~~~~~~~~~~~~~~~~~~~~~~~~~~~~~~~~~~~\n",
        "\n",
        "# Import the Lower Mekong boundary.\n",
        "mekongBasin = ee.FeatureCollection(\n",
        "'projects/gee-book/assets/A2-5/lowerMekongBasin')\n",
        "\n",
        "# Center the map.\n",
        "Map.centerObject(mekongBasin, 5)\n",
        "\n",
        "# Add the Lower Mekong Basin boundary to the map.\n",
        "Map.addLayer(mekongBasin, {}, 'Lower Mekong basin')\n",
        "\n",
        "# Set start and end years.\n",
        "startYear = 2010\n",
        "endYear = 2020\n",
        "\n",
        "# Create two date objects for start and end years.\n",
        "startDate = ee.Date.fromYMD(startYear, 1, 1)\n",
        "endDate = ee.Date.fromYMD(endYear + 1, 1, 1)\n",
        "\n",
        "# Make a list with years.\n",
        "years = ee.List.sequence(startYear, endYear)\n",
        "\n",
        "# Make a list with months.\n",
        "months = ee.List.sequence(1, 12)\n",
        "\n",
        "# Import the CHIRPS dataset.\n",
        "CHIRPS = ee.ImageCollection('UCSB-CHG/CHIRPS/PENTAD')\n",
        "\n",
        "# Filter for the relevant time period.\n",
        "CHIRPS = CHIRPS.filterDate(startDate, endDate)\n",
        "\n",
        "# We apply a nested loop where we first map over\n",
        "# the relevant years and then map over the relevant\n",
        "# months. The function returns an image with the total (sum)\n",
        "# rainfall for each month. A flatten is applied to convert a\n",
        "# feature collection of features into a single feature collection.\n",
        "def func_jak(y):\n",
        "        def func_lak(m):\n",
        "            w = CHIRPS.filter(ee.Filter\n",
        "                    .calendarRange(y, y, 'year')) \\\n",
        "                .filter(ee.Filter.calendarRange(m, m,\n",
        "                    'month')) \\\n",
        "                .sum()\n",
        "            return w.set('year', y) \\\n",
        "                .set('month', m) \\\n",
        "                .set('system:time_start', ee.Date\n",
        "                    .fromYMD(y, m, 1))\n",
        "\n",
        "        return months.map(func_lak)\n",
        "\n",
        "monthlyPrecip = ee.ImageCollection.fromImages(\n",
        "    years.map(func_jak).flatten()\n",
        ")\n",
        "\n",
        "# Add the layer with monthly mean. Note that we clip for the Mekong river basin.\n",
        "precipVis = {\n",
        "    'min': 0,\n",
        "    'max': 250,\n",
        "    'palette': ['white', 'blue', 'darkblue', 'red', 'purple']\n",
        "}\n",
        "\n",
        "Map.addLayer(monthlyPrecip.mean().clip(mekongBasin),\n",
        "    precipVis,\n",
        "    '2015 precipitation')\n",
        "\n",
        "# Set the title and axis labels for the chart.\n",
        "title = {\n",
        "    'title': 'Monthly precipitation',\n",
        "    'hAxis': {\n",
        "            'title': 'Time'\n",
        "        },\n",
        "    'vAxis': {\n",
        "            'title': 'Precipitation (mm)'\n",
        "        },\n",
        "}\n",
        "\n",
        "chart.image_seriesByRegion\n",
        "\n",
        "# Plot the chart using the Mekong boundary.\n",
        "chart.image_seriesByRegion(\n",
        "imageCollection = monthlyPrecip,\n",
        "regions = mekongBasin.geometry(),\n",
        "reducer = ee.Reducer.mean(),\n",
        "band = 'precipitation',\n",
        "scale = 5000,\n",
        "xProperty = 'system =time_start',\n",
        "seriesProperty = None\n",
        ").setSeriesNames(['P']) \\\n",
        ".setOptions(title) \\\n",
        ".setChartType('ColumnChart')\n",
        "\n",
        "# -----------------------------------------------------------------------------------\n",
        "# CHECKPOINT\n",
        "# ----------------------------------------------------------------------------------# -----------------------------------------------------------------------------------"
      ]
    },
    {
      "cell_type": "markdown",
      "metadata": {},
      "source": [
        "## Display the interactive map"
      ]
    },
    {
      "cell_type": "code",
      "execution_count": null,
      "metadata": {},
      "outputs": [],
      "source": [
        "Map"
      ]
    }
  ],
  "metadata": {
    "anaconda-cloud": {},
    "kernelspec": {
      "display_name": "Python 3",
      "language": "python",
      "name": "python3"
    },
    "language_info": {
      "codemirror_mode": {
        "name": "ipython",
        "version": 3
      },
      "file_extension": ".py",
      "mimetype": "text/x-python",
      "name": "python",
      "nbconvert_exporter": "python",
      "pygments_lexer": "ipython3",
      "version": "3.11.9"
    }
  },
  "nbformat": 4,
  "nbformat_minor": 4
}
