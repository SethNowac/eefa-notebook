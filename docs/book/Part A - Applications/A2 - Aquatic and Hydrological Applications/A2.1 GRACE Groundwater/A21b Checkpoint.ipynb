{
  "cells": [
    {
      "cell_type": "markdown",
      "metadata": {},
      "source": [
        "## Import libraries"
      ]
    },
    {
      "cell_type": "code",
      "metadata": {},
      "source": [
        "import ee\n",
        "import geemap"
      ],
      "outputs": [],
      "execution_count": null
    },
    {
      "cell_type": "markdown",
      "metadata": {},
      "source": [
        "## Create an interactive map"
      ]
    },
    {
      "cell_type": "code",
      "metadata": {},
      "source": [
        "Map = geemap.Map(center=[40, -100], zoom=4)"
      ],
      "outputs": [],
      "execution_count": null
    },
    {
      "cell_type": "markdown",
      "metadata": {},
      "source": [
        "## Add Earth Engine Python script"
      ]
    },
    {
      "cell_type": "code",
      "metadata": {},
      "source": [
        "# Add Earth Engine dataset\n",
        "image = ee.Image(\"USGS/SRTMGL1_003\")\n",
        "\n",
        "#  ~~~~~~~~~~~~~~~~~~~~~~~~~~~~~~~~~~~~~~~~~~~~~~~~~~~~~~~~~~~~~~~~~~~~~~~\n",
        "#  Chapter:      A2.1 Groundwater Monitoring with GRACE\n",
        "#  Checkpoint:   A21b\n",
        "#  Authors:      A.J. Purdy, J.S. Famiglietti\n",
        "#  ~~~~~~~~~~~~~~~~~~~~~~~~~~~~~~~~~~~~~~~~~~~~~~~~~~~~~~~~~~~~~~~~~~~~~~~\n",
        "\n",
        "# Import Basins.\n",
        "basins = ee.FeatureCollection('USGS/WBD/2017/HUC04')\n",
        "\n",
        "# Extract the 3 HUC 04 basins for the Central Valley.\n",
        "codes = ['1802', '1803', '1804']\n",
        "basin = basins.filter(ee.Filter.inList('huc4', codes))\n",
        "\n",
        "# Add the basin to the map to show the extent of our analysis.\n",
        "Map.centerObject(basin, 6)\n",
        "Map.addLayer(basin, {\n",
        "    'color': 'green'\n",
        "}, 'Central Valley Basins', True, 0.5)\n",
        "\n",
        "landcover = ee.ImageCollection('USDA/NASS/CDL') \\\n",
        "    .filter(ee.Filter.date('2019-01-01', '2019-12-31')) \\\n",
        "    .select('cultivated')\n",
        "\n",
        "Map.addLayer(landcover.first().clip(basin), {}, 'Cropland', True,\n",
        "    0.5)\n",
        "\n",
        "# This table was generated using the index from the CDEC website\n",
        "res = ee.FeatureCollection(\n",
        "    'projects/gee-book/assets/A2-1/ca_reservoirs_index')\n",
        "# Filter reservoir locations by the Central Valley geometry\n",
        "res_cv = res.filterBounds(basin)\n",
        "Map.addLayer(res_cv, {\n",
        "    'color': 'blue'\n",
        "}, 'Reservoirs')\n",
        "\n",
        "# -----------------------------------------------------------------------\n",
        "# CHECKPOINT\n",
        "# -----------------------------------------------------------------------\n",
        "\n",
        "GRACE = ee.ImageCollection('NASA/GRACE/MASS_GRIDS/MASCON_CRI')\n",
        "# Subset GRACE for liquid water equivalent dataset\n",
        "basinTWSa = GRACE.select('lwe_thickness')\n",
        "\n",
        "# Make plot of TWSa for Basin Boundary\n",
        "TWSaChart = ui.Chart.image.series({\n",
        "        'imageCollection': basinTWSa.filter(ee.Filter.date(\n",
        "            '2003-01-01', '2016-12-31')),\n",
        "        'region': basin,\n",
        "        'reducer': ee.Reducer.mean(),\n",
        "    }) \\\n",
        "    .setOptions({\n",
        "        'title': 'TWSa',\n",
        "        'hAxis': {\n",
        "            format: 'MM-yyyy'\n",
        "        },\n",
        "        'vAxis': {\n",
        "            'title': 'TWSa (cm)'\n",
        "        },\n",
        "        'lineWidth': 1,\n",
        "    })\n",
        "print(TWSaChart)\n",
        "\n",
        "# Compute Trend for each pixel to map regions of most change\n",
        "def addVariables(image):\n",
        "    # Compute time in fractional years since the epoch.\n",
        "    date = ee.Date(image.get('system:time_start'))\n",
        "    years = date.difference(ee.Date('2003-01-01'), 'year')\n",
        "    # Return the image with the added bands.\n",
        "    return image \\\n",
        "        .addBands(ee.Image(years).rename('t').float()) \\\n",
        "        .addBands(ee.Image.constant(1))\n",
        "\n",
        "cvTWSa = basinTWSa.filterBounds(basin).map(addVariables)\n",
        "print(cvTWSa)\n",
        "# List of the independent variable names\n",
        "independents = ee.List(['constant', 't'])\n",
        "\n",
        "# Name of the dependent variable.\n",
        "dependent = ee.String('lwe_thickness')\n",
        "# Compute a linear trend.  This will have two bands: 'residuals' and\n",
        "# a 2x1 band called coefficients (columns are for dependent variables).\n",
        "trend = cvTWSa.select(independents.add(dependent)) \\\n",
        "    .reduce(ee.Reducer.linearRegression(independents.length(), 1))\n",
        "\n",
        "# Flatten the coefficients into a 2-band image\n",
        "coefficients = trend.select('coefficients') \\\n",
        "    .arrayProject([0]) \\\n",
        "    .arrayFlatten([independents])\n",
        "\n",
        "# Create a layer of the TWSa slope to add to the map\n",
        "slope = coefficients.select('t')\n",
        "# Set visualization parameters to represent positive (blue) & negative (red) trends\n",
        "slopeParams = {\n",
        "    'min': -3.5,\n",
        "    'max': 3.5,\n",
        "    'palette': ['red', 'white', 'blue']\n",
        "}\n",
        "Map.addLayer(slope.clip(basin), slopeParams, 'TWSa Trend', True,\n",
        "    0.75)\n",
        "\n",
        "# -----------------------------------------------------------------------\n",
        "# CHECKPOINT\n",
        "# -----------------------------------------------------------------------"
      ],
      "outputs": [],
      "execution_count": null
    },
    {
      "cell_type": "markdown",
      "metadata": {},
      "source": [
        "## Display the interactive map"
      ]
    },
    {
      "cell_type": "code",
      "metadata": {},
      "source": [
        "Map"
      ],
      "outputs": [],
      "execution_count": null
    }
  ],
  "metadata": {
    "anaconda-cloud": {},
    "kernelspec": {
      "display_name": "Python 3",
      "language": "python",
      "name": "python3"
    },
    "language_info": {
      "codemirror_mode": {
        "name": "ipython",
        "version": 3
      },
      "file_extension": ".py",
      "mimetype": "text/x-python",
      "name": "python",
      "nbconvert_exporter": "python",
      "pygments_lexer": "ipython3",
      "version": "3.6.1"
    }
  },
  "nbformat": 4,
  "nbformat_minor": 4
}