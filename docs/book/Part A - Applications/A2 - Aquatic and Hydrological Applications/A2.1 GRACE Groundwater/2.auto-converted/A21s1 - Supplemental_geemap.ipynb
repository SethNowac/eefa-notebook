{
  "cells": [
    {
      "cell_type": "markdown",
      "metadata": {},
      "source": [
        "## Import libraries"
      ]
    },
    {
      "cell_type": "code",
      "execution_count": 1,
      "metadata": {},
      "outputs": [],
      "source": [
        "import ee\n",
        "import geemap"
      ]
    },
    {
      "cell_type": "markdown",
      "metadata": {},
      "source": [
        "## Create an interactive map"
      ]
    },
    {
      "cell_type": "code",
      "execution_count": 2,
      "metadata": {},
      "outputs": [
        {
          "data": {
            "text/html": [
              "\n",
              "            <style>\n",
              "                .geemap-dark {\n",
              "                    --jp-widgets-color: white;\n",
              "                    --jp-widgets-label-color: white;\n",
              "                    --jp-ui-font-color1: white;\n",
              "                    --jp-layout-color2: #454545;\n",
              "                    background-color: #383838;\n",
              "                }\n",
              "                    \n",
              "                .geemap-dark .jupyter-button {\n",
              "                    --jp-layout-color3: #383838;\n",
              "                }\n",
              "                \n",
              "                .geemap-colab {\n",
              "                    background-color: var(--colab-primary-surface-color, white);\n",
              "                }\n",
              "                    \n",
              "                .geemap-colab .jupyter-button {\n",
              "                    --jp-layout-color3: var(--colab-primary-surface-color, white);\n",
              "                }\n",
              "            </style>\n",
              "            "
            ],
            "text/plain": [
              "<IPython.core.display.HTML object>"
            ]
          },
          "metadata": {},
          "output_type": "display_data"
        }
      ],
      "source": [
        "Map = geemap.Map(center=[40, -100], zoom=4)"
      ]
    },
    {
      "cell_type": "markdown",
      "metadata": {},
      "source": [
        "## Add Earth Engine Python script"
      ]
    },
    {
      "cell_type": "code",
      "execution_count": 3,
      "metadata": {},
      "outputs": [
        {
          "data": {
            "text/html": [
              "\n",
              "            <style>\n",
              "                .geemap-dark {\n",
              "                    --jp-widgets-color: white;\n",
              "                    --jp-widgets-label-color: white;\n",
              "                    --jp-ui-font-color1: white;\n",
              "                    --jp-layout-color2: #454545;\n",
              "                    background-color: #383838;\n",
              "                }\n",
              "                    \n",
              "                .geemap-dark .jupyter-button {\n",
              "                    --jp-layout-color3: #383838;\n",
              "                }\n",
              "                \n",
              "                .geemap-colab {\n",
              "                    background-color: var(--colab-primary-surface-color, white);\n",
              "                }\n",
              "                    \n",
              "                .geemap-colab .jupyter-button {\n",
              "                    --jp-layout-color3: var(--colab-primary-surface-color, white);\n",
              "                }\n",
              "            </style>\n",
              "            "
            ],
            "text/plain": [
              "<IPython.core.display.HTML object>"
            ]
          },
          "metadata": {},
          "output_type": "display_data"
        },
        {
          "name": "stdout",
          "output_type": "stream",
          "text": [
            "{'type': 'Image', 'bands': [{'id': 'SWE_inst', 'data_type': {'type': 'PixelType', 'precision': 'float'}, 'crs': 'EPSG:4326', 'crs_transform': [1, 0, 0, 0, 1, 0]}]}\n",
            "{'type': 'Image', 'bands': [{'id': 'SWE_inst', 'data_type': {'type': 'PixelType', 'precision': 'float'}, 'crs': 'EPSG:4326', 'crs_transform': [1, 0, 0, 0, 1, 0]}]}\n",
            "{'type': 'Image', 'bands': [{'id': 'SWE_inst', 'data_type': {'type': 'PixelType', 'precision': 'float'}, 'crs': 'EPSG:4326', 'crs_transform': [1, 0, 0, 0, 1, 0]}], 'properties': {'system:time_start': {'type': 'Date', 'value': 1041379200000}, 'year': 2003}}\n"
          ]
        }
      ],
      "source": [
        "# Add Earth Engine dataset\n",
        "image = ee.Image(\"USGS/SRTMGL1_003\")\n",
        "\n",
        "#  ~~~~~~~~~~~~~~~~~~~~~~~~~~~~~~~~~~~~~~~~~~~~~~~~~~~~~~~~~~~~~~~~~~~~~~~\n",
        "#  Chapter:      A2.1 Groundwater Monitoring with GRACE\n",
        "#  Section:      Section 3 (A21s1 - Supplemental)\n",
        "#  Authors:      A.J. Purdy, J.S. Famiglietti\n",
        "#  ~~~~~~~~~~~~~~~~~~~~~~~~~~~~~~~~~~~~~~~~~~~~~~~~~~~~~~~~~~~~~~~~~~~~~~~\n",
        "\n",
        "# The basins feature is being used to subset GLDAS geographically\n",
        "# The first 7 lines are set for California.\n",
        "# A user will need to adjust the basin to reflect another region\n",
        "basins = ee.FeatureCollection('USGS/WBD/2017/HUC04')\n",
        "# Extract the 3 HUC 04 basins for the Central Valley.\n",
        "codes = ['1802', '1803', '1804']\n",
        "basin = basins.filter(ee.Filter.inList('huc4', codes))\n",
        "\n",
        "# Set start / end year.\n",
        "yrStart = 2003\n",
        "yrEnd = 2016\n",
        "years = ee.List.sequence(yrStart, yrEnd)\n",
        "\n",
        "# The varBand variable is set to evaluated Snow Water Equivalent.\n",
        "# Need to adjust to export Soil Moisture (SM_inst)\n",
        "varBand = 'SWE_inst'\n",
        "\n",
        "waterstorage = ee.ImageCollection('NASA/GLDAS/V021/NOAH/G025/T3H') \\\n",
        ".select(varBand) \\\n",
        ".filterDate(\n",
        "start = ee.Date.fromYMD(yrStart, 1, 1),\n",
        "end = ee.Date.fromYMD(yrEnd, 12, 1)\n",
        ")\n",
        "waterstorage_mean = waterstorage.select(varBand).mean()\n",
        "print(waterstorage_mean.getInfo())\n",
        "\n",
        "y = 2003\n",
        "date = ee.Date.fromYMD(y, 1, 1)\n",
        "\n",
        "waterstorageIC = ee.Image(ee.ImageCollection(\n",
        "'NASA/GLDAS/V021/NOAH/G025/T3H') \\\n",
        ".select(varBand) \\\n",
        ".filter(ee.Filter.calendarRange(y, y, 'year')) \\\n",
        ".mean())\n",
        "print(waterstorageIC.getInfo())\n",
        "\n",
        "waterstorage_out = ee.Image(waterstorageIC.subtract(\n",
        "waterstorage_mean) \\\n",
        ".set('year', y) \\\n",
        ".set('system:time_start', date))\n",
        "print(waterstorage_out.getInfo())\n",
        "\n",
        "# Change the assetId & description below to reflect the variable being exported.\n",
        "# These should be changed to reflect SM, SWE, Can etc.\n",
        "\n",
        "geemap.ee_export_image_to_asset(\n",
        "image = waterstorage_out,\n",
        "description = 'swe2003',\n",
        "assetId = 'swe2003',\n",
        "region = basin,\n",
        "scale = 10000,\n",
        "maxPixels = 1e13\n",
        ")"
      ]
    },
    {
      "cell_type": "markdown",
      "metadata": {},
      "source": [
        "## Display the interactive map"
      ]
    },
    {
      "cell_type": "code",
      "execution_count": 4,
      "metadata": {},
      "outputs": [
        {
          "data": {
            "text/html": [
              "\n",
              "            <style>\n",
              "                .geemap-dark {\n",
              "                    --jp-widgets-color: white;\n",
              "                    --jp-widgets-label-color: white;\n",
              "                    --jp-ui-font-color1: white;\n",
              "                    --jp-layout-color2: #454545;\n",
              "                    background-color: #383838;\n",
              "                }\n",
              "                    \n",
              "                .geemap-dark .jupyter-button {\n",
              "                    --jp-layout-color3: #383838;\n",
              "                }\n",
              "                \n",
              "                .geemap-colab {\n",
              "                    background-color: var(--colab-primary-surface-color, white);\n",
              "                }\n",
              "                    \n",
              "                .geemap-colab .jupyter-button {\n",
              "                    --jp-layout-color3: var(--colab-primary-surface-color, white);\n",
              "                }\n",
              "            </style>\n",
              "            "
            ],
            "text/plain": [
              "<IPython.core.display.HTML object>"
            ]
          },
          "metadata": {},
          "output_type": "display_data"
        },
        {
          "data": {
            "application/vnd.jupyter.widget-view+json": {
              "model_id": "51c7087a3aa04e5c8e6ba5f4126121e7",
              "version_major": 2,
              "version_minor": 0
            },
            "text/plain": [
              "Map(center=[40, -100], controls=(WidgetControl(options=['position', 'transparent_bg'], widget=SearchDataGUI(ch…"
            ]
          },
          "execution_count": 4,
          "metadata": {},
          "output_type": "execute_result"
        }
      ],
      "source": [
        "Map"
      ]
    }
  ],
  "metadata": {
    "anaconda-cloud": {},
    "kernelspec": {
      "display_name": "Python 3",
      "language": "python",
      "name": "python3"
    },
    "language_info": {
      "codemirror_mode": {
        "name": "ipython",
        "version": 3
      },
      "file_extension": ".py",
      "mimetype": "text/x-python",
      "name": "python",
      "nbconvert_exporter": "python",
      "pygments_lexer": "ipython3",
      "version": "3.11.9"
    }
  },
  "nbformat": 4,
  "nbformat_minor": 4
}
