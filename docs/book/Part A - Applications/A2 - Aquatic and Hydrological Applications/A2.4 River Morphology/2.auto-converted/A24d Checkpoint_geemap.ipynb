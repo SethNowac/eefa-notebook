{
  "cells": [
    {
      "cell_type": "markdown",
      "metadata": {},
      "source": [
        "## Import libraries"
      ]
    },
    {
      "cell_type": "code",
      "execution_count": 7,
      "metadata": {},
      "outputs": [
        {
          "data": {
            "text/html": [
              "\n",
              "            <style>\n",
              "                .geemap-dark {\n",
              "                    --jp-widgets-color: white;\n",
              "                    --jp-widgets-label-color: white;\n",
              "                    --jp-ui-font-color1: white;\n",
              "                    --jp-layout-color2: #454545;\n",
              "                    background-color: #383838;\n",
              "                }\n",
              "\n",
              "                .geemap-dark .jupyter-button {\n",
              "                    --jp-layout-color3: #383838;\n",
              "                }\n",
              "\n",
              "                .geemap-colab {\n",
              "                    background-color: var(--colab-primary-surface-color, white);\n",
              "                }\n",
              "\n",
              "                .geemap-colab .jupyter-button {\n",
              "                    --jp-layout-color3: var(--colab-primary-surface-color, white);\n",
              "                }\n",
              "            </style>\n",
              "            "
            ],
            "text/plain": [
              "<IPython.core.display.HTML object>"
            ]
          },
          "metadata": {},
          "output_type": "display_data"
        }
      ],
      "source": [
        "import ee\n",
        "import geemap\n",
        "import geemap.chart as chart"
      ]
    },
    {
      "cell_type": "markdown",
      "metadata": {},
      "source": [
        "## Create an interactive map"
      ]
    },
    {
      "cell_type": "code",
      "execution_count": 8,
      "metadata": {},
      "outputs": [
        {
          "data": {
            "text/html": [
              "\n",
              "            <style>\n",
              "                .geemap-dark {\n",
              "                    --jp-widgets-color: white;\n",
              "                    --jp-widgets-label-color: white;\n",
              "                    --jp-ui-font-color1: white;\n",
              "                    --jp-layout-color2: #454545;\n",
              "                    background-color: #383838;\n",
              "                }\n",
              "\n",
              "                .geemap-dark .jupyter-button {\n",
              "                    --jp-layout-color3: #383838;\n",
              "                }\n",
              "\n",
              "                .geemap-colab {\n",
              "                    background-color: var(--colab-primary-surface-color, white);\n",
              "                }\n",
              "\n",
              "                .geemap-colab .jupyter-button {\n",
              "                    --jp-layout-color3: var(--colab-primary-surface-color, white);\n",
              "                }\n",
              "            </style>\n",
              "            "
            ],
            "text/plain": [
              "<IPython.core.display.HTML object>"
            ]
          },
          "metadata": {},
          "output_type": "display_data"
        }
      ],
      "source": [
        "Map = geemap.Map(center=[40, -100], zoom=4)"
      ]
    },
    {
      "cell_type": "markdown",
      "metadata": {},
      "source": [
        "## Add Earth Engine Python script"
      ]
    },
    {
      "cell_type": "code",
      "execution_count": 9,
      "metadata": {},
      "outputs": [
        {
          "data": {
            "text/html": [
              "\n",
              "            <style>\n",
              "                .geemap-dark {\n",
              "                    --jp-widgets-color: white;\n",
              "                    --jp-widgets-label-color: white;\n",
              "                    --jp-ui-font-color1: white;\n",
              "                    --jp-layout-color2: #454545;\n",
              "                    background-color: #383838;\n",
              "                }\n",
              "\n",
              "                .geemap-dark .jupyter-button {\n",
              "                    --jp-layout-color3: #383838;\n",
              "                }\n",
              "\n",
              "                .geemap-colab {\n",
              "                    background-color: var(--colab-primary-surface-color, white);\n",
              "                }\n",
              "\n",
              "                .geemap-colab .jupyter-button {\n",
              "                    --jp-layout-color3: var(--colab-primary-surface-color, white);\n",
              "                }\n",
              "            </style>\n",
              "            "
            ],
            "text/plain": [
              "<IPython.core.display.HTML object>"
            ]
          },
          "metadata": {},
          "output_type": "display_data"
        },
        {
          "data": {
            "application/vnd.jupyter.widget-view+json": {
              "model_id": "8133399c9a7c4fd78d947cfafd3134f8",
              "version_major": 2,
              "version_minor": 0
            },
            "text/plain": [
              "VBox(children=(Figure(axes=[Axis(scale=LinearScale()), Axis(orientation='vertical', scale=LinearScale(max=517.…"
            ]
          },
          "metadata": {},
          "output_type": "display_data"
        }
      ],
      "source": [
        "# Add Earth Engine dataset\n",
        "image = ee.Image(\"USGS/SRTMGL1_003\")\n",
        "\n",
        "#  ~~~~~~~~~~~~~~~~~~~~~~~~~~~~~~~~~~~~~~~~~~~~~~~~~~~~~~~~~~~~~~~~~~~~~~~~~~~~~\n",
        "#  Chapter:      A2.4 River Morphology\n",
        "#  Checkpoint:   A24d\n",
        "#  Authors:      Xiao Yang, Theodore Langhorst, Tamlin M. Pavelsky\n",
        "#  ~~~~~~~~~~~~~~~~~~~~~~~~~~~~~~~~~~~~~~~~~~~~~~~~~~~~~~~~~~~~~~~~~~~~~~~~~~~~~\n",
        "\n",
        "# Include the helper function getUTMProj introduced at the beginning\n",
        "# of the chapter in Code Checkpoint A24a.\n",
        "def func_plb(lon, lat):\n",
        "    # Given longitude and latitude in decimal degrees, \n",
        "    # return EPSG string for the corresponding UTM projection. See:\n",
        "    # https://apollomapping.com/blog/gtm-finding-a-utm-zone-number-easily\n",
        "    # https://sis.apache.org/faq.html\n",
        "    utmCode = ee.Number(lon).add(180).divide(6).ceil().int()\n",
        "    output = ee.Algorithms.If(\n",
        "        condition = ee.Number(lat).gte(0),\n",
        "        trueCase = ee.String('EPSG:326').cat(utmCode\n",
        "            .format('%02d')),\n",
        "        falseCase = ee.String('EPSG:327').cat(utmCode\n",
        "            .format('%02d'))\n",
        "    )\n",
        "    return (output)\n",
        "\n",
        "getUTMProj = func_plb\n",
        "\n",
        "# IMPORT AND VISUALIZE SURFACE WATER MASK\n",
        "# Surface water occurrence dataset from the JRC (Pekel et al., 2016).\n",
        "jrcYearly = ee.ImageCollection('JRC/GSW1_3/YearlyHistory')\n",
        "poi = ee.Geometry.LineString([\n",
        "    [110.77450764660864, 30.954167027937988],\n",
        "    [110.77158940320044, 30.950633845897112]\n",
        "])\n",
        "\n",
        "import RivWidthCloudPaper.rwc_watermask as rwcFunction\n",
        "\n",
        "# Function to identify the nearest river width to a given location.\n",
        "def GetNearestClGen(poi):\n",
        "    def temp(widths):\n",
        "        def func_jla(f):\n",
        "            return f.set('dist2cl', f.distance(poi,\n",
        "                30))\n",
        "\n",
        "        widths = widths.map(func_jla)\n",
        "\n",
        "        return ee.Feature(widths.sort('dist2cl', True)\n",
        "            .first())\n",
        "    return temp\n",
        "getNearestCl = GetNearestClGen(poi)\n",
        "\n",
        "# Multitemporal width extraction.\n",
        "polygon = poi.buffer(2000)\n",
        "coords = poi.centroid().coordinates()\n",
        "lon = coords.get(0)\n",
        "lat = coords.get(1)\n",
        "crs = getUTMProj(lon, lat)\n",
        "scale = ee.Number(30)\n",
        "\n",
        "def func_mye(i):\n",
        "    watermask = i.gte(2).unmask(0)\n",
        "\n",
        "    watermask = ee.Image(watermask.rename(['waterMask'])\n",
        "        .setMulti({\n",
        "            'crs': crs,\n",
        "            'scale': scale,\n",
        "            'image_id': i.getNumber('year')\n",
        "        }))\n",
        "    rwc = rwcFunction.rwGen_waterMask(2000, 333, 300,\n",
        "        polygon, None)\n",
        "    widths = rwc(watermask) \\\n",
        "        .filter(ee.Filter.eq('endsInWater', 0)) \\\n",
        "        .filter(ee.Filter.eq('endsOverEdge', 0))\n",
        "\n",
        "    return ee.Algorithms.If(widths.size(), getNearestCl(\n",
        "        widths), None)\n",
        "\n",
        "multiwidths = ee.FeatureCollection(jrcYearly.map(func_mye, True))\n",
        "\n",
        "chart.feature_by_feature(multiwidths, 'image_id', [\n",
        "        'width'\n",
        "    ],\n",
        "    kwargs={\n",
        "        'hAxis': {\n",
        "            'title': 'Year',\n",
        "            'format': '####'\n",
        "        },\n",
        "        'vAxis': {\n",
        "            'title': 'Width (meter)'\n",
        "        },\n",
        "        'title': 'River width time series upstream of the Three Gorges Dam'\n",
        "    })\n",
        "\n",
        "Map.centerObject(polygon)\n",
        "Map.addLayer(polygon, {}, 'area of width calculation')\n",
        "\n",
        "# ------------------------------------------------------------------------------\n",
        "# CHECKPOINT\n",
        "# -----------------------------------------------------------------------------# -----------------------------------------------------------------------------# -----------------------------------------------------------------------------# ------------------------------------------------------------------------------"
      ]
    },
    {
      "cell_type": "markdown",
      "metadata": {},
      "source": [
        "## Display the interactive map"
      ]
    },
    {
      "cell_type": "code",
      "execution_count": 10,
      "metadata": {},
      "outputs": [
        {
          "data": {
            "text/html": [
              "\n",
              "            <style>\n",
              "                .geemap-dark {\n",
              "                    --jp-widgets-color: white;\n",
              "                    --jp-widgets-label-color: white;\n",
              "                    --jp-ui-font-color1: white;\n",
              "                    --jp-layout-color2: #454545;\n",
              "                    background-color: #383838;\n",
              "                }\n",
              "\n",
              "                .geemap-dark .jupyter-button {\n",
              "                    --jp-layout-color3: #383838;\n",
              "                }\n",
              "\n",
              "                .geemap-colab {\n",
              "                    background-color: var(--colab-primary-surface-color, white);\n",
              "                }\n",
              "\n",
              "                .geemap-colab .jupyter-button {\n",
              "                    --jp-layout-color3: var(--colab-primary-surface-color, white);\n",
              "                }\n",
              "            </style>\n",
              "            "
            ],
            "text/plain": [
              "<IPython.core.display.HTML object>"
            ]
          },
          "metadata": {},
          "output_type": "display_data"
        },
        {
          "data": {
            "application/vnd.jupyter.widget-view+json": {
              "model_id": "4197592f412a45d78143c54caccc81ce",
              "version_major": 2,
              "version_minor": 0
            },
            "text/plain": [
              "Map(center=[30.952400445005885, 110.77304870081096], controls=(WidgetControl(options=['position', 'transparent…"
            ]
          },
          "execution_count": 10,
          "metadata": {},
          "output_type": "execute_result"
        }
      ],
      "source": [
        "Map"
      ]
    }
  ],
  "metadata": {
    "anaconda-cloud": {},
    "kernelspec": {
      "display_name": "Python 3",
      "language": "python",
      "name": "python3"
    },
    "language_info": {
      "codemirror_mode": {
        "name": "ipython",
        "version": 3
      },
      "file_extension": ".py",
      "mimetype": "text/x-python",
      "name": "python",
      "nbconvert_exporter": "python",
      "pygments_lexer": "ipython3",
      "version": "3.11.9"
    }
  },
  "nbformat": 4,
  "nbformat_minor": 4
}
