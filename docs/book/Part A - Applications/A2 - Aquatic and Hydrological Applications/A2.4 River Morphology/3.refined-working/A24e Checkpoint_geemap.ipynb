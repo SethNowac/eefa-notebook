{
  "cells": [
    {
      "cell_type": "markdown",
      "metadata": {},
      "source": [
        "## Import libraries"
      ]
    },
    {
      "cell_type": "code",
      "execution_count": 4,
      "metadata": {},
      "outputs": [
        {
          "data": {
            "text/html": [
              "\n",
              "            <style>\n",
              "                .geemap-dark {\n",
              "                    --jp-widgets-color: white;\n",
              "                    --jp-widgets-label-color: white;\n",
              "                    --jp-ui-font-color1: white;\n",
              "                    --jp-layout-color2: #454545;\n",
              "                    background-color: #383838;\n",
              "                }\n",
              "                    \n",
              "                .geemap-dark .jupyter-button {\n",
              "                    --jp-layout-color3: #383838;\n",
              "                }\n",
              "                \n",
              "                .geemap-colab {\n",
              "                    background-color: var(--colab-primary-surface-color, white);\n",
              "                }\n",
              "                    \n",
              "                .geemap-colab .jupyter-button {\n",
              "                    --jp-layout-color3: var(--colab-primary-surface-color, white);\n",
              "                }\n",
              "            </style>\n",
              "            "
            ],
            "text/plain": [
              "<IPython.core.display.HTML object>"
            ]
          },
          "metadata": {},
          "output_type": "display_data"
        }
      ],
      "source": [
        "import ee\n",
        "import geemap"
      ]
    },
    {
      "cell_type": "markdown",
      "metadata": {},
      "source": [
        "## Create an interactive map"
      ]
    },
    {
      "cell_type": "code",
      "execution_count": 5,
      "metadata": {},
      "outputs": [
        {
          "data": {
            "text/html": [
              "\n",
              "            <style>\n",
              "                .geemap-dark {\n",
              "                    --jp-widgets-color: white;\n",
              "                    --jp-widgets-label-color: white;\n",
              "                    --jp-ui-font-color1: white;\n",
              "                    --jp-layout-color2: #454545;\n",
              "                    background-color: #383838;\n",
              "                }\n",
              "                    \n",
              "                .geemap-dark .jupyter-button {\n",
              "                    --jp-layout-color3: #383838;\n",
              "                }\n",
              "                \n",
              "                .geemap-colab {\n",
              "                    background-color: var(--colab-primary-surface-color, white);\n",
              "                }\n",
              "                    \n",
              "                .geemap-colab .jupyter-button {\n",
              "                    --jp-layout-color3: var(--colab-primary-surface-color, white);\n",
              "                }\n",
              "            </style>\n",
              "            "
            ],
            "text/plain": [
              "<IPython.core.display.HTML object>"
            ]
          },
          "metadata": {},
          "output_type": "display_data"
        }
      ],
      "source": [
        "Map = geemap.Map(center=[40, -100], zoom=4)"
      ]
    },
    {
      "cell_type": "markdown",
      "metadata": {},
      "source": [
        "## Add Earth Engine Python script"
      ]
    },
    {
      "cell_type": "code",
      "execution_count": 7,
      "metadata": {},
      "outputs": [
        {
          "data": {
            "text/html": [
              "\n",
              "            <style>\n",
              "                .geemap-dark {\n",
              "                    --jp-widgets-color: white;\n",
              "                    --jp-widgets-label-color: white;\n",
              "                    --jp-ui-font-color1: white;\n",
              "                    --jp-layout-color2: #454545;\n",
              "                    background-color: #383838;\n",
              "                }\n",
              "                    \n",
              "                .geemap-dark .jupyter-button {\n",
              "                    --jp-layout-color3: #383838;\n",
              "                }\n",
              "                \n",
              "                .geemap-colab {\n",
              "                    background-color: var(--colab-primary-surface-color, white);\n",
              "                }\n",
              "                    \n",
              "                .geemap-colab .jupyter-button {\n",
              "                    --jp-layout-color3: var(--colab-primary-surface-color, white);\n",
              "                }\n",
              "            </style>\n",
              "            "
            ],
            "text/plain": [
              "<IPython.core.display.HTML object>"
            ]
          },
          "metadata": {},
          "output_type": "display_data"
        }
      ],
      "source": [
        "# Add Earth Engine dataset\n",
        "image = ee.Image(\"USGS/SRTMGL1_003\")\n",
        "\n",
        "#*** Start of imports. If edited, may not auto-convert in the playground. ***#\n",
        "jrcYearly = ee.ImageCollection(\"JRC/GSW1_3/YearlyHistory\")\n",
        "aoi = \\\n",
        "\\\n",
        "(\n",
        "# [\n",
        "# {\n",
        "#     \"type\": \"rectangle\"\n",
        "# }\n",
        "# ] \n",
        "ee.Geometry.Polygon(\n",
        "[[[-66.75498758257174, -11.090110301403685],\n",
        "[-66.75498758257174, -11.258517279582335],\n",
        "[-66.56650339067721, -11.258517279582335],\n",
        "[-66.56650339067721, -11.090110301403685]]], None, False)\n",
        ")\n",
        "sword = ee.FeatureCollection(\"projects/gee-book/assets/A2-4/SWORD\")\n",
        "#**** End of imports. If edited, may not auto-convert in the playground. ****#\n",
        "#  ~~~~~~~~~~~~~~~~~~~~~~~~~~~~~~~~~~~~~~~~~~~~~~~~~~~~~~~~~~~~~~~~~~~~~~~~~~~~~\n",
        "#  Chapter:      A2.4 River Morphology\n",
        "#  Checkpoint:   A24e\n",
        "#  Authors:      Xiao Yang, Theodore Langhorst, Tamlin M. Pavelsky\n",
        "#  ~~~~~~~~~~~~~~~~~~~~~~~~~~~~~~~~~~~~~~~~~~~~~~~~~~~~~~~~~~~~~~~~~~~~~~~~~~~~~\n",
        "\n",
        "\n",
        "def func_xuu(lon, lat):\n",
        "    # Given longitude and latitude in decimal degrees,\n",
        "    # return EPSG string for the corresponding UTM projection. See:\n",
        "    # https:#apollomapping.com/blog/gtm-finding-a-utm-zone-number-easily\n",
        "    # https:#sis.apache.Org/faq.html\n",
        "    utmCode = ee.Number(lon).add(180).divide(6).ceil().int()\n",
        "    output = ee.Algorithms.If(\n",
        "        condition = ee.Number(lat).gte(0),\n",
        "        trueCase = ee.String('EPSG =326').cat(utmCode \\\n",
        "        .format('%02d')),\n",
        "        falseCase = ee.String('EPSG =327').cat(utmCode \\\n",
        "        .format('%02d'))\n",
        "        )\n",
        "    return (output)\n",
        "\n",
        "getUTMProj = func_xuu\n",
        "\n",
        "\n",
        "\n",
        "\n",
        "\n",
        "\n",
        "\n",
        "\n",
        "\n",
        "\n",
        "\n",
        "\n",
        "\n",
        "\n",
        "\n",
        "coords = aoi.centroid(30).coordinates()\n",
        "lon = coords.get(0)\n",
        "lat = coords.get(1)\n",
        "crs = getUTMProj(lon, lat)\n",
        "scale = 30\n",
        "\n",
        "\n",
        "def func_uzh(image):\n",
        "    return image.reproject(\n",
        "        crs = crs,\n",
        "        scale = scale\n",
        "        )\n",
        "\n",
        "rpj = func_uzh\n",
        "\n",
        "\n",
        "\n",
        "\n",
        "\n",
        "\n",
        "distanceKernel = ee.Kernel.euclidean(\n",
        "radius = 30,\n",
        "units = 'meters',\n",
        "magnitude = 0.5\n",
        ")\n",
        "\n",
        "\n",
        "def func_tmg(year):\n",
        "    watermask = jrcYearly.filter(ee.Filter.eq('year', year)) \\\n",
        "    .first() \\\n",
        "    .gte(2).unmask() \\\n",
        "    .focal_max().focal_min() \\\n",
        "    .rename('watermask')\n",
        "\n",
        "    barPolys = watermask.Not().selfMask() \\\n",
        "    .reduceToVectors(\n",
        "        geometry = aoi,\n",
        "        scale = 30,\n",
        "        eightConnected = False\n",
        "        ) \\\n",
        "    .filter(ee.Filter.lte('count', 1E4)); \n",
        "\n",
        "    filled = watermask.paint(barPolys, 1).rename('filled')\n",
        "\n",
        "    costmap = filled.Not().cumulativeCost(\n",
        "        source = watermask.And(ee.Image().toByte().paint(\n",
        "        sword, 1)),\n",
        "        maxDistance = 5E3,\n",
        "        geodeticDistance = False\n",
        "        ).rename('costmap')\n",
        "\n",
        "    rivermask = costmap.eq(0).rename('rivermask')\n",
        "    channelmask = rivermask.And(watermask).rename(\n",
        "    'channelmask')\n",
        "\n",
        "    bankMask = channelmask.focal_max(1).neq(channelmask) \\\n",
        "    .rename('bankMask')\n",
        "    bankDistance = channelmask.Not().cumulativeCost(\n",
        "        source = channelmask,\n",
        "        maxDistance = 1E2,\n",
        "        geodeticDistance = False\n",
        "        )\n",
        "    bankAspect = ee.Terrain.aspect(bankDistance).mask(\n",
        "    bankMask).rename('bankAspect')\n",
        "\n",
        "    bankLength = bankMask.convolve(distanceKernel) \\\n",
        "    .mask(bankMask).rename('bankLength')\n",
        "\n",
        "    return ee.Image.cat([\n",
        "    watermask, channelmask, rivermask, bankMask,\n",
        "    bankAspect, bankLength\n",
        "    ]).set('year', year) \\\n",
        "    .clip(aoi)\n",
        "\n",
        "makeChannelmask = func_tmg\n",
        "\n",
        "\n",
        "\n",
        "\n",
        "\n",
        "\n",
        "\n",
        "\n",
        "\n",
        "\n",
        "\n",
        "\n",
        "\n",
        "\n",
        "\n",
        "\n",
        "\n",
        "\n",
        "\n",
        "\n",
        "\n",
        "\n",
        "\n",
        "\n",
        "\n",
        "\n",
        "\n",
        "\n",
        "\n",
        "\n",
        "\n",
        "\n",
        "\n",
        "\n",
        "\n",
        "\n",
        "\n",
        "\n",
        "\n",
        "\n",
        "\n",
        "\n",
        "\n",
        "\n",
        "\n",
        "\n",
        "\n",
        "# ------------------------------------------------------------------------------\n",
        "# CHECKPOINT\n",
        "# ------------------------------------------------------------------------------"
      ]
    },
    {
      "cell_type": "markdown",
      "metadata": {},
      "source": [
        "## Display the interactive map"
      ]
    },
    {
      "cell_type": "code",
      "execution_count": 8,
      "metadata": {},
      "outputs": [
        {
          "data": {
            "text/html": [
              "\n",
              "            <style>\n",
              "                .geemap-dark {\n",
              "                    --jp-widgets-color: white;\n",
              "                    --jp-widgets-label-color: white;\n",
              "                    --jp-ui-font-color1: white;\n",
              "                    --jp-layout-color2: #454545;\n",
              "                    background-color: #383838;\n",
              "                }\n",
              "                    \n",
              "                .geemap-dark .jupyter-button {\n",
              "                    --jp-layout-color3: #383838;\n",
              "                }\n",
              "                \n",
              "                .geemap-colab {\n",
              "                    background-color: var(--colab-primary-surface-color, white);\n",
              "                }\n",
              "                    \n",
              "                .geemap-colab .jupyter-button {\n",
              "                    --jp-layout-color3: var(--colab-primary-surface-color, white);\n",
              "                }\n",
              "            </style>\n",
              "            "
            ],
            "text/plain": [
              "<IPython.core.display.HTML object>"
            ]
          },
          "metadata": {},
          "output_type": "display_data"
        },
        {
          "data": {
            "application/vnd.jupyter.widget-view+json": {
              "model_id": "0774612371034f91801a5a241a5d2bf3",
              "version_major": 2,
              "version_minor": 0
            },
            "text/plain": [
              "Map(center=[40, -100], controls=(WidgetControl(options=['position', 'transparent_bg'], widget=SearchDataGUI(ch…"
            ]
          },
          "execution_count": 8,
          "metadata": {},
          "output_type": "execute_result"
        }
      ],
      "source": [
        "Map"
      ]
    }
  ],
  "metadata": {
    "anaconda-cloud": {},
    "kernelspec": {
      "display_name": "Python 3",
      "language": "python",
      "name": "python3"
    },
    "language_info": {
      "codemirror_mode": {
        "name": "ipython",
        "version": 3
      },
      "file_extension": ".py",
      "mimetype": "text/x-python",
      "name": "python",
      "nbconvert_exporter": "python",
      "pygments_lexer": "ipython3",
      "version": "3.11.9"
    }
  },
  "nbformat": 4,
  "nbformat_minor": 4
}
