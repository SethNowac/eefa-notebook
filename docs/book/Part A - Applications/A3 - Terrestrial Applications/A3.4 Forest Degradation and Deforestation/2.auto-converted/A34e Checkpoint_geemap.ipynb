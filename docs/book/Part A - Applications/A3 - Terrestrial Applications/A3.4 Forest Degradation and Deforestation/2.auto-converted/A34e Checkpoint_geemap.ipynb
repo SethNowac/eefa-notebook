{
  "cells": [
    {
      "cell_type": "markdown",
      "metadata": {},
      "source": [
        "## Import libraries"
      ]
    },
    {
      "cell_type": "code",
      "execution_count": 1,
      "metadata": {},
      "outputs": [],
      "source": [
        "import ee\n",
        "import geemap"
      ]
    },
    {
      "cell_type": "markdown",
      "metadata": {},
      "source": [
        "## Create an interactive map"
      ]
    },
    {
      "cell_type": "code",
      "execution_count": 2,
      "metadata": {},
      "outputs": [
        {
          "data": {
            "text/html": [
              "\n",
              "            <style>\n",
              "                .geemap-dark {\n",
              "                    --jp-widgets-color: white;\n",
              "                    --jp-widgets-label-color: white;\n",
              "                    --jp-ui-font-color1: white;\n",
              "                    --jp-layout-color2: #454545;\n",
              "                    background-color: #383838;\n",
              "                }\n",
              "\n",
              "                .geemap-dark .jupyter-button {\n",
              "                    --jp-layout-color3: #383838;\n",
              "                }\n",
              "\n",
              "                .geemap-colab {\n",
              "                    background-color: var(--colab-primary-surface-color, white);\n",
              "                }\n",
              "\n",
              "                .geemap-colab .jupyter-button {\n",
              "                    --jp-layout-color3: var(--colab-primary-surface-color, white);\n",
              "                }\n",
              "            </style>\n",
              "            "
            ],
            "text/plain": [
              "<IPython.core.display.HTML object>"
            ]
          },
          "metadata": {},
          "output_type": "display_data"
        }
      ],
      "source": [
        "Map = geemap.Map(center=[40, -100], zoom=4)"
      ]
    },
    {
      "cell_type": "markdown",
      "metadata": {},
      "source": [
        "## Add Earth Engine Python script"
      ]
    },
    {
      "cell_type": "code",
      "execution_count": 3,
      "metadata": {},
      "outputs": [
        {
          "data": {
            "text/html": [
              "\n",
              "            <style>\n",
              "                .geemap-dark {\n",
              "                    --jp-widgets-color: white;\n",
              "                    --jp-widgets-label-color: white;\n",
              "                    --jp-ui-font-color1: white;\n",
              "                    --jp-layout-color2: #454545;\n",
              "                    background-color: #383838;\n",
              "                }\n",
              "\n",
              "                .geemap-dark .jupyter-button {\n",
              "                    --jp-layout-color3: #383838;\n",
              "                }\n",
              "\n",
              "                .geemap-colab {\n",
              "                    background-color: var(--colab-primary-surface-color, white);\n",
              "                }\n",
              "\n",
              "                .geemap-colab .jupyter-button {\n",
              "                    --jp-layout-color3: var(--colab-primary-surface-color, white);\n",
              "                }\n",
              "            </style>\n",
              "            "
            ],
            "text/plain": [
              "<IPython.core.display.HTML object>"
            ]
          },
          "metadata": {},
          "output_type": "display_data"
        },
        {
          "ename": "EEException",
          "evalue": "Unrecognized argument type to convert to an ImageCollection: {'collection': <ee.imagecollection.ImageCollection object at 0x000001F569D94590>, 'breakpointBands': ['NDFI'], 'lambda': 0.002, 'minNumOfYearsScaler': 1.33, 'dateFormat': 1, 'minObservations': 4, 'chiSquareProbability': 0.97}",
          "output_type": "error",
          "traceback": [
            "\u001b[1;31m---------------------------------------------------------------------------\u001b[0m",
            "\u001b[1;31mEEException\u001b[0m                               Traceback (most recent call last)",
            "Cell \u001b[1;32mIn[3], line 66\u001b[0m\n\u001b[0;32m     51\u001b[0m codedParams \u001b[38;5;241m=\u001b[39m {\n\u001b[0;32m     52\u001b[0m     \u001b[38;5;124m'\u001b[39m\u001b[38;5;124mminObservations\u001b[39m\u001b[38;5;124m'\u001b[39m: minObservations,\n\u001b[0;32m     53\u001b[0m     \u001b[38;5;124m'\u001b[39m\u001b[38;5;124mchiSquareProbability\u001b[39m\u001b[38;5;124m'\u001b[39m: chiSquareProbability,\n\u001b[1;32m   (...)\u001b[0m\n\u001b[0;32m     62\u001b[0m     \u001b[38;5;124m'\u001b[39m\u001b[38;5;124mprepTraining\u001b[39m\u001b[38;5;124m'\u001b[39m: prepTraining\n\u001b[0;32m     63\u001b[0m }\n\u001b[0;32m     65\u001b[0m \u001b[38;5;66;03m# -------------- Run CODED\u001b[39;00m\n\u001b[1;32m---> 66\u001b[0m results \u001b[38;5;241m=\u001b[39m \u001b[43mapi\u001b[49m\u001b[38;5;241;43m.\u001b[39;49m\u001b[43mChangeDetection\u001b[49m\u001b[43m[\u001b[49m\u001b[38;5;124;43m'\u001b[39;49m\u001b[38;5;124;43mcoded\u001b[39;49m\u001b[38;5;124;43m'\u001b[39;49m\u001b[43m]\u001b[49m\u001b[43m(\u001b[49m\u001b[43mcodedParams\u001b[49m\u001b[43m)\u001b[49m\n\u001b[0;32m     67\u001b[0m \u001b[38;5;28mprint\u001b[39m(results\u001b[38;5;241m.\u001b[39mgetInfo())\n\u001b[0;32m     69\u001b[0m \u001b[38;5;66;03m# ------------------------------------------------------------------------\u001b[39;00m\n\u001b[0;32m     70\u001b[0m \u001b[38;5;66;03m# CHECKPOINT\u001b[39;00m\n\u001b[0;32m     71\u001b[0m \u001b[38;5;66;03m# ------------------------------------------------------------------------\u001b[39;00m\n\u001b[0;32m     72\u001b[0m \n\u001b[0;32m     73\u001b[0m \u001b[38;5;66;03m# Format the results for exporting.\u001b[39;00m\n",
            "File \u001b[1;32md:\\Users\\Seth Nowac\\Documents\\Github\\eefa-notebook-forked\\eefa-notebook\\docs\\book\\Part A - Applications\\A3 - Terrestrial Applications\\A3.4 Forest Degradation and Deforestation\\2.auto-converted\\modules\\coded_api_geemap.py:281\u001b[0m, in \u001b[0;36mfunc_hnn\u001b[1;34m(params)\u001b[0m\n\u001b[0;32m    275\u001b[0m generalParams[\u001b[38;5;124m'\u001b[39m\u001b[38;5;124mendYear\u001b[39m\u001b[38;5;124m'\u001b[39m] \u001b[38;5;241m=\u001b[39m params[\u001b[38;5;124m'\u001b[39m\u001b[38;5;124mendYear\u001b[39m\u001b[38;5;124m'\u001b[39m] \u001b[38;5;129;01mor\u001b[39;00m  dates\u001b[38;5;241m.\u001b[39maggregate_max(\u001b[38;5;124m'\u001b[39m\u001b[38;5;124myear\u001b[39m\u001b[38;5;124m'\u001b[39m)\n\u001b[0;32m    278\u001b[0m \u001b[38;5;66;03m# ----------------- Run Analysis\u001b[39;00m\n\u001b[0;32m    279\u001b[0m \n\u001b[0;32m    280\u001b[0m \u001b[38;5;66;03m# Run CCDC/CODED\u001b[39;00m\n\u001b[1;32m--> 281\u001b[0m output[\u001b[38;5;124m'\u001b[39m\u001b[38;5;124mLayers\u001b[39m\u001b[38;5;124m'\u001b[39m][\u001b[38;5;124m'\u001b[39m\u001b[38;5;124mrawChangeOutput\u001b[39m\u001b[38;5;124m'\u001b[39m] \u001b[38;5;241m=\u001b[39m \u001b[43mee\u001b[49m\u001b[38;5;241;43m.\u001b[39;49m\u001b[43mAlgorithms\u001b[49m\u001b[38;5;241;43m.\u001b[39;49m\u001b[43mTemporalSegmentation\u001b[49m\u001b[38;5;241;43m.\u001b[39;49m\u001b[43mCcdc\u001b[49m\u001b[43m(\u001b[49m\u001b[43mchangeDetectionParams\u001b[49m\u001b[43m)\u001b[49m\n\u001b[0;32m    282\u001b[0m output[\u001b[38;5;124m'\u001b[39m\u001b[38;5;124mLayers\u001b[39m\u001b[38;5;124m'\u001b[39m][\u001b[38;5;124m'\u001b[39m\u001b[38;5;124mformattedChangeOutput\u001b[39m\u001b[38;5;124m'\u001b[39m] \u001b[38;5;241m=\u001b[39m utils\u001b[38;5;241m.\u001b[39mCCDC\u001b[38;5;241m.\u001b[39mbuildCcdImage(output[\u001b[38;5;124m'\u001b[39m\u001b[38;5;124mLayers\u001b[39m\u001b[38;5;124m'\u001b[39m][\u001b[38;5;124m'\u001b[39m\u001b[38;5;124mrawChangeOutput\u001b[39m\u001b[38;5;124m'\u001b[39m], generalParams[\u001b[38;5;124m'\u001b[39m\u001b[38;5;124msegs\u001b[39m\u001b[38;5;124m'\u001b[39m]\u001b[38;5;241m.\u001b[39m\u001b[38;5;21m__len__\u001b[39m(), generalParams[\u001b[38;5;124m'\u001b[39m\u001b[38;5;124mclassBands\u001b[39m\u001b[38;5;124m'\u001b[39m])\n\u001b[0;32m    283\u001b[0m \u001b[38;5;66;03m# prepTraining = True\u001b[39;00m\n",
            "File \u001b[1;32m~\\AppData\\Local\\Packages\\PythonSoftwareFoundation.Python.3.11_qbz5n2kfra8p0\\LocalCache\\local-packages\\Python311\\site-packages\\ee\\__init__.py:393\u001b[0m, in \u001b[0;36m_InitializeUnboundMethods.<locals>.GenerateFunction.<locals>.<lambda>\u001b[1;34m(*args, **kwargs)\u001b[0m\n\u001b[0;32m    392\u001b[0m \u001b[38;5;28;01mdef\u001b[39;00m \u001b[38;5;21mGenerateFunction\u001b[39m(f):\n\u001b[1;32m--> 393\u001b[0m   \u001b[38;5;28;01mreturn\u001b[39;00m \u001b[38;5;28;01mlambda\u001b[39;00m \u001b[38;5;241m*\u001b[39margs, \u001b[38;5;241m*\u001b[39m\u001b[38;5;241m*\u001b[39mkwargs: \u001b[43mf\u001b[49m\u001b[38;5;241;43m.\u001b[39;49m\u001b[43mcall\u001b[49m\u001b[43m(\u001b[49m\u001b[38;5;241;43m*\u001b[39;49m\u001b[43margs\u001b[49m\u001b[43m,\u001b[49m\u001b[43m \u001b[49m\u001b[38;5;241;43m*\u001b[39;49m\u001b[38;5;241;43m*\u001b[39;49m\u001b[43mkwargs\u001b[49m\u001b[43m)\u001b[49m\n",
            "File \u001b[1;32m~\\AppData\\Local\\Packages\\PythonSoftwareFoundation.Python.3.11_qbz5n2kfra8p0\\LocalCache\\local-packages\\Python311\\site-packages\\ee\\function.py:62\u001b[0m, in \u001b[0;36mFunction.call\u001b[1;34m(self, *args, **kwargs)\u001b[0m\n\u001b[0;32m     50\u001b[0m \u001b[38;5;28;01mdef\u001b[39;00m \u001b[38;5;21mcall\u001b[39m(\u001b[38;5;28mself\u001b[39m, \u001b[38;5;241m*\u001b[39margs, \u001b[38;5;241m*\u001b[39m\u001b[38;5;241m*\u001b[39mkwargs):\n\u001b[0;32m     51\u001b[0m \u001b[38;5;250m  \u001b[39m\u001b[38;5;124;03m\"\"\"Calls the function with the given positional and keyword arguments.\u001b[39;00m\n\u001b[0;32m     52\u001b[0m \n\u001b[0;32m     53\u001b[0m \u001b[38;5;124;03m  Args:\u001b[39;00m\n\u001b[1;32m   (...)\u001b[0m\n\u001b[0;32m     60\u001b[0m \u001b[38;5;124;03m    to that type.\u001b[39;00m\n\u001b[0;32m     61\u001b[0m \u001b[38;5;124;03m  \"\"\"\u001b[39;00m\n\u001b[1;32m---> 62\u001b[0m   \u001b[38;5;28;01mreturn\u001b[39;00m \u001b[38;5;28;43mself\u001b[39;49m\u001b[38;5;241;43m.\u001b[39;49m\u001b[43mapply\u001b[49m\u001b[43m(\u001b[49m\u001b[38;5;28;43mself\u001b[39;49m\u001b[38;5;241;43m.\u001b[39;49m\u001b[43mnameArgs\u001b[49m\u001b[43m(\u001b[49m\u001b[43margs\u001b[49m\u001b[43m,\u001b[49m\u001b[43m \u001b[49m\u001b[43mkwargs\u001b[49m\u001b[43m)\u001b[49m\u001b[43m)\u001b[49m\n",
            "File \u001b[1;32m~\\AppData\\Local\\Packages\\PythonSoftwareFoundation.Python.3.11_qbz5n2kfra8p0\\LocalCache\\local-packages\\Python311\\site-packages\\ee\\function.py:75\u001b[0m, in \u001b[0;36mFunction.apply\u001b[1;34m(self, named_args)\u001b[0m\n\u001b[0;32m     64\u001b[0m \u001b[38;5;28;01mdef\u001b[39;00m \u001b[38;5;21mapply\u001b[39m(\u001b[38;5;28mself\u001b[39m, named_args):\n\u001b[0;32m     65\u001b[0m \u001b[38;5;250m  \u001b[39m\u001b[38;5;124;03m\"\"\"Calls the function with a dictionary of named arguments.\u001b[39;00m\n\u001b[0;32m     66\u001b[0m \n\u001b[0;32m     67\u001b[0m \u001b[38;5;124;03m  Args:\u001b[39;00m\n\u001b[1;32m   (...)\u001b[0m\n\u001b[0;32m     73\u001b[0m \u001b[38;5;124;03m    to that type.\u001b[39;00m\n\u001b[0;32m     74\u001b[0m \u001b[38;5;124;03m  \"\"\"\u001b[39;00m\n\u001b[1;32m---> 75\u001b[0m   result \u001b[38;5;241m=\u001b[39m computedobject\u001b[38;5;241m.\u001b[39mComputedObject(\u001b[38;5;28mself\u001b[39m, \u001b[38;5;28;43mself\u001b[39;49m\u001b[38;5;241;43m.\u001b[39;49m\u001b[43mpromoteArgs\u001b[49m\u001b[43m(\u001b[49m\u001b[43mnamed_args\u001b[49m\u001b[43m)\u001b[49m)\n\u001b[0;32m     76\u001b[0m   \u001b[38;5;28;01mreturn\u001b[39;00m Function\u001b[38;5;241m.\u001b[39m_promoter(result, \u001b[38;5;28mself\u001b[39m\u001b[38;5;241m.\u001b[39mgetReturnType())\n",
            "File \u001b[1;32m~\\AppData\\Local\\Packages\\PythonSoftwareFoundation.Python.3.11_qbz5n2kfra8p0\\LocalCache\\local-packages\\Python311\\site-packages\\ee\\function.py:103\u001b[0m, in \u001b[0;36mFunction.promoteArgs\u001b[1;34m(self, args)\u001b[0m\n\u001b[0;32m    101\u001b[0m name \u001b[38;5;241m=\u001b[39m arg_spec[\u001b[38;5;124m'\u001b[39m\u001b[38;5;124mname\u001b[39m\u001b[38;5;124m'\u001b[39m]\n\u001b[0;32m    102\u001b[0m \u001b[38;5;28;01mif\u001b[39;00m name \u001b[38;5;129;01min\u001b[39;00m args:\n\u001b[1;32m--> 103\u001b[0m   promoted_args[name] \u001b[38;5;241m=\u001b[39m \u001b[43mFunction\u001b[49m\u001b[38;5;241;43m.\u001b[39;49m\u001b[43m_promoter\u001b[49m\u001b[43m(\u001b[49m\u001b[43margs\u001b[49m\u001b[43m[\u001b[49m\u001b[43mname\u001b[49m\u001b[43m]\u001b[49m\u001b[43m,\u001b[49m\u001b[43m \u001b[49m\u001b[43marg_spec\u001b[49m\u001b[43m[\u001b[49m\u001b[38;5;124;43m'\u001b[39;49m\u001b[38;5;124;43mtype\u001b[39;49m\u001b[38;5;124;43m'\u001b[39;49m\u001b[43m]\u001b[49m\u001b[43m)\u001b[49m\n\u001b[0;32m    104\u001b[0m \u001b[38;5;28;01melif\u001b[39;00m \u001b[38;5;129;01mnot\u001b[39;00m arg_spec\u001b[38;5;241m.\u001b[39mget(\u001b[38;5;124m'\u001b[39m\u001b[38;5;124moptional\u001b[39m\u001b[38;5;124m'\u001b[39m):\n\u001b[0;32m    105\u001b[0m   \u001b[38;5;28;01mraise\u001b[39;00m ee_exception\u001b[38;5;241m.\u001b[39mEEException(\n\u001b[0;32m    106\u001b[0m       \u001b[38;5;124m'\u001b[39m\u001b[38;5;124mRequired argument (\u001b[39m\u001b[38;5;132;01m%s\u001b[39;00m\u001b[38;5;124m) missing to function: \u001b[39m\u001b[38;5;132;01m%s\u001b[39;00m\u001b[38;5;124m'\u001b[39m\n\u001b[0;32m    107\u001b[0m       \u001b[38;5;241m%\u001b[39m (name, signature\u001b[38;5;241m.\u001b[39mget(\u001b[38;5;124m'\u001b[39m\u001b[38;5;124mname\u001b[39m\u001b[38;5;124m'\u001b[39m)))\n",
            "File \u001b[1;32m~\\AppData\\Local\\Packages\\PythonSoftwareFoundation.Python.3.11_qbz5n2kfra8p0\\LocalCache\\local-packages\\Python311\\site-packages\\ee\\__init__.py:309\u001b[0m, in \u001b[0;36m_Promote\u001b[1;34m(arg, a_class)\u001b[0m\n\u001b[0;32m    307\u001b[0m     \u001b[38;5;28;01mreturn\u001b[39;00m FeatureCollection(arg)\n\u001b[0;32m    308\u001b[0m \u001b[38;5;28;01melif\u001b[39;00m a_class \u001b[38;5;241m==\u001b[39m \u001b[38;5;124m'\u001b[39m\u001b[38;5;124mImageCollection\u001b[39m\u001b[38;5;124m'\u001b[39m:\n\u001b[1;32m--> 309\u001b[0m   \u001b[38;5;28;01mreturn\u001b[39;00m \u001b[43mImageCollection\u001b[49m\u001b[43m(\u001b[49m\u001b[43marg\u001b[49m\u001b[43m)\u001b[49m\n\u001b[0;32m    310\u001b[0m \u001b[38;5;28;01melif\u001b[39;00m a_class \u001b[38;5;241m==\u001b[39m \u001b[38;5;124m'\u001b[39m\u001b[38;5;124mFilter\u001b[39m\u001b[38;5;124m'\u001b[39m:\n\u001b[0;32m    311\u001b[0m   \u001b[38;5;28;01mreturn\u001b[39;00m Filter(arg)\n",
            "File \u001b[1;32m~\\AppData\\Local\\Packages\\PythonSoftwareFoundation.Python.3.11_qbz5n2kfra8p0\\LocalCache\\local-packages\\Python311\\site-packages\\ee\\computedobject.py:28\u001b[0m, in \u001b[0;36mComputedObjectMetaclass.__call__\u001b[1;34m(cls, *args, **kwargs)\u001b[0m\n\u001b[0;32m     26\u001b[0m   \u001b[38;5;28;01mreturn\u001b[39;00m args[\u001b[38;5;241m0\u001b[39m]\n\u001b[0;32m     27\u001b[0m \u001b[38;5;28;01melse\u001b[39;00m:\n\u001b[1;32m---> 28\u001b[0m   \u001b[38;5;28;01mreturn\u001b[39;00m \u001b[38;5;28;43mtype\u001b[39;49m\u001b[38;5;241;43m.\u001b[39;49m\u001b[38;5;21;43m__call__\u001b[39;49m\u001b[43m(\u001b[49m\u001b[38;5;28;43mcls\u001b[39;49m\u001b[43m,\u001b[49m\u001b[43m \u001b[49m\u001b[38;5;241;43m*\u001b[39;49m\u001b[43margs\u001b[49m\u001b[43m,\u001b[49m\u001b[43m \u001b[49m\u001b[38;5;241;43m*\u001b[39;49m\u001b[38;5;241;43m*\u001b[39;49m\u001b[43mkwargs\u001b[49m\u001b[43m)\u001b[49m\n",
            "File \u001b[1;32m~\\AppData\\Local\\Packages\\PythonSoftwareFoundation.Python.3.11_qbz5n2kfra8p0\\LocalCache\\local-packages\\Python311\\site-packages\\ee\\imagecollection.py:66\u001b[0m, in \u001b[0;36mImageCollection.__init__\u001b[1;34m(self, args)\u001b[0m\n\u001b[0;32m     64\u001b[0m   \u001b[38;5;28msuper\u001b[39m()\u001b[38;5;241m.\u001b[39m\u001b[38;5;21m__init__\u001b[39m(args\u001b[38;5;241m.\u001b[39mfunc, args\u001b[38;5;241m.\u001b[39margs, args\u001b[38;5;241m.\u001b[39mvarName)\n\u001b[0;32m     65\u001b[0m \u001b[38;5;28;01melse\u001b[39;00m:\n\u001b[1;32m---> 66\u001b[0m   \u001b[38;5;28;01mraise\u001b[39;00m ee_exception\u001b[38;5;241m.\u001b[39mEEException(\n\u001b[0;32m     67\u001b[0m       \u001b[38;5;124m'\u001b[39m\u001b[38;5;124mUnrecognized argument type to convert to an ImageCollection: \u001b[39m\u001b[38;5;132;01m%s\u001b[39;00m\u001b[38;5;124m'\u001b[39m \u001b[38;5;241m%\u001b[39m\n\u001b[0;32m     68\u001b[0m       args)\n",
            "\u001b[1;31mEEException\u001b[0m: Unrecognized argument type to convert to an ImageCollection: {'collection': <ee.imagecollection.ImageCollection object at 0x000001F569D94590>, 'breakpointBands': ['NDFI'], 'lambda': 0.002, 'minNumOfYearsScaler': 1.33, 'dateFormat': 1, 'minObservations': 4, 'chiSquareProbability': 0.97}"
          ]
        }
      ],
      "source": [
        "# Add Earth Engine dataset\n",
        "image = ee.Image(\"USGS/SRTMGL1_003\")\n",
        "\n",
        "#  ~~~~~~~~~~~~~~~~~~~~~~~~~~~~~~~~~~~~~~~~~~~~~~~~~~~~~~~~~~~~~~~~~~~~~~~\n",
        "#  Chapter:      A3.4 Forest Degradation and Deforestation\n",
        "#  Checkpoint:   A34e\n",
        "#  Author:       Carlos Souza Jr., Karis Tenneson, John Dilger,\n",
        "#                Crystal Wespestad, Eric Bullock\n",
        "#  ~~~~~~~~~~~~~~~~~~~~~~~~~~~~~~~~~~~~~~~~~~~~~~~~~~~~~~~~~~~~~~~~~~~~~~~\n",
        "\n",
        "from modules import coded_api_geemap as api\n",
        "from modules import api_geemap as utils\n",
        "\n",
        "# ------------------------------------------------------------------------\n",
        "# CHECKPOINT\n",
        "# ------------------------------------------------------------------------\n",
        "\n",
        "# We will use the geometry of the image from the previous section as\n",
        "# the study area.\n",
        "studyArea = ee.Image(\n",
        "'LANDSAT/LT05/C02/T1_L2/LT05_226068_19840411') \\\n",
        ".geometry()\n",
        "\n",
        "# Get cloud masked (Fmask) Landsat imagery.\n",
        "landsat = utils.Inputs.getLandsat(None) \\\n",
        ".filterBounds(studyArea) \\\n",
        ".filterDate('1984-01-01', '2021-01-01')\n",
        "\n",
        "# Make a forest mask\n",
        "gfwImage = ee.Image('UMD/hansen/global_forest_change_2019_v1_7')\n",
        "\n",
        "# Get areas of forest cover above the threshold\n",
        "treeCover = 40\n",
        "forestMask = gfwImage.select('treecover2000') \\\n",
        ".gte(treeCover) \\\n",
        ".rename('landcover')\n",
        "\n",
        "samples = ee.FeatureCollection(\n",
        "'projects/gee-book/assets/A3-4/sample_with_pred_hansen_2010')\n",
        "\n",
        "minObservations = 4\n",
        "chiSquareProbability = 0.97\n",
        "training = samples\n",
        "forestValue = 1\n",
        "startYear = 1990\n",
        "endYear = 2020\n",
        "classBands = ['NDFI', 'GV', 'Shade', 'NPV', 'Soil']\n",
        "prepTraining = False\n",
        "\n",
        "#---------------- CODED parameters\n",
        "codedParams = {\n",
        "    'minObservations': minObservations,\n",
        "    'chiSquareProbability': chiSquareProbability,\n",
        "    'training': training,\n",
        "    'studyArea': studyArea,\n",
        "    'forestValue': forestValue,\n",
        "    'forestMask': forestMask,\n",
        "    'classBands': classBands,\n",
        "    'collection': landsat,\n",
        "    'startYear': startYear,\n",
        "    'endYear': endYear,\n",
        "    'prepTraining': prepTraining\n",
        "}\n",
        "\n",
        "# -------------- Run CODED\n",
        "results = api.ChangeDetection['coded'](codedParams)\n",
        "print(results.getInfo())\n",
        "\n",
        "# ------------------------------------------------------------------------\n",
        "# CHECKPOINT\n",
        "# ------------------------------------------------------------------------\n",
        "\n",
        "# Format the results for exporting.\n",
        "degradation = results.Layers.DatesOfDegradation \\\n",
        ".rename(['degradation_1', 'degradation_2',\n",
        "'degradation_3', 'degradation_4'\n",
        "])\n",
        "deforestation = results.Layers.DatesOfDeforestation \\\n",
        ".rename(['deforestation_1', 'deforestation_2',\n",
        "'deforestation_3', 'deforestation_4'\n",
        "])\n",
        "mask = results.Layers.mask.rename('mask')\n",
        "change = ee.Image.cat([degradation, deforestation]).selfMask() \\\n",
        ".toInt32()\n",
        "mag = results.Layers.magnitude.reduce(ee.Reducer.min()) \\\n",
        ".rename('magnitude')\n",
        "\n",
        "\n",
        "def func_zrg(img, magThreshold):\n",
        "    strata = img.select('mask').remap([0, 1], [2, 1])\n",
        "    mag = img.select('magnitude').lte(magThreshold)\n",
        "\n",
        "    deg = img.select(['deg.*']).gt(0).reduce(ee.Reducer.max()) \\\n",
        "    .multiply(mag)\n",
        "    _def = img.select(['def.*']).gt(0).reduce(ee.Reducer.max()) \\\n",
        "    .multiply(mag)\n",
        "    strata = strata.where(deg, 3).where(_def, 4)\n",
        "\n",
        "    return strata.clip(studyArea)\n",
        "\n",
        "makeStrata = func_zrg\n",
        "\n",
        "\n",
        "\n",
        "\n",
        "\n",
        "\n",
        "\n",
        "\n",
        "\n",
        "\n",
        "\n",
        "\n",
        "fullOutput = ee.Image.cat([mask, change, mag])\n",
        "magnitudeThresh = -0.6\n",
        "strata = makeStrata(ee.Image(fullOutput), magnitudeThresh) \\\n",
        ".rename('strata')\n",
        "\n",
        "geemap.ee_export_image_to_asset(\n",
        "image = strata,\n",
        "description = 'strata',\n",
        "region = studyArea,\n",
        "scale = 30,\n",
        "maxPixels = 1e13,\n",
        ")\n",
        "\n",
        "exportedStrata = ee.Image('projects/gee-book/assets/A3-4/strata')\n",
        "Map.addLayer(exportedStrata,\n",
        "{\n",
        "    'min': 1,\n",
        "    'max': 4,\n",
        "    'palette': 'green,black,yellow,red'\n",
        "},\n",
        "'strata')\n",
        "Map.setCenter(-55.0828, -11.24, 11)\n",
        "\n",
        "# ------------------------------------------------------------------------\n",
        "# CHECKPOINT\n",
        "# ------------------------------------------------------------------------"
      ]
    },
    {
      "cell_type": "markdown",
      "metadata": {},
      "source": [
        "## Display the interactive map"
      ]
    },
    {
      "cell_type": "code",
      "execution_count": null,
      "metadata": {},
      "outputs": [],
      "source": [
        "Map"
      ]
    }
  ],
  "metadata": {
    "anaconda-cloud": {},
    "kernelspec": {
      "display_name": "Python 3",
      "language": "python",
      "name": "python3"
    },
    "language_info": {
      "codemirror_mode": {
        "name": "ipython",
        "version": 3
      },
      "file_extension": ".py",
      "mimetype": "text/x-python",
      "name": "python",
      "nbconvert_exporter": "python",
      "pygments_lexer": "ipython3",
      "version": "3.11.9"
    }
  },
  "nbformat": 4,
  "nbformat_minor": 4
}
