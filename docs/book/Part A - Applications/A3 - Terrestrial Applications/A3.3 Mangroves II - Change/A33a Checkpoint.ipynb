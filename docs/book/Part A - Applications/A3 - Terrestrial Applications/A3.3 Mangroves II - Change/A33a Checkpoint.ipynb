{
  "cells": [
    {
      "cell_type": "markdown",
      "metadata": {},
      "source": [
        "## Import libraries"
      ]
    },
    {
      "cell_type": "code",
      "metadata": {},
      "source": [
        "import ee\n",
        "import geemap"
      ],
      "outputs": [],
      "execution_count": null
    },
    {
      "cell_type": "markdown",
      "metadata": {},
      "source": [
        "## Create an interactive map"
      ]
    },
    {
      "cell_type": "code",
      "metadata": {},
      "source": [
        "Map = geemap.Map(center=[40, -100], zoom=4)"
      ],
      "outputs": [],
      "execution_count": null
    },
    {
      "cell_type": "markdown",
      "metadata": {},
      "source": [
        "## Add Earth Engine Python script"
      ]
    },
    {
      "cell_type": "code",
      "metadata": {},
      "source": [
        "# Add Earth Engine dataset\n",
        "image = ee.Image(\"USGS/SRTMGL1_003\")\n",
        "\n",
        "#  ~~~~~~~~~~~~~~~~~~~~~~~~~~~~~~~~~~~~~~~~~~~~~~~~~~~~~~~~~~~~~~~~~~~~~~~\n",
        "#  Chapter:      A3.3 Mangroves II - Change Mapping\n",
        "#  Checkpoint:   A33a\n",
        "#  Authors:      Celio de Sousa, David Lagomasino, and Lola Fatoyinbo\n",
        "#  ~~~~~~~~~~~~~~~~~~~~~~~~~~~~~~~~~~~~~~~~~~~~~~~~~~~~~~~~~~~~~~~~~~~~~~~\n",
        "\n",
        "# STEP 1 - ADD THE MAPS\n",
        "areaOfstudy = ee.FeatureCollection(\n",
        "    'projects/gee-book/assets/A3-3/Border5km')\n",
        "mangrove2000 = ee.Image(\n",
        "    'projects/gee-book/assets/A3-3/MangroveGuinea2000_v2')\n",
        "mangrove2020 = ee.Image(\n",
        "    'projects/gee-book/assets/A3-3/MangroveGuinea2020_v2')\n",
        "\n",
        "Map.setCenter(-13.6007, 9.6295, 10)\n",
        "# Sets the map center to Conakry, Guinea\n",
        "Map.addLayer(areaOfstudy, {}, 'Area of Study')\n",
        "Map.addLayer(mangrove2000, {\n",
        "    'palette': '#16a596'\n",
        "}, 'Mangrove Extent 2000')\n",
        "Map.addLayer(mangrove2020, {\n",
        "    'palette': '#9ad3bc'\n",
        "}, 'Mangrove Extent 2020')\n",
        "\n",
        "# STEP 2 -  MAP TO MAP CHANGE\n",
        "\n",
        "mang2020 = mangrove2020.unmask(0)\n",
        "mang2000 = mangrove2000.unmask(0)\n",
        "change = mang2020.subtract(mang2000) \\\n",
        "    .clip(areaOfstudy)\n",
        "\n",
        "paletteCHANGE = [\n",
        "    'red', # Loss/conversion\n",
        "    'white', # No Change\n",
        "    'green', # Gain/Expansion\n",
        "]\n",
        "\n",
        "Map.addLayer(change, {\n",
        "    'min': -1,\n",
        "    'max': 1,\n",
        "    'palette': paletteCHANGE\n",
        "}, 'Changes 2000-2020')\n",
        "\n",
        "# Calculate the area of each pixel\n",
        "gain = change.eq(1)\n",
        "loss = change.eq(-1)\n",
        "\n",
        "gainArea = gain.multiply(ee.Image.pixelArea().divide(1000000))\n",
        "lossArea = loss.multiply(ee.Image.pixelArea().divide(1000000))\n",
        "\n",
        "# Sum all the areas\n",
        "statsgain = gainArea.reduceRegion({\n",
        "    'reducer': ee.Reducer.sum(),\n",
        "    'scale': 30,\n",
        "    'maxPixels': 1e14\n",
        "})\n",
        "\n",
        "statsloss = lossArea.reduceRegion({\n",
        "    'reducer': ee.Reducer.sum(),\n",
        "    'scale': 30,\n",
        "    'maxPixels': 1e14\n",
        "})\n",
        "\n",
        "print(statsgain.get('classification'),\n",
        "    'km\u00b2 of new mangroves in 2020')\n",
        "print(statsloss.get('classification'),\n",
        "    'of mangrove was lost in 2020')\n",
        "\n",
        "Map.addLayer(gain.selfMask(), {\n",
        "    'palette': 'green'\n",
        "}, 'Gains')\n",
        "Map.addLayer(loss.selfMask(), {\n",
        "    'palette': 'red'\n",
        "}, 'Loss')\n",
        "\n",
        "# -----------------------------------------------------------------------\n",
        "# CHECKPOINT\n",
        "# -----------------------------------------------------------------------"
      ],
      "outputs": [],
      "execution_count": null
    },
    {
      "cell_type": "markdown",
      "metadata": {},
      "source": [
        "## Display the interactive map"
      ]
    },
    {
      "cell_type": "code",
      "metadata": {},
      "source": [
        "Map"
      ],
      "outputs": [],
      "execution_count": null
    }
  ],
  "metadata": {
    "anaconda-cloud": {},
    "kernelspec": {
      "display_name": "Python 3",
      "language": "python",
      "name": "python3"
    },
    "language_info": {
      "codemirror_mode": {
        "name": "ipython",
        "version": 3
      },
      "file_extension": ".py",
      "mimetype": "text/x-python",
      "name": "python",
      "nbconvert_exporter": "python",
      "pygments_lexer": "ipython3",
      "version": "3.6.1"
    }
  },
  "nbformat": 4,
  "nbformat_minor": 4
}