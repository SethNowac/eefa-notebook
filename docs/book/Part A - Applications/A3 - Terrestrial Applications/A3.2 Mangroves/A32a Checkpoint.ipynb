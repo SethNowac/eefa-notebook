{
  "cells": [
    {
      "cell_type": "markdown",
      "metadata": {},
      "source": [
        "## Import libraries"
      ]
    },
    {
      "cell_type": "code",
      "metadata": {},
      "source": [
        "import ee\n",
        "import geemap"
      ],
      "outputs": [],
      "execution_count": null
    },
    {
      "cell_type": "markdown",
      "metadata": {},
      "source": [
        "## Create an interactive map"
      ]
    },
    {
      "cell_type": "code",
      "metadata": {},
      "source": [
        "Map = geemap.Map(center=[40, -100], zoom=4)"
      ],
      "outputs": [],
      "execution_count": null
    },
    {
      "cell_type": "markdown",
      "metadata": {},
      "source": [
        "## Add Earth Engine Python script"
      ]
    },
    {
      "cell_type": "code",
      "metadata": {},
      "source": [
        "# Add Earth Engine dataset\n",
        "image = ee.Image(\"USGS/SRTMGL1_003\")\n",
        "\n",
        "#  ~~~~~~~~~~~~~~~~~~~~~~~~~~~~~~~~~~~~~~~~~~~~~~~~~~~~~~~~~~~~~~~~~~~~~~~\n",
        "#  Chapter:      A3.2 Mangroves\n",
        "#  Checkpoint:   A32a\n",
        "#  Author:       Aur\u00e9lie Shapiro\n",
        "#  ~~~~~~~~~~~~~~~~~~~~~~~~~~~~~~~~~~~~~~~~~~~~~~~~~~~~~~~~~~~~~~~~~~~~~~~\n",
        "\n",
        "# Create an ee.Geometry.\n",
        "aoi = ee.Geometry.Polygon([\n",
        "    [\n",
        "        [88.3, 22.61],\n",
        "        [90, 22.61],\n",
        "        [90, 21.47],\n",
        "        [88.3, 21.47]\n",
        "    ]\n",
        "])\n",
        "\n",
        "# Locate a coordinate in the aoi with land and water.\n",
        "point = ee.Geometry.Point([89.2595, 21.7317])\n",
        "\n",
        "# Position the map.\n",
        "Map.centerObject(point, 13)\n",
        "Map.addLayer(aoi, {}, 'AOI')\n",
        "\n",
        "# Sentinel-1 wet season data.\n",
        "wetS1 = ee.Image(\n",
        "    'projects/gee-book/assets/A3-2/wet_season_tscan_2020')\n",
        "# Sentinel-1 dry season data.\n",
        "dryS1 = ee.Image(\n",
        "    'projects/gee-book/assets/A3-2/dry_season_tscan_2020')\n",
        "# Sentinel-2 mosaic.\n",
        "S2 = ee.Image('projects/gee-book/assets/A3-2/Sundarbans_S2_2020')\n",
        "\n",
        "#Visualize the input data.\n",
        "s1VisParams = {\n",
        "    'bands': ['VV_min', 'VH_min', 'VVVH_ratio_min'],\n",
        "    'min': -36,\n",
        "    'max': 3\n",
        "}\n",
        "s2VisParams = {\n",
        "    'bands': ['swir1', 'nir', 'red'],\n",
        "    'min': 82,\n",
        "    'max': 3236\n",
        "}\n",
        "\n",
        "Map.addLayer(dryS1, s1VisParams, 'S1 dry', False)\n",
        "Map.addLayer(wetS1, s1VisParams, 'S1 wet', False)\n",
        "Map.addLayer(S2, s2VisParams, 'S2 2020')\n",
        "\n",
        "NDVI = S2.normalizedDifference(['nir', 'red']).rename(['NDVI'])\n",
        "\n",
        "ratio_swir1_nir = S2.expression(\n",
        "        'swir1/(nir+0.1)', {\n",
        "            'swir1': S2.select('swir1'),\n",
        "            'nir': S2.select('nir')\n",
        "        }) \\\n",
        "    .rename('ratio_swir1_nir_wet')\n",
        "\n",
        "data_stack = S2.addBands(NDVI).addBands(ratio_swir1_nir).addBands(\n",
        "    dryS1).addBands(wetS1)\n",
        "\n",
        "print(data_stack)\n",
        "# -----------------------------------------------------------------------\n",
        "# CHECKPOINT\n",
        "# -----------------------------------------------------------------------"
      ],
      "outputs": [],
      "execution_count": null
    },
    {
      "cell_type": "markdown",
      "metadata": {},
      "source": [
        "## Display the interactive map"
      ]
    },
    {
      "cell_type": "code",
      "metadata": {},
      "source": [
        "Map"
      ],
      "outputs": [],
      "execution_count": null
    }
  ],
  "metadata": {
    "anaconda-cloud": {},
    "kernelspec": {
      "display_name": "Python 3",
      "language": "python",
      "name": "python3"
    },
    "language_info": {
      "codemirror_mode": {
        "name": "ipython",
        "version": 3
      },
      "file_extension": ".py",
      "mimetype": "text/x-python",
      "name": "python",
      "nbconvert_exporter": "python",
      "pygments_lexer": "ipython3",
      "version": "3.6.1"
    }
  },
  "nbformat": 4,
  "nbformat_minor": 4
}