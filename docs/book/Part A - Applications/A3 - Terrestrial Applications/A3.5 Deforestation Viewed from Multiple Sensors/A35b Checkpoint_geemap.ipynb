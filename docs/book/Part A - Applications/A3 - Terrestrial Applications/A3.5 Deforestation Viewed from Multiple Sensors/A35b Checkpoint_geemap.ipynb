{
  "cells": [
    {
      "cell_type": "markdown",
      "metadata": {},
      "source": [
        "## Import libraries"
      ]
    },
    {
      "cell_type": "code",
      "metadata": {},
      "source": [
        "import ee\n",
        "import geemap"
      ],
      "outputs": [],
      "execution_count": null
    },
    {
      "cell_type": "markdown",
      "metadata": {},
      "source": [
        "## Create an interactive map"
      ]
    },
    {
      "cell_type": "code",
      "metadata": {},
      "source": [
        "Map = geemap.Map(center=[40, -100], zoom=4)"
      ],
      "outputs": [],
      "execution_count": null
    },
    {
      "cell_type": "markdown",
      "metadata": {},
      "source": [
        "## Add Earth Engine Python script"
      ]
    },
    {
      "cell_type": "code",
      "metadata": {},
      "source": [
        "# Add Earth Engine dataset\n",
        "image = ee.Image(\"USGS/SRTMGL1_003\")\n",
        "\n",
        "#  ~~~~~~~~~~~~~~~~~~~~~~~~~~~~~~~~~~~~~~~~~~~~~~~~~~~~~~~~~~~~~~~~~~~~~~~\n",
        "#  Chapter:      A3.5 Deforestation Viewed from Multiple Sensors\n",
        "#  Checkpoint:   A35b\n",
        "#  Author:       Xiaojing Tang\n",
        "#  ~~~~~~~~~~~~~~~~~~~~~~~~~~~~~~~~~~~~~~~~~~~~~~~~~~~~~~~~~~~~~~~~~~~~~~~\n",
        "\n",
        "testArea = ee.Geometry.Polygon(\n",
        "[\n",
        "[\n",
        "[-66.73156878460787, -8.662236005089952],\n",
        "[-66.73156878460787, -8.916025640576244],\n",
        "[-66.44867083538912, -8.916025640576244],\n",
        "[-66.44867083538912, -8.662236005089952]\n",
        "]\n",
        "])\n",
        "\n",
        "Map.centerObject(testArea)\n",
        "\n",
        "# Start and end of the training and monitoring period.\n",
        "trainPeriod = ee.Dictionary({\n",
        "'start': '2017-01-01',\n",
        "'end': '2020-01-01'\n",
        "})\n",
        "monitorPeriod = ee.Dictionary({\n",
        "'start': '2020-01-01',\n",
        "'end': '2021-01-01'\n",
        "})\n",
        "\n",
        "# Near-real-time monitoring parameters.\n",
        "nrtParam = {\n",
        "    'z': 2,\n",
        "    'm': 5,\n",
        "    'n': 4\n",
        "}\n",
        "\n",
        "# Sensor specific parameters.\n",
        "lstParam = {\n",
        "    'band': 'NDFI',\n",
        "    'minRMSE': 0.05,\n",
        "    'strikeOnly': False\n",
        "}\n",
        "s2Param = {\n",
        "    'band': 'NDFI',\n",
        "    'minRMSE': 0.05,\n",
        "    'strikeOnly': False\n",
        "}\n",
        "s1Param = {\n",
        "    'band': 'VV',\n",
        "    'minRMSE': 0.01,\n",
        "    'strikeOnly': True\n",
        "}\n",
        "\n",
        "# ------------------------------------------------------------------------\n",
        "# CHECKPOINT\n",
        "# ------------------------------------------------------------------------"
      ],
      "outputs": [],
      "execution_count": null
    },
    {
      "cell_type": "markdown",
      "metadata": {},
      "source": [
        "## Display the interactive map"
      ]
    },
    {
      "cell_type": "code",
      "metadata": {},
      "source": [
        "Map"
      ],
      "outputs": [],
      "execution_count": null
    }
  ],
  "metadata": {
    "anaconda-cloud": {},
    "kernelspec": {
      "display_name": "Python 3",
      "language": "python",
      "name": "python3"
    },
    "language_info": {
      "codemirror_mode": {
        "name": "ipython",
        "version": 3
      },
      "file_extension": ".py",
      "mimetype": "text/x-python",
      "name": "python",
      "nbconvert_exporter": "python",
      "pygments_lexer": "ipython3",
      "version": "3.6.1"
    }
  },
  "nbformat": 4,
  "nbformat_minor": 4
}