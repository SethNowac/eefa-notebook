{
  "cells": [
    {
      "cell_type": "markdown",
      "metadata": {},
      "source": [
        "## Import libraries"
      ]
    },
    {
      "cell_type": "code",
      "execution_count": 1,
      "metadata": {},
      "outputs": [
        {
          "data": {
            "text/html": [
              "\n",
              "            <style>\n",
              "                .geemap-dark {\n",
              "                    --jp-widgets-color: white;\n",
              "                    --jp-widgets-label-color: white;\n",
              "                    --jp-ui-font-color1: white;\n",
              "                    --jp-layout-color2: #454545;\n",
              "                    background-color: #383838;\n",
              "                }\n",
              "                    \n",
              "                .geemap-dark .jupyter-button {\n",
              "                    --jp-layout-color3: #383838;\n",
              "                }\n",
              "                \n",
              "                .geemap-colab {\n",
              "                    background-color: var(--colab-primary-surface-color, white);\n",
              "                }\n",
              "                    \n",
              "                .geemap-colab .jupyter-button {\n",
              "                    --jp-layout-color3: var(--colab-primary-surface-color, white);\n",
              "                }\n",
              "            </style>\n",
              "            "
            ],
            "text/plain": [
              "<IPython.core.display.HTML object>"
            ]
          },
          "metadata": {},
          "output_type": "display_data"
        }
      ],
      "source": [
        "import ee\n",
        "import geemap\n",
        "import geemap.chart as chart"
      ]
    },
    {
      "cell_type": "markdown",
      "metadata": {},
      "source": [
        "## Create an interactive map"
      ]
    },
    {
      "cell_type": "code",
      "execution_count": 2,
      "metadata": {},
      "outputs": [
        {
          "data": {
            "text/html": [
              "\n",
              "            <style>\n",
              "                .geemap-dark {\n",
              "                    --jp-widgets-color: white;\n",
              "                    --jp-widgets-label-color: white;\n",
              "                    --jp-ui-font-color1: white;\n",
              "                    --jp-layout-color2: #454545;\n",
              "                    background-color: #383838;\n",
              "                }\n",
              "                    \n",
              "                .geemap-dark .jupyter-button {\n",
              "                    --jp-layout-color3: #383838;\n",
              "                }\n",
              "                \n",
              "                .geemap-colab {\n",
              "                    background-color: var(--colab-primary-surface-color, white);\n",
              "                }\n",
              "                    \n",
              "                .geemap-colab .jupyter-button {\n",
              "                    --jp-layout-color3: var(--colab-primary-surface-color, white);\n",
              "                }\n",
              "            </style>\n",
              "            "
            ],
            "text/plain": [
              "<IPython.core.display.HTML object>"
            ]
          },
          "metadata": {},
          "output_type": "display_data"
        }
      ],
      "source": [
        "Map = geemap.Map(center=[40, -100], zoom=4)"
      ]
    },
    {
      "cell_type": "markdown",
      "metadata": {},
      "source": [
        "## Add Earth Engine Python script"
      ]
    },
    {
      "cell_type": "code",
      "execution_count": 5,
      "metadata": {},
      "outputs": [
        {
          "data": {
            "text/html": [
              "\n",
              "            <style>\n",
              "                .geemap-dark {\n",
              "                    --jp-widgets-color: white;\n",
              "                    --jp-widgets-label-color: white;\n",
              "                    --jp-ui-font-color1: white;\n",
              "                    --jp-layout-color2: #454545;\n",
              "                    background-color: #383838;\n",
              "                }\n",
              "                    \n",
              "                .geemap-dark .jupyter-button {\n",
              "                    --jp-layout-color3: #383838;\n",
              "                }\n",
              "                \n",
              "                .geemap-colab {\n",
              "                    background-color: var(--colab-primary-surface-color, white);\n",
              "                }\n",
              "                    \n",
              "                .geemap-colab .jupyter-button {\n",
              "                    --jp-layout-color3: var(--colab-primary-surface-color, white);\n",
              "                }\n",
              "            </style>\n",
              "            "
            ],
            "text/plain": [
              "<IPython.core.display.HTML object>"
            ]
          },
          "metadata": {},
          "output_type": "display_data"
        },
        {
          "ename": "Exception",
          "evalue": "The 'label' trait of an Axis instance expected a unicode string, not the NoneType None.",
          "output_type": "error",
          "traceback": [
            "\u001b[1;31m---------------------------------------------------------------------------\u001b[0m",
            "\u001b[1;31mTraitError\u001b[0m                                Traceback (most recent call last)",
            "File \u001b[1;32m~\\AppData\\Local\\Packages\\PythonSoftwareFoundation.Python.3.11_qbz5n2kfra8p0\\LocalCache\\local-packages\\Python311\\site-packages\\geemap\\chart.py:220\u001b[0m, in \u001b[0;36mfeature_byFeature\u001b[1;34m(features, xProperty, yProperties, **kwargs)\u001b[0m\n\u001b[0;32m    219\u001b[0m \u001b[38;5;28;01mtry\u001b[39;00m:\n\u001b[1;32m--> 220\u001b[0m     \u001b[43mbar\u001b[49m\u001b[38;5;241;43m.\u001b[39;49m\u001b[43mplot_chart\u001b[49m\u001b[43m(\u001b[49m\u001b[43m)\u001b[49m\n\u001b[0;32m    222\u001b[0m \u001b[38;5;28;01mexcept\u001b[39;00m \u001b[38;5;167;01mException\u001b[39;00m \u001b[38;5;28;01mas\u001b[39;00m e:\n",
            "File \u001b[1;32m~\\AppData\\Local\\Packages\\PythonSoftwareFoundation.Python.3.11_qbz5n2kfra8p0\\LocalCache\\local-packages\\Python311\\site-packages\\geemap\\chart.py:104\u001b[0m, in \u001b[0;36mBarChart.plot_chart\u001b[1;34m(self)\u001b[0m\n\u001b[0;32m    103\u001b[0m plt\u001b[38;5;241m.\u001b[39mylim(\u001b[38;5;241m*\u001b[39m\u001b[38;5;28mself\u001b[39m\u001b[38;5;241m.\u001b[39mget_ylim())\n\u001b[1;32m--> 104\u001b[0m \u001b[43mplt\u001b[49m\u001b[38;5;241;43m.\u001b[39;49m\u001b[43mxlabel\u001b[49m\u001b[43m(\u001b[49m\u001b[38;5;28;43mself\u001b[39;49m\u001b[38;5;241;43m.\u001b[39;49m\u001b[43mxlabel\u001b[49m\u001b[43m)\u001b[49m\n\u001b[0;32m    105\u001b[0m plt\u001b[38;5;241m.\u001b[39mylabel(\u001b[38;5;28mself\u001b[39m\u001b[38;5;241m.\u001b[39mylabel)\n",
            "File \u001b[1;32m~\\AppData\\Local\\Packages\\PythonSoftwareFoundation.Python.3.11_qbz5n2kfra8p0\\LocalCache\\local-packages\\Python311\\site-packages\\bqplot\\pyplot.py:441\u001b[0m, in \u001b[0;36mxlabel\u001b[1;34m(label, mark, **kwargs)\u001b[0m\n\u001b[0;32m    433\u001b[0m \u001b[38;5;250m\u001b[39m\u001b[38;5;124;03m\"\"\"Sets the value of label for an axis whose associated scale has the\u001b[39;00m\n\u001b[0;32m    434\u001b[0m \u001b[38;5;124;03mdimension `x`.\u001b[39;00m\n\u001b[0;32m    435\u001b[0m \n\u001b[1;32m   (...)\u001b[0m\n\u001b[0;32m    439\u001b[0m \u001b[38;5;124;03m    The label for x axis\u001b[39;00m\n\u001b[0;32m    440\u001b[0m \u001b[38;5;124;03m\"\"\"\u001b[39;00m\n\u001b[1;32m--> 441\u001b[0m \u001b[43m_set_label\u001b[49m\u001b[43m(\u001b[49m\u001b[43mlabel\u001b[49m\u001b[43m,\u001b[49m\u001b[43m \u001b[49m\u001b[43mmark\u001b[49m\u001b[43m,\u001b[49m\u001b[43m \u001b[49m\u001b[38;5;124;43m'\u001b[39;49m\u001b[38;5;124;43mx\u001b[39;49m\u001b[38;5;124;43m'\u001b[39;49m\u001b[43m,\u001b[49m\u001b[43m \u001b[49m\u001b[38;5;241;43m*\u001b[39;49m\u001b[38;5;241;43m*\u001b[39;49m\u001b[43mkwargs\u001b[49m\u001b[43m)\u001b[49m\n",
            "File \u001b[1;32m~\\AppData\\Local\\Packages\\PythonSoftwareFoundation.Python.3.11_qbz5n2kfra8p0\\LocalCache\\local-packages\\Python311\\site-packages\\bqplot\\pyplot.py:429\u001b[0m, in \u001b[0;36m_set_label\u001b[1;34m(label, mark, dim, **kwargs)\u001b[0m\n\u001b[0;32m    428\u001b[0m \u001b[38;5;28;01mif\u001b[39;00m axis \u001b[38;5;129;01mis\u001b[39;00m \u001b[38;5;129;01mnot\u001b[39;00m \u001b[38;5;28;01mNone\u001b[39;00m:\n\u001b[1;32m--> 429\u001b[0m     \u001b[43m_apply_properties\u001b[49m\u001b[43m(\u001b[49m\u001b[43maxis\u001b[49m\u001b[43m,\u001b[49m\u001b[43m \u001b[49m\u001b[43m{\u001b[49m\u001b[38;5;124;43m'\u001b[39;49m\u001b[38;5;124;43mlabel\u001b[39;49m\u001b[38;5;124;43m'\u001b[39;49m\u001b[43m:\u001b[49m\u001b[43m \u001b[49m\u001b[43mlabel\u001b[49m\u001b[43m}\u001b[49m\u001b[43m)\u001b[49m\n",
            "File \u001b[1;32m~\\AppData\\Local\\Packages\\PythonSoftwareFoundation.Python.3.11_qbz5n2kfra8p0\\LocalCache\\local-packages\\Python311\\site-packages\\bqplot\\pyplot.py:1359\u001b[0m, in \u001b[0;36m_apply_properties\u001b[1;34m(widget, properties)\u001b[0m\n\u001b[0;32m   1358\u001b[0m \u001b[38;5;28;01mfor\u001b[39;00m key, value \u001b[38;5;129;01min\u001b[39;00m properties\u001b[38;5;241m.\u001b[39mitems():\n\u001b[1;32m-> 1359\u001b[0m     \u001b[38;5;28;43msetattr\u001b[39;49m\u001b[43m(\u001b[49m\u001b[43mwidget\u001b[49m\u001b[43m,\u001b[49m\u001b[43m \u001b[49m\u001b[43mkey\u001b[49m\u001b[43m,\u001b[49m\u001b[43m \u001b[49m\u001b[43mvalue\u001b[49m\u001b[43m)\u001b[49m\n",
            "File \u001b[1;32m~\\AppData\\Local\\Packages\\PythonSoftwareFoundation.Python.3.11_qbz5n2kfra8p0\\LocalCache\\local-packages\\Python311\\site-packages\\traitlets\\traitlets.py:716\u001b[0m, in \u001b[0;36mTraitType.__set__\u001b[1;34m(self, obj, value)\u001b[0m\n\u001b[0;32m    715\u001b[0m     \u001b[38;5;28;01mraise\u001b[39;00m TraitError(\u001b[38;5;124m'\u001b[39m\u001b[38;5;124mThe \u001b[39m\u001b[38;5;124m\"\u001b[39m\u001b[38;5;132;01m%s\u001b[39;00m\u001b[38;5;124m\"\u001b[39m\u001b[38;5;124m trait is read-only.\u001b[39m\u001b[38;5;124m'\u001b[39m \u001b[38;5;241m%\u001b[39m \u001b[38;5;28mself\u001b[39m\u001b[38;5;241m.\u001b[39mname)\n\u001b[1;32m--> 716\u001b[0m \u001b[38;5;28;43mself\u001b[39;49m\u001b[38;5;241;43m.\u001b[39;49m\u001b[43mset\u001b[49m\u001b[43m(\u001b[49m\u001b[43mobj\u001b[49m\u001b[43m,\u001b[49m\u001b[43m \u001b[49m\u001b[43mvalue\u001b[49m\u001b[43m)\u001b[49m\n",
            "File \u001b[1;32m~\\AppData\\Local\\Packages\\PythonSoftwareFoundation.Python.3.11_qbz5n2kfra8p0\\LocalCache\\local-packages\\Python311\\site-packages\\traitlets\\traitlets.py:690\u001b[0m, in \u001b[0;36mTraitType.set\u001b[1;34m(self, obj, value)\u001b[0m\n\u001b[0;32m    689\u001b[0m \u001b[38;5;28;01mdef\u001b[39;00m \u001b[38;5;21mset\u001b[39m(\u001b[38;5;28mself\u001b[39m, obj: HasTraits, value: S) \u001b[38;5;241m-\u001b[39m\u001b[38;5;241m>\u001b[39m \u001b[38;5;28;01mNone\u001b[39;00m:\n\u001b[1;32m--> 690\u001b[0m     new_value \u001b[38;5;241m=\u001b[39m \u001b[38;5;28;43mself\u001b[39;49m\u001b[38;5;241;43m.\u001b[39;49m\u001b[43m_validate\u001b[49m\u001b[43m(\u001b[49m\u001b[43mobj\u001b[49m\u001b[43m,\u001b[49m\u001b[43m \u001b[49m\u001b[43mvalue\u001b[49m\u001b[43m)\u001b[49m\n\u001b[0;32m    691\u001b[0m     \u001b[38;5;28;01massert\u001b[39;00m \u001b[38;5;28mself\u001b[39m\u001b[38;5;241m.\u001b[39mname \u001b[38;5;129;01mis\u001b[39;00m \u001b[38;5;129;01mnot\u001b[39;00m \u001b[38;5;28;01mNone\u001b[39;00m\n",
            "File \u001b[1;32m~\\AppData\\Local\\Packages\\PythonSoftwareFoundation.Python.3.11_qbz5n2kfra8p0\\LocalCache\\local-packages\\Python311\\site-packages\\traitlets\\traitlets.py:722\u001b[0m, in \u001b[0;36mTraitType._validate\u001b[1;34m(self, obj, value)\u001b[0m\n\u001b[0;32m    721\u001b[0m \u001b[38;5;28;01mif\u001b[39;00m \u001b[38;5;28mhasattr\u001b[39m(\u001b[38;5;28mself\u001b[39m, \u001b[38;5;124m\"\u001b[39m\u001b[38;5;124mvalidate\u001b[39m\u001b[38;5;124m\"\u001b[39m):\n\u001b[1;32m--> 722\u001b[0m     value \u001b[38;5;241m=\u001b[39m \u001b[38;5;28;43mself\u001b[39;49m\u001b[38;5;241;43m.\u001b[39;49m\u001b[43mvalidate\u001b[49m\u001b[43m(\u001b[49m\u001b[43mobj\u001b[49m\u001b[43m,\u001b[49m\u001b[43m \u001b[49m\u001b[43mvalue\u001b[49m\u001b[43m)\u001b[49m\n\u001b[0;32m    723\u001b[0m \u001b[38;5;28;01mif\u001b[39;00m obj\u001b[38;5;241m.\u001b[39m_cross_validation_lock \u001b[38;5;129;01mis\u001b[39;00m \u001b[38;5;28;01mFalse\u001b[39;00m:\n",
            "File \u001b[1;32m~\\AppData\\Local\\Packages\\PythonSoftwareFoundation.Python.3.11_qbz5n2kfra8p0\\LocalCache\\local-packages\\Python311\\site-packages\\traitlets\\traitlets.py:2945\u001b[0m, in \u001b[0;36mUnicode.validate\u001b[1;34m(self, obj, value)\u001b[0m\n\u001b[0;32m   2944\u001b[0m         \u001b[38;5;28;01mraise\u001b[39;00m TraitError(msg\u001b[38;5;241m.\u001b[39mformat(value, \u001b[38;5;28mself\u001b[39m\u001b[38;5;241m.\u001b[39mname, class_of(obj))) \u001b[38;5;28;01mfrom\u001b[39;00m \u001b[38;5;21;01me\u001b[39;00m\n\u001b[1;32m-> 2945\u001b[0m \u001b[38;5;28;43mself\u001b[39;49m\u001b[38;5;241;43m.\u001b[39;49m\u001b[43merror\u001b[49m\u001b[43m(\u001b[49m\u001b[43mobj\u001b[49m\u001b[43m,\u001b[49m\u001b[43m \u001b[49m\u001b[43mvalue\u001b[49m\u001b[43m)\u001b[49m\n",
            "File \u001b[1;32m~\\AppData\\Local\\Packages\\PythonSoftwareFoundation.Python.3.11_qbz5n2kfra8p0\\LocalCache\\local-packages\\Python311\\site-packages\\traitlets\\traitlets.py:831\u001b[0m, in \u001b[0;36mTraitType.error\u001b[1;34m(self, obj, value, error, info)\u001b[0m\n\u001b[0;32m    826\u001b[0m     e \u001b[38;5;241m=\u001b[39m \u001b[38;5;124m\"\u001b[39m\u001b[38;5;124mThe \u001b[39m\u001b[38;5;124m'\u001b[39m\u001b[38;5;132;01m{}\u001b[39;00m\u001b[38;5;124m'\u001b[39m\u001b[38;5;124m trait expected \u001b[39m\u001b[38;5;132;01m{}\u001b[39;00m\u001b[38;5;124m, not \u001b[39m\u001b[38;5;132;01m{}\u001b[39;00m\u001b[38;5;124m.\u001b[39m\u001b[38;5;124m\"\u001b[39m\u001b[38;5;241m.\u001b[39mformat(\n\u001b[0;32m    827\u001b[0m         \u001b[38;5;28mself\u001b[39m\u001b[38;5;241m.\u001b[39mname,\n\u001b[0;32m    828\u001b[0m         info \u001b[38;5;129;01mor\u001b[39;00m \u001b[38;5;28mself\u001b[39m\u001b[38;5;241m.\u001b[39minfo(),\n\u001b[0;32m    829\u001b[0m         describe(\u001b[38;5;124m\"\u001b[39m\u001b[38;5;124mthe\u001b[39m\u001b[38;5;124m\"\u001b[39m, value),\n\u001b[0;32m    830\u001b[0m     )\n\u001b[1;32m--> 831\u001b[0m \u001b[38;5;28;01mraise\u001b[39;00m TraitError(e)\n",
            "\u001b[1;31mTraitError\u001b[0m: The 'label' trait of an Axis instance expected a unicode string, not the NoneType None.",
            "\nDuring handling of the above exception, another exception occurred:\n",
            "\u001b[1;31mException\u001b[0m                                 Traceback (most recent call last)",
            "Cell \u001b[1;32mIn[5], line 160\u001b[0m\n\u001b[0;32m    148\u001b[0m paBufferwiseMedianChange \u001b[38;5;241m=\u001b[39m stats\u001b[38;5;241m.\u001b[39mreduceRegions(\n\u001b[0;32m    149\u001b[0m collection \u001b[38;5;241m=\u001b[39m pa_buff,\n\u001b[0;32m    150\u001b[0m reducer \u001b[38;5;241m=\u001b[39m ee\u001b[38;5;241m.\u001b[39mReducer\u001b[38;5;241m.\u001b[39mmedian(),\n\u001b[0;32m    151\u001b[0m scale \u001b[38;5;241m=\u001b[39m \u001b[38;5;241m1000\u001b[39m,\n\u001b[0;32m    152\u001b[0m tileScale \u001b[38;5;241m=\u001b[39m \u001b[38;5;241m16\u001b[39m\n\u001b[0;32m    153\u001b[0m )\n\u001b[0;32m    155\u001b[0m \u001b[38;5;66;03m# -----------------------------------------------------------------------\u001b[39;00m\n\u001b[0;32m    156\u001b[0m \u001b[38;5;66;03m# CHECKPOINT\u001b[39;00m\n\u001b[0;32m    157\u001b[0m \u001b[38;5;66;03m# -----------------------------------------------------------------------\u001b[39;00m\n\u001b[0;32m    158\u001b[0m \n\u001b[0;32m    159\u001b[0m \u001b[38;5;66;03m# 3. Visualize results\u001b[39;00m\n\u001b[1;32m--> 160\u001b[0m medianChangeChart \u001b[38;5;241m=\u001b[39m \u001b[43mchart\u001b[49m\u001b[38;5;241;43m.\u001b[39;49m\u001b[43mfeature_byFeature\u001b[49m\u001b[43m(\u001b[49m\n\u001b[0;32m    161\u001b[0m \u001b[43mfeatures\u001b[49m\u001b[43m \u001b[49m\u001b[38;5;241;43m=\u001b[39;49m\u001b[43m \u001b[49m\u001b[43mpaBufferwiseMedianChange\u001b[49m\u001b[43m,\u001b[49m\n\u001b[0;32m    162\u001b[0m \u001b[43mxProperty\u001b[49m\u001b[43m \u001b[49m\u001b[38;5;241;43m=\u001b[39;49m\u001b[43m \u001b[49m\u001b[38;5;124;43m'\u001b[39;49m\u001b[38;5;124;43mrainfall\u001b[39;49m\u001b[38;5;124;43m'\u001b[39;49m\u001b[43m,\u001b[49m\n\u001b[0;32m    163\u001b[0m \u001b[43myProperties\u001b[49m\u001b[43m \u001b[49m\u001b[38;5;241;43m=\u001b[39;49m\u001b[43m \u001b[49m\u001b[43m[\u001b[49m\u001b[38;5;124;43m'\u001b[39;49m\u001b[38;5;124;43mvegchange\u001b[39;49m\u001b[38;5;124;43m'\u001b[39;49m\u001b[43m]\u001b[49m\u001b[43m,\u001b[49m\n\u001b[0;32m    164\u001b[0m \u001b[43moptions\u001b[49m\u001b[43m \u001b[49m\u001b[38;5;241;43m=\u001b[39;49m\u001b[43m \u001b[49m\u001b[43mregressionSummaryChartingOptions\u001b[49m\n\u001b[0;32m    165\u001b[0m \u001b[43m)\u001b[49m\n\u001b[0;32m    167\u001b[0m Map\u001b[38;5;241m.\u001b[39mcenterObject(western_pas, \u001b[38;5;241m9\u001b[39m)\n\u001b[0;32m    168\u001b[0m Map\u001b[38;5;241m.\u001b[39msetCenter(\u001b[38;5;241m79.2205\u001b[39m, \u001b[38;5;241m23.3991\u001b[39m, \u001b[38;5;241m9\u001b[39m)\n",
            "File \u001b[1;32m~\\AppData\\Local\\Packages\\PythonSoftwareFoundation.Python.3.11_qbz5n2kfra8p0\\LocalCache\\local-packages\\Python311\\site-packages\\geemap\\chart.py:223\u001b[0m, in \u001b[0;36mfeature_byFeature\u001b[1;34m(features, xProperty, yProperties, **kwargs)\u001b[0m\n\u001b[0;32m    220\u001b[0m     bar\u001b[38;5;241m.\u001b[39mplot_chart()\n\u001b[0;32m    222\u001b[0m \u001b[38;5;28;01mexcept\u001b[39;00m \u001b[38;5;167;01mException\u001b[39;00m \u001b[38;5;28;01mas\u001b[39;00m e:\n\u001b[1;32m--> 223\u001b[0m     \u001b[38;5;28;01mraise\u001b[39;00m \u001b[38;5;167;01mException\u001b[39;00m(e)\n",
            "\u001b[1;31mException\u001b[0m: The 'label' trait of an Axis instance expected a unicode string, not the NoneType None."
          ]
        }
      ],
      "source": [
        "# Add Earth Engine dataset\n",
        "image = ee.Image(\"USGS/SRTMGL1_003\")\n",
        "\n",
        "#  ~~~~~~~~~~~~~~~~~~~~~~~~~~~~~~~~~~~~~~~~~~~~~~~~~~~~~~~~~~~~~~~~~~~~~~~\n",
        "#  Chapter:      Chapter A3.10 Conservation II - Assessing Agricultural\n",
        "#                Intensification Near Protected Areas\n",
        "#  Checkpoint:   A310c\n",
        "#  Authors:      Pradeep Koulgi, MD Madhusudan\n",
        "#  ~~~~~~~~~~~~~~~~~~~~~~~~~~~~~~~~~~~~~~~~~~~~~~~~~~~~~~~~~~~~~~~~~~~~~~~\n",
        "\n",
        "# 1. Parameters to function calls\n",
        "\n",
        "# 1.1. Annual dry season max NDVI calculation\n",
        "modis_veg = ee.ImageCollection('MODIS/006/MOD13Q1')\n",
        "ndviBandName = 'NDVI'\n",
        "ndviValuesScaling = 0.0001\n",
        "modisVegScale = 250; \n",
        "maxNDVIBandname = 'max_dryseason_ndvi'\n",
        "yearTimestampBandname = 'year'\n",
        "years = ee.List.sequence(2000, 2021, 1)\n",
        "drySeasonStart_doy = 1\n",
        "drySeasonEnd_doy = 90\n",
        "\n",
        "# 1.2. Boundaries of Protected Areas of interest\n",
        "paBoundaries = ee.FeatureCollection(\n",
        "'projects/gee-book/assets/A3-10/IndiaMainlandPAs')\n",
        "boundaryBufferWidth = 5000; \n",
        "bufferingMaxError = 30; \n",
        "# Choose PAs in only the western states\n",
        "western_states = [\n",
        "'Rajasthan', 'Gujarat', 'Madhya Pradesh',\n",
        "'Maharashtra', 'Goa', 'Karnataka', 'Kerala'\n",
        "]\n",
        "western_pas = paBoundaries \\\n",
        ".filter(ee.Filter.inList('STATE', western_states))\n",
        "\n",
        "# 1.3. Regression analysis\n",
        "regressionReducer = ee.Reducer.sensSlope()\n",
        "regressionX = yearTimestampBandname\n",
        "regressionY = maxNDVIBandname\n",
        "\n",
        "# 1.4. Surface water layer to mask water pixels from assessment\n",
        "# Selects pixels where water has ever been detected between 1984 and 2021\n",
        "surfaceWaterExtent = ee.Image('JRC/GSW1_3/GlobalSurfaceWater') \\\n",
        ".select('max_extent')\n",
        "\n",
        "# 1.5. Average annual precipitation layer\n",
        "rainfall = ee.Image('WORLDCLIM/V1/BIO').select('bio12')\n",
        "\n",
        "# 1.6. Visualization parameters\n",
        "regressionResultVisParams = {\n",
        "    'min': -3,\n",
        "    'max': 3,\n",
        "    'palette': ['ff8202', 'ffffff', '356e02']\n",
        "}\n",
        "regressionSummaryChartingOptions = {\n",
        "    'title': 'Yearly change in dry-season vegetation greenness ' + \\\n",
        "    'in PA buffers in relation to average annual rainfall',\n",
        "    'hAxis': {\n",
        "            'title': 'Annual Precipitation'\n",
        "        },\n",
        "    'vAxis': {\n",
        "            'title': 'Median % yearly change in vegetation greenness ' + \\\n",
        "            'in 5 km buffer'\n",
        "        },\n",
        "    'series': {\n",
        "            '0': {\n",
        "                        'visibleInLegend': False\n",
        "                    }\n",
        "        },\n",
        "}\n",
        "\n",
        "# -----------------------------------------------------------------------\n",
        "# CHECKPOINT\n",
        "# -----------------------------------------------------------------------\n",
        "\n",
        "# 2. Raster processing for change analysis\n",
        "\n",
        "# Defining functions to be used in this script\n",
        "\n",
        "# 2.1. Annual dry season maxima of NDVI\n",
        "\n",
        "def annualDrySeasonMaximumNDVIAndTime(y):\n",
        "    # Convert year y to a date object\n",
        "    yDate = ee.Date.fromYMD(y, 1, 1)\n",
        "    # Calculate max NDVI for year y\n",
        "    # Apply appropriate scale, as per the dataset's\n",
        "    yMaxNdvi = drySeasonNdviColl \\\n",
        "    .filter(ee.Filter.date(yDate, yDate.advance(1, 'year'))) \\\n",
        "    .max() \\\n",
        "    .multiply(ndviValuesScaling) \\\n",
        "    .rename(maxNDVIBandname)\n",
        "    # Create an image with constant value y, to be used in regression. Name it something comprehensible.\n",
        "    # Name it something comprehensible.\n",
        "    yTime = ee.Image.constant(y).int().rename(\n",
        "    yearTimestampBandname)\n",
        "    # Combine the two images into a single 2-band image, and return\n",
        "    return ee.Image.cat([yMaxNdvi, yTime]).set('year', y)\n",
        "\n",
        "\n",
        "# Create a collection of annual dry season maxima\n",
        "# for the years of interest.  Select the NDVI band and\n",
        "# filter to the collection of dry season observations.\n",
        "drySeasonNdviColl = modis_veg.select([ndviBandName]) \\\n",
        ".filter(ee.Filter.calendarRange(drySeasonStart_doy,\n",
        "drySeasonEnd_doy, 'day_of_year'))\n",
        "# For each year of interest, calculate the NDVI maxima and create a corresponding time band\n",
        "dryseason_coll = ee.ImageCollection.fromImages(\n",
        "years.map(annualDrySeasonMaximumNDVIAndTime)\n",
        ")\n",
        "\n",
        "# 2.2. Annual regression to estimate average yearly change in greenness\n",
        "\n",
        "ss = dryseason_coll.select([regressionX, regressionY]).reduce(\n",
        "regressionReducer)\n",
        "\n",
        "# Mask surface water from vegetation change image\n",
        "ss = ss.updateMask(surfaceWaterExtent.eq(0))\n",
        "\n",
        "# 2.3. Summarise estimates of change in buffer regions of PAs of interest\n",
        "def extractBufferRegion(pa):\n",
        "    #reduce vertices in PA boundary\n",
        "    pa = pa.simplify(\n",
        "    maxError = 100\n",
        "    )\n",
        "    # Extend boundary into its buffer\n",
        "    withBuffer = pa.buffer(boundaryBufferWidth,\n",
        "    bufferingMaxError)\n",
        "    # Compute the buffer-only region by \"subtracting\" boundary with buffer from boundary\n",
        "    # Subtracting the whole set of boundaries eliminates inclusion of forests from adjacent PAs into buffers.\n",
        "    bufferOnly = withBuffer.difference(paBoundaries.geometry())\n",
        "\n",
        "    return bufferOnly\n",
        "\n",
        "\n",
        "# Create buffer regions of PAs\n",
        "pa_buff = western_pas.map(extractBufferRegion)\n",
        "\n",
        "# Normalize the metric of NDVI change to a baseline (dry-season max NDVI in the very first year)\n",
        "baselineNdvi = dryseason_coll.select([maxNDVIBandname]).filter(ee \\\n",
        ".Filter.eq('year', years.getNumber(0))).first()\n",
        "stats = ss.select('slope').divide(baselineNdvi).multiply(100) \\\n",
        ".rename('vegchange')\n",
        "\n",
        "# Combine it with average annual rainfall data\n",
        "stats = stats.addBands(rainfall.rename('rainfall'))\n",
        "\n",
        "# Calculate mean of change metric over buffer regions of each PA of interest\n",
        "paBufferwiseMedianChange = stats.reduceRegions(\n",
        "collection = pa_buff,\n",
        "reducer = ee.Reducer.median(),\n",
        "scale = 1000,\n",
        "tileScale = 16\n",
        ")\n",
        "\n",
        "# -----------------------------------------------------------------------\n",
        "# CHECKPOINT\n",
        "# -----------------------------------------------------------------------\n",
        "\n",
        "# 3. Visualize results\n",
        "medianChangeChart = chart.feature_byFeature(\n",
        "features = paBufferwiseMedianChange,\n",
        "xProperty = 'rainfall',\n",
        "yProperties = ['vegchange'],\n",
        "options = regressionSummaryChartingOptions\n",
        ").setChartType(\n",
        "'ScatterChart')\n",
        "\n",
        "Map.centerObject(western_pas, 9)\n",
        "Map.setCenter(79.2205, 23.3991, 9)\n",
        "Map.setOptions('SATELLITE')\n",
        "Map.addLayer(stats.select('vegchange').clipToCollection(pa_buff),\n",
        "regressionResultVisParams, 'yearly % change')\n",
        "Map.addLayer(western_pas, {}, 'Western PAs')\n",
        "\n",
        "# -----------------------------------------------------------------------\n",
        "# CHECKPOINT\n",
        "# -----------------------------------------------------------------------"
      ]
    },
    {
      "cell_type": "markdown",
      "metadata": {},
      "source": [
        "## Display the interactive map"
      ]
    },
    {
      "cell_type": "code",
      "execution_count": null,
      "metadata": {},
      "outputs": [],
      "source": [
        "Map"
      ]
    }
  ],
  "metadata": {
    "anaconda-cloud": {},
    "kernelspec": {
      "display_name": "Python 3",
      "language": "python",
      "name": "python3"
    },
    "language_info": {
      "codemirror_mode": {
        "name": "ipython",
        "version": 3
      },
      "file_extension": ".py",
      "mimetype": "text/x-python",
      "name": "python",
      "nbconvert_exporter": "python",
      "pygments_lexer": "ipython3",
      "version": "3.11.9"
    }
  },
  "nbformat": 4,
  "nbformat_minor": 4
}
